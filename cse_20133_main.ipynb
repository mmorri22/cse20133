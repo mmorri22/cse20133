{
 "cells": [
  {
   "cell_type": "markdown",
   "id": "4a4ce03b",
   "metadata": {},
   "source": [
    "<center><button type=\"button\"><a href = \"https://www.google.com\">Syllabus</a></button> <button type=\"button\">Lecture Notes and Schedule</button> <button type=\"button\">Meet the Teaching Assistants!</button>  <button type=\"button\">Office Hours Google Calendar</button></center>"
   ]
  },
  {
   "cell_type": "markdown",
   "id": "24608994",
   "metadata": {},
   "source": [
    "# <center>CSE 20133/20232 - Introduction to Computing for Engineers</center>\n",
    "\n",
    "## Pages\n",
    "<ul>\n",
    "    <li>Course Syllabus</li>\n",
    "    <li>Lecture Notes and Schedule</li>\n",
    "    <li>Meet the Teaching Assistants!</li>\n",
    "    <li>Office Hours Google Calendar</li>\n",
    "</ul>"
   ]
  }
 ],
 "metadata": {
  "kernelspec": {
   "display_name": "Python 3 (ipykernel)",
   "language": "python",
   "name": "python3"
  },
  "language_info": {
   "codemirror_mode": {
    "name": "ipython",
    "version": 3
   },
   "file_extension": ".py",
   "mimetype": "text/x-python",
   "name": "python",
   "nbconvert_exporter": "python",
   "pygments_lexer": "ipython3",
   "version": "3.9.13"
  }
 },
 "nbformat": 4,
 "nbformat_minor": 5
}
