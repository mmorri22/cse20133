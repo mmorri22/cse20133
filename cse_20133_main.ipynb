{
 "cells": [
  {
   "cell_type": "markdown",
   "id": "4a4ce03b",
   "metadata": {},
   "source": [
    "<center><span style=\"padding-left:1em\"><a href = \"https://www.google.com\"><code>[Syllabus]</code></a></span><span style=\"padding-left:1em\"><code>[Lecture Notes and Schedule]</code></span><span style=\"padding-left:1em\"><code>[Meet the Teaching Assistants!]</code></span><span style=\"padding-left:1em\"><code>[Office Hours]</code></span></center>"
   ]
  },
  {
   "cell_type": "markdown",
   "id": "24608994",
   "metadata": {},
   "source": [
    "# <center>CSE 20133/20232 - Introduction to Computing for Engineers</center>\n",
    "\n",
    "<center><img src = \"https://raw.githubusercontent.com/mmorri22/fa23-cse20133/main/what-they-think-meme.jpg\" length=450 width=450></center>\n",
    "\n",
    "## Pages\n",
    "<ul>\n",
    "    <li>Course Syllabus</li>\n",
    "    <li>Lecture Notes and Schedule</li>\n",
    "    <li>Meet the Teaching Assistants!</li>\n",
    "    <li>Office Hours Google Calendar</li>\n",
    "</ul>"
   ]
  },
  {
   "cell_type": "code",
   "execution_count": null,
   "id": "6d2ea6c8",
   "metadata": {},
   "outputs": [],
   "source": []
  }
 ],
 "metadata": {
  "kernelspec": {
   "display_name": "Python 3 (ipykernel)",
   "language": "python",
   "name": "python3"
  },
  "language_info": {
   "codemirror_mode": {
    "name": "ipython",
    "version": 3
   },
   "file_extension": ".py",
   "mimetype": "text/x-python",
   "name": "python",
   "nbconvert_exporter": "python",
   "pygments_lexer": "ipython3",
   "version": "3.9.13"
  }
 },
 "nbformat": 4,
 "nbformat_minor": 5
}
