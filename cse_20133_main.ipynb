{
 "cells": [
  {
   "cell_type": "markdown",
   "id": "4a4ce03b",
   "metadata": {},
   "source": [
    "<p align=\"center\">\n",
    "    <span style=\"padding-left:1em\">\n",
    "        <a href = \"https://www.google.com\"><code><button>Syllabus</button></code></a>\n",
    "    </span>\n",
    "    <span style=\"padding-left:1em\"><code><button>Lecture Notes and Schedule</button></code>\n",
    "    </span>\n",
    "    <span style=\"padding-left:1em\"><code><button>Meet the Teaching Assistants!</button></code>\n",
    "    </span>\n",
    "    <span style=\"padding-left:1em\"><code><button>Office Hours</button></code>\n",
    "    </span>\n",
    "</p>"
   ]
  },
  {
   "cell_type": "markdown",
   "id": "24608994",
   "metadata": {},
   "source": [
    "# <center>CSE 20133/20232 - Introduction to Computing for Engineers</center>\n",
    "\n",
    "<p align=\"center\">\n",
    "    <img src=\"https://raw.githubusercontent.com/mmorri22/fa23-cse20133/main/what-they-think-meme.jpg\" length=450 width=450 />\n",
    "</p>\n",
    "\n",
    "## Pages\n",
    "<ul>\n",
    "    <li>Course Syllabus</li>\n",
    "    <li>Lecture Notes and Schedule</li>\n",
    "    <li>Meet the Teaching Assistants!</li>\n",
    "    <li>Office Hours Google Calendar</li>\n",
    "</ul>"
   ]
  },
  {
   "cell_type": "markdown",
   "id": "4a168913",
   "metadata": {},
   "source": [
    "<p align=\"center\">\n",
    "  <img src=\"https://raw.githubusercontent.com/JanPalasek/pretty-jupyter/main/docs/demo.gif\" alt=\"demo preview\" />\n",
    "</p>"
   ]
  },
  {
   "cell_type": "code",
   "execution_count": null,
   "id": "9419bbed",
   "metadata": {},
   "outputs": [],
   "source": []
  }
 ],
 "metadata": {
  "kernelspec": {
   "display_name": "Python 3 (ipykernel)",
   "language": "python",
   "name": "python3"
  },
  "language_info": {
   "codemirror_mode": {
    "name": "ipython",
    "version": 3
   },
   "file_extension": ".py",
   "mimetype": "text/x-python",
   "name": "python",
   "nbconvert_exporter": "python",
   "pygments_lexer": "ipython3",
   "version": "3.9.13"
  }
 },
 "nbformat": 4,
 "nbformat_minor": 5
}
