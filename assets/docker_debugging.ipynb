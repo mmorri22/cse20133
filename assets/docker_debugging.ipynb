{
 "cells": [
  {
   "cell_type": "markdown",
   "id": "48a4bb3f",
   "metadata": {},
   "source": [
    "# Docker Debugging Guide"
   ]
  },
  {
   "cell_type": "markdown",
   "id": "bf2def15",
   "metadata": {},
   "source": [
    "<b><a href = \"https://www.rd.com/article/what-does-tldr-mean/#:~:text=TL%3BDR%20(also%20sometimes%20seen,with%20a%20lot%20of%20text.\">TL;DR</a></b>: Terminating and restarting your container can solve a lot of issues!\n",
    "\n",
    "In Homework 0, you went through the setup process for your course Docker container. Throughout the course, students occasionally encounter issues with their Docker containers. Although deleting Docker Desktop and repeating the entire installation process can solve problems, we’d like to avoid doing this. So, here are a few strategies that you can try on your own to resolve container issues. \n",
    "\n",
    "> While these strategies might not resolve every issue, they are good starting points."
   ]
  },
  {
   "cell_type": "markdown",
   "id": "7102f144",
   "metadata": {},
   "source": [
    "### Recall from Homework 0\n",
    "\n",
    "If you changed the file structure on which the container is mounted (e.g., by renaming the folder you put your CSE 20133 development environment into), you will certainly run into Docker issues. You do not have to rebuild the container altogether (i.e., go through the entirety of Lab 0). However, you do have to <b>delete</b> the previous container you were using because Docker will try to mount your container on a folder that no longer exists. That can be done with:\n",
    "\n",
    "    ./cs300-run-docker --clean \n",
    "    \n",
    "If you get an error with this, please look below. Also, as a reminder, you will have to re-install any custom packages (such as <code>vim</code>) that you had installed prior to deleting and rebuilding your container.\n"
   ]
  },
  {
   "cell_type": "markdown",
   "id": "8750dc00",
   "metadata": {},
   "source": [
    "### Is Docker Daemon Running?\n",
    "\n",
    "Your container will not run if Docker desktop is not running. You might get a message among a <b>much</b> larger error message that says:\n",
    "\n",
    "    ERROR: Cannot connect to the Docker daemon at unix:///var/run/docker.sock. Is the docker daemon running?\n",
    "\n",
    "Make sure that your Docker Desktop is running in the background. You can do this by just opening the app from your finder or a shortcut! You can also run <code>docker info</code> to make sure that your Docker is running.\n",
    "\n",
    "#### What is an example of this type of error?\n",
    "\n",
    "A sample error message can look something like this:\n",
    "\n",
    "    ./cse20133-run-docker \n",
    "    Cannot connect to the Docker daemon at unix:///var/run/docker.sock. Is the docker daemon running?\n",
    "    Cannot connect to the Docker daemon at unix:///var/run/docker.sock. Is the docker daemon running?\n",
    "    cse20133 network not found, creating one...\n",
    "    Cannot connect to the Docker daemon at unix:///var/run/docker.sock. Is the docker daemon running?\n",
    "    Cannot connect to the Docker daemon at unix:///var/run/docker.sock. Is the docker daemon running?\n",
    "    Starting a new container...\n",
    "    docker: Cannot connect to the Docker daemon at unix:///var/run/docker.sock. Is the docker daemon running?.\n",
    "    See 'docker run --help'.\n",
    "    \n",
    "#### What will <code>docker info</code> look like if my Docker is active?\n",
    "\n",
    "You will get a Docker daemon error if your docker desktop is not running when you run this command. If Docker Desktop is running, you will get an output that starts with this:\n",
    "\n",
    "    $ docker info\n",
    "    Client:\n",
    "     Context:    default\n",
    "     Debug Mode: false\n",
    "     Plugins:\n",
    "      buildx: Docker Buildx (Docker Inc., v0.10.0)\n",
    "      compose: Docker Compose (Docker Inc., v2.15.1)\n",
    "      dev: Docker Dev Environments (Docker Inc., v0.0.5)\n",
    "      extension: Manages Docker extensions (Docker Inc., v0.2.17)\n",
    "      sbom: View the packaged-based Software Bill Of Materials (SBOM) for an image (Anchore Inc., 0.6.0)\n",
    "      scan: Docker Scan (Docker Inc., v0.23.0)\n",
    "\n",
    "    Server:\n",
    "     Containers: 1\n",
    "      Running: 1\n",
    "      Paused: 0\n",
    "      Stopped: 0\n",
    "     Images: 1\n",
    "     ..."
   ]
  },
  {
   "cell_type": "markdown",
   "id": "fa0bc101",
   "metadata": {},
   "source": [
    "### Windows: Trouble Entering Your Container\n",
    "\n",
    "Through the course infrastructure setup process on Windows, you should have integrated WSL with your Docker. If you run into issues in which you are unable to run your course container, enter the following:\n",
    "\n",
    "    wsl -l -v\n",
    "    \n",
    "This should tell you whether or not your WSL and Docker are running. Keep in mind that you need both running in order to enter the course container. You might need to manually terminate the Docker backend if you are running into issues and are looking to reset.\n",
    "\n",
    "Alternatively, you can use <code>wsl --shutdown</code> without having to enter the Task Manager to terminate the Docker WSL Backend."
   ]
  },
  {
   "cell_type": "markdown",
   "id": "19a06d09",
   "metadata": {},
   "source": [
    "### Error Responses from Daemon\n",
    "\n",
    "If your terminal in your container is hanging or if you wanted to run the --clean command above, you might run into the following error message:\n",
    "\n",
    "    $ ./cse20133-run-docker --clean \n",
    "    Error response from daemon: Could not kill running container ..., cannot remove - tried to kill container but did not receive an exit event.\n",
    "\n",
    "The containers sometimes get stuck. <i>Just closing the terminal does not actually terminate the container!</i> There are a few ways to resolve this issue:\n",
    "\n",
    "<ol>\n",
    "<li>Go to your Activity Monitor / Task Manager and look up Docker. Force Quit or Quit the process. This should terminate the container and will allow you to rebuild it.</li>\n",
    "<li>If that does not work, restarting your computer will resolve the stuck container.</li>\n",
    "</ol>"
   ]
  },
  {
   "cell_type": "markdown",
   "id": "bd5e63d6",
   "metadata": {},
   "source": [
    "### MacOS Syncing Issue Using an IDE\n",
    "\n",
    "In the past, we have seen an issue with MacOS in which students would make edits to files through an IDE but their edits would not show up in the container. Opening the Docker dashboard and going to “Settings” → and switch within “Choose file sharing implementation for your containers” from <b>gRPC Fuse</b> to <b>VirtioFS</b>. Then, restart your container and the syncing issue should resolve!\n",
    "\n",
    "> Note: If you are on an older version of Docker, this setting may appear in “Experimental Settings”.\n",
    ">\n",
    "> Otherwise, try exiting and remounting your container using <code>./cse20133-run-docker</code> and your changes should show up.\n",
    "\n"
   ]
  },
  {
   "cell_type": "markdown",
   "id": "dcbfee09",
   "metadata": {},
   "source": [
    "### Background Processes\n",
    "\n",
    "As you proceed through the course, you may encounter other issues with your Docker. These issues may present themselves in odd ways, especially if they are related to your computer running out of resources!\n",
    "\n",
    "Sometimes, this can be due to not allocating enough memory to your Docker or background processes (such as GDB) that do not properly terminate.\n",
    "\n",
    "#### Insufficient Memory\n",
    "\n",
    "Some of our later projects are quite memory-intensive and may need 2 GB+ of memory inside the container. The Docker Desktop itself is allocated a set size of memory that you can adjust. If you navigate to the “Resources” tab (this might be different in Windows), you can play around with the memory allocation. It is unlikely that you would need more than 4GB.\n",
    "\n",
    "#### Stalled Background Process\n",
    "\n",
    "Sometimes, you can have a process running in the background you thought you had terminated. For example, if a GDB crashes and you exit the terminal, it could still be running in the container.\n",
    "\n",
    "To terminate the process, you can run:\n",
    "\n",
    "    ps -a\n",
    "\n",
    "This will reveal all running processes. In particular, you will see <b>PID</b>, which are Process IDs. If you see a PID associated with GDB, you can terminate it:\n",
    "\n",
    "    # PID is a placeholder for the number you see from ps -a\n",
    "    $ sudo kill -9 PID\n",
    "    \n",
    "This should terminate the process. Alternatively, you can kill the container and rebuild it as described above."
   ]
  },
  {
   "cell_type": "code",
   "execution_count": null,
   "id": "c345d603",
   "metadata": {},
   "outputs": [],
   "source": []
  }
 ],
 "metadata": {
  "kernelspec": {
   "display_name": "Python 3 (ipykernel)",
   "language": "python",
   "name": "python3"
  },
  "language_info": {
   "codemirror_mode": {
    "name": "ipython",
    "version": 3
   },
   "file_extension": ".py",
   "mimetype": "text/x-python",
   "name": "python",
   "nbconvert_exporter": "python",
   "pygments_lexer": "ipython3",
   "version": "3.9.13"
  }
 },
 "nbformat": 4,
 "nbformat_minor": 5
}
