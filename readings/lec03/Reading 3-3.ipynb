{
 "cells": [
  {
   "cell_type": "markdown",
   "id": "8fdbd2e5",
   "metadata": {},
   "source": [
    "## Reading 3-3 - Functions: Remember by Reference"
   ]
  },
  {
   "cell_type": "markdown",
   "id": "4a74530e",
   "metadata": {},
   "source": [
    "Recall from Lecture 0, when we indicated that registers can <b>hold</b> and <b>point</b>, just like the octopus in the memory metaphor. When we \"Remember by Value\", that is the \"hold\". \n",
    "\n",
    "But what if we want to update a register in main from a function? To this point, we haven't been able to do so because we have only passed a <i>copy of the the value</i>. \n",
    "\n",
    "To update a value in another function, we need to \"point\" to the <b>location</b> of the original register. In C/C++, we refer to this as a <b>reference</b>, so we will \"Remember by Reference\"."
   ]
  },
  {
   "cell_type": "markdown",
   "id": "d23e0738",
   "metadata": {},
   "source": [
    "### Remembering by Reference pseudocode\n",
    "\n",
    "When we pass a \"pointer\" to a function, we will say we pass the <code>address of [register]</code>. For example, <code>address of x</code>.\n",
    "\n",
    "When we want to access or modify the value at the register we are pointing to, we will say <code>value at [register]</code>. For example, if we pass the <code>address of y</code> to a function <code>swap</code>, and it is stored in <code>pointer_y</code>, we will say <code>value at pointer_y</code>.\n",
    "\n",
    "After this <b>pseudocode</b> segment, I include a video where I describe how this code works in the Thinking Model. <b>All C programs begin in the <code>main</code> function</b>.\n",
    "\n",
    "    void swap( int address pointer_x, int address pointer_y ){\n",
    "\t\n",
    "        register int temp = value at pointer_x;\n",
    "        value at pointer_x = value at pointer_y;\n",
    "        value at pointer_y = value in temp;\n",
    "    }\n",
    "\n",
    "    int main (no input registers){\n",
    "\n",
    "        register int x = 5;\n",
    "        register int y = 7;\n",
    "\n",
    "        // Call the swap function\n",
    "        swap( address of x, address of y );\n",
    "        \n",
    "        return 0 to tell OS success;\n",
    "    }\n",
    "    \n",
    ">This video describes the Thinking Model with function calls and \"Remembering by Reference\". Click on the image below to view the video.<br>\n",
    ">[![](http://img.youtube.com/vi/4OjjXtBkhpY/mqdefault.jpg)](https://www.youtube.com/watch?v=4OjjXtBkhpY)"
   ]
  },
  {
   "cell_type": "markdown",
   "id": "5039791f",
   "metadata": {},
   "source": [
    "### <font color=\"red\">Question 6: Describe what is meant by \"Remember by Reference\" when using functions in the Thinking Model.</font>"
   ]
  }
 ],
 "metadata": {
  "kernelspec": {
   "display_name": "Python 3 (ipykernel)",
   "language": "python",
   "name": "python3"
  },
  "language_info": {
   "codemirror_mode": {
    "name": "ipython",
    "version": 3
   },
   "file_extension": ".py",
   "mimetype": "text/x-python",
   "name": "python",
   "nbconvert_exporter": "python",
   "pygments_lexer": "ipython3",
   "version": "3.9.13"
  }
 },
 "nbformat": 4,
 "nbformat_minor": 5
}
