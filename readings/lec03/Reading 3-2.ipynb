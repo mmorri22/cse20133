{
 "cells": [
  {
   "cell_type": "markdown",
   "id": "7f2e3e1c",
   "metadata": {},
   "source": [
    "##  Reading 3-2 - Hello, World"
   ]
  },
  {
   "cell_type": "markdown",
   "id": "2125e5d9",
   "metadata": {},
   "source": [
    "### Let's Conduct C Code!"
   ]
  },
  {
   "cell_type": "markdown",
   "id": "0f5bc93c",
   "metadata": {},
   "source": [
    "Let's now use our metaphor to <i>conduct</i> writing code. We are going to design a task that tells the computer to print \"Hello, World\" to the screen. \n",
    "\n",
    "First, we are going to use a <b>C library</b> to leverage collections of common tasks. These collections are known as <b>header files</b> and commonly end with the <code>.h</code> extension in the C programming language.\n",
    "\n",
    "In this case, we are printing characters to the screen, so we will use the <i>standard input/output library</i> which is called <code>stdio.h</code>, and we indicate we want to use the library by using <code>#include</code>\n",
    "\n",
    "<ul><li><code>#include < stdio.h ></code></li></ul><p></p>\n",
    "\n",
    "In this course, we will use a <b>library function</b> called <code>fprintf</code> in order to print values to the screen. The way <code>fprintf</code> works is that is creates a <i>file pointer</i> letting us know where the information will be printed to in the computer, and then writes a set of characters to that location.\n",
    "\n",
    "><b>Combining Concepts</b> - Recall in Reading 1 that we learned characters are 8-bit signed integers are have binary and hexadecimal representations.\n",
    "\n",
    "The C programming language reserves a <b>keyword</b> for the location in memory where the UNIX prompt reads from in order to print to the screen: <code>stdout</code>, which is short for \"standard output.\"\n",
    "\n",
    "Therefore, the way we <i>conduct</i> the computer to print to the screen is as follows:\n",
    "\n",
    "<b>English conduction</b>: Write the characters <code>\"Hello, World\\n\"</code> to the location in memory where <code>stdout</code> is located, and then print the <code>stdout</code> file to the screen:\n",
    "\n",
    "<b>C code</b>: <code>fprintf( stdout, \"Hello, World\\n\");</code> \n",
    "\n",
    "Here is the final code segment, available at <a href=\"https://raw.githubusercontent.com/mmorri22/cse20133/main/readings/lec03/hello.c\">hello.c</a>:\n",
    "\n",
    "<code>#include < stdio.h ></code><br>\n",
    "<code></code><br>\n",
    "<code>int main(void){</code><br>\n",
    "<code></code><br>\n",
    "<code>    fprintf( stdout, \"Hello, World\\n\");</code><br>\n",
    "<code>    return 0;</code><br>\n",
    "<code>}</code><br>"
   ]
  },
  {
   "cell_type": "markdown",
   "id": "2f809d7e",
   "metadata": {},
   "source": [
    "><b>Visualize It</b>: In this video, I write the hello.c code I just presented, while using the metaphor of conducting C code. Click on the image below to view the video.\n",
    "\n",
    "[![](http://img.youtube.com/vi/0zMJZhPFsYA/mqdefault.jpg)](https://www.youtube.com/watch?v=0zMJZhPFsYA)"
   ]
  },
  {
   "cell_type": "markdown",
   "id": "82dd9c52",
   "metadata": {},
   "source": [
    "### The next reading is <a href = \"https://nbviewer.org/github/mmorri22/cse20133/blob/main/readings/lec03/Reading%203-3.ipynb\">Reading 3-3 - Variables and Output Specifiers</a>"
   ]
  }
 ],
 "metadata": {
  "kernelspec": {
   "display_name": "Python 3 (ipykernel)",
   "language": "python",
   "name": "python3"
  },
  "language_info": {
   "codemirror_mode": {
    "name": "ipython",
    "version": 3
   },
   "file_extension": ".py",
   "mimetype": "text/x-python",
   "name": "python",
   "nbconvert_exporter": "python",
   "pygments_lexer": "ipython3",
   "version": "3.9.13"
  }
 },
 "nbformat": 4,
 "nbformat_minor": 5
}
