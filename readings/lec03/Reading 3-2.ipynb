{
 "cells": [
  {
   "cell_type": "markdown",
   "id": "ef61eccd",
   "metadata": {},
   "source": [
    "## Reading 3-2 - Functions: Remember by Value"
   ]
  },
  {
   "cell_type": "markdown",
   "id": "3b520dc3",
   "metadata": {},
   "source": [
    "In C/C++ program, you will divide programs into separate tasks, which we will call <b>functions</b>. The purpose of functions is to promote <b>code reuse</b>, so you do not need to re-write the same task repeatedly. We call this design technique <b>modularity</b>."
   ]
  },
  {
   "cell_type": "markdown",
   "id": "00f47235",
   "metadata": {},
   "source": [
    "### Functions and Scope\n",
    "\n",
    "Each <b>function</b> consists of:\n",
    "<ul>\n",
    "    <li>A set of 0 or more <b>input registers</b> allocated to that function</li>\n",
    "    <li>A set of 0 or more <b>intermediate registers</b> that store intermediate results allocated to that function</li>\n",
    "    <li>A set of 0 or 1 <b>result registers</b> that pass a calculated result to the calling function allocated to that function</li>\n",
    "    <li>A set of <b>instructions</b> to dictate the task</li>\n",
    "</ul>\n",
    "\n",
    "Each register of the function is limited to the <b>scope</b> of that function. This means that changes to the values of the registers allocated to that function may <i>only be changed by that function</i>.\n",
    "\n",
    "For example, let's consider the <b>pseudocode</b> for a simple addition problem. Remember that everything is mechanical, and that we will dictate the <i>procedure</i> of the program. In the video, I correlate the code with the working model. Here are some \n",
    "<ul>\n",
    "    <li>Initialize a register and type by saying <code>register [type]</code>, such as <code>register int</code></li>\n",
    "    <li>To get the value from a register, say <code>value in [register]</code>, such as <code>value in y</code></li>\n",
    "    <li>To print to the output, say <code>print to stream:</code>, and then put the ASCII representations of each value to the output, as we will see below</li>\n",
    "    <li>End main functions with <code>return 0 to tell OS success;</code> to get into the habit of telling the Operatins that the program is done</li>\n",
    "</ul>\n",
    "\n",
    "After this <b>pseudocode</b> segment, I include a video where I describe how this code works in the Thinking Model. \n",
    "\n",
    "    int main (no input registers){\n",
    "\n",
    "        // Initialize a value in an int register x\n",
    "        register int x = 5;\n",
    "        \n",
    "        // Initialize a value in an int register y\n",
    "        register int y = 7;\n",
    "\n",
    "        // Get the value in x and the value in y, add them, and save them in an int register x\n",
    "        register int z = value in x + value in y;\n",
    "        \n",
    "        // We have to tell the output stream what characters should be printed\n",
    "        // Map the value of the registers to ASCII representation\n",
    "        print to stream: (ASCII \"+\" ASCII \"=\" ASCII), value in x, value in y, value in z;\n",
    "        \n",
    "        // Practice return 0; in main, which tells the OS that the program is completed.\n",
    "        return 0 to tell OS success;\n",
    "\n",
    "    } \n",
    "    \n",
    "><b>Visualize It!</b> - This video describes the Thinking Model for the main function. Click on the image below to view the video.<br>\n",
    "> [![](http://img.youtube.com/vi/JS_dvgGHKNo/mqdefault.jpg)](https://www.youtube.com/watch?v=JS_dvgGHKNo)"
   ]
  },
  {
   "cell_type": "markdown",
   "id": "023cdca9",
   "metadata": {},
   "source": [
    "### Function Call\n",
    "\n",
    "Let's change this code slightly, where we create a <i>function</i> that performs the addition. When we call a function, and we are allocating new registers, we will <b>remember a copy</b> of that value, which we will call <b>remember by value</b>.\n",
    "\n",
    "<ul>\n",
    "    <li>It's a good habit to use different variable names for the copies in a function to avoid confusion</li>\n",
    "    <li>When calling a function in the thinking model, say <code>copy of [register]</code> so you build a good habit of understanding that these are copies of the value, not the values in main</li>\n",
    "    <li>You should only use <code>register [type]</code> the first time when you allocate the variable. Do not use it at any other time</li>\n",
    "</ul>\n",
    "\n",
    "After this <b>pseudocode</b> segment, I include a video where I describe how this code works in the Thinking Model. <b>All C programs begin in the <code>main</code> function</b>.\n",
    "\n",
    "    int add( int add_x, int add_y ){\n",
    "\t\n",
    "        register int sum = value in add_x + value in add_y;\n",
    "        \n",
    "        return value in sum\n",
    "    }\n",
    "    \n",
    "    void print_sum( int print_x, int print_y, int print_sum ){\n",
    "    \n",
    "        print to stream: (ASCII \"+\" ASCII \"=\" ASCII), value in print_x, value in print_y, value in print_sum;\n",
    "    }\n",
    "\n",
    "\n",
    "    int main (no input registers){\n",
    "\n",
    "        register int x = 5;\n",
    "        register int y = 7;\n",
    "\n",
    "        // Call the add function\n",
    "        register int sum = add( copy of x, copy of y );\n",
    "        \n",
    "        // Call the print_sum function\n",
    "        print_sum( copy of x, copy of y, copy of sum );\n",
    "        \n",
    "        // Change values of x and y\n",
    "        x = 9;\n",
    "        y = -3;\n",
    "        \n",
    "        sum = add( copy of x, copy of y );\n",
    "        print_sum( copy of x, copy of y, copy of sum );\n",
    "        \n",
    "        return 0 to tell OS success;\n",
    "    }\n",
    "    \n",
    "    \n",
    ">This video describes the Thinking Model with function calls and \"Remembering by Value\". Click on the image below to view the video.<br>\n",
    ">[![](http://img.youtube.com/vi/H60vqZgXzzg/mqdefault.jpg)](https://www.youtube.com/watch?v=H60vqZgXzzg)"
   ]
  },
  {
   "cell_type": "markdown",
   "id": "716cb0ba",
   "metadata": {},
   "source": [
    "### <font color=\"red\">Question 5: Describe what is meant by \"Remember by Value\" when using functions in the Thinking Model.</font>"
   ]
  },
  {
   "cell_type": "markdown",
   "id": "dee783db",
   "metadata": {},
   "source": [
    "### The next reading is <a href = \"https://github.com/mmorri22/cse20133/blob/main/readings/lec03/Reading%203-3.ipynb\">Reading 3-3 - Functions: Remember by Referemce</a>"
   ]
  }
 ],
 "metadata": {
  "kernelspec": {
   "display_name": "Python 3 (ipykernel)",
   "language": "python",
   "name": "python3"
  },
  "language_info": {
   "codemirror_mode": {
    "name": "ipython",
    "version": 3
   },
   "file_extension": ".py",
   "mimetype": "text/x-python",
   "name": "python",
   "nbconvert_exporter": "python",
   "pygments_lexer": "ipython3",
   "version": "3.9.13"
  }
 },
 "nbformat": 4,
 "nbformat_minor": 5
}
