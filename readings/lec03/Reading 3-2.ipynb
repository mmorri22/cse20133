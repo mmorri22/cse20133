{
 "cells": [
  {
   "cell_type": "markdown",
   "id": "4bf4d8a1",
   "metadata": {},
   "source": [
    "## Reading 3-2 - Functions: Remember by Value"
   ]
  },
  {
   "cell_type": "markdown",
   "id": "648e566e",
   "metadata": {},
   "source": [
    "In C/C++ program, you will divide programs into separate tasks, which we will call <b>functions</b>. The purpose of functions is to promote <b>code reuse</b>, so you do not need to re-write the same task repeatedly. We call this design technique <b>modularity</b>."
   ]
  },
  {
   "cell_type": "markdown",
   "id": "5bf81759",
   "metadata": {},
   "source": [
    "### Functions and Scope\n",
    "\n",
    "Each <b>function</b> consists of:\n",
    "<ul>\n",
    "    <li>A set of 0 or more <b>input registers</b> allocated to that function</li>\n",
    "    <li>A set of 0 or more <b>intermediate registers</b> that store intermediate results allocated to that function</li>\n",
    "    <li>A set of 0 or 1 <b>result registers</b> that pass a calculated result to the calling function allocated to that function</li>\n",
    "    <li>A set of <b>instructions</b> to dictate the task</li>\n",
    "</ul>\n",
    "\n",
    "Each register of the function is limited to the <b>scope</b> of that function. This means that changes to the values of the registers allocated to that function may <i>only be changed by that function</i>.\n",
    "\n",
    "For example, let's consider the <b>pseudocode</b> for a simple addition problem. Remember that everything is mechanical, and that we will dictate the <i>procedure</i> of the program. In the video, I correlate the code with the working model. Here are some \n",
    "<ul>\n",
    "    <li>Initialize a register and type by saying <code>register [type]</code>, such as <code>register int</code></li>\n",
    "    <li>To get the value from a register, say <code>value in [register]</code>, such as <code>value in y</code></li>\n",
    "    <li>To print to the output, say <code>print to stream:</code>, and then put the ASCII representations of each value to the output, as we will see below</li>\n",
    "    <li>End main functions with <code>return 0 to tell OS success;</code> to get into the habit of telling the Operatins that the program is done</li>\n",
    "</ul>\n",
    "\n",
    "    int main (no input registers){\n",
    "\n",
    "        // Initialize a value in an int register x\n",
    "        register int x = 5;\n",
    "        \n",
    "        // Initialize a value in an int register y\n",
    "        register int y = 7;\n",
    "\n",
    "        // Get the value in x and the value in y, add them, and save them in an int register x\n",
    "        register int z = value in x + value in y;\n",
    "        \n",
    "        // We have to tell the output stream what characters should be printed\n",
    "        // Map the value of the registers to ASCII representation\n",
    "        print to stream: (ASCII \"+\" ASCII \"=\" ASCII), value in x, value in y, value in z;\n",
    "        \n",
    "        // Practice return 0; in main, which tells the OS that the program is completed.\n",
    "        return 0 to tell OS success;\n",
    "\n",
    "    }\n",
    "    \n",
    " In the following video, I will describe how the thinking model performs this task:\n",
    " \n",
    " "
   ]
  },
  {
   "cell_type": "code",
   "execution_count": null,
   "id": "9c49b60d",
   "metadata": {},
   "outputs": [],
   "source": []
  }
 ],
 "metadata": {
  "kernelspec": {
   "display_name": "Python 3 (ipykernel)",
   "language": "python",
   "name": "python3"
  },
  "language_info": {
   "codemirror_mode": {
    "name": "ipython",
    "version": 3
   },
   "file_extension": ".py",
   "mimetype": "text/x-python",
   "name": "python",
   "nbconvert_exporter": "python",
   "pygments_lexer": "ipython3",
   "version": "3.9.13"
  }
 },
 "nbformat": 4,
 "nbformat_minor": 5
}
