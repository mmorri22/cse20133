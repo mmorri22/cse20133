{
 "cells": [
  {
   "cell_type": "markdown",
   "id": "7473b3a8",
   "metadata": {},
   "source": [
    "# Reading 3-1 Introduction to C Programming"
   ]
  },
  {
   "cell_type": "markdown",
   "id": "467d7c17",
   "metadata": {},
   "source": [
    "### In this reading you will learn the following concepts:\n",
    "\n",
    "<ul>\n",
    "    <li>Basic Fundamentals of C Programming</li>\n",
    "    <li>Compiler Flags</li>\n",
    "    <li>Hello, World and Memory Basics</li>\n",
    "</ul>\n",
    "\n",
    "### Review of the Hands-on Imperative\n",
    "\n",
    "><code>>_ The Hands-on Imperative:</code><br>\n",
    "><code>To get the most out of your reading, you should be typing commands into a C interpreter and <i>playing around</i> with the things you are reading.</code><br>\n",
    "><code>Passively reading will not be as fruitful as actively reading and trying out things you are exploring.</code>"
   ]
  },
  {
   "cell_type": "markdown",
   "id": "0c2d0198",
   "metadata": {},
   "source": [
    "A challenge that many students have when beginning to program in C or C++ is that they struggle with the idea that the computer is actually a <b>physical machine</b>, and not a nebulous device where magical fairies fight pointer demons. But why does understanding the physical details of a computer matter when programming in C?\n",
    "\n",
    "<ul>\n",
    "    <li><b>There are billions of lines of C and C++ code in the world.</b> If you end up programming at your future job, you will sooner or later have to deal with these languages. For example, operating systems, web browsers, machine learning toolkits like TensorFlow and PyTorch, and high-performance infrastructure used by companies like Facebook and Google are written in C++. Many companies yearn to hire engineers who know these languages!</li>\n",
    "    <li>The concepts we're learning here are <b>fundamental to programming</b> and ultimately impact how other languages work. Even if you're programming in Go or Java, you will understand these languages a lot better if you know the underlying infrastructure.</li>\n",
    "<li>When you work with concurrent and distributed systems (which most moderately complex applications we use today, including nearly all applications on your phone, are!), mysterious bugs and seemingly impossible behavior <b>will make a lot more sense</b> (and be easier to debug!) if you know how the computer actually executes these programs.</li>\n",
    "</ul>"
   ]
  },
  {
   "cell_type": "markdown",
   "id": "ccea02ad",
   "metadata": {},
   "source": [
    "### When \"nothing\" is something\n",
    "\n",
    "So we will start with a seemingly simple piece of code, <code><a href = \"https://raw.githubusercontent.com/mmorri22/cse20133/main/readings/lec03/nothing.c\">nothing.c</a></code>:\n",
    "\n",
    "><code>void main(void){\n",
    ">}</code>\n",
    "\n",
    "Every C program's execution starts with the <code>main()</code> function. The input to the program is the <code>(void)</code> <i>after</i> the main function call. The <code>vode</code> before the <code>main</code> keyword is the <b>return</b> value sent to the operating system.\n",
    "\n",
    "This piece of code takes in no inputs, (seemingly) performs no tasks, and then returns nothing on the output. But even when we have a program that does <i>nothing</i>, we can see that it actually does <i>something</i>.\n",
    "\n",
    "C is a <b>brace procedure language</b>, meaning that tasks are divided up by using braces. (In fact, C was the second programming language to <a href = \"https://en.wikipedia.org/wiki/List_of_programming_languages_by_type#Curly-bracket_languages\">incorporate braces</a> to represent procedures.)\n",
    "\n",
    "So the <code>nothing.c</code> code segment actually <b>initializes the main procedure</b> to start the program."
   ]
  },
  {
   "cell_type": "markdown",
   "id": "4d74d691",
   "metadata": {},
   "source": [
    "### Reviewing Opening Docker Desktop and VS Code\n",
    "\n",
    "<b>1.</b> Open Docker Desktop. Go to the <code>cse20133-user</code> Container you created. Press the Blue Triangle to start the Container.\n",
    "\n",
    "<b>2.</b> Open VSCode, and on the left, select the blue button in the bottom left of VSCode. At the top, select the pull-down choice “Attach to running container” and select your CSE 20133 course container. The installation will take a few moments.\n",
    "<img src = \"https://microsoft.github.io/vscode-remote-release/images/remote-dev-status-bar.png\">\n",
    "\n",
    "And now you are back in the Coding Environment!\n",
    "\n",
    "<b>3.</b> To separate out your reading code practice, create a folder for the readings in your GitHub repository. This way, you have a backup of all the work you've done in studying. \n",
    "\n",
    "Here is my recommended way of performing these steps:\n",
    "\n",
    "<b>1.</b> In the <b>VS Code Terminal</b>, go into your cse20133-@USERNAME folder, and create a folder called reading04. (I am including <code>pwd</code> as a guide to let you know where I am starting in the file hierarchy when I perform these commands)\n",
    "\n",
    "><code>cse20133-user@da240cb02f7e:/home> <font color=\"red\">pwd</font></code><br>\n",
    "><code>/home</code><br>\n",
    "><code>cse20133-user@da240cb02f7e:/home> <font color=\"red\">cd cse20133-user/cse20133-mmorri22</font></code><br>\n",
    "><code>cse20133-user@da240cb02f7e:~ /cse20133-mmorri22> <font color=\"red\">mkdir reading04</font></code><br>\n",
    "><code>cse20133-user@da240cb02f7e:~ /cse20133-mmorri22> <font color=\"red\">cd reading04</font></code><br>\n",
    "\n",
    "In that folder, perform the <code>wget</code> command to get the file from online:\n",
    "\n",
    "    wget https://raw.githubusercontent.com/mmorri22/cse20133/main/readings/lec03/nothing.c\n",
    "    \n",
    "Perform the <code>ls -l</code> command to confirm the file has been downloaded. You should also be able to see the file and folder in the VS Code hierarchy: \n",
    "\n",
    "    ls -l\n",
    "    total 0\n",
    "    -rwxrwxrwx 1 cse20133-user cse20133-user 34 Aug 18 09:39 nothing.c\n",
    "\n",
    "### Compiling nothing.c\n",
    "\n",
    "Next, I will show you a basic step for compiling this file and generating an executable file we named nothing.c\n",
    "\n",
    "<ul>\n",
    "<li><code>gcc</code> is the C compiler on the Notre Dame Machines</li>\n",
    "<li><code>-o</code> links a machine readable object file, which is converted from the C file <code>nothing.c</code>, and creates an executable called print_nothing</li>\n",
    "<li><code>./print_nothing</code> runs the executable</li>\n",
    "<li>Then we delete the executable using <code>rm print_nothing</code></li>\n",
    "</ul>\n",
    "\n",
    "<p></p>So the basic execution steps look like this:\n",
    "\n",
    "    gcc nothing.c -o print_nothing \n",
    "    ./print_nothing\n",
    "\n",
    "\n",
    "As we will learn later in this course, the executable will take up significantly more space than the code segment. If you run <code>ls -l</code> before you delete the executable, you will see that <code>print_nothing</code> (8312 bytes) is much larger than the code for <code>nothing.c</code> (34 bytes)\n",
    "\n",
    "><code>-bash-4.2$ ls -l<br></code>\n",
    "><code>total 20<br></code>\n",
    "><code>-rw-r--r-- 1 mmorri22 notre-dame   <font color=\"red\">34</font> Jun 10 19:36 <font color=\"blue\">nothing.c</font><br></code>\n",
    "><code>-rwxr-xr-x 1 mmorri22 notre-dame <font color=\"red\">16464</font> Jun 11 08:59 <font color=\"blue\">print_nothing</font><br></code>\n",
    "\n",
    "To ensure we don't get significant memory bloat, we will delete executable files after they are no longer being used in this course:\n",
    "\n",
    "    rm print_nothing\n",
    "\n",
    "\n",
    "<b>Visualize It:</b> In this video, I show the process of running <code>wget</code> and then performing the basic execution steps. Click on the image below to view the video.\n",
    "\n",
    "[![](http://img.youtube.com/vi/yLu4kR8YJX8/mqdefault.jpg)](https://www.youtube.com/watch?v=yLu4kR8YJX8)"
   ]
  },
  {
   "cell_type": "markdown",
   "id": "4edef6ae",
   "metadata": {},
   "source": [
    "### The first compiler error: Output\n",
    "\n",
    "The next piece of code is <a href = \"https://raw.githubusercontent.com/mmorri22/cse20133/main/readings/lec03/nothing_2.c\">nothing_2.c</a>, which is shown below. The difference (highlighted in <font color=\"red\">red</font>) is the int return statement\n"
   ]
  },
  {
   "cell_type": "markdown",
   "id": "426eb8e5",
   "metadata": {},
   "source": [
    "<code><font color=\"red\">int</font> main(void){\n",
    "    // return 0;\n",
    "}\n",
    "</code>\n",
    "\n",
    "If we run <code>gcc nothing_2.c -o print_nothing_2</code> and then execute <code>./print_nothing_2</code>, we will see that the code seemingly compiles and runs fine. But notice how we are expecting an integer output and we never programmed one. So why does it compile?\n",
    "\n",
    "The reason is that we have not used any <b>flags</b> to tell us about any <b>compiler warnings</b>. A compiler warning is the computer’s way of telling you can no longer guarantee reliable computing. A computer running a program with a warning is like this meme:\n",
    "\n",
    "![Everything is Fine](https://github.com/mmorri22/su23-cse20332/blob/main/readings/reading02/Everything%20is%20Fine.jpg?raw=true)\n",
    "\n",
    "So let's introduce the <code>-Wall</code> warning, which  enables all the warnings about constructions that some users consider questionable, and that are easy to avoid (or modify to prevent the warning), even in conjunction with macros. \n",
    "\n",
    "When we run <code>-Wall</code> with the compilation, we will see a message indicating the program is <b>expecting an output</b>. Specifically, that the \"non-void function\" main returns an int, but that the program reached the end of this function without receiving a return message.\n",
    "\n",
    "><code>-bash-4.2$ gcc -Wall nothing_2.c -o print_nothing_2\n",
    ">nothing_2.c: In function ‘main’:\n",
    ">nothing_2.c:4:1: <font color=\"red\">warning: control reaches end of non-void function</font> [-Wreturn-type] </code>\n",
    "<p></p>\n",
    "\n",
    "But here's the catch... an executable was still generated! And we can still run the executable with <code>./print_nothing</code>. This means that it is possible, even with a program as small as <code>nothing_2.c</code>, to submit code to a program has non-guaranteed outcomes. \n",
    "\n",
    "<b>Therefore, the purpose of using compilation flags is to ensure that we eliminate non-guaranteed outcomes. We refer to these as <i>Production Quality Compilation Flags</i></b>\n",
    "\n",
    "To fix this issue, let's add a return statement. In this case, we will <code>return 0;</code>, which informs the operating systems that the program was successfully completed. This code may be found at <a href=\"https://raw.githubusercontent.com/mmorri22/cse20133/main/readings/lec03/nothing_3.c\">nothing_3.c</a>:\n",
    "\n",
    "<code>int main(void){\n",
    "\treturn 0;\n",
    "}\n",
    "</code>"
   ]
  },
  {
   "cell_type": "markdown",
   "id": "b2593814",
   "metadata": {},
   "source": [
    "### <font color=\"red\">Question 1: Given the code in <code>nothing3.c</code>, describe the purpose of each part:</font>\n",
    "\n",
    "    int main(void){\n",
    "        return 0;\n",
    "    }\n",
    "\n",
    "\n",
    "### <font color=\"red\">Question 2: What is the purpose of the course Production Quality Compilation flags, and give an example of what can go wrong when we do not ensure Production Quality Compilation in C/C++ programming?</font>"
   ]
  },
  {
   "cell_type": "markdown",
   "id": "571a6034",
   "metadata": {},
   "source": [
    "### The next reading is <a href = \"https://github.com/mmorri22/cse20133/blob/main/readings/lec03/Reading%203-2.ipynb\">Reading 3-2 - Hello, World</a>"
   ]
  }
 ],
 "metadata": {
  "kernelspec": {
   "display_name": "Python 3 (ipykernel)",
   "language": "python",
   "name": "python3"
  },
  "language_info": {
   "codemirror_mode": {
    "name": "ipython",
    "version": 3
   },
   "file_extension": ".py",
   "mimetype": "text/x-python",
   "name": "python",
   "nbconvert_exporter": "python",
   "pygments_lexer": "ipython3",
   "version": "3.9.13"
  }
 },
 "nbformat": 4,
 "nbformat_minor": 5
}
