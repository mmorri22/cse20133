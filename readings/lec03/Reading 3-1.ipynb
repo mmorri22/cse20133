{
 "cells": [
  {
   "cell_type": "markdown",
   "id": "7f2e3e1c",
   "metadata": {},
   "source": [
    "##  Reading 3-1 - The Thinking Computing Model"
   ]
  },
  {
   "cell_type": "markdown",
   "id": "8048cbf5",
   "metadata": {},
   "source": [
    "### Revisiting the Importance of Memory Hierarchy.\n",
    "\n",
    "For people like us who've always lived with computers, the idea that they didn't exist before the 1930s may seem impossible. Even stranger still may be the notion that computer users in the 1990s and early 2000s had to possess an extensive understanding of hardware in order to efficiently operate a computer. Students who've worked almost exclusively with phone apps and cloud drives might think a professor's insistence on understanding memory and file hierarchies is every bit as antiquated as when my professors insistent that I understand how to use punch cards!\n",
    "\n",
    "But for engineers who will use code in their applications, understanding these concepts is <i>critical</i> to safe, secure, and reliable implementation of their designs. Often, the space for computers in <b>limited</b>, so electrical, aerospace, and mechanical engineers need to understand how changes in memory operations affect their entire system. "
   ]
  },
  {
   "cell_type": "markdown",
   "id": "7eb8b82a",
   "metadata": {},
   "source": [
    "### A Case Study: \n",
    "\n",
    "> <b>From the Washington Post:</b> <a href = \"https://www.washingtonpost.com/technology/2020/10/31/nasa-sls-moon-rocket/\">NASA’s new rocket would be the most powerful ever. But it’s the software that has some officials worried.</a>\n",
    "\n",
    "This article focuses on the testimony of the NASA’s Aerospace Safety Advisory Panel to Congress. The director, Paul Hill, said that the “panel has great concern about the end-to-end integrated test capability and plans, especially for flight software.” They felt NASA's engineers and contractors were not taking the lessons from a nearly-catastrophic software error in <a href = \"https://www.washingtonpost.com/technology/2020/02/07/boeing-starliner-software-problems/\">Boeing's Starliner spacecraft</a>, where a pair of software errors that prevented it from docking with the International Space Station as planned and forced controllers to cut the mission short in 2020.\n",
    "\n",
    "> Click on the image below to a brief video on the Boeing Starliner docking failure\n",
    ">[![](http://img.youtube.com/vi/Z-LNdB3cPzs/mqdefault.jpg)](https://www.youtube.com/watch?v=Z-LNdB3cPzs)\n",
    "\n",
    "\n",
    "I reached out to Paul Hill, as well as the former NASA Associate Administrator for the Human Exploration and Operations Mission Directorate Douglas Loverro, to ask them about their testimony and what lessons future engineers should take from this.\n",
    "\n",
    "Paul Hill told me that \"students think of code as this amorphous blob that just floats around the systems as magically does everything that they need it to do. They need to understand that code is <i>physical</i>, just like a moment arm or a transistor, and needs to be treated like any other physical part of the system.\"\n",
    "\n",
    "Doug Loverro said \"We don’t know how many software errors we have — if we have just two or many hundreds. <u>The bottom line is that industry is very bad at doing software</u>. Students who are understand the concepts you are teaching will be <i>an invaluable asset to the United States and to NASA</i>.\""
   ]
  },
  {
   "cell_type": "markdown",
   "id": "523c7fb7",
   "metadata": {},
   "source": [
    "### A Metaphor for Types of Computer Memory \n",
    "\n",
    "Recall from Lecture 0 that computing is the <i>mechanization of thought</i>. If you understand how humans think, you will be able to get a much stronger grasp on how pointers work, because pointers were designed to <i>replicate the process of human thought</i>.\n",
    "\n",
    "A <b>pointer</b> is a data element that represents a location in memory. When we print memory locations in the UNIX, the result will be presented in <i>hexadecimal</i>. \n",
    "\n",
    "The three types of memory in the human brain form the <b>Declarative Pathway</b>, where information in your short-term working memory is transferred to the <b>neocortex</b> (long-term memory) via the <b>hippocampus</b>. \n",
    "\n",
    "In a computer, the three types of memory form the Computer Architecture,  where information in the <b>registers</b> is transferred to the <b>dynamic memory</b> (long-term memory) via the <b>static memory</b>. \n",
    "\n",
    "<ul>\n",
    "    <li>Think of the Hippocampus as a \"Know-It-All\". While the hippocampus is quick and attentive, and excellent at cramming, the knowledge is superficial and does not last long.</li>\n",
    "    <li>The long-term memory is called the \"Neocortex\". The Neocortex is scatterbrained, but is a deep thinker. When you put ideas together in your mind, this is performed in the Neocortex.</li>\n",
    "</ul>\n",
    "\n",
    "![Declarative Pathway](https://github.com/mmorri22/su23-cse20332/blob/main/readings/reading02/Declarative%20Pathway.jpg?raw=true)\n",
    "<center>(Used with permission from Barbara Oakley, \"<a href=\"https://www.amazon.com/Uncommon-Sense-Teaching-Practical-Insights/dp/0593329732/ref=asc_df_0593329732/?tag=hyprod-20&linkCode=df0&hvadid=475772153738&hvpos=&hvnetw=g&hvrand=17313060320761260117&hvpone=&hvptwo=&hvqmt=&hvdev=c&hvdvcmdl=&hvlocint=&hvlocphy=9016243&hvtargid=pla-1014046544559&psc=1\">Uncommon Sense Teaching</a>\")</center>\n"
   ]
  },
  {
   "cell_type": "markdown",
   "id": "f779f2f3",
   "metadata": {},
   "source": [
    "### The Parable of the Choir\n",
    "\n",
    "It is helpful to think of a human's memory like a choir, where the Hippocampus and Neocortex are \"conducted\" by the short term working memory. Working memory can either hold a piece of information or point to where information is located.\n",
    " \n",
    "Think of pointers as the conductors of a program. In order to access data, we need to know where that information is located in the computer! \n",
    "\n",
    "![Parable of the Choir](https://github.com/mmorri22/su23-cse20332/blob/main/readings/reading02/Parable%20of%20the%20Choir.jpg?raw=true)"
   ]
  },
  {
   "cell_type": "markdown",
   "id": "1c85dd6a",
   "metadata": {},
   "source": [
    "### The Thinking Model\n",
    "\n",
    "In the Thinking Model, we will correlate:\n",
    "<ul>\n",
    "    <li><b>Register\n",
    "    \n",
    "</ul>"
   ]
  }
 ],
 "metadata": {
  "kernelspec": {
   "display_name": "Python 3 (ipykernel)",
   "language": "python",
   "name": "python3"
  },
  "language_info": {
   "codemirror_mode": {
    "name": "ipython",
    "version": 3
   },
   "file_extension": ".py",
   "mimetype": "text/x-python",
   "name": "python",
   "nbconvert_exporter": "python",
   "pygments_lexer": "ipython3",
   "version": "3.9.13"
  }
 },
 "nbformat": 4,
 "nbformat_minor": 5
}
