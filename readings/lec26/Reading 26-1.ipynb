{
 "cells": [
  {
   "cell_type": "markdown",
   "id": "eebd5727",
   "metadata": {},
   "source": [
    "## Reading 26-1 - Assembly Language\n",
    "\n",
    "The only place where a computer can store information is memory. It's up to the systems software and the programs that the computer runs to decide what these bytes actually mean. They could be program code, data (integers, strings, images, etc.), or \"meta-data\" used to build more complex data structures from simple memory boxes. Understanding how complex programs boil down to bytes will help you debug your program, and will make you appreciate why they behave the way they do."
   ]
  },
  {
   "cell_type": "markdown",
   "id": "915322b9",
   "metadata": {},
   "source": [
    "## Motivation\n",
    "\n",
    "We've now arrived at the end of our introduction to C programming. The rest of the course will mostly look at higher-level concepts built atop the understanding we have developed. But before the look at higher levels, we will briefly pull back the covers and see what happens at the level below C to make your programs run.\n",
    "\n",
    "        | Web sites, Google, Facebook, AirBnB, etc.\n",
    "    --- |-------------------------------------------\n",
    "        | Distributed systems     <-- block 4\n",
    "     C  |-------------------------\n",
    "     S  | Parallel programming    <-- block 3\n",
    "     E  |-------------------------\n",
    "     2  | C++ | Operating systems <-- block 2\n",
    "     0  |-------------------------\n",
    "     3  | C programming language  <-- we discussed this so far\n",
    "     1  |-------------------------\n",
    "     1  | Assembly language       <-- we will briefly cover this\n",
    "    --- |-------------------------------------------\n",
    "        | Hardware (chips)\n",
    "\n",
    "Now that you understand the C language and memory representations of data, you may wonder about the \"magic\" hexadecimal bytes that the compiler outputs to make your computer's processor do things like adding numbers. How does the compiler choose these bytes, and what bytes are valid?\n",
    "\n",
    "Each computer architecture (such as x86-64, which most modern computers use and we're considering in this course) has an <b>instruction set</b> specified by the manufacturer. \n",
    "\n",
    "The instruction set, first and foremost, defines what sequences of bytes <b>trigger specific behavior in the processor</b> (e.g., adding numbers, comparing them for equality, or loading data from memory). \n",
    "\n",
    "But hexadecimal bytes are hard for humans to read, so the instruction set also comes with a human-readable <b>assembly language</b> that consists of short, mnemonic instructions that correspond directly to a byte encoding (i.e., each of these instructions corresponds to a specific, unique set of hexadecimal bytes).\n",
    "\n",
    "\n"
   ]
  },
  {
   "cell_type": "markdown",
   "id": "2c48ca95",
   "metadata": {},
   "source": [
    "## Interpreting Bytes In Memory\n",
    "\n",
    "We will build this up from first principles. Let's start with add.c, which is a C program that serves a simple purpose: it reads numbers from the command line and adds them. \n",
    "\n",
    "Let's disect the code, and you'll get immersed in the basic structure of a C program, as well as seeing the crucial <code>add()</code> function that we'll use to explore how programs are just bytes in memory.\n",
    "\n",
    "    #include <stdio.h>\n",
    "    #include <stdlib.h>\n",
    "\n",
    "    int sum(int a, int b);\n",
    "\n",
    "    int main( const int argc, const char* argv[] ){\n",
    "\n",
    "        if( argc != 3 ){\n",
    "            return EXIT_FAILURE;\n",
    "        }\n",
    "\n",
    "        int first_val = atoi( argv[1] );\n",
    "        int second_val = atoi( argv[2] );\n",
    "\n",
    "        fprintf( stdout, \"%d + %d = %d\\n\", first_val, second_val, sum(first_val, second_val) );\n",
    "\n",
    "        return EXIT_SUCCESS;\n",
    "    }\n",
    "\n",
    "    int sum(int a, int b){\n",
    "        return a+b;\n",
    "    }"
   ]
  },
  {
   "cell_type": "markdown",
   "id": "e4bbbedc",
   "metadata": {},
   "source": [
    "### <font color = \"red\">Class Introduction Question #1 - Describe the purpose and the operation of the first two cases for the pop_front operation:</a>\n",
    "\n",
    "        void pop_front( dllist* the_list ){\n",
    "        \n",
    "            if( the_list->head_node == NULL )\n",
    "                return;\n",
    "\n",
    "            else if( the_list->head_node == the_list->tail_node ){\n",
    "\n",
    "                dll_node* reference = the_list->head_node;\n",
    "\n",
    "                the_list->head_node = NULL;\n",
    "                the_list->tail_node = NULL;\n",
    "\n",
    "                free( reference );\n",
    "                return;\n",
    "            }\n",
    "\n",
    "\n",
    "### <font color = \"red\">Class Introduction Question #2 - Describe the purpose and the operation of the final operation in the pop_front operation</a>\n",
    "\n",
    "        dll_node* reference = the_list->head_node;\n",
    "        \n",
    "        the_list->head_node = reference->next_node;\n",
    "        \n",
    "        the_list->head_node->prev_node = NULL;\n",
    "        \n",
    "        free( reference );"
   ]
  },
  {
   "cell_type": "code",
   "execution_count": null,
   "id": "39181482",
   "metadata": {},
   "outputs": [],
   "source": []
  }
 ],
 "metadata": {
  "kernelspec": {
   "display_name": "Python 3 (ipykernel)",
   "language": "python",
   "name": "python3"
  },
  "language_info": {
   "codemirror_mode": {
    "name": "ipython",
    "version": 3
   },
   "file_extension": ".py",
   "mimetype": "text/x-python",
   "name": "python",
   "nbconvert_exporter": "python",
   "pygments_lexer": "ipython3",
   "version": "3.9.13"
  }
 },
 "nbformat": 4,
 "nbformat_minor": 5
}
