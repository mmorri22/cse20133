{
 "cells": [
  {
   "cell_type": "markdown",
   "id": "eebd5727",
   "metadata": {},
   "source": [
    "## Reading 26-1 - Assembly Language Introduction"
   ]
  },
  {
   "cell_type": "markdown",
   "id": "915322b9",
   "metadata": {},
   "source": [
    "We've now arrived at the end of our introduction to C programming. The rest of the course will mostly look at higher-level concepts built atop the understanding we have developed.\n",
    "\n",
    "But before the look at higher levels that we will use C++ to investigate, we will briefly pull back the covers and see what happens <b>at the level below</b> C to make your programs run.\n",
    "\n",
    "Understanding how complex programs boil down to bytes will help you debug your program, and will make you appreciate why they behave the way they do.\n",
    "\n",
    "    --- | Web sites, Google, Facebook, ChatGPT, etc.\n",
    "     C  |-------------------------\n",
    "     S  | Parallel programming    <-- block 4\n",
    "     E  |-------------------------\n",
    "     2  | C++ | Operating systems <-- block 3\n",
    "     0  |-------------------------\n",
    "     1  | C programming language  <-- block 1 - we discussed this so far\n",
    "     3  |-------------------------\n",
    "     3  | Assembly language       <-- block 2- we will briefly cover this\n",
    "    --- |-------------------------------------------\n",
    "        | Hardware (chips)        <-- Prof. Morrison's Digital Integrated Circuits course\n",
    "\n",
    "> The Electrical Engineers will take the CSE 20221 Logic Design course, where understanding of memory operations, assembly language, and instruction sets is crucial for success in that course. So part of my motivation for introducing assembly language now is to set you up for success in future coursework.\n",
    "\n",
    "Each computer architecture (such as x86-64, which most modern computers use and we're considering in this course) has an <b>instruction set</b> specified by the manufacturer in order to optimize their operations based on their specific needs or intellectual property.\n",
    "\n",
    "The instruction set, first and foremost, defines what sequences of bytes <b>trigger specific behavior in the processor</b> (e.g., adding numbers, comparing them for equality, or loading data from memory). \n",
    "\n",
    "But hexadecimal bytes are hard for humans to read, so the instruction set also comes with a human-readable <b>assembly language</b> that consists of short, mnemonic instructions that correspond directly to a byte encoding (i.e., each of these instructions corresponds to a specific, unique set of hexadecimal bytes)."
   ]
  },
  {
   "cell_type": "markdown",
   "id": "fdcce68f",
   "metadata": {},
   "source": [
    "## Back into the Void: Generating the Assembly Code\n",
    "\n",
    "we will repeat the process of building a program from the ground up, starting with <a href = \"https://github.com/mmorri22/cse20133/blob/main/readings/lec26/void.c\"><code>void.c</code></a>\n",
    "\n",
    "    void main(){\n",
    "\n",
    "    }\n",
    "\n",
    "We can look at the contents of <code>add.o</code> using a tool called <b>objdump</b>. \n",
    "    \n",
    "    mkdir reading26\n",
    "    cd reading26\n",
    "    wget https://raw.githubusercontent.com/mmorri22/cse20133/main/readings/lec26/void.c\n",
    "    gcc -c void.c \n",
    "\n",
    "If you are using a Windows Machine or Linux, perform the following instruction:\n",
    "\n",
    "    objdump -d add.o \n",
    "\n",
    "If you are using a Mac, perform the following instruction:\n",
    "\n",
    "    x86_64-linux-gnu-objdump -d add.o \n",
    "    \n",
    "> <b>On the difference between Windows and Mac</b> - If you are using a Mac, and you try running <code>objdump</code>, you will likely get the following error:<p>\n",
    "> <code>trap1:     file format elf64-little</code><br>\n",
    "> <code>objdump: can't disassemble for architecture UNKNOWN!</code><p>\n",
    "> This is because the executable we provide is <b>compiled for the x86-64 architecture</b> and contains machine instructions that <b>only x86-64 machines understand</b>, but the computer you’re using <b>only understands ARM64 instructions</b>.<br>"
   ]
  },
  {
   "cell_type": "markdown",
   "id": "669e3dc0",
   "metadata": {},
   "source": [
    "## Reading Assembly Language \n",
    "    \n",
    "<b>It's not important that you understand this yet. Just that you get an idea that we can view how programs work at the binary level</b>.\n",
    "    \n",
    "> <b>What does the machine language below mean?</b>\n",
    "> We don't know machine language yet. But to give you an intution, <code>retq</code> tells the processor to return to the calling function, which is just <code>return 0;</code> in main.\n",
    "    \n",
    "This is the resulting output, which may be found at <a href = \"https://github.com/mmorri22/cse20133/blob/main/readings/lec26/void_objdump.txt\">void_objdump.txt</a>\n",
    "\n",
    "    0000000000000000 <main>:\n",
    "       0:   f3 0f 1e fa             endbr64 \n",
    "       4:   55                      push   %rbp\n",
    "       5:   48 89 e5                mov    %rsp,%rbp\n",
    "       8:   90                      nop\n",
    "       9:   5d                      pop    %rbp\n",
    "       a:   c3                      retq   \n",
    "    \n",
    "            ^                       ^\n",
    "        | bytes in file         | their human-readable meaning in x86-64 machine language\n",
    "        | in hexadecimal        | (not stored in the file; objdump generated this)\n",
    "        | notation"
   ]
  },
  {
   "cell_type": "markdown",
   "id": "e4bbbedc",
   "metadata": {},
   "source": [
    "### <font color = \"red\">Class Introduction Question #1 - What is an Instruction Set and how are they different between computers made by different manufacturers?</font>\n",
    "\n",
    "### <font color = \"red\">Class Introduction Question #2 - What is Assembly Language and why do we describe an assembly language when the instruction set precisely describes what happens in the machine?</font>\n",
    "\n",
    "### <font color = \"red\">Class Introduction Question #3 - What is the purpose of the objdump instruction? And why do MAC users need to perform x86_64-linux-gnu-objdump instead?</font>"
   ]
  },
  {
   "cell_type": "markdown",
   "id": "89802a06",
   "metadata": {},
   "source": [
    "### The next reading for this lecture is <a href = \"https://github.com/mmorri22/cse20133/blob/main/readings/lec26/Reading%2026-2.ipynb\">Reading 26-2 - Generating Assembly Code</a>"
   ]
  }
 ],
 "metadata": {
  "kernelspec": {
   "display_name": "Python 3 (ipykernel)",
   "language": "python",
   "name": "python3"
  },
  "language_info": {
   "codemirror_mode": {
    "name": "ipython",
    "version": 3
   },
   "file_extension": ".py",
   "mimetype": "text/x-python",
   "name": "python",
   "nbconvert_exporter": "python",
   "pygments_lexer": "ipython3",
   "version": "3.9.13"
  }
 },
 "nbformat": 4,
 "nbformat_minor": 5
}
