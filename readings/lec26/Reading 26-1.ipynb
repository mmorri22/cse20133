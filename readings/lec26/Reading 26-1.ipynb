{
 "cells": [
  {
   "cell_type": "markdown",
   "id": "eebd5727",
   "metadata": {},
   "source": [
    "## Reading 26-1 - Assembly Language\n",
    "\n",
    "The only place where a computer can store information is memory. It's up to the systems software and the programs that the computer runs to decide what these bytes actually mean. They could be program code, data (integers, strings, images, etc.), or \"meta-data\" used to build more complex data structures from simple memory boxes. Understanding how complex programs boil down to bytes will help you debug your program, and will make you appreciate why they behave the way they do."
   ]
  },
  {
   "cell_type": "markdown",
   "id": "915322b9",
   "metadata": {},
   "source": [
    "## Motivation\n",
    "\n",
    "We've now arrived at the end of our introduction to C programming. The rest of the course will mostly look at higher-level concepts built atop the understanding we have developed. But before the look at higher levels, we will briefly pull back the covers and see what happens at the level below C to make your programs run.\n",
    "\n",
    "    --- | Web sites, Google, Facebook, ChatGPT, etc.\n",
    "     C  |-------------------------\n",
    "     S  | Parallel programming    <-- block 4\n",
    "     E  |-------------------------\n",
    "     2  | C++ | Operating systems <-- block 3\n",
    "     0  |-------------------------\n",
    "     1  | C programming language  <-- block 1 - we discussed this so far\n",
    "     3  |-------------------------\n",
    "     3  | Assembly language       <-- block 2- we will briefly cover this\n",
    "    --- |-------------------------------------------\n",
    "        | Hardware (chips)        <-- Prof. Morrison's Digital Integrated Circuits course\n",
    "\n",
    "Now that you understand the C language and memory representations of data, you may wonder about the \"magic\" hexadecimal bytes that the compiler outputs to make your computer's processor do things like adding numbers. How does the compiler choose these bytes, and what bytes are valid?\n",
    "\n",
    "Each computer architecture (such as x86-64, which most modern computers use and we're considering in this course) has an <b>instruction set</b> specified by the manufacturer in order to optimize their operations based on their specific needs or intellectual property.\n",
    "\n",
    "The instruction set, first and foremost, defines what sequences of bytes <b>trigger specific behavior in the processor</b> (e.g., adding numbers, comparing them for equality, or loading data from memory). \n",
    "\n",
    "But hexadecimal bytes are hard for humans to read, so the instruction set also comes with a human-readable <b>assembly language</b> that consists of short, mnemonic instructions that correspond directly to a byte encoding (i.e., each of these instructions corresponds to a specific, unique set of hexadecimal bytes)."
   ]
  },
  {
   "cell_type": "markdown",
   "id": "fdcce68f",
   "metadata": {},
   "source": [
    "## Interpreting Bytes In Memory\n",
    "\n",
    "We will build this up from first principles. Let's start with <a href = \"https://github.com/mmorri22/cse20133/blob/main/readings/lec26/add.c\">add.c</a>, which is a C program that serves a simple purpose: it reads numbers from the command line and adds them. \n",
    "\n",
    "Let's disect the code, and you'll get immersed in the basic structure of a C program, as well as seeing the crucial <code>add()</code> function that we'll use to explore how programs are just bytes in memory.\n",
    "\n",
    "    #include <stdio.h>\n",
    "    #include <stdlib.h>\n",
    "\n",
    "    int sum(int a, int b);\n",
    "\n",
    "    int main( const int argc, const char* argv[] ){\n",
    "\n",
    "        if( argc != 3 ){\n",
    "            return EXIT_FAILURE;\n",
    "        }\n",
    "\n",
    "        int first_val = atoi( argv[1] );\n",
    "        int second_val = atoi( argv[2] );\n",
    "\n",
    "        fprintf( stdout, \"%d + %d = %d\\n\", first_val, second_val, sum(first_val, second_val) );\n",
    "\n",
    "        return EXIT_SUCCESS;\n",
    "    }\n",
    "\n",
    "    int sum(int a, int b){\n",
    "        return a+b;\n",
    "    }"
   ]
  },
  {
   "cell_type": "markdown",
   "id": "669e3dc0",
   "metadata": {},
   "source": [
    "## Programs are just bytes!\n",
    "\n",
    "We can look at the contents of <code>add.o</code> using a tool called <b>objdump</b>. \n",
    "    \n",
    "    mkdir reading26\n",
    "    cd reading26\n",
    "    wget https://raw.githubusercontent.com/mmorri22/cse20133/main/readings/lec26/add.c\n",
    "    gcc -c add.c\n",
    "    \n",
    "## Object Dump\n",
    "\n",
    "If you are using a Windows Machine or Linux, perform the following instruction:\n",
    "\n",
    "    objdump -d add.o \n",
    "\n",
    "If you are using a Mac, perform the following instruction:\n",
    "\n",
    "    x86_64-linux-gnu-objdump -d add.o \n",
    "    \n",
    "The <code>objdump</code> prints two things below the <add> line: on the left, the bytes in the file in hexadecimal notation (8d 04 37 c3), and on the right, a human-readable version of what these bytes mean in computer machine language (specifically, in a language called \"x86-64 assembly\", which is the language my laptop's Intel processor understands).\n",
    "    \n",
    "> The full output is available at <a href = \"https://github.com/mmorri22/cse20133/blob/main/readings/lec26/add_objdump.txt\">add_objdump.txt</a>\n",
    "\n",
    "When executed in the VS Code Ubuntu environment, we get the following for the <b>sum function</b>:\n",
    "    \n",
    "    0000000000000088 <sum>:\n",
    "    88:   f3 0f 1e fa             endbr64 \n",
    "    8c:   55                      push   %rbp\n",
    "    8d:   48 89 e5                mov    %rsp,%rbp\n",
    "    90:   89 7d fc                mov    %edi,-0x4(%rbp)\n",
    "    93:   89 75 f8                mov    %esi,-0x8(%rbp)\n",
    "    96:   8b 55 fc                mov    -0x4(%rbp),%edx\n",
    "    99:   8b 45 f8                mov    -0x8(%rbp),%eax\n",
    "    9c:   01 d0                   add    %edx,%eax\n",
    "    9e:   5d                      pop    %rbp\n",
    "    9f:   c3                      retq   \n",
    "    \n",
    "          ^                       ^\n",
    "    | bytes in file         | their human-readable meaning in x86-64 machine language\n",
    "    | in hexadecimal        | (not stored in the file; objdump generated this)\n",
    "    | notation\n",
    "    \n",
    "> <b>On the difference between Windows and Mac</b> - If you are using a Mac, and you try running <code>objdump</code>, you will get the following error:<p>\n",
    "> <code>trap1:     file format elf64-little</code><br>\n",
    "> <code>objdump: can't disassemble for architecture UNKNOWN!</code><p>\n",
    "> This is because the executable we provide is compiled for the x86-64 architecture and contains machine instructions that only x86-64 machines understand, but the computer you’re using only understands ARM64 instructions.<br>"
   ]
  },
  {
   "cell_type": "markdown",
   "id": "0d9522ad",
   "metadata": {},
   "source": [
    "## Generating the Assembly Code\n",
    "\n",
    "> <b>What does the machine language mean?</b>\n",
    "> We don't know machine language yet. But to give you an intution, <code>add</code> means to add integers, and <code>retq</code> tells the processor to return to the calling function.\n",
    "    \n",
    "We can view the assembly language by performing the command:\n",
    "    \n",
    "    gcc add.c -S\n",
    "\n",
    "We will get the output that is generated in <a href = \"https://github.com/mmorri22/cse20133/blob/main/readings/lec26/add.s\"><code>add.s</code></a>, which we will break down over the next several lectures. For now, it is sufficient to know how to generate the assembly code in the Linux terminal."
   ]
  },
  {
   "cell_type": "markdown",
   "id": "e4bbbedc",
   "metadata": {},
   "source": [
    "### <font color = \"red\">Class Introduction Question #1 - What is an Instruction Set and how are they different between computers made by different manufacturers?</font>\n",
    "\n",
    "### <font color = \"red\">Class Introduction Question #2 - What is Assembly Language and why do we describe an assembly language when the instruction set precisely describes what happens in the machine?</font>\n",
    "\n",
    "### <font color = \"red\">Class Introduction Question #3 - What is the purpose of the objdump instruction? And why do MAC users need to perform x86_64-linux-gnu-objdump instead?</font>"
   ]
  }
 ],
 "metadata": {
  "kernelspec": {
   "display_name": "Python 3 (ipykernel)",
   "language": "python",
   "name": "python3"
  },
  "language_info": {
   "codemirror_mode": {
    "name": "ipython",
    "version": 3
   },
   "file_extension": ".py",
   "mimetype": "text/x-python",
   "name": "python",
   "nbconvert_exporter": "python",
   "pygments_lexer": "ipython3",
   "version": "3.9.13"
  }
 },
 "nbformat": 4,
 "nbformat_minor": 5
}
