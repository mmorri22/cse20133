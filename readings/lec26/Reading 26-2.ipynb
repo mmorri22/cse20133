{
 "cells": [
  {
   "cell_type": "markdown",
   "id": "7c2f5835",
   "metadata": {},
   "source": [
    "## Reading 26-2 - Generating Assembly Code"
   ]
  },
  {
   "cell_type": "markdown",
   "id": "ebe85357",
   "metadata": {},
   "source": [
    "###  How to read an assembly file\n",
    "\n",
    "Assembly files can be confusing at first. The two important tricks to reading them are the following:\n",
    "<ol>\n",
    "    <li>Focus only on the instructions that you care about, and initially ignore anything else.</li>\n",
    "    <li>Work backwards from the <b>return</b> statement.</li>\n",
    "</ol>"
   ]
  },
  {
   "cell_type": "markdown",
   "id": "75e905d9",
   "metadata": {},
   "source": [
    "## Revisiting the Void\n",
    "    \n",
    "Let's revisit the <code>objdump</code> from <code>void.c</code> that we generated in <a href = \"https://github.com/mmorri22/cse20133/blob/main/readings/lec26/Reading%2026-1.ipynb\">Reading 26-1</a>.\n",
    "\n",
    "    0000000000000000 <main>:\n",
    "       0:   f3 0f 1e fa             endbr64 \n",
    "       4:   55                      push   %rbp\n",
    "       5:   48 89 e5                mov    %rsp,%rbp\n",
    "       8:   90                      nop\n",
    "       9:   5d                      pop    %rbp\n",
    "       a:   c3                      retq   \n",
    "       \n",
    "Using our second rule, we will work backwards from the <b>return</b> statement, which is <code>retq</code>\n",
    "\n",
    "> The <code>retq</code> instruction <b>pops the return address from the stack</b> into the destination. In this case, it removes the function call from the stack and terminated the program.\n",
    "\n",
    "<code>%rbp</code> stands for Register Base Pointer. This is where we will \n",
    "\n",
    "<code>nop</code> Stands for No Operation. T\n",
    "\n",
    "> <b>Optional Reading</b> - A detailed discussion on why <code>nop</code> instructions appear in assembly code <a href = \"https://www.reddit.com/r/C_Programming/comments/ecr9pp/why_does_gcc_include_nooperation_nop_assembly/?rdt=41649\">on Reddit</a>\n",
    "\n",
    "<code>mov    %rsp, %rbp</code>\n",
    "\n",
    "This moves value of current stack pointer into the base pointer, indicating that now the base of stack is moved to the current stack top.\n",
    "\n",
    "The <code>endbr64</code> is an assembly instruction End branch 64. This provides protection by detecting invalid jumps: The first instruction after making a jump of a call to function must be an endbr64\n",
    "\n",
    "\n",
    "## Breaking it down Step By Step\n",
    "\n",
    "To review, here is what that compiler code is saying:\n",
    "<ol>\n",
    "    <li><code>endbr64         </code> - Provides protection by detecting invalid jumps</li>\n",
    "    <li><code>push   %rbp     </code> - </li>\n",
    "    <li><code>mov    %rsp,%rbp</code> - </li>\n",
    "    <li><code>nop             </code> - </li>\n",
    "    <li><code>pop    %rbp     </code> - </li>\n",
    "    <li><code>retq            </code> - Pops the return address from the stack into the destination</li>     \n",
    "</ol>"
   ]
  },
  {
   "cell_type": "markdown",
   "id": "0c61f173",
   "metadata": {},
   "source": [
    "## Combining Concepts: The -O2 Compiler Flag\n",
    "\n",
    "For the entire semester, I've indicated that we need to include the <code>-O2</code> compiler flag to optimize our program. We can see that benefit even when we run <code>-O2</code> on <code>void.c</code>\n",
    "\n",
    "<code>gcc -O2 -c void.c</code><br>\n",
    "<code>objdump -d void.o</code>\n",
    "\n",
    "Here is the resulting output, which may be found at <a href = \"https://github.com/mmorri22/cse20133/blob/main/readings/lec26/void_objdump_O2.txt\">void_objdump_O2.txt</a>\n",
    "\n",
    "    0000000000000000 <main>:\n",
    "       0:   f3 0f 1e fa             endbr64 \n",
    "       4:   c3                      retq \n",
    "       \n",
    "The previous version gave us 11 bytes, and this version only uses 5. This is a <b>54.54% improvement in instruction memory</b> on the Stack! \n",
    "\n",
    "Furthermore, we only have 2 instructions instead of 6, meaning we get a <b>66% improvement in run time</b>.\n",
    "\n",
    "To review, here is what that compiler code is saying:\n",
    "<ol>\n",
    "    <li><code>endbr64         </code> - Provides protection by detecting invalid jumps</li>\n",
    "    <li><code>retq            </code> - Pops the return address from the stack into the destination</li>     \n",
    "</ol>"
   ]
  },
  {
   "cell_type": "markdown",
   "id": "8db18740",
   "metadata": {},
   "source": [
    "### <font color = \"red\">Class Introduction Question #4 - What are the two important \"tricks\" to reading assembly files?</font>\n",
    "\n",
    "### <font color = \"red\">Class Introduction Question #5 - What do <code>push</code>, <code>mov</code>, and <code>pop</code> mean?</font>\n",
    "\n",
    "### <font color = \"red\">Class Introduction Question #6 - What do <code>retq</code>, <code>endbr64</code>, and <code>nop</code> mean??</font>\n",
    "\n",
    "### <font color = \"red\">Class Introduction Question #7 - What are the registers <code>%rbp</code>, <code>%rsp</code>, and <code>%eax</code>?</font>"
   ]
  },
  {
   "cell_type": "markdown",
   "id": "c343e951",
   "metadata": {},
   "source": [
    "### The next reading for this lecture is <a href = \"https://github.com/mmorri22/cse20133/blob/main/readings/lec26/Reading%2026-3.ipynb\">Reading 26-3 - Performing return 0;</a>"
   ]
  }
 ],
 "metadata": {
  "kernelspec": {
   "display_name": "Python 3 (ipykernel)",
   "language": "python",
   "name": "python3"
  },
  "language_info": {
   "codemirror_mode": {
    "name": "ipython",
    "version": 3
   },
   "file_extension": ".py",
   "mimetype": "text/x-python",
   "name": "python",
   "nbconvert_exporter": "python",
   "pygments_lexer": "ipython3",
   "version": "3.9.13"
  }
 },
 "nbformat": 4,
 "nbformat_minor": 5
}
