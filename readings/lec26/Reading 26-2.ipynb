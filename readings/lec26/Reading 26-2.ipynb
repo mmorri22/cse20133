{
 "cells": [
  {
   "cell_type": "markdown",
   "id": "3d28ffef",
   "metadata": {},
   "source": [
    "## Reading 26-2 - Memory Allocation in C++"
   ]
  },
  {
   "cell_type": "markdown",
   "id": "27363931",
   "metadata": {},
   "source": [
    "Since C++ is an object-oriented programming language, it follows that the C++ designers would want to have an object-oriented approach to Memory Allocation. \n",
    "\n",
    "In C++, you can still use <code>malloc</code> and <code>free</code> as we did in C, but now we can use the keywords <code>new</code> and <code>delete</code> to allocation and free memory in an object-oriented manner.\n",
    "\n",
    "First, we need to include the library <a href = \"https://www.cplusplus.com/reference/cstdlib/\">cstdlib</a>, which is the C++ Standard General Utilities Library. We do not include .h afterwards:\n",
    "\n",
    "    #include <iostream>\n",
    "    #include <cstdlib>"
   ]
  },
  {
   "cell_type": "markdown",
   "id": "57f37967",
   "metadata": {},
   "source": [
    "## malloc vs. new\n",
    "\n",
    "in C, if we wanted to allocate an integer array, we would need to give the number of bytes passed to the malloc function.\n",
    "\n",
    "    int* int_array = (int *)malloc( 10 * sizeof(int) );\n",
    "\n",
    "In C++, we can simply use the <code>new</code> keyword and the <code>[]</code> operator to treat the dynamic array like an object.\n",
    "\n",
    "    int* int_array = new int[10];\n",
    "\n",
    "These are <i>equivalent code statements</i>, but the C++ abstracts the complexity of memory allocation from the user."
   ]
  },
  {
   "cell_type": "markdown",
   "id": "549f6c02",
   "metadata": {},
   "source": [
    "## free vs. delete\n",
    "\n",
    "If we want to free the <i>array</i>, we use the <code>delete</code> keyword, as well as a <code>[] operator to free the array. \n",
    " \n",
    "Deleting an array in C: \n",
    "    \n",
    "    free(int_array);\n",
    "\n",
    "Deleting an array in C++:\n",
    "    \n",
    "    delete [] int_array;\n"
   ]
  },
  {
   "cell_type": "markdown",
   "id": "14ff3763",
   "metadata": {},
   "source": [
    "## Memory Allocation and Free Example\n",
    "\n",
    "Here is an example program <a href = \"https://github.com/mmorri22/cse20133/blob/main/readings/lec26/new_delete.c\">new_delete.c</a> which performs C++ PQC memory allocation using new and delete. After the code segment, we will see an example compilation and a valgrind run.\n",
    "\n",
    "    #include <iostream>\n",
    "    #include <cstdlib>\n",
    "\n",
    "    int main(){\n",
    "\n",
    "        // C++ equivalent of malloc\n",
    "        // C translation: int* int_array = (int *)malloc( 10 * sizeof(int) );\n",
    "        int* int_array = new int[10];\n",
    "\n",
    "        std::cout << &int_array << \" \" << &int_array[0] << std::endl;\n",
    "\n",
    "        for( int iter = 0; iter < 10; ++iter ){\n",
    "\n",
    "            int_array[iter] = iter * 2;\n",
    "\n",
    "            std::cout << int_array[iter] << \" \" << &int_array[iter] << std::endl;\n",
    "\n",
    "        }\n",
    "        std::cout << std::endl;\n",
    "\n",
    "        // C++ equivalent of free \n",
    "        // C translation: free( int_array );\n",
    "        delete [] int_array;\n",
    "\n",
    "        return EXIT_SUCCESS;\n",
    "    }\n",
    "    \n",
    "And here is the output:\n",
    "\n",
    "    > make new_delete\n",
    "    g++ -m64 -std=c++2a -O2 -g -Wall -Wextra -Wconversion -Wshadow -Werror -c new_delete.cpp\n",
    "    g++ -m64 -std=c++2a -O2 -g -Wall -Wextra -Wconversion -Wshadow -Werror -o new_delete new_delete.o -lm\n",
    "    > valgrind --leak-check=full ./new_delete\n",
    "    ==36111== Memcheck, a memory error detector\n",
    "    ==36111== Copyright (C) 2002-2017, and GNU GPL'd, by Julian Seward et al.\n",
    "    ==36111== Using Valgrind-3.15.0 and LibVEX; rerun with -h for copyright info\n",
    "    ==36111== Command: ./new_delete\n",
    "    ==36111== \n",
    "    0x1fff000510 0x4da9c80\n",
    "    0 0x4da9c80\n",
    "    2 0x4da9c84\n",
    "    4 0x4da9c88\n",
    "    6 0x4da9c8c\n",
    "    8 0x4da9c90\n",
    "    10 0x4da9c94\n",
    "    12 0x4da9c98\n",
    "    14 0x4da9c9c\n",
    "    16 0x4da9ca0\n",
    "    18 0x4da9ca4\n",
    "    ==36111== \n",
    "    ==36111== HEAP SUMMARY:\n",
    "    ==36111==     in use at exit: 0 bytes in 0 blocks\n",
    "    ==36111==   total heap usage: 3 allocs, 3 frees, 73,768 bytes allocated\n",
    "    ==36111== \n",
    "    ==36111== All heap blocks were freed -- no leaks are possible\n",
    "    ==36111== \n",
    "    ==36111== For lists of detected and suppressed errors, rerun with: -s\n",
    "    ==36111== ERROR SUMMARY: 0 errors from 0 contexts (suppressed: 0 from 0)"
   ]
  },
  {
   "cell_type": "markdown",
   "id": "dede95e8",
   "metadata": {},
   "source": [
    "### <font color = \"red\">Class Introduction Question #3 - How do we write allocate and free memory in C++, and what are the differences between the procedural (C version) and object-oriented (C++ version) approaches to memory allocation?</font>"
   ]
  },
  {
   "cell_type": "markdown",
   "id": "334d339e",
   "metadata": {},
   "source": [
    "### The final reading for this lecture is <a href = \"https://github.com/mmorri22/cse20133/blob/main/readings/lec26/Reading%2026-3.ipynb\">Reading 26-3 - Call by Reference</a>"
   ]
  }
 ],
 "metadata": {
  "kernelspec": {
   "display_name": "Python 3 (ipykernel)",
   "language": "python",
   "name": "python3"
  },
  "language_info": {
   "codemirror_mode": {
    "name": "ipython",
    "version": 3
   },
   "file_extension": ".py",
   "mimetype": "text/x-python",
   "name": "python",
   "nbconvert_exporter": "python",
   "pygments_lexer": "ipython3",
   "version": "3.9.13"
  }
 },
 "nbformat": 4,
 "nbformat_minor": 5
}
