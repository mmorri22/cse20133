{
 "cells": [
  {
   "cell_type": "markdown",
   "id": "eebd5727",
   "metadata": {},
   "source": [
    "## Reading 25-1 - Doubly Linked Lists Introduction"
   ]
  },
  {
   "cell_type": "markdown",
   "id": "6d686ff9",
   "metadata": {},
   "source": [
    "## Motivation\n",
    "\n",
    "There are a few drawbacks to using Singly Linked Lists, which we will address through the introduction of Doubly Linked Lists.\n",
    "<ol>\n",
    "    <li>We can only access the front element in the Singly Linked List</li>\n",
    "    <li>To insert at the end, we need to iterate all the way through the list</li>\n",
    "    <li>Since the nodes only have next_node pointers, we can only traverse in one direction</li>\n",
    "    <li>We only know the location of the previous node through the use of recursion or excessive pointers</li>\n",
    "</ol>"
   ]
  },
  {
   "cell_type": "markdown",
   "id": "ee6f67ce",
   "metadata": {},
   "source": [
    "## Initializing a Doubly Linked List\n",
    "\n",
    "Since we want the ability to add and remove nodes from the Doubly Linked List, we are going to dynamically allocate memory to the Data Heap. In our first linked list, we will code a homogeneous list of integers. \n",
    "\n",
    "Before we link the register containing the base address with the linked list, we should create a C struct with the base unit of the link list: the linked list node. We will call the the struct <code>dll_node</code>, and the struct will contain\n",
    "<ul>\n",
    "    <li>An integer</li>\n",
    "    <li>A pointer to the next dll_node</li>\n",
    "    <li>A pointer to the previous dll_node</li>\n",
    "</ul>"
   ]
  },
  {
   "cell_type": "markdown",
   "id": "229a500a",
   "metadata": {},
   "source": [
    "    typedef struct dll_node{\n",
    "\n",
    "        int data;\n",
    "        struct dll_node* prev;\n",
    "        struct dll_node* next;\n",
    "\n",
    "    }dll_node;"
   ]
  },
  {
   "cell_type": "markdown",
   "id": "84a257ea",
   "metadata": {},
   "source": [
    "## Encapsulating the Doubly Linked List\n",
    "\n",
    "We will encapsulate the Double Linked List by using a pointer to point to an initial <b>head pointer</b> as well as a <b>tail pointer</b> that will point to the last node in the Double Linked List. We are designing the Doubly Linked List this way for two reasons:\n",
    "<ul>\n",
    "    <li>So we can <b>point at an initially empty list</b></li>\n",
    "    <li>So we can <b>update the list</b> in the event we want to <b>delete the first node</b> or we want to <b>delete the last node</b></li>\n",
    "</ul>\n",
    "\n",
    "We will create a struct <code>dllist</code> that contains a dll_node pointer - just like we did with singly linked lists - which we will call <code>head_node</code>, as well as another pointer we will call <code>tail_node</code>\n",
    "\n",
    "\n",
    "    typedef struct dll_node{\n",
    "\n",
    "        int data;\n",
    "        struct dll_node* prev;\n",
    "        struct dll_node* next;\n",
    "\n",
    "    }dll_node;\n",
    "\n",
    "\n",
    "    typedef struct dllist{\n",
    "\n",
    "        struct dll_node* head_node;\n",
    "        struct dll_node* tail_node;\n",
    "\n",
    "    }dllist;"
   ]
  },
  {
   "cell_type": "markdown",
   "id": "869cd27e",
   "metadata": {},
   "source": [
    "Here is a code example, and how the memory is laid out after executing that code.\n",
    "\n",
    "    dllist* constructor(){\n",
    "\n",
    "        dllist* the_list = (dllist *)malloc( sizeof( dllist ) );\n",
    "        the_list->head_node = NULL;\n",
    "        the_list->tail_node = NULL;\n",
    "\n",
    "    }\n",
    "\n",
    "<img src = \"https://github.com/mmorri22/cse20133/blob/main/readings/lec25/25-1-1.jpg?raw=true\" width=400 height=400></img>\n",
    "    \n",
    "And then freeing the list node using free. But we need to delete all the elements in the Doubly Linked List, as we will see in Reading 24-2.\n",
    "\n",
    "    void destructor( dllist* delete_list ){\n",
    "\n",
    "        free( delete_list );\n",
    "\n",
    "    }"
   ]
  },
  {
   "cell_type": "markdown",
   "id": "e4bbbedc",
   "metadata": {},
   "source": [
    "### <font color = \"red\">Class Introduction Question #1 - What are some drawbacks to using singly linked lists, and how do doubly linked lists address those drawbacks?</a>\n",
    "\n",
    "### <font color = \"red\">Class Introduction Question #2 - Describe how we create a doubly linked list node, as well as encapsulate a doubly linked list. Describe each element in these code definitions below:</a>\n",
    "\n",
    "    typedef struct dll_node{\n",
    "\n",
    "        int data;\n",
    "        struct dll_node* prev;\n",
    "        struct dll_node* next;\n",
    "\n",
    "    }dll_node;\n",
    "\n",
    "\n",
    "    typedef struct dllist{\n",
    "\n",
    "        struct dll_node* head_node;\n",
    "        struct dll_node* tail_node;\n",
    "\n",
    "    }dllist;"
   ]
  },
  {
   "cell_type": "markdown",
   "id": "b1382152",
   "metadata": {},
   "source": [
    "### The next reading for this lecture is <a href = \"https://github.com/mmorri22/cse20133/blob/main/readings/lec25/Reading%2025-2.ipynb\">Reading 25-2 - Inserting into the Front of a Doubly Linked List</a>"
   ]
  }
 ],
 "metadata": {
  "kernelspec": {
   "display_name": "Python 3 (ipykernel)",
   "language": "python",
   "name": "python3"
  },
  "language_info": {
   "codemirror_mode": {
    "name": "ipython",
    "version": 3
   },
   "file_extension": ".py",
   "mimetype": "text/x-python",
   "name": "python",
   "nbconvert_exporter": "python",
   "pygments_lexer": "ipython3",
   "version": "3.9.13"
  }
 },
 "nbformat": 4,
 "nbformat_minor": 5
}
