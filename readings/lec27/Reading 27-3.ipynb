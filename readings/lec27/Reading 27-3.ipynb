{
 "cells": [
  {
   "cell_type": "markdown",
   "id": "44151185",
   "metadata": {},
   "source": [
    "## Reading 27-3 - C++ Unordered Map Operations"
   ]
  },
  {
   "cell_type": "markdown",
   "id": "13ffbbc5",
   "metadata": {},
   "source": [
    "### Introduction to Hashing\n",
    "\n",
    "So far, we've looked at a few data structures for efficiently searching for the existence of items within the data structure. \n",
    "\n",
    "However, they require extensive sorting operations, like we learned about in using Insertion Sort.\n",
    "\n",
    "What if, instead of <i>sorting</i>, we <i>associate</i> the location in the array with a value?\n",
    "\n",
    "For example, let's consider a problem where we want to calculate the count of each character in a text file, like the entire works of Shakespear. We want to track of the number of each character. An example for this array would be:\n",
    "\n",
    "For aababcbdcba:\n",
    "\n",
    "    Index   Key   Value\n",
    "\n",
    "    0       a     4\n",
    "    1       b     4\n",
    "    2       c     2\n",
    "    3       d     1\n",
    "    \n",
    "So we could just create an array of 26 integers, keep track of the count by<b> associating the character with the index</b>, and then incrementing the value at the index in the array as we encounter another character.\n",
    "\n",
    "This is known as an <b>associative array</b>. We call the input to the association a <b>key</b>, and we call the data at the location the value. The function correlating the key and the value is known as a Hash Function. Therefore, associative arrays are commonly known as Hash Tables.\n",
    "\n",
    "### Unorder Map\n",
    "\n",
    "The C++ Standard Template Library implements a linear probe Hash Table using the <code><a href = \"https://www.cplusplus.com/reference/unordered_map/unordered_map/\">std::unordered_map</a></code> library. \n",
    "\n",
    "The unordered map takes in two generic types, with the first type being the <code>key</code>, and the second being the <code>value</code>:\n",
    "\n",
    "    std::unordered_map< char, int > alphabet_hash;\n",
    "\n",
    "To insert a key-value pair, we use the insert method. For example, if we want to insert { a, 1 }, we would use the same { } notation to initialize a <code>std::pair</code> using <code>{ key, value }</code>\"\n",
    "\n",
    "    alphabet_hash.insert( {'a', 1} );\n",
    "    \n",
    "To determine if the element is in the hash, we use the function count, and check if it does not equal 0. For example:\n",
    "\n",
    "    if( alphabet_hash.count( 'a' ) != 0 )\n",
    "\n",
    "And if we want to get the value using a specific key, we use the <code>[]</code> operator, just like an array! And we can do this because the key maps to the index of the associative array!\n",
    "\n",
    "    std::cout << palindrome_hash[ 'a' ] << std::endl;"
   ]
  },
  {
   "cell_type": "code",
   "execution_count": null,
   "id": "494ff13e",
   "metadata": {},
   "outputs": [],
   "source": []
  }
 ],
 "metadata": {
  "kernelspec": {
   "display_name": "Python 3 (ipykernel)",
   "language": "python",
   "name": "python3"
  },
  "language_info": {
   "codemirror_mode": {
    "name": "ipython",
    "version": 3
   },
   "file_extension": ".py",
   "mimetype": "text/x-python",
   "name": "python",
   "nbconvert_exporter": "python",
   "pygments_lexer": "ipython3",
   "version": "3.9.13"
  }
 },
 "nbformat": 4,
 "nbformat_minor": 5
}
