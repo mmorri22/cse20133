{
 "cells": [
  {
   "cell_type": "markdown",
   "id": "7e908d26",
   "metadata": {},
   "source": [
    "## Reading 26-3 - Basic Examples of Each Instruction Type\n",
    "\n",
    "In class, we will break down the critical RISC-V instructions and convert C code into RISC assembly instructions. In this section, we will learn one of each instruction to combine concepts:"
   ]
  },
  {
   "cell_type": "markdown",
   "id": "704d2eeb",
   "metadata": {},
   "source": [
    "## R-Type Example\n",
    "\n",
    "C Code : <code>int c = a + b;</code>\n",
    "\n",
    "RISC-V Assembly: <code>add $rd $rs $rt</code>\n",
    "\n",
    "> What this means: Add the values in <code>\\$rs</code> and <code>\\$rt</code> and store the result in <code>\\$rd</code>\n",
    "    \n",
    "> How this translates: <code>\\$rs</code> is a, <code>\\$rt</code> is b, and <code>\\$rd</code> is c\n",
    "\n",
    "RISC-V Machine Instruction"
   ]
  },
  {
   "cell_type": "code",
   "execution_count": null,
   "id": "62f75305",
   "metadata": {},
   "outputs": [],
   "source": []
  }
 ],
 "metadata": {
  "kernelspec": {
   "display_name": "Python 3 (ipykernel)",
   "language": "python",
   "name": "python3"
  },
  "language_info": {
   "codemirror_mode": {
    "name": "ipython",
    "version": 3
   },
   "file_extension": ".py",
   "mimetype": "text/x-python",
   "name": "python",
   "nbconvert_exporter": "python",
   "pygments_lexer": "ipython3",
   "version": "3.9.13"
  }
 },
 "nbformat": 4,
 "nbformat_minor": 5
}
