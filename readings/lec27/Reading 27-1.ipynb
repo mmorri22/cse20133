{
 "cells": [
  {
   "cell_type": "markdown",
   "id": "f42660ef",
   "metadata": {},
   "source": [
    "## Reading 27-1 - C++ Function Templates"
   ]
  },
  {
   "cell_type": "markdown",
   "id": "d2f42b4a",
   "metadata": {},
   "source": [
    "In object-oriented programming, we often want to accomplish similar tasks for different types of data. \n",
    "\n",
    "For example, let's say we want to write a max function that compares two different values and returns the maximum of the two values. In C, we would need to write a max function for every single data type we encounter.\n",
    "\n",
    "    float    max ( const float a, const float b );\n",
    "    int      max ( const int a, const int b );\n",
    "    Rational max ( const Rational& a, const Rational& b);\n",
    "    myType   max ( const myType& a, const myType& b);\n",
    "    \n",
    "However, the internal code for each looks the same!\n",
    "\n",
    "    if ( a < b )\n",
    "       return b;\n",
    "    else\n",
    "       return a;\n",
    "       \n",
    "This is because the algorithm itself is <b>independent of data type</b>."
   ]
  },
  {
   "cell_type": "markdown",
   "id": "d58451d4",
   "metadata": {},
   "source": [
    "### Templates\n",
    "\n",
    "The overloaded function approach may be cumbersome for your project, and we can use OOP to find a better way! \n",
    "\n",
    "In C++ we can use a <i>generic type</i> known as a <b>template</b> to reduce the complexity by passing the data type as a variable to the function! \n",
    "\n",
    "Here is an example format:\n",
    "\n",
    "> T is called the type parameter and can have any legal identifier name.\n",
    "\n",
    "      template <class T>\n",
    "      T max (const T& a, const T& b)\n",
    "      {\n",
    "           if ( a < b )\n",
    "                return b;\n",
    "           else\n",
    "                return a;\n",
    "      }\n",
    "      \n",
    "When we call this code in main, we only need to be sure that the types for the inputs are the same, since the generic type T is identical for both inputs. \n",
    "\n",
    "When we start designing C++ classes, we will see the benefits of templates and generic types to reduce the complexity of our programs.\n",
    "\n",
    "    int main(){\n",
    "\n",
    "        int int_1 = 1, int_2 = 2;\n",
    "        double double_1 = 1.1, double_2 = -2.2;\n",
    "        float float_1 = (float)3.3, float_2 = (float)4.4;\n",
    "\n",
    "        std::cout << max( int_1, int_2 ) << std::endl;\n",
    "        std::cout << max( double_1, double_2 ) << std::endl;\n",
    "        std::cout << max( float_1, float_2) << std::endl;\n",
    "\n",
    "        return EXIT_SUCCESS;\n",
    "    }\n",
    "    \n",
    "Here is a compilation and run for the template example, which may be found at <a href = \"https://github.com/mmorri22/cse20133/blob/main/readings/lec27/template.cpp\">template.cpp</a>:\n",
    "\n",
    "    > make template \n",
    "    g++ -m64 -std=c++2a -Weffc++ -O2 -g -Wall -Wextra -Wconversion -Wshadow -Werror -lm -c template.cpp\n",
    "    g++ -m64 -std=c++2a -Weffc++ -O2 -g -Wall -Wextra -Wconversion -Wshadow -Werror -lm -o template template.o \n",
    "    > ./template \n",
    "    2 \n",
    "    1.1 \n",
    "    4.4 "
   ]
  },
  {
   "cell_type": "markdown",
   "id": "0fc7788e",
   "metadata": {},
   "source": [
    "### <font color = \"red\">Class Introduction Question #1 - What is a C++ template, and how do we use C++ templates to reduce the complexity of writing programs?</a>\n",
    "\n",
    "###  <font color = \"red\">Class Introduction Question #2 - Describe a simple C++ function declaration using templates to add two numbers and return a result</a>"
   ]
  },
  {
   "cell_type": "markdown",
   "id": "8b202a99",
   "metadata": {},
   "source": [
    "### The next reading for this lecture is <a href = \"https://github.com/mmorri22/cse20133/blob/main/readings/lec27/Reading%2027-2.ipynb\">Reading 27-2 - Memory Allocation in C++</a>"
   ]
  }
 ],
 "metadata": {
  "kernelspec": {
   "display_name": "Python 3 (ipykernel)",
   "language": "python",
   "name": "python3"
  },
  "language_info": {
   "codemirror_mode": {
    "name": "ipython",
    "version": 3
   },
   "file_extension": ".py",
   "mimetype": "text/x-python",
   "name": "python",
   "nbconvert_exporter": "python",
   "pygments_lexer": "ipython3",
   "version": "3.9.13"
  }
 },
 "nbformat": 4,
 "nbformat_minor": 5
}
