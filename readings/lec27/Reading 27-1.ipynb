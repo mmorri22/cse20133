{
 "cells": [
  {
   "cell_type": "markdown",
   "id": "169ddf09",
   "metadata": {},
   "source": [
    "## Reading 27-1 - Object Oriented Programming and C++ \"Hello, World\""
   ]
  },
  {
   "cell_type": "markdown",
   "id": "a2a03897",
   "metadata": {},
   "source": [
    "### Motivation for Object Oriented Programming\n",
    "\n",
    "The world is full of different types of <b>objects</b>. Consider this example: We have a computer, glass of water, desk, and pencils. What happens if I spill the water on the computer? What about the pencils? The computer will react in two completely different ways! \n",
    "\n",
    "In a procedural programming language like C, we would need to write every possible outcome in functions and pass them by reference. \n",
    "\n",
    "One of the major goals for <b>Object Oriented Programming (OOP)</b> is that we <b>define object methods</b> in order to write programs where these objects <b>interact in unanticipated ways</b>, since we models how the objects <i>react</i>.\n",
    "\n",
    "Invoking this behavior in OOP is known as <b>message passing</b>. For our example above, we would have a method (C++ function) that accounts for the <b>properties</b> of the objects, and <b>emulate</b>s how they would interact with the computer. "
   ]
  },
  {
   "cell_type": "markdown",
   "id": "959f6934",
   "metadata": {},
   "source": [
    "## Compiling C++ Programs\n",
    "\n",
    "Despite its similarity to C, C++ is a separate programming language with its own compilers and tools. We will still use <i>most</i> of the C compiler flags that we have used up to this point. \n",
    "\n",
    "> We note here that the C programming language is a <i>subset</i> of C++, so any code that compiles in C will compile in C++ as well.\n",
    "\n",
    "Remove <code>gcc</code> and replace with <code>g++</code>: The <code>g++</code> compiler flag allows us to use C++ Standard Libraries\n",
    "\n",
    "Replace <code>-std=c2x</code> with <code>-std=c++2a</code>: The C++ Standard is constantly evolving, and we will use the library for the C++ Standard.\n",
    "\n",
    "The <code>-m64</code> flag will be used to ensure we are using the full 64-bit architecture.\n",
    "\n",
    "Here is an example of a Makefile using the PQC rules we will implement for the rest of this course (and is available at the link: <a href = \"https://github.com/mmorri22/cse20133/blob/main/readings/lec27/Makefile\">Makefile</a>\n",
    "\n",
    "\n",
    "    # G++ is for the GCC compiler for C++\n",
    "    PP := g++\n",
    "\n",
    "    # CFLAGS are the compiler flages for when we compile C++ code in this course\n",
    "    FLAGS := -O2 -g -Wall -Wextra -Wconversion -Wshadow -Werror\n",
    "    CXXFLAGS := -m64 -std=c++2a $(FLAGS)\n",
    "\n",
    "\n",
    "    # C++ Hello, World Example\n",
    "    # Command: make hello_cpp\n",
    "    hello_cpp.o: hello_cpp.cpp\n",
    "        $(PP) $(CXXFLAGS) -c hello_cpp.cpp\n",
    "\n",
    "    hello_cpp_objs := hello_cpp.o\n",
    "\n",
    "    hello_cpp: $(hello_cpp_objs)\n",
    "        $(PP) $(CXXFLAGS) -o hello_cpp $(hello_cpp_objs) -lm\n",
    "\n",
    "    executable_names := hello_cpp\n",
    "\n",
    "    # Make clean\n",
    "    clean :\n",
    "        rm -rf *.o $(executable_names)"
   ]
  },
  {
   "cell_type": "markdown",
   "id": "e6f983df",
   "metadata": {},
   "source": [
    "## Hello, World in C++\n",
    "\n",
    "We will implement Hello, World in C++ using the <a href = \"https://cplusplus.com/reference/iostream/\">iostream</a> library. \n",
    "\n",
    "> The <code>iostream</code> library extends upon the stdio.h library in C by treating inputs to the stream as <b>objects</b>. This means that, instead of having to code an output specifier like we had to do in C, the C++ compiler will <i>abstract</i> specification for the programmer! \n",
    "\n",
    "To write to the standard output, we will use <code>std::cout</code> and the <code><<</code> operator between each variable. We can also include the end-of-line character by using <code>std::endl;</code>\n",
    "\n",
    "The code in <a href = \"https://github.com/mmorri22/cse20133/blob/main/readings/lec27/hello_cpp.cpp\">hello_cpp.cpp</a> example. We create an integer <code>x</code>, and then printed a message, the address of <code>x</code>, and the value of <code>x</code> to the <code>std::cout</code> output. \n",
    "    \n",
    "> Notice how we do not need to include %p or %d anymore. This is because we treat the inputs like objects, and the C++ compiler does the rest of the work for us. (The code is available at hello_cpp.cpp\n",
    "\n",
    "    #include <iostream>\n",
    "\n",
    "    int main(){\n",
    "\n",
    "        int x = 5;\n",
    "\n",
    "        std::cout << \"Hello, World! \" << std::endl;\n",
    "        std::cout << \"Address of x is \" << &x << \", and the value is \" << x << std::endl;\n",
    "\n",
    "        return EXIT_SUCCESS;\n",
    "    }\n",
    "    \n",
    "And here is a sample compilation run using the Makefile example shown above:\n",
    "\n",
    "    > make hello_cpp\n",
    "    g++ -m64 -std=c++2a -O2 -g -Wall -Wextra -Wconversion -Wshadow -Werror -c hello_cpp.cpp\n",
    "    g++ -m64 -std=c++2a -O2 -g -Wall -Wextra -Wconversion -Wshadow -Werror -o hello_cpp hello_cpp.o -lm\n",
    "    > ./hello_cpp\n",
    "    Hello, World! \n",
    "    Address of x is 0x7fff06d36844, and the value is 5"
   ]
  },
  {
   "cell_type": "markdown",
   "id": "663ed508",
   "metadata": {},
   "source": [
    "### <font color = \"red\">Class Introduction Question #1 - Describe Object-Oriented Programming.</a>\n",
    "\n",
    "### <font color = \"red\">Class Introduction Question #2 - Describe how we print to the output using objects in C++</a>"
   ]
  },
  {
   "cell_type": "markdown",
   "id": "356f5764",
   "metadata": {},
   "source": [
    "### The next reading for this lecture is <a href = \"https://github.com/mmorri22/cse20133/blob/main/readings/lec27/Reading%2027-2.ipynb\">Reading 27-2 - Memory Allocation in C++</a>"
   ]
  },
  {
   "cell_type": "code",
   "execution_count": null,
   "id": "f482ccb7",
   "metadata": {},
   "outputs": [],
   "source": []
  }
 ],
 "metadata": {
  "kernelspec": {
   "display_name": "Python 3 (ipykernel)",
   "language": "python",
   "name": "python3"
  },
  "language_info": {
   "codemirror_mode": {
    "name": "ipython",
    "version": 3
   },
   "file_extension": ".py",
   "mimetype": "text/x-python",
   "name": "python",
   "nbconvert_exporter": "python",
   "pygments_lexer": "ipython3",
   "version": "3.9.13"
  }
 },
 "nbformat": 4,
 "nbformat_minor": 5
}
