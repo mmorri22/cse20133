{
 "cells": [
  {
   "cell_type": "markdown",
   "id": "eebd5727",
   "metadata": {},
   "source": [
    "## Reading 26-1 - History and Motivation of Assembly Language"
   ]
  },
  {
   "cell_type": "markdown",
   "id": "915322b9",
   "metadata": {},
   "source": [
    "We've now arrived at the end of our introduction to C programming. The rest of the course will mostly look at higher-level concepts built atop the understanding we have developed.\n",
    "\n",
    "But before the look at higher levels that we will use C++ to investigate, we will briefly pull back the covers and see what happens <b>at the level below</b> C to make your programs run.\n",
    "\n",
    "Understanding how complex programs boil down to bytes will help you debug your program, and will make you appreciate why they behave the way they do.\n",
    "\n",
    "    --- | Web sites, Google, Facebook, ChatGPT, etc.\n",
    "     C  |-------------------------\n",
    "     S  | Parallel programming    <-- block 4\n",
    "     E  |-------------------------\n",
    "     2  | C++ | Operating systems <-- block 3\n",
    "     0  |-------------------------\n",
    "     1  | C programming language  <-- block 1 - we discussed this so far\n",
    "     3  |-------------------------\n",
    "     3  | Assembly language       <-- block 2 - we will briefly cover this, and the CSE 20221 Logic Design course\n",
    "    --- |-------------------------------------------\n",
    "        | Hardware (chips)        <-- Prof. Morrison's Digital Integrated Circuits course\n",
    "\n",
    "> The Electrical Engineers will take the CSE 20221 Logic Design course, where understanding of memory operations, assembly language, and instruction sets is crucial for success in that course. So part of my motivation for introducing assembly language now is to set you up for success in future coursework."
   ]
  },
  {
   "cell_type": "markdown",
   "id": "3480aa2f",
   "metadata": {},
   "source": [
    "## Justification for Digging into the Assembly\n",
    "\n",
    "I've included this quote from the introduction to \"<a href = \"https://www.amazon.com/Programming-Ground-Up-Jonathan-Bartlett/dp/1616100648\">Programming from the Ground Up</a>\" by Jonathan Bartlett\n",
    "\n",
    "> I've found that the key difference between mediocre and excellent programmers is whether or not they know assembly language. <b>Those that do tend to understand computers themselves at a much deeper level</b>. Although [almost!] unheard of today, this concept isn't really all that new -- there used to not be much choice in years past. Apple computers came with only BASIC and assembly language, and there were books available on assembly language for kids. <b>This is why the old-timers are often viewed as 'wizards': they had to know assembly language proramming.</b>"
   ]
  },
  {
   "attachments": {},
   "cell_type": "markdown",
   "id": "b894cc14",
   "metadata": {},
   "source": [
    "## Assembly Language and the Moon\n",
    "\n",
    "The image below is of Margaret Hamilton, who led the design of the <a href = \"https://en.wikipedia.org/wiki/Margaret_Hamilton_(software_engineer)\">Apollo Guidance Computer Command Module</a>. She is standing next to a print out of the assembly code that was used to get the Apollo 11 astronauts to the Moon.\n",
    "\n",
    "> You will be happy to know that we will not write anywhere near this much assembly code in this class. The code was recently <a href = \"https://github.com/chrislgarry/Apollo-11\">posted to GitHub</a>.\n",
    "\n",
    "![](https://now.org/wp-content/uploads/2016/06/Margaret_Hamilton.gif)\n"
   ]
  },
  {
   "cell_type": "markdown",
   "id": "5b3fcbfd",
   "metadata": {},
   "source": [
    "## Defining Assembly Languages and Instruction Sets\n",
    "\n",
    "The basic job of a CPU is to execute lots of instructions. Instructions are the primitive operations that a computer can perform.\n",
    "\n",
    "> Like a sentence: operations (verbs) applied to operands (objects), processed in sequence …\n",
    "\n",
    "A <b>machine instruction</b> is the binary representation of the operations performed by the machine.\n",
    "\n",
    "An <b>assembly language</b> is a symbolic representation of machine instructions\n",
    "\n",
    "Here is an example:\n",
    "\n",
    "    Assembly Language:  add $s2 $s1 $s3\n",
    "    Machine Language :  00000010010100011001100000010000\n",
    "    \n",
    "    What this means: Add the values in registers $s1 and $s3, and store the result in the register with the address $s2.\n",
    "\n",
    "An <b>Instruction Set Architecture</b> is a set of mnenomic assembly language instructions that provides a link between software and hardware. \n",
    "\n",
    "> The ISA is the set of all <i>possible</i> instructions for that specific computer architecture. These instructions are different for each different type of computer, since each type of has different physical approaches to performing computing tasks.\n",
    "\n",
    "In order to design an effective ISA, the following design principles are used:\n",
    "<ol>\n",
    "    <li>Simplicity favors regularity.</li> \n",
    "    <li>Smaller is faster.</li> \n",
    "    <li>Make the common case fast.</li>  \n",
    "    <li>Good design demands good compromises.</li> \n",
    "</ol>"
   ]
  },
  {
   "cell_type": "markdown",
   "id": "e4bbbedc",
   "metadata": {},
   "source": [
    "### <font color = \"red\">Class Introduction Question #1 - What is Assembly Language and why do we describe an assembly language when the instruction set precisely describes what happens in the machine?</font>\n",
    "\n",
    "### <font color = \"red\">Class Introduction Question #2 - What is an Instruction Set Architecture, and how are they different between computers made by different manufacturers?</font>\n",
    "\n",
    "### <font color = \"red\">Class Introduction Question #3 - What are the four design principles of an ISA?</font>"
   ]
  },
  {
   "cell_type": "markdown",
   "id": "89802a06",
   "metadata": {},
   "source": [
    "### The next reading for this lecture is <a href = \"https://github.com/mmorri22/cse20133/blob/main/readings/lec26/Reading%2026-2.ipynb\">Reading 26-2 - Introduction to the RISC-V ISA</a>"
   ]
  }
 ],
 "metadata": {
  "kernelspec": {
   "display_name": "Python 3 (ipykernel)",
   "language": "python",
   "name": "python3"
  },
  "language_info": {
   "codemirror_mode": {
    "name": "ipython",
    "version": 3
   },
   "file_extension": ".py",
   "mimetype": "text/x-python",
   "name": "python",
   "nbconvert_exporter": "python",
   "pygments_lexer": "ipython3",
   "version": "3.9.13"
  }
 },
 "nbformat": 4,
 "nbformat_minor": 5
}
