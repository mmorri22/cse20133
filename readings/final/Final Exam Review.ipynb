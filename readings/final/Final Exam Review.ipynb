{
 "cells": [
  {
   "cell_type": "markdown",
   "id": "eebd5727",
   "metadata": {},
   "source": [
    "# Final Exam Review"
   ]
  },
  {
   "cell_type": "markdown",
   "id": "6d686ff9",
   "metadata": {},
   "source": [
    "## Course Objectives Covered on this Exam\n",
    "\n",
    "I have included a copy of the Course Overview and Objectives here. The portions of the Course Overview and Objectives that will be covered on this exam are highlighted and bolded in red.\n",
    "     \n",
    "This course introduces students to <font color = \"red\"><b>computational thinking</b></font>, and develops their ability to solve engineering problems in software. Students will learn <font color = \"red\"><b>structured programming</b></font>, <font color = \"red\"><b>algorithm analysis and development</b></font>, <font color = \"red\"><b>C syntax and semantics</b></font>, <font color = \"red\"><b>logical and syntactical debugging</b></font>, and <font color = \"red\"><b>software engineering fundamentals</b></font>. Students will engage in practical, hands-on programming exercises both inside and outside of class.\n",
    "     \n",
    "## How the Exam will be Given\n",
    "    \n",
    "Unless you have an accommodation from the Sara Bee Center or under quarantine you must take this Exam in the lecture room at the designated class time.\n",
    "     \n",
    "Me and the Teaching Assistants will hand out exams 5 minutes prior to the beginning of class. Students may begin them at 9:55am and when they have put their non-permitted items away. You must hand in your Exam when I indicate time is up. Continuing to work on the exam after time is called will result in disqualification of your Exam.\n",
    "\n",
    "## Exam Format\n",
    "\n",
    "The problems on the Exam will be similar in format to the Homework problems. You will not be asked to write and compile code. (You can be asked what an issue is with a code segment based on an error message)\n",
    "    \n",
    "This exam is closed book: You may not use any website, books, HW solutions, Hogwarts Owls, voodoo magic, other kinds of magic, smoke signals, or your class notes.\n",
    "\n",
    "If you are caught using any unauthorized resource, you will receive an automatic 0 on the Exam and a referral to the Notre Dame Academic Honor council.\n",
    "\n",
    "The Exam will have one \"Evaluation\" question where the answer will not be readily obvious that is not quite like the Homework questions. You know everything you need to know to solve the problem, and the objective is for you to show that you can combine your memorization, understanding, and application skills in an evaluative manner befitting an engineer."
   ]
  },
  {
   "cell_type": "markdown",
   "id": "561e9070",
   "metadata": {},
   "source": [
    "## Building your Exam Study Guide\n",
    "\n",
    "The Homework questions and in-class problems have solution keys available. The objective of these problems is for you to practice the problems to set you up for success.\n",
    "\n",
    "These set of problems are longer than the actual exam. But if you can solve these problems independent of the keys or your notes, you will have set yourself up well for success on the Exam.\n",
    "\n",
    "The general outline for the Exam will be covered in class on the Monday prior to the Exam."
   ]
  },
  {
   "cell_type": "markdown",
   "id": "aec0ec91",
   "metadata": {},
   "source": [
    "## Example Questions\n",
    "\n",
    "Work to develop an example study guide for these problems. The key for all of these problems are posted.\n",
    "\n",
    "> <b>Pro tip:</b> Develop variants of problems to build your own guide!\n",
    "\n",
    "<b>1.</b> In-Class Lecture 23 - <a href = \"https://github.com/mmorri22/cse20133/blob/main/inclass/lec23/In-Class%20Lecture%2023-1.ipynb\">C Struct Memory Reduction Problem</a>\n",
    "\n",
    "<a href = \"https://canvas.nd.edu/courses/74671/files/2747059?wrap=1\">Solution</a>\n",
    "\n",
    "<b>2.</b> In-Class Lecture 24 - <a href = \"https://github.com/mmorri22/cse20133/blob/main/inclass/lec24/In-Class%20Lecture%2024-1.ipynb\">Singly Linked List Memory Map Problem 1</a>\n",
    "\n",
    "<a href = \"https://canvas.nd.edu/courses/74671/files/2779291?wrap=1\">Solution</a>\n",
    "\n",
    "<b>3.</b> In-Class Lecture 24 - <a href = \"https://canvas.nd.edu/courses/74671/files/2779292?wrap=1\">Singly Linked List Memory Map Problem 2</a> (Problem and Solution)\n",
    "\n",
    "<b>4.</b> In-Class Lectures 28 and 29- <a href = \"https://github.com/mmorri22/cse20133/blob/main/inclass/lec28/In-Class%20Lecture%2028-1.ipynb\">C++ STL Example Problems</a>\n",
    "\n",
    "<a href = \"https://canvas.nd.edu/courses/74671/files/folder/inclass/Lecture%2028%20In-Class%201-7\">Solutions for Problems 1-7</a>\n",
    "\n",
    "<a href = \"https://canvas.nd.edu/courses/74671/files/folder/inclass/Lecture%2028%20-%20Problems%208-9\">Solutions for Problems 8-9</a>\n",
    "\n",
    "<b>5.</b> In-Class Lecture 30 - <a href = \"https://github.com/mmorri22/cse20133/blob/main/inclass/lec30/In-Class%20Lecture%2030-1.ipynb\">Problem 3 - Big O Notation</a>\n",
    "\n",
    "<a href = \"https://canvas.nd.edu/courses/74671/files/folder/inclass/Lecture%2030%20In%20Class?preview=2908382\">Solution</a>\n",
    "\n",
    "(I know I wrote #3 on the top of solution sheet. It is the solution for Problem 2)\n",
    "\n",
    "<b>6.</b> Homework 8 <a href = \"https://github.com/mmorri22/cse20133/blob/main/homeworks/homework8/Homework%208.ipynb\">Problems 1 and 2 - Big O Notation</a>\n",
    "\n",
    "<a href = \"https://canvas.nd.edu/courses/74671/files/2995910?wrap=1\">Solution</a>\n",
    "\n",
    "<b>7.</b> Homework 8 <a href = \"https://github.com/mmorri22/cse20133/blob/main/homeworks/homework8/Homework%208.ipynb\">Problems 3 and 4 - Finite State Machines</a>\n",
    "\n",
    "<a href = \"https://canvas.nd.edu/courses/74671/files/2995910?wrap=1\">Solution</a>\n",
    "\n",
    "<b>8.</b> Homework 8 <a href = \"https://github.com/mmorri22/cse20133/blob/main/homeworks/homework8/Homework%208.ipynb\">Problem 5 - Writing a C++ Constructor</a>\n",
    "\n",
    "<a href = \"https://canvas.nd.edu/courses/74671/files/2995910?wrap=1\">Solution</a>\n",
    "\n",
    "<b>9.</b> Homework 8 <a href = \"https://github.com/mmorri22/cse20133/blob/main/homeworks/homework8/Homework%208.ipynb\">Problem 6 - Identifying which C++ Class Methods should be const</a>\n",
    "\n",
    "<a href = \"https://canvas.nd.edu/courses/74671/files/2995910?wrap=1\">Solution</a>\n",
    "\n",
    "<b>10.</b> In-Class Lecture 34 - <a href = \"https://github.com/mmorri22/cse20133/blob/main/inclass/lec34/In-Class%20Lecture%2034-2.ipynb\">pThread Memory Draw Problem</a>\n",
    "\n",
    "<a href = \"https://canvas.nd.edu/courses/74671/files/2919717?wrap=1\">Solution</a>\n",
    "\n",
    "<b>11.</b> In-Class Lecture 35 - <a href = \"https://canvas.nd.edu/courses/74671/files/2929550?wrap=1\">pThread Memory Draw Problem</a>\n",
    "\n",
    "<a href = \"https://canvas.nd.edu/courses/74671/files/2929539?wrap=1\">Solution</a>\n",
    "\n",
    "<b>12.</b> In-Class Lecture 35 - <a href = \"https://github.com/mmorri22/cse20133/blob/main/inclass/lec35/In-Class%2035-2.ipynb\">#4 - MLFQ Example 1</a>\n",
    "\n",
    "<a href = \"https://canvas.nd.edu/courses/74671/files/2929539?wrap=1\">Solution</a>\n",
    "\n",
    "<b>13.</b> Be able to concisely differentiate between when to use C++ or MatLAB for Machine Learning operations\n",
    "\n",
    "<a href = \"https://canvas.nd.edu/courses/74671/files/2929539?wrap=1\">Reading 36-1</a>. Be able to reproduce those last 5 bullet points.\n",
    "\n",
    "<b>14.</b> Be able to concisely (no more than 3-4 sentences) differentiate between Tactical and Strategic Programming\n",
    "\n",
    "<a href = \"https://canvas.nd.edu/courses/74671/files/2929539?wrap=1\">Reading 36-1</a>"
   ]
  }
 ],
 "metadata": {
  "kernelspec": {
   "display_name": "Python 3 (ipykernel)",
   "language": "python",
   "name": "python3"
  },
  "language_info": {
   "codemirror_mode": {
    "name": "ipython",
    "version": 3
   },
   "file_extension": ".py",
   "mimetype": "text/x-python",
   "name": "python",
   "nbconvert_exporter": "python",
   "pygments_lexer": "ipython3",
   "version": "3.9.13"
  }
 },
 "nbformat": 4,
 "nbformat_minor": 5
}
