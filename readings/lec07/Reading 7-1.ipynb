{
 "cells": [
  {
   "cell_type": "markdown",
   "id": "e07cb8df",
   "metadata": {},
   "source": [
    "## Reading 7-1 Header Files"
   ]
  },
  {
   "cell_type": "markdown",
   "id": "ecf20b05",
   "metadata": {},
   "source": [
    "In this reading, you will learn about:\n",
    "<ul>\n",
    "    <li>Header Files</li>\n",
    "    <li>Separate Compilation</li>\n",
    "    <li>The process of building executables</li>\n",
    "    <li>Multiple Executables in one Folder</li>\n",
    "</ul>"
   ]
  },
  {
   "cell_type": "markdown",
   "id": "5ff07b17",
   "metadata": {},
   "source": [
    "To this point, you have used C libraries to call functions\n",
    "<ul>\n",
    "    <li><code>fprintf</code> comes from <code>stdio.h</code></li>\n",
    "    <li><code>exit(-1)</code> comes from <code>stdlib.h</code></li>\n",
    "</ul>\n",
    "\n",
    "Now, you can make your own libraries. To do this, we must create <b>header files</b>\n",
    "<ul>\n",
    "    <li>Header files contain the <b>function declaration</b></li>\n",
    "    <li>The corresponding C files contain the <b>function definition</b></li> \n",
    "</ul>"
   ]
  },
  {
   "cell_type": "markdown",
   "id": "aafb8d5a",
   "metadata": {},
   "source": [
    "### Why Header Files?\n",
    "\n",
    "Before:\n",
    "<ul>\n",
    "    <li>Function declarations at the top</li>\n",
    "    <li>Function definitions at the bottom.</li>\n",
    "    <li>Good for reusing functions in the same program</li>\n",
    "    <li>However: <i>limited to use in one program only</i></li>\n",
    "</ul>\n",
    "    \n",
    "Header Files allow us to <b>re-use functions</b> in different programs, so you can <b>build your own libraries</b>"
   ]
  },
  {
   "cell_type": "markdown",
   "id": "8568dcfb",
   "metadata": {},
   "source": [
    "### How to set up Header Files\n",
    "\n",
    "For this example, we are going to break the file <a href = \"https://github.com/mmorri22/cse20133/blob/main/readings/lec07/square_func.c\">square_func.c</a> into three files:\n",
    "<ul>\n",
    "    <li><code>square_lib.h</code> - Will contain global variables, included C libraries, and function declarations</li>\n",
    "    <li><code>square_lib.c</code> - Will contain function definitions</li>\n",
    "    <li><code>square.c</code> - Will include the main driver program</li>\n",
    "</ul>"
   ]
  },
  {
   "cell_type": "markdown",
   "id": "7d22131c",
   "metadata": {},
   "source": [
    "### Creating <code>square_lib.h</code>\n",
    "\n",
    "To create a header file, start each file with:\n",
    "<code>#ifndef</code> – If Not Defined\n",
    "<code>#define</code> – Define\n",
    "\n",
    "End the file with #endif\n",
    "<code>#endif</code> – End the directive\n",
    "\n",
    "After the <code>#ifndef</code> and <code>#define</code>, we will put the name of the Header File itself. There is a specific format:\n",
    "<ul>\n",
    "    <li>All the letters must be upper case</li>\n",
    "    <li>The period in <code>.h</code> should be an <code>_</code></li>\n",
    "</ul>\n",
    "\n",
    "For the <a href = \"https://github.com/mmorri22/cse20133/blob/main/readings/lec07/square_lib.h\">square_lib.h</a> program, the name will be <code>SQUARE_LIB_H</code>.\n",
    "\n",
    "When we include <code>#include \\<stdio.h\\> </code> in <code>square_lib.h</code>, anywhere we include <code>square_lib.h</code> will also include <code> \\<stdio.h\\> </code>.\n",
    "\n",
    "Taking the function declarations, included libraries, and global variables, the Header File will appear as shown below: \n",
    "\n",
    "    #ifndef SQUARE_LIB_H\n",
    "    #define SQUARE_LIB_H\n",
    "    \n",
    "    #include <stdio.h>\n",
    "\n",
    "    int total; // Global variable\n",
    "\n",
    "    /* Function Declarations */\n",
    "    int Square(int x);\n",
    "\n",
    "    int SumOfSquare(int x, int y);\n",
    "\n",
    "    #endif"
   ]
  },
  {
   "cell_type": "markdown",
   "id": "796c6557",
   "metadata": {},
   "source": [
    "### Creating <code>square_lib.c</code>\n",
    "\n",
    "When creating the corresponding .c library, we will first do a <code>#include</code> of the <code>.h</code> file. The difference is that, for your own libraries, use <code>\"</code> around the name instead of the <code>< ... ></code> you used for C libraries so far:\n",
    "\n",
    "    Including a C library example: #include <stdio.h>\n",
    "    Including your own library example: #include \"square_func.h\"\n",
    "    \n",
    "Then include the function definitions. The <a href = \"https://github.com/mmorri22/cse20133/blob/main/readings/lec07/square_lib.c\">square_lib.c</a> file will look like this:\n",
    "    \n",
    "    #include \"square_lib.h\"\n",
    "\n",
    "    /* Function Definitions */\n",
    "    int Square(int x){\n",
    "        x = x * x;\n",
    "        return x;\n",
    "    }\n",
    "\n",
    "    int SumOfSquare(int x, int y){\n",
    "        int z = Square(x + y);\n",
    "        return z;\n",
    "    }"
   ]
  },
  {
   "cell_type": "markdown",
   "id": "4bb30dbd",
   "metadata": {},
   "source": [
    "### Creating <code>square.c</code>\n",
    "\n",
    "We will include <code>square_lib.h</code> and then do the function calls in main. Notice that the main driver file looks much <b>cleaner</b> than before. This is an example of promotion of <b>information hiding</b>and <b>modularity</b>.\n",
    "\n",
    "    #include \"square_lib.h\"\n",
    "\n",
    "    int main(void){\n",
    "        int x = 3, y = 4;\n",
    "        total = SumOfSquare(x, y);\n",
    "        fprintf(stdout, \"The square of the sum of %d and %d is %d\\n\", x, y, total);\n",
    "        return 0;\n",
    "    }"
   ]
  },
  {
   "cell_type": "markdown",
   "id": "2b2c9f76",
   "metadata": {},
   "source": [
    "### Now What?\n",
    "\n",
    "The process for compiling libraries and programs together is a bit more complicated. However, this complexity can be greatly reduced with the use of <b>Makefiles</b>, which is what we will cover in Reading 7-2."
   ]
  },
  {
   "cell_type": "markdown",
   "id": "3c5fd7bf",
   "metadata": {},
   "source": [
    "### <font color=\"red\">Question 1: What is a Header File, and what is the benefit of creating Header Files and Libraries?</font>\n",
    "\n",
    "### <font color=\"red\">Question 2: What are the steps and requirements for constructing a <code>.h</code> header file?</font>\n",
    "\n",
    "### <font color=\"red\">Question 3: What are the steps and requirements for constructing the corresponding <code>.c</code> file for a header file?</font>"
   ]
  },
  {
   "cell_type": "markdown",
   "id": "d44343b3",
   "metadata": {},
   "source": [
    "### The next reading is <a href = \"https://github.com/mmorri22/cse20133/blob/main/readings/lec07/Reading%207-2.ipynb\">Reading 7-2 - Makefiles</a>"
   ]
  }
 ],
 "metadata": {
  "kernelspec": {
   "display_name": "Python 3 (ipykernel)",
   "language": "python",
   "name": "python3"
  },
  "language_info": {
   "codemirror_mode": {
    "name": "ipython",
    "version": 3
   },
   "file_extension": ".py",
   "mimetype": "text/x-python",
   "name": "python",
   "nbconvert_exporter": "python",
   "pygments_lexer": "ipython3",
   "version": "3.9.13"
  }
 },
 "nbformat": 4,
 "nbformat_minor": 5
}
