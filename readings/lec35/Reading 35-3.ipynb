{
 "cells": [
  {
   "cell_type": "markdown",
   "id": "3f21da0a",
   "metadata": {},
   "source": [
    "## Reading 34-3 - Thread Scheduling - Round Robin and MLFQ"
   ]
  },
  {
   "cell_type": "markdown",
   "id": "e8da023b",
   "metadata": {},
   "source": [
    "## Round Robin\n",
    "\n",
    "Instead of running jobs to completion, what if we use a timer <b>interrupt</b> to rotate through processes.\n",
    "\n",
    "<b>Round Robin</b> - Each process is executed for a certain time slice before another process is selected.\n",
    "<ul>\n",
    "    <li>Advantage: a <b>fair</b> policy since it evenly divides the the CPU among active processes.</li>\n",
    "    <li>Disadvantage: Some jobs, like printing, need to be completed in one run</li>\n",
    "</ul>\n",
    "\n",
    "> Average turnaround time is longer, but fairer. Shorter response time."
   ]
  },
  {
   "cell_type": "markdown",
   "id": "ae8df6d3",
   "metadata": {},
   "source": [
    "### Example\n",
    "\n",
    "Jobs A, B, and C arrive at time 0.\n",
    "Job A runs for 30 seconds\n",
    "Job B runs for 15 seconds\n",
    "Job C runs for 20 seconds\n",
    "\n",
    "Using the Round-Robin Algorithm where each process is interrupted every 5 seconds, describe the round-robin operation and state the turnaround and response times.\n",
    "\n",
    "Solution:\n",
    "\n",
    "    Job A runs from 0-5 - 25 seconds left\n",
    "    Job B runs from 5-10 - 10 seconds left\n",
    "    Job C runs from 10-15 - 15 seconds left\n",
    "    Job A runs from 15-20 - 20 seconds left\n",
    "    Job B runs from 20-25 - 5 seconds left\n",
    "    Job C runs from 25-30 - 10 seconds left\n",
    "    Job A runs from 30-35 - 15 seconds left\n",
    "    Job B runs from 35-40 - 0 seconds left. Complete!\n",
    "    Job C runs from 40-45 - 5 seconds left\n",
    "    Job A runs from 45-50 - 10 seconds left\n",
    "    Job C runs from 50-55 - 0 seconds left. Complete!\n",
    "    Job A runs from 55-65 - 0 seconds left. Complete!\n",
    "    \n",
    "    The average <b>turnaround</b> time is:\n",
    "\n",
    "        (65 + 55 + 40) / 3 = 53.333s / job\n",
    "\n",
    "    The average <b>response</b> time is:\n",
    "\n",
    "        (0 + 5 + 10) / 3 = 5s / job"
   ]
  },
  {
   "cell_type": "markdown",
   "id": "236e8d87",
   "metadata": {},
   "source": [
    "### <font color = \"red\">Class Introduction Question #6 - What is the Round Robin Scheduling Algorithm?</font>"
   ]
  }
 ],
 "metadata": {
  "kernelspec": {
   "display_name": "Python 3 (ipykernel)",
   "language": "python",
   "name": "python3"
  },
  "language_info": {
   "codemirror_mode": {
    "name": "ipython",
    "version": 3
   },
   "file_extension": ".py",
   "mimetype": "text/x-python",
   "name": "python",
   "nbconvert_exporter": "python",
   "pygments_lexer": "ipython3",
   "version": "3.9.13"
  }
 },
 "nbformat": 4,
 "nbformat_minor": 5
}
