{
 "cells": [
  {
   "cell_type": "markdown",
   "id": "be9601f4",
   "metadata": {},
   "source": [
    "## Reading 37-2 - Thread Scheduling - FIFO and SJF"
   ]
  },
  {
   "cell_type": "markdown",
   "id": "c7bcea4a",
   "metadata": {},
   "source": [
    "In <a href = \"https://github.com/mmorri22/cse20133/blob/main/readings/lec35/Reading%2035-2.ipynb\">Reading 35-2</a>, we learned the basics of <code>pthreads</code> in the context of multiprocessing. But you likely noticed that - while we were able to protect the integrity of the data, we were at the whim of the which process arrived first.\n",
    "\n",
    "Here is an example of when this is an issue. Imagine there are 3 Notre Dame students trying to use a printer in the library. Those students are:\n",
    "<ul>\n",
    "    <li>A freshman printing a one-page crib sheet for a quiz in 20 minutes</li>\n",
    "    <li>A junior printing a six-page essay due in an hour</li>\n",
    "    <li>A PhD student printing a copy of their 267-page dissertation</li>\n",
    "</ul>\n",
    "\n",
    "> Why, yes, Prof. Morrison's <a href = \"https://digitalcommons.usf.edu/cgi/viewcontent.cgi?article=6278&context=etd\">PhD dissertation was 267 pages</a>. Why do you ask?!?\n",
    "\n",
    "What order would you want to print these documents? Why would we print the 267-page document first when we can print the 1-pager, the 6-pager, and the 267-pager in a way that would be convenient?"
   ]
  },
  {
   "cell_type": "markdown",
   "id": "a22f3ec8",
   "metadata": {},
   "source": [
    "### FIFO - First-In, First-Out\n",
    "\n",
    "Aka <b>First-In, First-Out</b> - We execute the jobs in the order in which they arrive.\n",
    "\n",
    "#### Example\n",
    "\n",
    "Jobs A, B, C arrive at time 0 and run for 5 seconds each:\n",
    "\n",
    "The OS processes A, B, and then C. What is the average turnaround and response time?\n",
    "\n",
    "Solution:\n",
    "\n",
    "A arrives at 0, and runs from 0 to 5s\n",
    "B arrives at 0, and runs from 5 to 10s\n",
    "C arrives at 0, and runs from 10 to 15s\n",
    "\n",
    "The average <b>turnaround</b> time is:\n",
    "\n",
    "    (5 + 10 + 15) / 3 = 10s / job\n",
    "    \n",
    "The average <b>response</b> time is:\n",
    "\n",
    "    (0 + 5 + 10) / 3 = 5s / job\n",
    "    \n",
    "\n",
    "#### Convoy Effect\n",
    "\n",
    "Jobs A arrives at time 0 and runs for 30 seconds.\n",
    "Jobs B and C arrive at time 0 and runs for 5 seconds each.\n",
    "\n",
    "Using the FIFO Algorithm, where the input is A, B, and then C, what are the average turnaround and response times?\n",
    "\n",
    "Solution:\n",
    "\n",
    "    A arrives at 0, and runs from 0 to 30s\n",
    "    B arrives at 0, and runs from 30 to 35s\n",
    "    C arrives at 0, and runs from 35 to 40s\n",
    "\n",
    "    The average <b>turnaround</b> time is:\n",
    "\n",
    "        (30 + 35 + 40) / 3 = 35s / job\n",
    "\n",
    "    The average <b>response</b> time is:\n",
    "\n",
    "        (0 + 30 + 35) / 3 = 21.67s / job\n",
    "    \n",
    "\n",
    "### Shortest Job First\n",
    "\n",
    "One way to combat the Convoy Effect, is to rank our FIFO such that we always select the shortest job first (SJF).\n",
    "\n",
    "Jobs A arrives at time 0 and runs for 30 seconds.\n",
    "Jobs B and C arrive at time 0 and runs for 5 seconds each.\n",
    "\n",
    "Using the SJF Algorithm, what are the average turnaround and response times?\n",
    "\n",
    "Solution:\n",
    "\n",
    "    B arrives at 0, and runs from 0 to 5s\n",
    "    C arrives at 0, and runs from 5 to 10s\n",
    "    A arrives at 0, and runs from 10 to 40s\n",
    "\n",
    "    The average <b>turnaround</b> time is:\n",
    "\n",
    "        (5 + 10 + 40) / 3 = 18.33s / job\n",
    "\n",
    "    The average <b>response</b> time is:\n",
    "\n",
    "        (0 + 5 + 10) / 3 = 5s / job"
   ]
  },
  {
   "cell_type": "markdown",
   "id": "7632408a",
   "metadata": {},
   "source": [
    "### <font color = \"red\">Class Introduction Question #4 - What is the FIFO Scheduling Algorithm?</font>\n",
    "\n",
    "### <font color = \"red\">Class Introduction Question #5 - What is the SJF Scheduling Algorithm?</font>"
   ]
  },
  {
   "cell_type": "markdown",
   "id": "f586d646",
   "metadata": {},
   "source": [
    "### The next reading for this lecture is <a href = \"https://github.com/mmorri22/cse20133/blob/main/readings/lec37/Reading%2037-3.ipynb\">Reading 37-3 - Thread Scheduling - Round Robin</a>"
   ]
  }
 ],
 "metadata": {
  "kernelspec": {
   "display_name": "Python 3 (ipykernel)",
   "language": "python",
   "name": "python3"
  },
  "language_info": {
   "codemirror_mode": {
    "name": "ipython",
    "version": 3
   },
   "file_extension": ".py",
   "mimetype": "text/x-python",
   "name": "python",
   "nbconvert_exporter": "python",
   "pygments_lexer": "ipython3",
   "version": "3.9.13"
  }
 },
 "nbformat": 4,
 "nbformat_minor": 5
}
