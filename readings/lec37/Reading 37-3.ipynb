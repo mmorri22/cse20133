{
 "cells": [
  {
   "cell_type": "markdown",
   "id": "3f21da0a",
   "metadata": {},
   "source": [
    "## Reading 37-3 - Thread Scheduling - Round Robin and MLFQ"
   ]
  },
  {
   "cell_type": "markdown",
   "id": "e8da023b",
   "metadata": {},
   "source": [
    "## Round Robin\n",
    "\n",
    "Instead of running jobs to completion, what if we use a timer <b>interrupt</b> to rotate through processes.\n",
    "\n",
    "<b>Round Robin</b> - Each process is executed for a certain time slice before another process is selected.\n",
    "<ul>\n",
    "    <li>Advantage: a <b>fair</b> policy since it evenly divides the the CPU among active processes.</li>\n",
    "    <li>Disadvantage: Some jobs, like printing, need to be completed in one run</li>\n",
    "</ul>\n",
    "\n",
    "> Average turnaround time is longer, but fairer. Shorter response time."
   ]
  },
  {
   "cell_type": "markdown",
   "id": "ae8df6d3",
   "metadata": {},
   "source": [
    "### Example\n",
    "\n",
    "Jobs A, B, and C arrive at time 0.\n",
    "Job A runs for 30 seconds\n",
    "Job B runs for 15 seconds\n",
    "Job C runs for 20 seconds\n",
    "\n",
    "Using the Round-Robin Algorithm where each process is interrupted every 5 seconds, describe the round-robin operation and state the turnaround and response times.\n",
    "\n",
    "Solution:\n",
    "\n",
    "    Job A runs from 0-5 - 25 seconds left\n",
    "    Job B runs from 5-10 - 10 seconds left\n",
    "    Job C runs from 10-15 - 15 seconds left\n",
    "    Job A runs from 15-20 - 20 seconds left\n",
    "    Job B runs from 20-25 - 5 seconds left\n",
    "    Job C runs from 25-30 - 10 seconds left\n",
    "    Job A runs from 30-35 - 15 seconds left\n",
    "    Job B runs from 35-40 - 0 seconds left. Complete!\n",
    "    Job C runs from 40-45 - 5 seconds left\n",
    "    Job A runs from 45-50 - 10 seconds left\n",
    "    Job C runs from 50-55 - 0 seconds left. Complete!\n",
    "    Job A runs from 55-65 - 0 seconds left. Complete!\n",
    "    \n",
    "    The average <b>turnaround</b> time is:\n",
    "\n",
    "        (65 + 55 + 40) / 3 = 53.333s / job\n",
    "\n",
    "    The average <b>response</b> time is:\n",
    "\n",
    "        (0 + 5 + 10) / 3 = 5s / job"
   ]
  },
  {
   "attachments": {
    "image.png": {
     "image/png": "[encoded data removed]"
    }
   },
   "cell_type": "markdown",
   "id": "0dc88ae3",
   "metadata": {},
   "source": [
    "## Multi-Level Feedback Queue\n",
    "\n",
    "A Multi-Level Feedback Queue (MLFQ) tries to optimize both turnaround time and response time.\n",
    "<ul>\n",
    "    <li>Like FIFO, it tries to complete shortest jobs first</li>\n",
    "    <li>Like Round Robin, it tries to be fair</li>\n",
    "    <li>Unlike either, it will factor incorporate I/O and will adjust priority levels over time</li>\n",
    "</ul>\n",
    "\n",
    "To accomplish this, MLFQ uses multiple queues, where each queue represents a particular priority level.\n",
    "<ul>\n",
    "    <li>We select jobs from the highest priority levels first</li>\n",
    "    <li>Within a level, we use Round Robin</li>\n",
    "</ul>\n",
    "\n",
    "![image.png](attachment:image.png)\n",
    "\n",
    "To manage the various priority levels, we use the following rules:\n",
    "<ol>\n",
    "    <li>If Priority(A) > Priority(B), A runs</li>\n",
    "    <li>If Priority(A) == Priority(B), A & B run in RR with the shortest jobs first</li>\n",
    "    <li>A job is initially placed in the highest priority level</li>\n",
    "    <li>Once a job uses up its time allotment at a given level, its priority is reduced (ie. it is moves down one queue)</li>\n",
    "    <li>After some time period S, move all jobs in the system to the topmost queue.</li>\n",
    "</ol>"
   ]
  },
  {
   "cell_type": "markdown",
   "id": "5dc8cd4a",
   "metadata": {},
   "source": [
    "### MLFQ Example\n",
    "\n",
    "Jobs A, B, C, D, and E arrive at time 0.\n",
    "Job A runs for 45 seconds with a priority of 4\n",
    "Job B runs for 15 seconds with a priority of 2\n",
    "Job C runs for 20 seconds with a priority of 3\n",
    "Job D runs for 25 seconds with a priority of 2\n",
    "Job E runs for 30 seconds with a priority of 3\n",
    "\n",
    "Using the MLFQ Algorithm where each process is interrupted every 10 seconds in each priority level, and each level has a time allotment of 20 seconds describe the MLFQ operation and state the turnaround and response times.\n",
    "\n",
    "Solution:\n",
    "\n",
    "    Priority 4: Job A has 45s\n",
    "        Job A runs for 20s from 0-20s. 0 allotment left. 25 total left. Moves down to priority 3.\n",
    "        \n",
    "    Priority 3: Job C has 20s. Job A has 25s. Job E has 30s.\n",
    "        Job C runs for 10s from 20-30s. 10 allotment left. 10 total left.\n",
    "        Job A runs for 10s from 30-40s. 10 allotment left. 15 total left.\n",
    "        Job E runs for 10s from 40-50s. 10 allotment left. 20 total left.\n",
    "        Job C runs for 10s from 50-60s. Completed!\n",
    "        Job A runs for 10s from 60-70s. 0 allotment left. 5 total left. Moves down to priority 2.\n",
    "        Job E runs for 10s from 70-80s. 0 allotment left. 10 total left. Moves down to priority 2.\n",
    "        \n",
    "    Priority 2: Job A has 5s, Job E has 10 left. Job B has 15 left. Job D has 25 left.\n",
    "        Job A runs for 5s from 80-85s. Completed!\n",
    "        Job E runs for 10s from 85-95s. Completed!\n",
    "        Job B runs for 10s from 95-105s. 10 allotment left. 5 total left.\n",
    "        Job D runs for 10s from 105-115s. 10 allotment left. 15 total left.\n",
    "        Job B runs for 10s from 115-120s. Completed!\n",
    "        Job D runs for 10s from 120-130s. 0 allotment left. 5 total left.\n",
    "        \n",
    "    Priority 1: Job D has 5x\n",
    "        Job D runs for 5s from 130-135s. Completed!\n",
    "        \n",
    "    The average <b>turnaround</b> time is:\n",
    "\n",
    "        (85 + 120 + 60 + 135 + 95) / 5 = 99s / job\n",
    "\n",
    "    The average <b>response</b> time is:\n",
    "\n",
    "        (0 + 95 + 20 + 105 + 40) / 5 = 52s / job"
   ]
  },
  {
   "cell_type": "markdown",
   "id": "ca9bf35c",
   "metadata": {},
   "source": [
    "### <font color = \"red\">Class Introduction Question #6 - What is the Round Robin Scheduling Algorithm?</font>\n",
    "\n",
    "### <font color = \"red\">Class Introduction Question #7 - What is the MLFQ Scheduling Algorithm?</font>"
   ]
  }
 ],
 "metadata": {
  "kernelspec": {
   "display_name": "Python 3 (ipykernel)",
   "language": "python",
   "name": "python3"
  },
  "language_info": {
   "codemirror_mode": {
    "name": "ipython",
    "version": 3
   },
   "file_extension": ".py",
   "mimetype": "text/x-python",
   "name": "python",
   "nbconvert_exporter": "python",
   "pygments_lexer": "ipython3",
   "version": "3.9.13"
  }
 },
 "nbformat": 4,
 "nbformat_minor": 5
}
