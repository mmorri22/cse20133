{
 "cells": [
  {
   "cell_type": "markdown",
   "id": "eebd5727",
   "metadata": {},
   "source": [
    "## Reading 19-1 - FILE*- Reading from a File during Runtime"
   ]
  },
  {
   "attachments": {},
   "cell_type": "markdown",
   "id": "6d686ff9",
   "metadata": {},
   "source": [
    "By the end of this reading, you will learn:\n",
    "<ol>\n",
    "    <li>What a file actually is</li>\n",
    "    <li>FILE* I/O</li>\n",
    "    <li>How to create and free File Pointers</li>\n",
    "    <li>How to simply read from a FILE* using pointers</li>\n",
    "</ol>"
   ]
  },
  {
   "cell_type": "markdown",
   "id": "e4bbbedc",
   "metadata": {},
   "source": [
    "### <font color = \"red\">Class Introduction Question #1 - XXXX</a>\n",
    "\n",
    "### <font color = \"red\">Class Introduction Question #2 - XXXX</a>\n",
    "\n",
    "### <font color = \"red\">Class Introduction Question #3 - XXXX</a>"
   ]
  },
  {
   "cell_type": "markdown",
   "id": "b1382152",
   "metadata": {},
   "source": [
    "### The final reading for this lecture is <a href = \"https://github.com/mmorri22/cse20133/blob/main/readings/lec19/Reading%2019-2.ipynb\">Reading 19-2 - Combining Concepts - stdout and FILE*</a>"
   ]
  }
 ],
 "metadata": {
  "kernelspec": {
   "display_name": "Python 3 (ipykernel)",
   "language": "python",
   "name": "python3"
  },
  "language_info": {
   "codemirror_mode": {
    "name": "ipython",
    "version": 3
   },
   "file_extension": ".py",
   "mimetype": "text/x-python",
   "name": "python",
   "nbconvert_exporter": "python",
   "pygments_lexer": "ipython3",
   "version": "3.9.13"
  }
 },
 "nbformat": 4,
 "nbformat_minor": 5
}
