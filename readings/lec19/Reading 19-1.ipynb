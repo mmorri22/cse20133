{
 "cells": [
  {
   "cell_type": "markdown",
   "id": "eebd5727",
   "metadata": {},
   "source": [
    "## Reading 19-1 - FILE*- Reading from a File during Runtime"
   ]
  },
  {
   "attachments": {},
   "cell_type": "markdown",
   "id": "6d686ff9",
   "metadata": {},
   "source": [
    "By the end of this reading, you will learn:\n",
    "<ol>\n",
    "    <li>What a file actually is</li>\n",
    "    <li>FILE* I/O</li>\n",
    "    <li>How to create and free File Pointers</li>\n",
    "    <li>How to simply read from a FILE* using pointers</li>\n",
    "</ol>"
   ]
  },
  {
   "attachments": {},
   "cell_type": "markdown",
   "id": "d561f0cb",
   "metadata": {},
   "source": [
    "### Reading from a File during Runtime\n",
    "\n",
    "We want to be able to develop files that read from the user. This means being able to get input in real time\n",
    "<ul>\n",
    "    <li><b>Benefit:</b> Being able to make portable code for users</li>\n",
    "    <li><b>Drawback:</b> Your code is now at the mercy of the user</li>\n",
    "</ul>\n",
    "\n",
    "From a computing perspective, this begs the question: What exactly <i>are</i> files?\n",
    "<ul>\n",
    "    <li>Files are char arrays that we can access, add to, and modify</li>\n",
    "    <li>Files also remain in memory after we complete the program</li>\n",
    "</ul>\n",
    "\n",
    "From our understanding of dynamic memory, we know that we need information to track the data in a File. We will use a C struct called a <code>FILE</code> to track all the information. And since files are in the dynamic memory, we can deduce that we need a <code>FILE*</code> to allocate to the dynamic memory."
   ]
  },
  {
   "attachments": {},
   "cell_type": "markdown",
   "id": "f59be992",
   "metadata": {},
   "source": [
    "### Creating a <code>FILE*</code>\n",
    "\n",
    "In order to open a FILE*, we will use the <code>fopen</code> function from the <code>#include \\<stdlib.h\\></code> library\n",
    "\n",
    "<code>FILE* fopen ( const char * filename, const char * mode );</code><br>\n",
    "<ul>\n",
    "    <li><code>const char * filename</code> is a string with the name of the file</li>\n",
    "    <li><code>const char * mode</code> is a string that tells us what we can or cannot do with the file</li>\n",
    "</ul>\n",
    "    \n",
    "Here is an example:\n",
    "    \n",
    "<code>FILE *fp = ( \"filename.txt\", \"r\" );</code><br>\n",
    "<ul>\n",
    "    <li>Create a pointer to the location in memory of filename.txt</li>\n",
    "    <li>“r” – Read only</li>\n",
    "</ul>"
   ]
  },
  {
   "cell_type": "markdown",
   "id": "e4bbbedc",
   "metadata": {},
   "source": [
    "### <font color = \"red\">Class Introduction Question #1 - What is a <code>FILE*</code> and why are they used to keep track of files?</a>\n",
    "\n",
    "### <font color = \"red\">Class Introduction Question #2 - XXXX</a>\n",
    "\n",
    "### <font color = \"red\">Class Introduction Question #3 - XXXX</a>"
   ]
  },
  {
   "cell_type": "markdown",
   "id": "b1382152",
   "metadata": {},
   "source": [
    "### The final reading for this lecture is <a href = \"https://github.com/mmorri22/cse20133/blob/main/readings/lec19/Reading%2019-2.ipynb\">Reading 19-2 - Combining Concepts - stdout and FILE*</a>"
   ]
  }
 ],
 "metadata": {
  "kernelspec": {
   "display_name": "Python 3 (ipykernel)",
   "language": "python",
   "name": "python3"
  },
  "language_info": {
   "codemirror_mode": {
    "name": "ipython",
    "version": 3
   },
   "file_extension": ".py",
   "mimetype": "text/x-python",
   "name": "python",
   "nbconvert_exporter": "python",
   "pygments_lexer": "ipython3",
   "version": "3.9.13"
  }
 },
 "nbformat": 4,
 "nbformat_minor": 5
}
