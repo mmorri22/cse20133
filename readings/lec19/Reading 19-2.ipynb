{
 "cells": [
  {
   "cell_type": "markdown",
   "id": "eebd5727",
   "metadata": {},
   "source": [
    "## Reading 19-2 - Combining Concepts - stdout and FILE*"
   ]
  },
  {
   "cell_type": "markdown",
   "id": "6d686ff9",
   "metadata": {},
   "source": [
    "XXXXX"
   ]
  },
  {
   "cell_type": "markdown",
   "id": "e4bbbedc",
   "metadata": {},
   "source": [
    "### <font color = \"red\">Class Introduction Question #4 - XXXX</a>\n",
    "\n",
    "### <font color = \"red\">Class Introduction Question #5 - XXXX</a>\n",
    "\n",
    "### <font color = \"red\">Class Introduction Question #6 - XXXX</a>"
   ]
  }
 ],
 "metadata": {
  "kernelspec": {
   "display_name": "Python 3 (ipykernel)",
   "language": "python",
   "name": "python3"
  },
  "language_info": {
   "codemirror_mode": {
    "name": "ipython",
    "version": 3
   },
   "file_extension": ".py",
   "mimetype": "text/x-python",
   "name": "python",
   "nbconvert_exporter": "python",
   "pygments_lexer": "ipython3",
   "version": "3.9.13"
  }
 },
 "nbformat": 4,
 "nbformat_minor": 5
}
