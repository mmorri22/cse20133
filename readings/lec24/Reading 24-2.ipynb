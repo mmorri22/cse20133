{
 "cells": [
  {
   "cell_type": "markdown",
   "id": "eebd5727",
   "metadata": {},
   "source": [
    "## Reading 24-2 - Inserting into a Doubly Linked List"
   ]
  },
  {
   "cell_type": "markdown",
   "id": "b9a86b60",
   "metadata": {},
   "source": [
    "## Inserting an Element in the Front of the Doubly Linked List\n",
    "\n",
    "Since we have <code>head_node</code> and <code>tail_node</code> pointers, we will be able to keep track of the beginning and end of the doubly linked list. We can significantly reduce the amount of insertion time by developing data structures that limit the location of the insertion to the front or the back.\n",
    "<ul>\n",
    "    <li>We will call inserting at the front of the list <code>push_front</code></li>\n",
    "    <li>We will call inserting at the back of the list <code>push_back</code></li>\n",
    "</ul>"
   ]
  },
  {
   "cell_type": "markdown",
   "id": "93e23441",
   "metadata": {},
   "source": [
    "## push_front function\n",
    "\n",
    "Here are the steps and the corresponding code for the <code>push_front</code> function\n",
    "<ol>\n",
    "    <li>Create a dll_node pointer to temporarily point to the location on the Data Heap.</li>\n",
    "    <li>Set the node's data to the value being passed to the function, and then the next node and previous node equal to NULL</li>\n",
    "    <li>Check if the head node and tail node are equal to NULL in order to account for the case when the list is empty</li>\n",
    "</ol>\n",
    "\n",
    "    void push_front( dllist* the_list, int the_value ){\n",
    "\n",
    "        // Step 1\n",
    "        dll_node* insert_node = (dll_node*)malloc( sizeof(dll_node) );\n",
    "\n",
    "        // Step 2\n",
    "        insert_node->data = the_value;\n",
    "        insert_node->prev_node = NULL;\n",
    "        insert_node->next_node = NULL;\n",
    "\n",
    "        // Step 3\n",
    "        // Dr. Morrison's Golden Rule of Pointers \n",
    "        if( the_list->head_node == NULL ){\n",
    "\n",
    "            // Set the head node equal to insert_node \n",
    "            the_list->head_node = insert_node;\n",
    "            the_list->tail_node = insert_node;\n",
    "\n",
    "            return;\n",
    "        }\n",
    "        \n",
    "        // Step 4\n",
    "        ... In the next portion of the reading code\n",
    "\n",
    "    }\n",
    "    \n",
    "### Push"
   ]
  },
  {
   "cell_type": "markdown",
   "id": "e4bbbedc",
   "metadata": {},
   "source": [
    "### <font color = \"red\">Class Introduction Question #1 - What are some drawbacks to using singly linked lists, and how do doubly linked lists address those drawbacks?</a>\n",
    "\n",
    "### <font color = \"red\">Class Introduction Question #2 - Describe how we create a doubly linked list node, as well as encapsulate a doubly linked list. Describe each element in these code definitions below:</a>\n",
    "\n",
    "    typedef struct dll_node{\n",
    "\n",
    "        int data;\n",
    "        struct dll_node* prev;\n",
    "        struct dll_node* next;\n",
    "\n",
    "    }dll_node;\n",
    "\n",
    "\n",
    "    typedef struct dllist{\n",
    "\n",
    "        struct dll_node* head_node;\n",
    "        struct dll_node* tail_node;\n",
    "\n",
    "    }dllist;"
   ]
  },
  {
   "cell_type": "markdown",
   "id": "b1382152",
   "metadata": {},
   "source": [
    "### The next reading for this lecture is <a href = \"https://github.com/mmorri22/cse20133/blob/main/readings/lec24/Reading%2024-2.ipynb\">Reading 24-2 - Inserting an Element into a Doubly Linked List</a>"
   ]
  }
 ],
 "metadata": {
  "kernelspec": {
   "display_name": "Python 3 (ipykernel)",
   "language": "python",
   "name": "python3"
  },
  "language_info": {
   "codemirror_mode": {
    "name": "ipython",
    "version": 3
   },
   "file_extension": ".py",
   "mimetype": "text/x-python",
   "name": "python",
   "nbconvert_exporter": "python",
   "pygments_lexer": "ipython3",
   "version": "3.9.13"
  }
 },
 "nbformat": 4,
 "nbformat_minor": 5
}
