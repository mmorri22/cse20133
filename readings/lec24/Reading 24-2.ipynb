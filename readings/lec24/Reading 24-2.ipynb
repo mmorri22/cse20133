{
 "cells": [
  {
   "cell_type": "markdown",
   "id": "eebd5727",
   "metadata": {},
   "source": [
    "## Reading 24-2 - Building a Linked List Node"
   ]
  },
  {
   "cell_type": "markdown",
   "id": "b0dc9345",
   "metadata": {},
   "source": [
    "## How we initialize a Linked List Node\n",
    "\n",
    "Since we want the ability to add and remove nodes from the Linked List, we are going to <b>dynamically allocate memory</b> to the Data Heap. In our first linked list, we will code a homogeneous list of integers. \n",
    "\n",
    "Before we link the register containing the base address with the linked list, we will create a C struct with the base unit of the link list: the linked list node. We will call the struct <code>sll_node</code>, and the struct will contain:\n",
    "\n",
    "<ul>\n",
    "    <li>An integer</li>\n",
    "    <li>A pointer to the next sll_node</li>\n",
    "</ul>\n",
    "    \n",
    "We will build upon our understanding of dynamic structs from <a href = \"https://github.com/mmorri22/cse20133/blob/main/readings/lec18/Reading%2018-2.ipynb\">Lecture 18</a>. We must use the <code>struct</code> keyword when defining a pointer to a struct of the same type.\n",
    "\n",
    "    typedef struct sll_node{\n",
    "\n",
    "        int data;\n",
    "        struct sll_node* next;\n",
    "\n",
    "    }sll_node;"
   ]
  },
  {
   "cell_type": "markdown",
   "id": "170a8a19",
   "metadata": {},
   "source": [
    "## Linking Nodes\n",
    "\n",
    "To show the benefit of linked data elements, we will obserbe four sll_nodes with dynamic memory allocation with values 10, -20, 15, and 4. Since they are pointers, we will dereference the pointer to update the data element on the heap using the <code>-></code> operator.\n",
    "\n",
    "    /* Dynamically allocate an sll_node */\n",
    "    sll_node* node_0 = (sll_node*)malloc( sizeof(sll_node) );\n",
    "\n",
    "    /* Update the data element */\n",
    "    node_0->data = 10;\n",
    "    \n",
    "The image below shows memory layout of node_0 based on the two lines of code above. \n",
    "\n",
    "<img src = \"https://github.com/mmorri22/cse20133/blob/main/readings/lec24/Lecture%2024-2-1.jpg?raw=true\" width=400 height=400></img>\n",
    "\n",
    "Now, we will create a second node, node_1, and link both of the nodes. We set node0's next pointer equal to node1. Since node1 is also a pointer, we do not need to do any additional de-referencing.\n",
    "\n",
    "    sll_node* node_1 = (sll_node*)malloc( sizeof(sll_node) );\n",
    "    node_1->data = -20;\n",
    "    node_0->next_node = node_1;\n",
    "    \n",
    "The program in <a href = \"https://github.com/mmorri22/cse20133/blob/main/readings/lec24/sll_node_ex_1.c\">sll_node_ex_1.c</a> shows four nodes linked together\n",
    "\n",
    "    #include <stdio.h>\n",
    "    #include <stdlib.h>\n",
    "\n",
    "    typedef struct sll_node{\n",
    "\n",
    "        int data;\n",
    "        struct sll_node* next_node;    \n",
    "\n",
    "    }sll_node;\n",
    "\n",
    "\n",
    "    int main( void ){\n",
    "\n",
    "        // Create four sll_nodes with dynamic memory allocation\n",
    "        sll_node* node_0 = (sll_node*)malloc( sizeof(sll_node) );\n",
    "        sll_node* node_1 = (sll_node*)malloc( sizeof(sll_node) );\n",
    "        sll_node* node_2 = (sll_node*)malloc( sizeof(sll_node) );\n",
    "        sll_node* node_3 = (sll_node*)malloc( sizeof(sll_node) );\n",
    "\n",
    "        // Make their values 10, -20, 15, and 4 and link them in that order\n",
    "        node_0->data = 10;\n",
    "        node_1->data = -20;\n",
    "        node_2->data = 15;\n",
    "        node_3->data = 4;\n",
    "\n",
    "        // Point to the next one in this order, and set the last to NULL\n",
    "        node_0->next_node = node_1;\n",
    "        node_1->next_node = node_2;\n",
    "        node_2->next_node = node_3;\n",
    "        node_3->next_node = NULL;\n",
    "\n",
    "        // Free four sll_nodes with dynamic memory allocation\n",
    "        free( node_0 );\n",
    "        free( node_1 );\n",
    "        free( node_2 );\n",
    "        free( node_3 );\n",
    "\n",
    "        return EXIT_SUCCESS;\n",
    "\n",
    "    }"
   ]
  },
  {
   "cell_type": "markdown",
   "id": "7e12c075",
   "metadata": {},
   "source": [
    "## Iterating through a Singly Linked List\n",
    "\n",
    "We can use our knowledge of <code>NULL</code> pointers to iterate through the list. In C, <code>NULL</code> is a compiler directive for <code>0</code>. \n",
    "\n",
    "The code <a href = \"https://github.com/mmorri22/cse20133/blob/main/readings/lec24/sll_node_ex_1.c\">sll_loop_ex_1.c</a> is modified to <a href = \"https://github.com/mmorri22/cse20133/blob/main/readings/lec24/sll_node_ex_loop.c\">sll_loop_ex_loop.c</a> include a register pointer <code>sll_node* curr_ptr</code>, which will allow us to iterate through the linked list.\n",
    "\n",
    "Setting curr_ptr = node_0 means they are now both pointing to the same address on the data heap.\n",
    "We iterate by using the next_node pointer in the sll_node struct to update where curr_ptr is pointing to on the data heap.\n",
    "\n",
    "    // Creating a node pointer iterator\n",
    "    sll_node* curr_ptr = node_0;\n",
    "\n",
    "    // Printing the Register address of the nodes and curr_ptr\n",
    "    fprintf( stdout, \"Register address of node_0 = %p\\n\", &node_0);\n",
    "    fprintf( stdout, \"Register address of node_1 = %p\\n\", &node_1);\n",
    "    fprintf( stdout, \"Register address of node_2 = %p\\n\", &node_2);\n",
    "    fprintf( stdout, \"Register address of node_3 = %p\\n\", &node_3);\n",
    "    fprintf( stdout, \"Register address of curr_ptr = %p\\n\", &curr_ptr);\n",
    "\n",
    "    // Printing the addresses and data on the data heap\n",
    "    while( curr_ptr != NULL ){\n",
    "\n",
    "        fprintf( stdout, \"Node Base Address: %p, \", curr_ptr );\n",
    "        fprintf( stdout, \"Data Address: %p, \", &(curr_ptr->data) );\n",
    "        fprintf( stdout, \"Data Value: %d, \", curr_ptr->data );\n",
    "        fprintf( stdout, \"Location of Next Node: %p, \", &(curr_ptr->next_node) );\n",
    "        fprintf( stdout, \"Value of Next Node: %p\\n\", curr_ptr->next_node );\n",
    "\n",
    "        // Iterate through the next node\n",
    "        curr_ptr = curr_ptr->next_node;\n",
    "    }\n",
    "    fprintf( stdout, \"\\n\" );"
   ]
  },
  {
   "cell_type": "markdown",
   "id": "ebb63031",
   "metadata": {},
   "source": [
    "## Sample Run:\n",
    "\n",
    "<code>> gcc -O2 -std=c2x -Wall -Wextra -Wconversion -Werror sll_node_ex_loop.c -o sll_node_ex_loop</code><br>\n",
    "<code>> ./sll_node_ex_loop </code><br>\n",
    "<code>Register address of node_0 = 0x7fff6e618048 </code><br>\n",
    "<code>Register address of node_1 = 0x7fff6e618050 </code><br>\n",
    "<code>Register address of node_2 = 0x7fff6e618058 </code><br>\n",
    "<code>Register address of node_3 = 0x7fff6e618060 </code><br>\n",
    "<code>Register address of curr_ptr = 0x7fff6e618068 </code><br>\n",
    "<code>Node Base Address: 0x10d8010, Data Address: 0x10d8010, Data Value: 10, Location of Next Node: 0x10d8018, Value of Next Node: 0x10d8030 </code><br>\n",
    "<code>Node Base Address: 0x10d8030, Data Address: 0x10d8030, Data Value: -20, Location of Next Node: 0x10d8038, Value of Next Node: 0x10d8050 </code><br>\n",
    "<code>Node Base Address: 0x10d8050, Data Address: 0x10d8050, Data Value: 15, Location of Next Node: 0x10d8058, Value of Next Node: 0x10d8070 </code><br>\n",
    "<code>Node Base Address: 0x10d8070, Data Address: 0x10d8070, Data Value: 4, Location of Next Node: 0x10d8078, Value of Next Node: (nil)</code></code><br>"
   ]
  },
  {
   "cell_type": "markdown",
   "id": "44b7d1a2",
   "metadata": {},
   "source": [
    "## Memory Layout Drawing based on Sample Run Output Memory Locations\n",
    "\n",
    "<img src = \"https://github.com/mmorri22/cse20133/blob/main/readings/lec24/Lecture%2024-2-2.jpg?raw=true\" width=400 height=400></img>"
   ]
  },
  {
   "cell_type": "markdown",
   "id": "e4bbbedc",
   "metadata": {},
   "source": [
    "### <font color = \"red\">Class Introduction Question #3 - Describe the process of building a Singly Linked List node struct</a>\n",
    "\n",
    "### <font color = \"red\">Class Introduction Question #4 - Describe how to link and iterate through a Singly Linked List</a>"
   ]
  },
  {
   "cell_type": "markdown",
   "id": "b1382152",
   "metadata": {},
   "source": [
    "### The final reading for this lecture is <a href = \"https://github.com/mmorri22/cse20133/blob/main/readings/lec24/Reading%2024-3.ipynb\">Reading 24-3 - Encapsulation</a>"
   ]
  }
 ],
 "metadata": {
  "kernelspec": {
   "display_name": "Python 3 (ipykernel)",
   "language": "python",
   "name": "python3"
  },
  "language_info": {
   "codemirror_mode": {
    "name": "ipython",
    "version": 3
   },
   "file_extension": ".py",
   "mimetype": "text/x-python",
   "name": "python",
   "nbconvert_exporter": "python",
   "pygments_lexer": "ipython3",
   "version": "3.9.13"
  }
 },
 "nbformat": 4,
 "nbformat_minor": 5
}
