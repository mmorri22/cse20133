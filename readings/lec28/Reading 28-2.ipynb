{
 "cells": [
  {
   "cell_type": "markdown",
   "id": "8db4dbbe",
   "metadata": {},
   "source": [
    "## Reading 28-2 - Intro to the C++ Standard Template Library"
   ]
  },
  {
   "cell_type": "markdown",
   "id": "ef038190",
   "metadata": {},
   "source": [
    "### C++ Collections\n",
    "\n",
    "One big advantage of C++ over C is that C++ comes with a large standard library with many common data structures implemented. \n",
    "\n",
    "The data structure part of the C++ library is called the <a href = \"https://en.wikipedia.org/wiki/Standard_Template_Library\">Standard Template Library</a>, and it contains various \"container\" structures represent different kinds of collections. \n",
    "\n",
    "STL collections are generic, meaning that they can hold elements of <b>any type</b>, and are implemented using <b>templates</b>. This is extremely handy, because it means that we don't need separate implementations for, say, a vector of integers and a vector of strings."
   ]
  },
  {
   "cell_type": "markdown",
   "id": "d7f91771",
   "metadata": {},
   "source": [
    "### Fundamental C++ Collections\n",
    "\n",
    "Here are some fundamental data structures we can implement using the C++ Standard Template Library\n",
    "\n",
    "<code><a href = \"https://www.cplusplus.com/reference/vector/vector/\">std::vector</a></code> is an array that changes sizes as we add elements\n",
    "\n",
    "<code><a href = \"\">std::string</a></code> is a vector that is implicitly templated to char, which is akin to the char* array in C. \n",
    "\n",
    "<code><a href = \"https://www.cplusplus.com/reference/forward_list/forward_list/\">std::forward_list</a></code>  is a Singly Linked List.\n",
    "\n",
    "<code><a href = \"https://www.cplusplus.com/reference/stack/stack/\">std::stack</a></code>  is a Stack.\n",
    "\n",
    "<code><a href = \"https://www.cplusplus.com/reference/list/list/\">std::list</a></code> is a Doubly Linked list where we can add and remove elements from the front and back of the linked list\n",
    "\n",
    "<code><a href = \"https://www.cplusplus.com/reference/queue/queue/\">std::queue</a></code> is a Doubly Linked list where we can add to the back and remove from the front back of the linked list only\n",
    "\n",
    "<code><a href = \"https://www.cplusplus.com/reference/queue/priority_queue/\">std::priority_queue</a></code> is a doubly linked list where the elements are sorted, and we remove elements from the list.\n",
    "\n",
    "> <b>Note 1:</b> Up to this point in the course, we have focused on the design of the structuring of data in memory. As we progress in this class, we will use the basic data structures to implement more advanced data structures, such as hash tables, graphs, and advanced tree structures.\n",
    "\n",
    "> <b>Note 2:</b> We won't be able to cover in detail all the operations that STL collections offer in lectures. The C++ STL is HUGE. The reference material can seem verbose and confusing at first; often, it's easiest to look at the code examples included in the documentation for specific methods to develop an intuition for how you use them. The methods you want often have relatively obvious names (e.g., contains(T element) checks if an std::vector<T> contains element; push_back(T element) on the same vector adds an element to the back),\n"
   ]
  },
  {
   "cell_type": "markdown",
   "id": "5ff441ad",
   "metadata": {},
   "source": [
    "### Combining Concepts: Object Oriented Programming, Levels of Abstraction, and Memory Allocation\n",
    "\n",
    "In the following code segment, I will use a <code>std::vector<int></code> and then <code>push_back</code> to insert 17 integers into the dynamic array. (Code available at <a href = \"https://github.com/mmorri22/cse20133/blob/main/readings/lec28/vector.cpp\">vector.cpp</a>) \n",
    "    \n",
    "We will iterate through the vector again and print all the elements. The method <code>at()</code> returns the data at the vector index, just like [], except the at method provides bounds checking to prevent segmentation faults. But look at what happens when we run valgrind on this program:\n",
    "    \n",
    "    #include <iostream>\n",
    "    #include <vector> // Must include for a C++ vector\n",
    "\n",
    "    int main()\n",
    "    {\n",
    "\n",
    "        std::vector<int> int_vector;\n",
    "\n",
    "        for( int iter = 0; iter < 17; ++iter ){\n",
    "\n",
    "            int_vector.push_back( iter );\n",
    "\n",
    "        }\n",
    "\n",
    "        for( int iter = 0; iter < 17; ++iter ){\n",
    "\n",
    "            std::cout << int_vector.at(iter) << \" \";\n",
    "        }\n",
    "        std::cout << std::endl;\n",
    "\n",
    "        return 0;\n",
    "    }\n",
    "    \n",
    "Here is the compilation and run:\n",
    "\n",
    "    > make vector \n",
    "    g++ -m64 -std=c++2a -O2 -g -Wall -Wextra -Wconversion -Wshadow -Werror -c vector.cpp\n",
    "    g++ -m64 -std=c++2a -O2 -g -Wall -Wextra -Wconversion -Wshadow -Werror -o vector vector.o -lm\n",
    "    > ./vector \n",
    "    0 1 2 3 4 5 6 7 8 9 10 11 12 13 14 15 16 "
   ]
  },
  {
   "cell_type": "markdown",
   "id": "2edb95bd",
   "metadata": {},
   "source": [
    "### std::stack\n",
    "\n",
    "Now we will do the same thing with a std::stack. Recall that we wrote a push and pop for a stack in Lecture 23. Now we can use the pre-tested and verified C++ stack to implement code, which you can view at <a href = \"https://github.com/mmorri22/cse20133/blob/main/readings/lec28/stack.cpp\">stack.cpp</a>\n",
    "\n",
    "    #include <iostream>\n",
    "    #include <stack> // Must include for a C++ stack\n",
    "\n",
    "    int main()\n",
    "    {\n",
    "\n",
    "        std::stack<int> int_stack;\n",
    "\n",
    "        for( int iter = 0; iter < 17; ++iter ){\n",
    "\n",
    "            int_stack.push( iter );\n",
    "\n",
    "        }\n",
    "\n",
    "        while( !int_stack.empty() ){\n",
    "\n",
    "            // Read from the top element\n",
    "            std::cout << int_stack.top() << \" \";\n",
    "\n",
    "            // Pop the top element\n",
    "            int_stack.pop();\n",
    "        }\n",
    "        std::cout << std::endl;\n",
    "\n",
    "        return 0;\n",
    "    }\n",
    "    \n",
    "Here is the compilation and run:\n",
    "\n",
    "    > make stack \n",
    "    g++ -m64 -std=c++2a -O2 -g -Wall -Wextra -Wconversion -Wshadow -Werror -c stack.cpp\n",
    "    g++ -m64 -std=c++2a -O2 -g -Wall -Wextra -Wconversion -Wshadow -Werror -o stack stack.o -lm\n",
    "    > ./stack \n",
    "    16 15 14 13 12 11 10 9 8 7 6 5 4 3 2 1 0"
   ]
  },
  {
   "cell_type": "markdown",
   "id": "12450791",
   "metadata": {},
   "source": [
    "### <font color = \"red\">Class Introduction Question #3 - What is the purpose of the C++ Standard Template Library.</a>\n",
    "\n",
    "### <font color = \"red\">Class Introduction Question #4 - What is a <code>std::vector</code> and how to we insert and read from a vector?</a>\n",
    "\n",
    "### <font color = \"red\">Class Introduction Question #5 - What is a <code>std::stack</code> and how to we insert, read, and remove from a stack?</a>"
   ]
  },
  {
   "cell_type": "markdown",
   "id": "fd42fe9f",
   "metadata": {},
   "source": [
    "### The next reading for this lecture is <a href = \"https://github.com/mmorri22/cse20133/blob/main/readings/lec28/Reading%2028-3.ipynb\">Reading 28-3 - C++ Set and Unordered Map Operations</a>"
   ]
  }
 ],
 "metadata": {
  "kernelspec": {
   "display_name": "Python 3 (ipykernel)",
   "language": "python",
   "name": "python3"
  },
  "language_info": {
   "codemirror_mode": {
    "name": "ipython",
    "version": 3
   },
   "file_extension": ".py",
   "mimetype": "text/x-python",
   "name": "python",
   "nbconvert_exporter": "python",
   "pygments_lexer": "ipython3",
   "version": "3.9.13"
  }
 },
 "nbformat": 4,
 "nbformat_minor": 5
}
