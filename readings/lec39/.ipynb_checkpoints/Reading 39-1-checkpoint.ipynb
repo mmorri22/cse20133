{
 "cells": [
  {
   "cell_type": "markdown",
   "id": "32871c55",
   "metadata": {},
   "source": [
    "## Reading 39-1 - Introduction to Software Engineering"
   ]
  },
  {
   "cell_type": "markdown",
   "id": "18a0b8c1",
   "metadata": {},
   "source": [
    "### The origin of the Production Quality Compilation Rules\n",
    "\n",
    "The \"PQC rules\" originated from a dinner I had with <a href = \"https://www.linkedin.com/in/william-gerstenmaier-3925b210/\">William Gerstenmaier</a> and <a href = \"https://www.linkedin.com/in/richard-morris-15786124/\">Richard Morris</a>, the VPs of Mission Assurance and Production and Launch a SpaceX who have led the development of an impressive software development and testing suite. Software failures are one of the most dominant causes of failures in aerospace mission-critical systems. \n",
    "\n",
    "They lamented modern students lacking fundamental and critical knowledge of secure and reliable computing. This is a complaint you will hear and read from hiring managers, especially from industries where memory and reliability are at a premium:\n",
    "\n",
    "Some major aerospace failures resulting from bad software over the years include:\n",
    "<ul>\n",
    "    <li><a href = \"\">Ariane-5</a> (which we studied in our discussion of floats and doubles) – Unhandled floating point exception</li>\n",
    "    <li><a href = \"\">Mariner I</a> – Missing Hyphen in code</li>\n",
    "    <li><a href = \"\">Mars Pathfinder</a> – Priority inversion /scheduling bug</li>\n",
    "    <li><a href = \"\">Mars Climate Orbiter</a> – Navigation system failure, metric to imperial units conversion failure</li> \n",
    "</ul>\n",
    "\n",
    "In fact, Apollo 11 - the mission that first landed humans on the Moon - had a software error that was nearly catastrophic. <a href = \"https://www.forbes.com/sites/lanceeliot/2019/07/16/apollo-11s-infamous-landing-error-code-1202-offers-earthly-lessons-for-self-driving-cars/?sh=1644288434bc\">Known as the Code 1202 error</a>, the Error 1202 error message started flashing approximately seven minutes prior to landing. Furthermore, the software had not been fully tested and the astronauts had not encountered Error 1202.\n",
    "\n",
    "> Imagine if you encountered a new compiler or valgrind error message you had never seen before while simultaneously trying to land an shuttle on the Moon!\n",
    "\n",
    "It turns out that Error 1202 indicated that the guidance system was overloaded with tasks. So the astronauts had to <b>shut the computer off</b> and <b>reboot the system</b> while only <i>33,000 ft from landing on the Moon</i>. \n",
    "<ul><li>Error Code 1202 was a Instruction Stack overflow.</li></ul>"
   ]
  },
  {
   "cell_type": "markdown",
   "id": "6475d489",
   "metadata": {},
   "source": [
    "### Programming Complexity\n",
    "\n",
    "“Programming Complexity is anything related to the structure of a software system that makes it hard to understand and modify the system.”\n",
    "\n",
    "Complexity takes many forms:\n",
    "<ul>\n",
    "    <li>Understanding how the code works.</li>\n",
    "    <li>The amount of time it takes to make small improvements.</li>\n",
    "    <li>Finding what needs to be modified to make an improvement.</li>\n",
    "    <li>Difficult to fix one bug without introducing another.</li>\n",
    "    <li>“If a software system is hard to understand and modify, then it is complicated. If it is easy to understand and modify, then it is simple”.</li>\n",
    "</ul>\n",
    "\n",
    "For example: Using recursion allowed us to perform advanced backtracking regardless of the size of the problem. Recursion allowed us to simplify the coding\n",
    "<ul>\n",
    "    <li>If you understand how recursion and backtracking work</li>\n",
    "    <li>Then, you can significantly reduce the complexity of code</li>\n",
    "    <li>The modularity allows us to easily troubleshoot a bug without unintentionally introducing others.</li>\n",
    "</ul>"
   ]
  },
  {
   "cell_type": "markdown",
   "id": "10fd4ebe",
   "metadata": {},
   "source": [
    "### Symptoms and Causes of Complexity\n",
    "\n",
    "These are the three symptoms of complexity:\n",
    "\n",
    "<b>Change amplification</b>: A simple change requires modification in many places.\n",
    "   \n",
    "<b>Cognitive load</b>: How much you need to know in order to make a change.\n",
    "\n",
    "> This is not the same as number of lines of code. Often MORE lines of code actually makes code simpler, because it is more narrative. There are several examples of code I presented in class that could be done in fewer lines of code, but adding in more steps helped the students <b>understand the procecure</b>, which strengthens their understanding of the programming language.\n",
    "   \n",
    "<b>Unknown unknowns</b>: The worst type of complexity. This occurs when it’s not even clear what you need to know in order to make modifications!\n",
    "\n",
    "> Quick Story: Two of your TAs, Tara Flannery and Brooke Mackey, were tasked with updating code on a gyroscopic monitoring system for the Navy. They successfully recommended cleaning up the code base because the systems code would frequently fail on several tests. They even used the PQC rules to prove the previously existing code was inefficient and unsafe, putting sailors at risk. Based on their recommendations, Pacific Northwest Naval Labs adopted the PQC coding standards.\n"
   ]
  },
  {
   "cell_type": "markdown",
   "id": "9693ae6d",
   "metadata": {},
   "source": [
    "### <font color = \"red\">Class Introduction Question #1 - What is Programming Complexity? Describe an example of programming complexity.</a>\n",
    "\n",
    "### <font color = \"red\">Class Introduction Question #2 - State and briefly describe the three symptoms and causes of Programming Complexity.</a>"
   ]
  },
  {
   "cell_type": "markdown",
   "id": "8355e96c",
   "metadata": {},
   "source": [
    "### The next reading for this lecture is <a href = \"https://github.com/mmorri22/cse20133/blob/main/readings/lec39/Reading%2039-2.ipynb\">Reading 39-2 - Strategic vs. Tactical Programming</a>"
   ]
  }
 ],
 "metadata": {
  "kernelspec": {
   "display_name": "Python 3 (ipykernel)",
   "language": "python",
   "name": "python3"
  },
  "language_info": {
   "codemirror_mode": {
    "name": "ipython",
    "version": 3
   },
   "file_extension": ".py",
   "mimetype": "text/x-python",
   "name": "python",
   "nbconvert_exporter": "python",
   "pygments_lexer": "ipython3",
   "version": "3.9.13"
  }
 },
 "nbformat": 4,
 "nbformat_minor": 5
}
