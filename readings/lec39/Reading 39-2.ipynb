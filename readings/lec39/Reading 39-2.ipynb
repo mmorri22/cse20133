{
 "cells": [
  {
   "cell_type": "markdown",
   "id": "c3a82836",
   "metadata": {},
   "source": [
    "## Reading 39-2 - Strategic vs. Tactical Programming"
   ]
  },
  {
   "cell_type": "markdown",
   "id": "c1aa067e",
   "metadata": {},
   "source": [
    "### Tactical Programming\n",
    "\n",
    "To this point in your career, much (or all) of the programming that you’ve done can be describe as “tactical”. \n",
    "\n",
    "> Tactical Programming: “Your main focus is to get something working, such as a new feature or bug fix.”\n",
    "    \n",
    "This may seem like a silly criticism. Clearly, working code is good. The problem with tactical programming is that you don’t spend problem thinking about <b>overall desig</b>n.\n",
    "\n",
    "As a result, you introduce tons of little complexities, e.g. making two copies of a method that do something similar.\n",
    "\n",
    "Each individual complexity seems reasonable, but eventually you start to feel the weight.\n",
    "\n",
    "Refactoring would fix the problem, but it would also take time, so you end up introducing even more complexity to deal with the original ones."
   ]
  },
  {
   "cell_type": "markdown",
   "id": "a3cb0dcd",
   "metadata": {},
   "source": [
    "### Strategic Programming\n",
    "\n",
    "The first step towards becoming a good software designer is to realize that working code isn’t enough. “The most important thing is the <b>long term structure of the system</b>.\n",
    "<ul>\n",
    "    <li>Adding complexities to achieve short term time games is unacceptable.</li>\n",
    "    <li>Many of you experienced this growth when working with <code>valgrind</code>. The code may appear to have worked, except with a valgrind error. The reality is that your code work for that specific set of inputs only, and even then, it didn't necessarily \"work\".</li>\n",
    "</ul>\n",
    "\n"
   ]
  },
  {
   "cell_type": "markdown",
   "id": "4d41323e",
   "metadata": {},
   "source": [
    "### Suggestions for Strategic Programming\n",
    "\n",
    "Strategic programming requires lots of time investment. But those who can do it well are highly coveted in industry, because too many programmers are simply tactical programmers. The \"strategic\" aspect of programming is what differentiates a true computing scientist.\n",
    "\n",
    "For each new programming task:\n",
    "<ul>\n",
    "    <li>Rather than implementing the first idea, try coming up with (and possibly even partially implementing) a few different ideas.</li>\n",
    "    <li>When you feel like you have found something that feels clean, then fully implement that idea.</li>\n",
    "    <li>In real systems: Try to imagine how things might need to be changed in the future, and make sure your design can handle such changes.</li>\n",
    "</li>"
   ]
  },
  {
   "cell_type": "markdown",
   "id": "a70cc168",
   "metadata": {},
   "source": [
    "### Facebook as a Tactical Programming Case Study\n",
    "\n",
    "As a startup, Facebook embraced tactical programming.\n",
    "<ul>\n",
    "    <li>“Move fast and break things.”</li>\n",
    "    <li>Common for new engineers to push changes to the live site within their first week.</li>\n",
    "    <li>Very rapid development process in the short term.</li>\n",
    "    <li>Felt empowering to new employees!</li>\n",
    "</ul>\n",
    "\n",
    "Facebook was very successful, but its codebase was a mess.\n",
    "<ul>\n",
    "    <li>Their code database was described as “incomprehensible, unstable, few comments or tests, and painful to work with.”</li>\n",
    "    <li>Eventually, Facebook's motto became “Move fast with stable infra.”</li>\n",
    "</ul>\n",
    "\n",
    "Note: Arguably Facebook’s general attitude has done great harm."
   ]
  },
  {
   "cell_type": "markdown",
   "id": "bcbd3817",
   "metadata": {},
   "source": [
    "### Google and VMware as a Strategic Programming Case Studies\n",
    "\n",
    "By contrast Google and VMware are known as highly strategic organizations.\n",
    "\n",
    "Both companies placed a heavy emphasis on high quality code and good design.\n",
    "<ul>\n",
    "    <li>Google, for many years, was \"in Beta\" because they were committed to proactively fix their design</li>\n",
    "    <li>Both companies built sophisticated products that solved complex problems with reliable software systems.</li>\n",
    "    <li>The companies’ strong technical cultures became well known in Silicon Valley. Few other companies could compete with them to hire the top technical talent.</li>\n",
    "    <li>Real world projects and companies succeed with either approach! </li>\n",
    "</ul>"
   ]
  },
  {
   "cell_type": "markdown",
   "id": "a40063ac",
   "metadata": {},
   "source": [
    "### The Ledger of Harms\n",
    "\n",
    "Why is understanding the difference between Tactical and Strategic Programming as an engineering professional so important? Because the same ideas you use to following strategic programming are the same you will use when making ethical decisions. \n",
    "<ul>\n",
    "    <li>“I think we have created tools that are ripping apart the social fabric of how society works.” - <a href = \"https://www.theverge.com/2017/12/11/16761016/former-facebook-exec-ripping-apart-society\">Chamath Palihapitiya</a> (early executive at Facebook)</li>\n",
    "    <li>“The technologies we were most excited about 10 years ago are now implicated in just about every catastrophe of the day.” - <a href = \"https://www.nytimes.com/2017/10/11/insider/tech-column-dread.html\">Farhad Manjoo</a> (technology journalist)</li>\n",
    "    <li>The reality is that technology companies do inflict significant negative externalities upon society.</li>\n",
    "</ul>\n",
    " \n",
    "Most of them are still a net positive, e.g. I personally use and enjoy Facebook. My personal sense is that these are largely unintended consequences by well intentioned people.\n",
    "\n",
    "Yes, there are some bad actors, but I don’t think they are common. Workers and executives at these companies do care.\n",
    "… but money does skew people’s perspective in strange ways."
   ]
  },
  {
   "cell_type": "markdown",
   "id": "89b7c3c6",
   "metadata": {},
   "source": [
    "### Conclusion\n",
    "\n",
    "You shouldn't just understand that <b>saving intermediate steps</b> in registers and stack memory is a performance improvement over dynamic memory. You should also understand that safety device chips in automobiles require <b>efficient, secure, and fast processing</b>, and that your understanding of these mechanisms can <b>literally be the difference between life and death</b>.\n",
    "\n",
    "You shouldn't just understand that <b>hashing provides faster insertion and look-up time</b>. You should also understand that <b>financial and medical environments</b> using hashing for <b>fast decision making and cryptography</b>, so that your understanding of these mechanisms can improve decision times for <b>stock broking</b> or <b>time critical decisions in emergency rooms</b>."
   ]
  },
  {
   "cell_type": "markdown",
   "id": "f9727059",
   "metadata": {},
   "source": [
    "### <font color = \"red\">Class Introduction Question #3 - What is Tactical Programming? Describe the drawbacks of tactical programming.</a>\n",
    "\n",
    "### <font color = \"red\">Class Introduction Question #4 - What is Strategic Programming? Describe the programming benefits of strategic programming.</a>\n",
    "\n",
    "### <font color = \"red\">Class Introduction Question #5 - In the context of the Ledger of Harsm, what ae the ethical benefits of strategic programming?</a>"
   ]
  }
 ],
 "metadata": {
  "kernelspec": {
   "display_name": "Python 3 (ipykernel)",
   "language": "python",
   "name": "python3"
  },
  "language_info": {
   "codemirror_mode": {
    "name": "ipython",
    "version": 3
   },
   "file_extension": ".py",
   "mimetype": "text/x-python",
   "name": "python",
   "nbconvert_exporter": "python",
   "pygments_lexer": "ipython3",
   "version": "3.9.13"
  }
 },
 "nbformat": 4,
 "nbformat_minor": 5
}
