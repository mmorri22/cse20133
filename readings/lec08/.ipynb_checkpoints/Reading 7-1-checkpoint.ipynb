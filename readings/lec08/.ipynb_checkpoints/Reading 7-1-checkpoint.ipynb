{
 "cells": [
  {
   "cell_type": "markdown",
   "id": "19d0833b",
   "metadata": {},
   "source": [
    "## Reading 7-1 Header Files"
   ]
  },
  {
   "cell_type": "markdown",
   "id": "2fa72e62",
   "metadata": {},
   "source": [
    "In this reading, you will learn about:\n",
    "<ul>\n",
    "    <li>Header Files</li>\n",
    "    <li>Separate Compilation</li>\n",
    "    <li>The process of building executables</li>\n",
    "    <li>Multiple Executables in one Folder</li>\n",
    "</ul>"
   ]
  },
  {
   "attachments": {},
   "cell_type": "markdown",
   "id": "8263cc24",
   "metadata": {},
   "source": [
    "To this point, you have used C libraries to call functions\n",
    "<ul>\n",
    "    <li><code>fprintf</code> comes from <code>stdio.h</code></li>\n",
    "    <li><code>exit(-1)</code> comes from <code>stdlib.h</code></li>\n",
    "</ul>\n",
    "\n",
    "Now, you can make your own libraries. To do this, we must create <b>header files</b>\n",
    "<ul>\n",
    "    <li>Header files contain the <b>function declaration</b></li>\n",
    "    <li>The corresponding C files contain the <b>function definition</b></li> \n",
    "</ul>"
   ]
  },
  {
   "attachments": {},
   "cell_type": "markdown",
   "id": "61e39e2a",
   "metadata": {},
   "source": [
    "### Why Header Files?\n",
    "\n",
    "Before:\n",
    "<ul>\n",
    "    <li>Function declarations at the top</li>\n",
    "    <li>Function definitions at the bottom.</li>\n",
    "    <li>Good for reusing functions in the same program</li>\n",
    "    <li>However: <i>limited to use in one program only</i></li>\n",
    "</ul>\n",
    "    \n",
    "Header Files allow us to <b>re-use functions</b> in different programs, so you can <b>build your own libraries</b>"
   ]
  },
  {
   "cell_type": "code",
   "execution_count": null,
   "id": "f1cb3150",
   "metadata": {},
   "outputs": [],
   "source": []
  }
 ],
 "metadata": {
  "kernelspec": {
   "display_name": "Python 3 (ipykernel)",
   "language": "python",
   "name": "python3"
  },
  "language_info": {
   "codemirror_mode": {
    "name": "ipython",
    "version": 3
   },
   "file_extension": ".py",
   "mimetype": "text/x-python",
   "name": "python",
   "nbconvert_exporter": "python",
   "pygments_lexer": "ipython3",
   "version": "3.9.13"
  }
 },
 "nbformat": 4,
 "nbformat_minor": 5
}
