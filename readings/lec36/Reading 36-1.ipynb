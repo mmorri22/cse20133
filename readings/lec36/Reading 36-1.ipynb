{
 "cells": [
  {
   "cell_type": "markdown",
   "id": "7cf6ea5f",
   "metadata": {},
   "source": [
    "## Reading 36-1 - Multithreading and Parallel Computation"
   ]
  },
  {
   "cell_type": "markdown",
   "id": "76ea4e17",
   "metadata": {},
   "source": [
    "Parallel computations are calculations or processes are carried out simultaneously on multiple processes. Large problems can often be divided into smaller ones, which can then be solved at the same time. "
   ]
  },
  {
   "cell_type": "markdown",
   "id": "cf54c0f4",
   "metadata": {},
   "source": [
    "### Parallelism of Data and Parallelism of Structure\n",
    "\n",
    "A <b>multi-core processor</b> has two processing units on the same integrated circuit.\n",
    "<ul>\n",
    "    <li>Can run multiple programs <b>simultaneously</b></li>\n",
    "    <li>Can improve the performance of a programming by <b>dividing tasks</b> among the different processors</li>\n",
    "</ul>\n",
    "\n",
    "#### Registers and Parallel Processors\n",
    "\n",
    "In multiprocessing, we can have a scenario where a program running on multiple processors that equires having a copy of a single variable in several places:\n",
    "<ul>\n",
    "    <li>Multiple registers in multiple processors</li>\n",
    "    <li>If we have three processors operating on copies of the same variable, we need to keep track versions of <b>different versions</b> of that variable</li>\n",
    "</ul>\n",
    "\n",
    "### Threads\n",
    "\n",
    "To manage those different processes, Operating Systems use <b>threads</b> to track those processes. \n",
    "\n",
    "> A thread consists of a program counter, a stack, and a set of registers. \n",
    "\n",
    "In C, a pthread is used to keep track of where that information is located in memory.\n",
    "\n"
   ]
  },
  {
   "cell_type": "markdown",
   "id": "a77c6a0a",
   "metadata": {},
   "source": [
    "### <font color = \"red\">Class Introduction Question #1 - What is a C++ template, and how do we use C++ templates to reduce the complexity of writing programs?</a>\n",
    "\n",
    "###  <font color = \"red\">Class Introduction Question #2 - Describe a simple C++ function declaration using templates to add two numbers and return a result</a>"
   ]
  },
  {
   "cell_type": "markdown",
   "id": "988e3c09",
   "metadata": {},
   "source": [
    "### The next reading for this lecture is <a href = \"https://github.com/mmorri22/cse20133/blob/main/readings/lec27/Reading%2027-2.ipynb\">Reading 27-2 - Memory Allocation in C++</a>"
   ]
  }
 ],
 "metadata": {
  "kernelspec": {
   "display_name": "Python 3 (ipykernel)",
   "language": "python",
   "name": "python3"
  },
  "language_info": {
   "codemirror_mode": {
    "name": "ipython",
    "version": 3
   },
   "file_extension": ".py",
   "mimetype": "text/x-python",
   "name": "python",
   "nbconvert_exporter": "python",
   "pygments_lexer": "ipython3",
   "version": "3.9.13"
  }
 },
 "nbformat": 4,
 "nbformat_minor": 5
}
