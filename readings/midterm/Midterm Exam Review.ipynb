{
 "cells": [
  {
   "cell_type": "markdown",
   "id": "eebd5727",
   "metadata": {},
   "source": [
    "# Midterm Exam Review"
   ]
  },
  {
   "cell_type": "markdown",
   "id": "6d686ff9",
   "metadata": {},
   "source": [
    "## Course Objectives Covered on this Exam\n",
    "\n",
    "I have included a copy of the Course Overview and Objectives here. The portions of the Course Overview and Objectives that will be covered on this exam are highlighted and bolded in red.\n",
    "     \n",
    "This course introduces students to <font color = \"red\"><b>computational thinking</b></font>, and develops their ability to solve engineering problems in software. Students will learn <font color = \"red\"><b>structured programming</b></font>, algorithm analysis and development, <font color = \"red\"><b>C syntax and semantics</b></font>, <font color = \"red\"><b>logical and syntactical debugging</b></font>, and <font color = \"red\"><b>software engineering fundamentals</b></font>. Students will engage in practical, hands-on programming exercises both inside and outside of class.\n",
    "     \n",
    "## How the Exam will be Given\n",
    "    \n",
    "Unless you have an accommodation from the Sara Bee Center or under quarantine you must take this Exam in the lecture room at the designated class time.\n",
    "     \n",
    "Me and the Teaching Assistants will hand out exams 5 minutes prior to the beginning of class. Students may begin them at 9:25am and when they have put their non-permitted items away. You must hand in your Exam when I indicate time is up. Continuing to work on the exam after time is called will result in disqualification of your Exam.\n",
    "\n",
    "## Exam Format\n",
    "\n",
    "The problems on the Exam will be similar in format to the Homework problems. You will not be asked to write and compile code. (You can be asked what an issue is with a code segment based on an error message)\n",
    "    \n",
    "This exam is closed book: You may not use any website, books, HW solutions, Hogwarts Owls, voodoo magic, other kinds of magic, smoke signals, or your class notes.\n",
    "\n",
    "If you are caught using any unauthorized resource, you will receive an automatic 0 on the Exam and a referral to the Notre Dame Academic Honor council.\n",
    " \n",
    "\n",
    "The Exam will have one \"Evaluation\" question where the answer will not be readily obvious that is not quite like the Homework questions. You know everything you need to know to solve the problem, and the objective is for you to show that you can combine your memorization, understanding, and application skills in an evaluative manner befitting an engineer."
   ]
  },
  {
   "cell_type": "markdown",
   "id": "17f93326",
   "metadata": {},
   "source": [
    "## Building your Exam Study Guide\n",
    "\n",
    "The Homework questions and in-class problems have solution keys available. The objective of these problems is for you to practice the problems to set you up for success.\n",
    "\n",
    "These set of problems are longer than the actual exam. But if you can solve these problems independent of the keys or your notes, you will have set yourself up well for success on the Exam.\n",
    "\n",
    "The general outline for the Exam will be covered in class on the Monday prior to the Exam."
   ]
  },
  {
   "cell_type": "markdown",
   "id": "92b8532d",
   "metadata": {},
   "source": [
    "## Example Questions\n",
    "\n",
    "Work to develop an example study guide for these problems. The key for all of these problems are posted (The HW 5 key will be posted first thing on Monday morning, 3 days prior to the Exam)\n",
    "\n",
    "> <b>Pro tip:</b> Develop variants of problems to build your own guide!\n",
    "\n",
    "<b>1.</b> Homework 1 - Problem 1\n",
    "\n",
    "<b>2.</b> Homework 1 - Problem 2\n",
    "\n",
    "<b>3.</b> Homework 1 - Problem 4\n",
    "\n",
    "<b>4.</b> Homework 3 - Problem 1\n",
    "\n",
    "<b>5.</b> Homework 3 - Problem 3\n",
    "\n",
    "<b>6.</b> Homework 3 - Problem 4\n",
    "\n",
    "<b>7.</b> Homework 3 - Problem 6\n",
    "\n",
    "<b>8.</b> In-Class Lecture 12 - Recursive Trace Stack Example\n",
    "\n",
    "<b>9.</b> In-Class Lecture 15 - Memory Map Problem\n",
    "\n",
    "<b>10.</b> Homework 4 - Problem 3\n",
    "\n",
    "<b>11.</b> Homework 5 - Problem 2\n",
    "\n",
    "<b>12.</b> Homework 5 - Problem 2\n",
    "\n",
    "<b>13.</b> In-Class Lecture 18 - Memory Map Problem"
   ]
  }
 ],
 "metadata": {
  "kernelspec": {
   "display_name": "Python 3 (ipykernel)",
   "language": "python",
   "name": "python3"
  },
  "language_info": {
   "codemirror_mode": {
    "name": "ipython",
    "version": 3
   },
   "file_extension": ".py",
   "mimetype": "text/x-python",
   "name": "python",
   "nbconvert_exporter": "python",
   "pygments_lexer": "ipython3",
   "version": "3.9.13"
  }
 },
 "nbformat": 4,
 "nbformat_minor": 5
}
