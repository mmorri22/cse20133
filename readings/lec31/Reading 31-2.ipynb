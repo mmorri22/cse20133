{
 "cells": [
  {
   "cell_type": "markdown",
   "id": "74e18c4d",
   "metadata": {},
   "source": [
    "## Reading 31-2 - The <code>private</code> keyword and accessor methods"
   ]
  },
  {
   "cell_type": "markdown",
   "id": "ec0de4b7",
   "metadata": {},
   "source": [
    "In the C++, members of a C++ are <b>private</b> by default. Which means you cannot access them with the <code>.</code> or <code>-></code> operators like with did with C structs."
   ]
  },
  {
   "cell_type": "markdown",
   "id": "33209b48",
   "metadata": {},
   "source": [
    "### The <code>private</code> keyword\n",
    "\n",
    "We will first modify the Animal class by indicating that all the members are private. They are private by default, but we can use the <code>public</code> keyword to indicate which members and methods we are OK with the user accessing \n",
    "\n",
    "    class Animal {\n",
    "\n",
    "    /*** Private Members ***/\n",
    "    private:\n",
    "    \n",
    "        std::string name;\n",
    "        int age;\n",
    "        int weight;"
   ]
  },
  {
   "cell_type": "markdown",
   "id": "c5a4a2f6",
   "metadata": {},
   "source": [
    "### Accessor methods and the <code>const</code> keyword\n",
    "\n",
    "If we want to <b>set</b> a private member, we need an accessor method to update that member. For example, here are some set methods for each element. Notice we use the <code>public</code> keyword to indicate a method should be accessible by the user:\n",
    "\n",
    "> Also, notice that all the values passed to the method are passed as <code>const</code>. We do this because they will not be changed.\n",
    "    \n",
    "    public:\n",
    "    \n",
    "            void set_weight(const int w) {\n",
    "        \n",
    "                if (w > 100) {\n",
    "                    printf(\"error: unrealistic weight!\\n\");\n",
    "                    return;\n",
    "                }\n",
    "\n",
    "                /* Accessing the weight in Animal using \"this\" */\n",
    "                this->weight = w;\n",
    "            }\n",
    "            \n",
    "            void set_name( const std::string& name ){\n",
    "            \n",
    "                this->name = name;\n",
    "            }\n",
    "\n",
    "            void set_age( const int age ){\n",
    "            \n",
    "                this->age = age;\n",
    "            }\n",
    "            \n",
    "### get Accessor methods\n",
    "\n",
    "To get a private member, we will access them using a method that returns a copy. We note here that a user may want to pass an object to a function as <code>const</code>, so we define this rule:\n",
    "\n",
    "> Any class method that does not update a private member must be defined as const\n",
    "\n",
    "        std::string get_name() const{\n",
    "            return this->name;\n",
    "        }\n",
    "\n",
    "        int get_weight() const{\n",
    "            return this->weight;\n",
    "        }\n",
    "\n",
    "        int get_age() const{\n",
    "            return this->age;\n",
    "        }\n",
    "        \n",
    "        void print_animal() const{\n",
    "            \n",
    "            std::cout << \"--------------------------------\" << std::endl;\n",
    "            std::cout << \"Name: \" << this->name << std::endl;\n",
    "            std::cout << this->name << \"'s age: \" << this->age << std::endl;  \n",
    "            std::cout << this->name << \"'s weight: \" << this->weight << std::endl;   \n",
    "            std::cout << \"--------------------------------\" << std::endl;\n",
    "\n",
    "        }"
   ]
  },
  {
   "cell_type": "markdown",
   "id": "05b5c8e5",
   "metadata": {},
   "source": [
    "### Fix in Main\n",
    "\n",
    "We now use the accessor methods to fix the compiler errors in Reading 29-1:\n",
    "    \n",
    "    int main(){\n",
    "    \n",
    "        /* Static Class */\n",
    "        Animal stack_cat;\n",
    "        stack_cat.set_name(\"kitty\");\n",
    "        stack_cat.set_age(5);\n",
    "        stack_cat.set_weight(12);\n",
    "        stack_cat.print_animal();    \n",
    "\n",
    "        /* Dynamic Class */        \n",
    "        Animal* heap_dog = new Animal();\n",
    "        heap_dog->set_name(\"Eirinn\");\n",
    "        heap_dog->set_age(7);\n",
    "        heap_dog->set_weight(55);\n",
    "        heap_dog->print_animal();\n",
    "\n",
    "        heap_dog->set_weight(999); // will report an error\n",
    "\n",
    "\n",
    "        // C++ Equivalent of free( heap_dog );\n",
    "        delete heap_dog;\n",
    "\n",
    "        return EXIT_SUCCESS;\n",
    "    }"
   ]
  },
  {
   "cell_type": "markdown",
   "id": "82b54cf0",
   "metadata": {},
   "source": [
    "### Compilation and Run\n",
    "\n",
    "You can see for yourself by running the following commands:\n",
    "\n",
    "    > wget https://raw.githubusercontent.com/mmorri22/cse20133/main/readings/lec29/animal_fixed.cpp\n",
    "    > make animal_fixed\n",
    "    g++ -m64 -std=c++2a -O2 -g -Wall -Wextra -Wconversion -Werror -c animal_fixed.cpp\n",
    "    g++ -m64 -std=c++2a -O2 -g -Wall -Wextra -Wconversion -Werror -o animal_fixed animal_fixed.o -lm\n",
    "    > ./animal_fixed\n",
    "    --------------------------------\n",
    "    Name: kitty\n",
    "    kitty's age: 5\n",
    "    kitty's weight: 12\n",
    "    --------------------------------\n",
    "    --------------------------------\n",
    "    Name: Eirinn\n",
    "    Eirinn's age: 7\n",
    "    Eirinn's weight: 55\n",
    "    --------------------------------\n",
    "    error: unrealistic weight!\n",
    "    > make clean\n",
    "    rm -rf *.o animal_bad animal_class animal_fixed"
   ]
  },
  {
   "cell_type": "markdown",
   "id": "baee47ed",
   "metadata": {},
   "source": [
    "###  <font color = \"red\">Class Introduction Question #5 - What are accessor methods and why do we use them?</a>\n",
    "\n",
    "###  <font color = \"red\">Class Introduction Question #6 - When, how, and why do we define class methods as const?</a>"
   ]
  },
  {
   "cell_type": "markdown",
   "id": "30fc2471",
   "metadata": {},
   "source": [
    "### The next reading for this lecture is <a href = \"https://github.com/mmorri22/cse20133/blob/main/readings/lec31/Reading%2031-3.ipynb\">Reading 31-3 - C++ Constructors and Destructors</a>"
   ]
  }
 ],
 "metadata": {
  "kernelspec": {
   "display_name": "Python 3 (ipykernel)",
   "language": "python",
   "name": "python3"
  },
  "language_info": {
   "codemirror_mode": {
    "name": "ipython",
    "version": 3
   },
   "file_extension": ".py",
   "mimetype": "text/x-python",
   "name": "python",
   "nbconvert_exporter": "python",
   "pygments_lexer": "ipython3",
   "version": "3.9.13"
  }
 },
 "nbformat": 4,
 "nbformat_minor": 5
}
