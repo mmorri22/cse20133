{
 "cells": [
  {
   "cell_type": "markdown",
   "id": "66d18e20",
   "metadata": {},
   "source": [
    "## Reading 31-3 - C++ Constructors and Destructors"
   ]
  },
  {
   "cell_type": "markdown",
   "id": "2351eec6",
   "metadata": {},
   "source": [
    "### Constructors and the \"this\" keyword\n",
    "\n",
    "When we allocated a struct on the Data Heap in C, we learned that we could find the address of the struct by using the <code>&variable</code> definition and the <code>%p</code> output specifier. We learned that this address was the <b>base address</b> of the struct.\n",
    "\n",
    "<code>this</code> points to the base address of the class.\n",
    "\n",
    "We may simplify the process of creating a class by defining a specific method called a <b>constructor</b>. The C++ constructor performs all the pointer arithmetic for you, abstracting the complexity away.\n",
    "\n",
    "> A C++ constructor does not have a return type, because it is defining the location on the Stack or Heap\n",
    "\n",
    "The format we will use in the course is a <b>member initialization list</b>. Here is the generalized format\n",
    "\n",
    "    struct_name( input_1, input_2, ..., input_n ) : member_1( input_1 ), member_2( input_2 ), ... , member_n( input_n ) {}\n",
    "\n",
    "> To meet the Production Quality Compilation requirements, we must define the internal variables, and they must be defined in the order they are allocated. The reason for this is because the underlying pointer arithmetic is performed in order, improving the efficiency.\n",
    "\n",
    "Here is a constructor example for our Animal Class:\n",
    "\n",
    "    Animal( const std::string& name, const int age, const int weight) : name(name), age(age), weight(weight){}"
   ]
  },
  {
   "cell_type": "markdown",
   "id": "1a8e900a",
   "metadata": {},
   "source": [
    "### Destructors\n",
    "\n",
    "In C++ Classes, we will use a public method with a <code>~</code> in front as a <b>destructor</b>, which will allow us to delete dynamically allocated members of the class. For now, we do not have any, so the destructor is empty:\n",
    "\n",
    "    /* Destructor - No dynamic memory, so nothing needs to be in it */\n",
    "    ~Animal(){}"
   ]
  },
  {
   "cell_type": "markdown",
   "id": "2c406007",
   "metadata": {},
   "source": [
    "### Updated Main\n",
    "\n",
    "Here is the updated main function with the called constructor and destructor (with delete). This code is available at <a href = \"https://github.com/mmorri22/cse20133/blob/main/readings/lec29/animal_class.cpp\">animal_class.cpp</a>\n",
    "\n",
    "    int main(){\n",
    "    \n",
    "        /* Static class using Constructor */\n",
    "        Animal stack_cat( \"kitty\", 5, 12 );\n",
    "        stack_cat.print_animal();    \n",
    "\n",
    "        /* Dynamic class using Constructor and Destructor */\n",
    "        Animal* heap_dog = new Animal(\"Eirinn\", 7, 55);\n",
    "        heap_dog->print_animal();\n",
    "        heap_dog->set_weight(999); // will report an error\n",
    "\n",
    "        delete heap_dog; \n",
    "\n",
    "        return EXIT_SUCCESS;\n",
    "    }\n",
    "\n",
    "### See for yourself\n",
    "\n",
    "Run the following commands to see the output:\n",
    "\n",
    "    > wget https://raw.githubusercontent.com/mmorri22/cse20133/main/readings/lec29/animal_class.cpp\n",
    "    > make animal_class\n",
    "    g++ -m64 -std=c++2a -O2 -g -Wall -Wextra -Wconversion -Werror -c animal_class.cpp\n",
    "    g++ -m64 -std=c++2a -O2 -g -Wall -Wextra -Wconversion -Werror -o animal_class animal_class.o -lm\n",
    "    > ./animal_class\n",
    "    --------------------------------\n",
    "    Name: kitty\n",
    "    kitty's age: 5\n",
    "    kitty's weight: 12\n",
    "    --------------------------------\n",
    "    --------------------------------\n",
    "    Name: Eirinn\n",
    "    Eirinn's age: 7\n",
    "    Eirinn's weight: 55\n",
    "    --------------------------------\n",
    "    error: unrealistic weight!\n",
    "    > make clean\n",
    "    rm -rf *.o animal_bad animal_fixed animal_class"
   ]
  },
  {
   "cell_type": "markdown",
   "id": "0028896d",
   "metadata": {},
   "source": [
    "###  <font color = \"red\">Class Introduction Question #7 - What is a C++ constructor and how do we define them in a class?</a>\n",
    "\n",
    "###  <font color = \"red\">Class Introduction Question #8 - What is a C++ destructor and how do we define them in a class?</a>"
   ]
  }
 ],
 "metadata": {
  "kernelspec": {
   "display_name": "Python 3 (ipykernel)",
   "language": "python",
   "name": "python3"
  },
  "language_info": {
   "codemirror_mode": {
    "name": "ipython",
    "version": 3
   },
   "file_extension": ".py",
   "mimetype": "text/x-python",
   "name": "python",
   "nbconvert_exporter": "python",
   "pygments_lexer": "ipython3",
   "version": "3.9.13"
  }
 },
 "nbformat": 4,
 "nbformat_minor": 5
}
