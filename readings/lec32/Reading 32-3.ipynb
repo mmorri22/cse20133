{
 "cells": [
  {
   "cell_type": "markdown",
   "id": "7cf6ea5f",
   "metadata": {},
   "source": [
    "## Reading 32-3 - Data Visualization In C++"
   ]
  },
  {
   "cell_type": "markdown",
   "id": "fe0a89b4",
   "metadata": {},
   "source": [
    "In this reading, we will observe how to install <a href = \"https://github.com/Cryoris/matplotlib-cpp\">Matplotlib-CPP</a> in your Ubuntu environment in order to better visualize data."
   ]
  },
  {
   "cell_type": "markdown",
   "id": "76ea4e17",
   "metadata": {},
   "source": [
    "### What is Data Preprocessing?\n",
    "\n",
    "<b>Data preprocessing</b> is the process of <b>converting raw data</b> into <b>computer understandable formats</b>, it’s the first step in any machine learning operation.\n",
    "\n",
    "Data preprocessing includes:\n",
    "<ul>\n",
    "    <li>Reading Data from files.</li>\n",
    "    <li>Data cleaning.</li>\n",
    "    <li>Instance selection.</li>\n",
    "    <li>Data standardization.</li>\n",
    "    <li>Data transformation.</li>\n",
    "    <li>Feature extraction and selection.</li>\n",
    "</ul>\n",
    "\n",
    "The product of data preprocessing is the final <b>training set</b>. A training set is the a set of examples used to fit the parameters of the ML model."
   ]
  },
  {
   "cell_type": "markdown",
   "id": "0e39e7d7",
   "metadata": {},
   "source": [
    "### Initial Example: The Iris Data set\n",
    "\n",
    "In the example, we will perform Data Preprocessing on the Iris data set. The <a href = \"https://en.wikipedia.org/wiki/Iris_flower_data_set\">Iris data set</a> is one of the best‐known and most widely used data sets in statistics and data science used for evaluating classification methods.\n",
    "\n",
    "The data set consists of 50 samples from each of three species of Iris:\n",
    "<ol>\n",
    "    <li>Iris setosa</li>\n",
    "    <li>Iris virginica</li>\n",
    "    <li>Iris versicolor</li>\n",
    "</ol>\n",
    "\n",
    "Four features were measured from each sample in centimeters:\n",
    "<ol>\n",
    "    <li>the length of the sepals</li>\n",
    "    <li>the width of the sepals</li>\n",
    "    <li>the length of the petals</li>\n",
    "    <li>the width of the petals</li>\n",
    "</ol>\n",
    "\n",
    "Based on the combination of these four features, <a href = \"https://en.wikipedia.org/wiki/Ronald_Fisher\">Ronald Fisher</a> developed a linear discriminant model to distinguish the species from each other. "
   ]
  },
  {
   "cell_type": "markdown",
   "id": "c579d403",
   "metadata": {},
   "source": [
    "### Reading the Iris Dataset from Files\n",
    "\n",
    "You can download the iris dataset into your container using the following commands in VS Code:\n",
    "\n",
    "    mkdir reading32\n",
    "    cd reading32\n",
    "    wget https://raw.githubusercontent.com/mmorri22/cse20133/main/readings/lec32/iris.data\n",
    "    \n",
    "Looking at the first few lines, we can see how the data corresponds to the "
   ]
  },
  {
   "cell_type": "markdown",
   "id": "a77c6a0a",
   "metadata": {},
   "source": [
    "### <font color = \"red\">Class Introduction Question #4 - What is a Data Preprocessing and how do we use data preprocessing in machine learning?</a>"
   ]
  },
  {
   "cell_type": "markdown",
   "id": "988e3c09",
   "metadata": {},
   "source": [
    "### The next reading for this lecture is <a href = \"https://github.com/mmorri22/cse20133/blob/main/readings/lec32/Reading%2032-2.ipynb\">Reading 32-2 - Data Preprocessing And Visualization In C++.</a>"
   ]
  }
 ],
 "metadata": {
  "kernelspec": {
   "display_name": "Python 3 (ipykernel)",
   "language": "python",
   "name": "python3"
  },
  "language_info": {
   "codemirror_mode": {
    "name": "ipython",
    "version": 3
   },
   "file_extension": ".py",
   "mimetype": "text/x-python",
   "name": "python",
   "nbconvert_exporter": "python",
   "pygments_lexer": "ipython3",
   "version": "3.9.13"
  }
 },
 "nbformat": 4,
 "nbformat_minor": 5
}
