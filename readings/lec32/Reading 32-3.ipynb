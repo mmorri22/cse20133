{
 "cells": [
  {
   "cell_type": "markdown",
   "id": "7cf6ea5f",
   "metadata": {},
   "source": [
    "## Reading 32-3 - Data Visualization In C++"
   ]
  },
  {
   "cell_type": "markdown",
   "id": "fe0a89b4",
   "metadata": {},
   "source": [
    "In this reading, we will observe how to install <a href = \"https://github.com/Cryoris/matplotlib-cpp\">Matplotlib-CPP</a> in your Ubuntu environment in order to better visualize data. Then, we will perform some data basic visualizations."
   ]
  },
  {
   "cell_type": "markdown",
   "id": "76ea4e17",
   "metadata": {},
   "source": [
    "### What is Data Visualization?\n",
    "\n",
    "Images speak louder than words, Representing the data visually can be important for understanding the data, collecting information about the data, and identifying the outliers. It is important to visualize the data during the implementation and debugging process in C++."
   ]
  },
  {
   "cell_type": "markdown",
   "id": "c4d818f3",
   "metadata": {},
   "source": [
    "### Installing and Implementing Matplotlib-CPP\n",
    "\n",
    "<a href = \"https://github.com/Cryoris/matplotlib-cpp\">Matplotlib for C++</a> is a C++ wrapper for Python’s matplotlib (MPL) plotting library. \n",
    "\n",
    "The objective of Matplotlib-CPP is to serve as lightweight, easy-to-use interface to create stylish and clean plots in C++ using basic MPL commands.\n",
    "\n",
    "#### Step 1 - Installing Python\n",
    "\n",
    "Close out of your VS Code and your Docker Destop. Re-open Docker Desktop and start your Container.\n",
    "\n",
    "Go to either \"Terminal\" or \"Exec\" (you will see one or the other.)\n",
    "\n",
    "In that terminal, run the following commands, which will install Python, numpy, and scipy in your container.\n",
    "\n",
    "    sudo apt update\n",
    "    sudo apt-get install python3\n",
    "    sudo apt-get install python3-pip\n",
    "    sudo pip3 install matplotlib\n",
    "    sudo apt-get install python3-tk\n",
    "    sudo apt install python-numpy\n",
    "    python3 --version\n",
    "    \n",
    "#### Step 2 - Updating the Makefile\n",
    "\n",
    "In the <a href = \"\">Makefile</a>, you will see that there are new flags:\n",
    "\n",
    "    "
   ]
  },
  {
   "cell_type": "markdown",
   "id": "a77c6a0a",
   "metadata": {},
   "source": [
    "### <font color = \"red\">Class Introduction Question #4 - What is a Data Preprocessing and how do we use data preprocessing in machine learning?</a>"
   ]
  }
 ],
 "metadata": {
  "kernelspec": {
   "display_name": "Python 3 (ipykernel)",
   "language": "python",
   "name": "python3"
  },
  "language_info": {
   "codemirror_mode": {
    "name": "ipython",
    "version": 3
   },
   "file_extension": ".py",
   "mimetype": "text/x-python",
   "name": "python",
   "nbconvert_exporter": "python",
   "pygments_lexer": "ipython3",
   "version": "3.9.13"
  }
 },
 "nbformat": 4,
 "nbformat_minor": 5
}
