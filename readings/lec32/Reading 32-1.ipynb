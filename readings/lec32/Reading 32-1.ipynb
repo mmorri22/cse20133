{
 "cells": [
  {
   "cell_type": "markdown",
   "id": "7cf6ea5f",
   "metadata": {},
   "source": [
    "## Reading 32-1 - Introduction to Machine Learning"
   ]
  },
  {
   "cell_type": "markdown",
   "id": "76ea4e17",
   "metadata": {},
   "source": [
    "### What is Machine Learning?\n",
    "\n",
    "Machine learning (ML) is a field of study in <b>artificial intelligence</b> concerned with the development and study of <b>statistical algorithms</b> that can <b>effectively generalize</b> and thus perform tasks <b>without explicit instructions</b>.\n",
    "\n",
    "People working on machine learning can be divided into three categories:\n",
    "<ul>\n",
    "    <li><b>Engineers</b>: they work with theoretical principles and working on advancing them.</li>\n",
    "    <li><b>Developers</b>: work on the implementation and developing technologies for high-tech companies.</li>\n",
    "    <li><b>Users</b>: use the technologies developed by other companies to achieve the goal of their application.</li>\n",
    "</ul>\n",
    "    \n",
    "### When to Use C++ in ML\n",
    "\n",
    "If you look online, 99% of ML tutorials are presented in Python, R or Matlab. The reasons why most programmers give when they use Python while learning ML, and not C++, are as follows:\n",
    "<ul>\n",
    "    <li>Python is a more flexible language than C++.</li>\n",
    "    <li>The library functions make the task trivially simple.</li>\n",
    "    <li>Work interactively with data by running the Python interpreter in the command line.</li>\n",
    "    <li>The main purpose is to learn about ML, not to practice programming.</li>\n",
    "    <li>Debugging C++ code for ML algorithms is more difficult.</li>\n",
    "</ul>\n",
    "\n",
    "However, we've learned that there are tradefoffs when moving around levels of abstraction. \n",
    "\n",
    "<ul>\n",
    "    <li>C++ is more efficient than most other languages.</li>\n",
    "    <li>You can control each single resources starting from memory, CPU and many other things.</li>\n",
    "    <li>Most frameworks are implemented in C++ under the hood, like TensorFlow, Caffe, Vowpal, wabbit and libsvm.</li>\n",
    "    <li>Learning machine learning in C++ makes you a very desirable hire target.</li>\n",
    "</ul>\n",
    "\n",
    "### In general, use C++ for ML when:\n",
    "\n",
    "<ul>\n",
    "    <li>You need the speed and there isn’t a Python library for what you need to do, or that library is still slower.</li>\n",
    "    <li>You need to be able to control the memory usage because you’ll be pushing your system's limit.</li>\n",
    "</ul>\n",
    "\n",
    "### Use Python for ML when:\n",
    "<ul>\n",
    "    <li>Speed isn’t critical, or there is a library function that is fast enough.</li>\n",
    "    <li>The library functions make the task trivially simple, and again, the task is not performance-critical.</li>\n",
    "    <li>To work interactively with data by just running the Python interpreter in the command line.</li>\n",
    "</ul>"
   ]
  },
  {
   "cell_type": "markdown",
   "id": "b1fc070a",
   "metadata": {},
   "source": [
    "## Installing and Implementing Matplotlib-CPP\n",
    "\n",
    "<a href = \"https://github.com/Cryoris/matplotlib-cpp\">Matplotlib for C++</a> is a C++ wrapper for Python’s matplotlib (MPL) plotting library. \n",
    "\n",
    "The objective of Matplotlib-CPP is to serve as lightweight, easy-to-use interface to create stylish and clean plots in C++ using basic MPL commands.\n",
    "\n",
    "#### Step 1 - Installing Python\n",
    "\n",
    "Close out of your VS Code and your Docker Destop. Re-open Docker Desktop and start your Container.\n",
    "\n",
    "Go to either \"Terminal\" or \"Exec\" (you will see one or the other.)\n",
    "\n",
    "In that terminal, run the following commands, which will install Python, numpy, and scipy in your container.\n",
    "\n",
    "    sudo apt update\n",
    "    sudo apt-get install python3\n",
    "    sudo apt-get install python3-pip\n",
    "    sudo pip3 install matplotlib\n",
    "    sudo apt-get install python3-tk\n",
    "    sudo apt install python-numpy\n",
    "    python3 --version\n",
    "    \n",
    "#### Step 2 - Updating the Makefile\n",
    "\n",
    "In the <a href = \"https://github.com/mmorri22/cse20133/blob/main/readings/lec32/Makefile\">Makefile</a>, you will see that there are new flags:\n",
    "\n",
    "    # Note, after installation, I ran the commands and got the following:\n",
    "    # Command: python3 --version\n",
    "    # Result : Python 3.8.10\n",
    "    PY_INCLUDES = -I/usr/include/python3.8 -lpython3.8\n",
    "\n",
    "When we make a compiler command, be sure to put <code>$(PY_INCLUDES)</code> <i>after</i> the object and file name lists. For example:\n",
    "\n",
    "    # C++ Visualization Introduction\n",
    "    # Command: make minimal\n",
    "    minimal.o: minimal.cpp\n",
    "        $(PP) $(CXXFLAGS) -c minimal.cpp $(PY_INCLUDES)\n",
    "\n",
    "    minimal_objs := minimal.o\n",
    "\n",
    "    minimal: $(minimal_objs)\n",
    "        $(PP) $(CXXFLAGS) -o minimal $(minimal_objs) $(PY_INCLUDES) -lm"
   ]
  },
  {
   "cell_type": "markdown",
   "id": "a77c6a0a",
   "metadata": {},
   "source": [
    "### <font color = \"red\">Class Introduction Question #1 - What is a Machine Learning, and why do we use statistical algorithms in ML?</a>\n",
    "\n",
    "### <font color = \"red\">Class Introduction Question #2 - Describe when you would want to use C++ for Machine Learning applications.</a>\n",
    "\n",
    "### <font color = \"red\">Class Introduction Question #3 - Describe when you would want to use Python for Machine Learning applications.</a>"
   ]
  },
  {
   "cell_type": "markdown",
   "id": "988e3c09",
   "metadata": {},
   "source": [
    "### The next reading for this lecture is <a href = \"https://github.com/mmorri22/cse20133/blob/main/readings/lec32/Reading%2032-2.ipynb\">Reading 32-2 - Data Preprocessing In C++.</a>"
   ]
  }
 ],
 "metadata": {
  "kernelspec": {
   "display_name": "Python 3 (ipykernel)",
   "language": "python",
   "name": "python3"
  },
  "language_info": {
   "codemirror_mode": {
    "name": "ipython",
    "version": 3
   },
   "file_extension": ".py",
   "mimetype": "text/x-python",
   "name": "python",
   "nbconvert_exporter": "python",
   "pygments_lexer": "ipython3",
   "version": "3.9.13"
  }
 },
 "nbformat": 4,
 "nbformat_minor": 5
}
