{
 "cells": [
  {
   "cell_type": "markdown",
   "id": "7cf6ea5f",
   "metadata": {},
   "source": [
    "## Reading 32-1 - Introduction to Machine Learning"
   ]
  },
  {
   "cell_type": "markdown",
   "id": "76ea4e17",
   "metadata": {},
   "source": [
    "### What is Machine Learning?\n",
    "\n",
    "Machine learning (ML) is a field of study in <b>artificial intelligence</b> concerned with the development and study of <b>statistical algorithms</b> that can <b>effectively generalize</b> and thus perform tasks <b>without explicit instructions</b>.\n",
    "\n",
    "People working on machine learning can be divided into three categories:\n",
    "<ul>\n",
    "    <li><b>Engineers</b>: they work with theoretical principles and working on advancing them.</li>\n",
    "    <li><b>Developers</b>: work on the implementation and developing technologies for high-tech companies.</li>\n",
    "    <li><b>Users</b>: use the technologies developed by other companies to achieve the goal of their application.</li>\n",
    "</ul>\n",
    "    \n",
    "### When to Use C++ in ML\n",
    "\n",
    "If you look online, 99% of ML tutorials are presented in Python, R or Matlab. The reasons why most programmers give when they use Python while learning ML, and not C++, are as follows:\n",
    "<ul>\n",
    "    <li>Python is a more flexible language than C++.</li>\n",
    "    <li>The library functions make the task trivially simple.</li>\n",
    "    <li>Work interactively with data by running the Python interpreter in the command line.</li>\n",
    "    <li>The main purpose is to learn about ML, not to practice programming.</li>\n",
    "    <li>Debugging C++ code for ML algorithms is more difficult.</li>\n",
    "</ul>\n",
    "\n",
    "However, we've learned that there are tradefoffs when moving around levels of abstraction. \n",
    "\n",
    "<ul>\n",
    "    <li>C++ is more efficient than most other languages.</li>\n",
    "    <li>You can control each single resources starting from memory, CPU and many other things.</li>\n",
    "    <li>Most frameworks are implemented in C++ under the hood, like TensorFlow, Caffe, Vowpal, wabbit and libsvm.</li>\n",
    "    <li>Learning machine learning in C++ makes you a very desirable hire target.</li>\n",
    "</ul>\n",
    "\n",
    "### In general, use C++ for ML when:\n",
    "\n",
    "<ul>\n",
    "    <li>You need the speed and there isn’t a Python library for what you need to do, or that library is still slower.</li>\n",
    "    <li>You need to be able to control the memory usage because you’ll be pushing your system's limit.</li>\n",
    "</ul>\n",
    "\n",
    "### Use Python for ML when:\n",
    "<ul>\n",
    "    <li>Speed isn’t critical, or there is a library function that is fast enough.</li>\n",
    "    <li>The library functions make the task trivially simple, and again, the task is not performance-critical.</li>\n",
    "    <li>To work interactively with data by just running the Python interpreter in the command line.</li>\n",
    "</ul>"
   ]
  },
  {
   "cell_type": "markdown",
   "id": "a77c6a0a",
   "metadata": {},
   "source": [
    "### <font color = \"red\">Class Introduction Question #1 - What is a Machine Learning, and why do we use statistical algorithms in ML?</a>\n",
    "\n",
    "### <font color = \"red\">Class Introduction Question #2 - Describe when you would want to use C++ for Machine Learning applications.</a>\n",
    "\n",
    "### <font color = \"red\">Class Introduction Question #3 - Describe when you would want to use Python for Machine Learning applications.</a>"
   ]
  },
  {
   "cell_type": "markdown",
   "id": "988e3c09",
   "metadata": {},
   "source": [
    "### The next reading for this lecture is <a href = \"https://github.com/mmorri22/cse20133/blob/main/readings/lec32/Reading%2032-2.ipynb\">Reading 32-2 - Data Preprocessing In C++.</a>"
   ]
  }
 ],
 "metadata": {
  "kernelspec": {
   "display_name": "Python 3 (ipykernel)",
   "language": "python",
   "name": "python3"
  },
  "language_info": {
   "codemirror_mode": {
    "name": "ipython",
    "version": 3
   },
   "file_extension": ".py",
   "mimetype": "text/x-python",
   "name": "python",
   "nbconvert_exporter": "python",
   "pygments_lexer": "ipython3",
   "version": "3.9.13"
  }
 },
 "nbformat": 4,
 "nbformat_minor": 5
}
