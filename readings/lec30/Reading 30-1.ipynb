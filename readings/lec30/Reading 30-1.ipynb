{
 "cells": [
  {
   "cell_type": "markdown",
   "id": "7cf6ea5f",
   "metadata": {},
   "source": [
    "## Reading 30-1 - Introduction to Complete Search"
   ]
  },
  {
   "cell_type": "markdown",
   "id": "76ea4e17",
   "metadata": {},
   "source": [
    "<b>Complete search</b> is a general method that can be used to solve almost any algorithm problem. The idea is to generate <i>all possible solutions</i> to the problem using <i>brute force</i>, and then select the best solution or count the number of solutions, depending on the problem.\n",
    "\n",
    "> Complete search is a good technique if there is enough time to go through all the solutions, because the search is usually easy to implement and it always gives the correct answer. If complete search is too slow, other techniques, such as binary search may be needed.\n",
    "\n",
    "\n",
    "### Wait, this sounds familiar...\n",
    "\n",
    "If this thought process sounds familiar, it's because we've implemented it in several ways this semester.\n",
    "<ul>\n",
    "    <li><b>Depth and Breadth-First Search</b> are examples of complete search algorithms</li>\n",
    "    <li>The <b>print_maze</b> functon you wrote in <b>Homework 06</b> is an example of complete search, since you used a Depth-First search approach to print the entire maze to the user</li>\n",
    "</ul>"
   ]
  },
  {
   "cell_type": "markdown",
   "id": "c5506b3d",
   "metadata": {},
   "source": [
    "### Our First Example: Generating subsets\n",
    "\n",
    "We first consider the problem of generating all subsets of a set of n elements. For example, the subsets of {0,1,2} are:\n",
    "\n",
    "    {0}, {1}, {2}, {0,1}, {0,2}, {1,2} and {0,1,2}\n",
    "\n",
    "An elegant way to go through all subsets of a set is to use recursion. The following function search generates the subsets of the set {0,1,...,n − 1}. The function maintains a vector subset that will contain the elements of each subset.\n",
    "\n",
    "The search begins when the function is called with parameter 0 as the start, and 3 as the end in main. The full code that generates this solution may be found at subset.cpp"
   ]
  },
  {
   "cell_type": "markdown",
   "id": "a77c6a0a",
   "metadata": {},
   "source": [
    "### <font color = \"red\">Class Introduction Question #1 - What is a Complete Search, and what are some examples of complete search that we have already investigated this semester?</a>\n",
    "\n",
    "###  <font color = \"red\">Class Introduction Question #2 - Describe a simple C++ function declaration using templates to add two numbers and return a result</a>"
   ]
  },
  {
   "cell_type": "markdown",
   "id": "988e3c09",
   "metadata": {},
   "source": [
    "### The next reading for this lecture is <a href = \"https://github.com/mmorri22/cse20133/blob/main/readings/lec27/Reading%2027-2.ipynb\">Reading 27-2 - Memory Allocation in C++</a>"
   ]
  }
 ],
 "metadata": {
  "kernelspec": {
   "display_name": "Python 3 (ipykernel)",
   "language": "python",
   "name": "python3"
  },
  "language_info": {
   "codemirror_mode": {
    "name": "ipython",
    "version": 3
   },
   "file_extension": ".py",
   "mimetype": "text/x-python",
   "name": "python",
   "nbconvert_exporter": "python",
   "pygments_lexer": "ipython3",
   "version": "3.9.13"
  }
 },
 "nbformat": 4,
 "nbformat_minor": 5
}
