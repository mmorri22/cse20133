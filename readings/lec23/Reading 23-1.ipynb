{
 "cells": [
  {
   "cell_type": "markdown",
   "id": "eebd5727",
   "metadata": {},
   "source": [
    "## Reading 23-1 - Linked Lists Motivation"
   ]
  },
  {
   "attachments": {},
   "cell_type": "markdown",
   "id": "6d686ff9",
   "metadata": {},
   "source": [
    "In this lecture, we will build our first Data Structure, a <b>Singly Linked List</b>. \n",
    "\n",
    "A linked list is a dynamically allocated data structure consisting of several linked nodes on the data heap. \n",
    "\n",
    "Each node contains <b>a data element</b> as well as <b>at least one pointer to another element</b>. \n",
    "\n",
    "The crucial difference between a linked list and an array is that the order of the linked lists is not determined by their location in memory.\n",
    "\n",
    "The drawing below shows a valid array as well as a valid Singly Linked List. Notice how the order of the linked list is not physically in order, but is ordered by following the trace of the pointers.\n",
    "\n",
    "<img src = \"https://github.com/mmorri22/cse20133/blob/main/readings/lec23/Lecture%2023-1-1.jpg?raw=true\" width=400 height=400></img>"
   ]
  },
  {
   "cell_type": "markdown",
   "id": "7a3fde54",
   "metadata": {},
   "source": [
    "### Motivation: A Brief Historical Overview\n",
    "\n",
    "Sometimes, understanding the history of the invention of a data structure will help you understand how to develop and implement that data structure, and linked lists are a perfect example. \n",
    "\n",
    "Linked Lists were first developed in 1956 at the RAND Corporation to implement their <a href = \"https://en.wikipedia.org/wiki/Information_Processing_Language\">Information Processing Language (IPL)</a>, which was an early artificial intelligence program, used for general problem solving and chess. The crucial innovation of the IPL is that it leveraged <b>pointers between information</b> to represent <b>connections in logic</b>.\n",
    "\n",
    "> <b>Preview</b> The IPL is an <i>assembly language</i>, and we will briefly study assembly languages in Lectures 26-28.\n",
    "\n",
    "The image example below which was developed by the inventors of the IPL is another early example of a Thinking Model, just like the one we developed in class in <a href = \"https://github.com/mmorri22/cse20133/blob/main/readings/lec03/Reading%203-1.ipynb\">Lecture 03</a>! \n",
    "\n",
    "The numbers (such as 000 and 001) are the <i>location</i> and the \"element\" is the <i>data</i> we are accessing, just like the pointers we have developed in class. And the arrows are pointers, so you can see how Pointers to Pointers are used to <i>think and remember</i>.\n",
    "\n",
    "<img src = \"https://github.com/mmorri22/cse20133/blob/main/readings/lec23/Lecture%2023-1-2.jpg?raw=true\" width=400 height=400></img>\n",
    "\n",
    "In many ways, the way we think and remember is similar to linked lists! Think of linked lists as <b>connected, ordered ideas.</b>\n",
    "\n",
    "> <b>Optional Reading</b>: The scientists who invented Linked Lists, Allen Newell and Herbert Simon, won the ACM Turing Award in 1975 for having \"made basic contributions to artificial intelligence, the psychology of human cognition, and list processing\". <a href = \"https://dl.acm.org/ft_gateway.cfm?id=1283930&type=pdf\">Turing Award Lecture</a>"
   ]
  },
  {
   "cell_type": "markdown",
   "id": "e4bbbedc",
   "metadata": {},
   "source": [
    "### <font color = \"red\">Class Introduction Question #1 - What is a Linked List, and what are the two key elements of a Linked List node?</a>\n",
    "\n",
    "### <font color = \"red\">Class Introduction Question #2 - Describe how linked lists can be used to replicate how humans think and remember with respect to the Thinking Model.</a>"
   ]
  },
  {
   "cell_type": "markdown",
   "id": "b1382152",
   "metadata": {},
   "source": [
    "### The final reading for this lecture is <a href = \"https://github.com/mmorri22/cse20133/blob/main/readings/lec23/Reading%2023-2.ipynb\">Reading 23-2 - Building a Linked List Node</a>"
   ]
  }
 ],
 "metadata": {
  "kernelspec": {
   "display_name": "Python 3 (ipykernel)",
   "language": "python",
   "name": "python3"
  },
  "language_info": {
   "codemirror_mode": {
    "name": "ipython",
    "version": 3
   },
   "file_extension": ".py",
   "mimetype": "text/x-python",
   "name": "python",
   "nbconvert_exporter": "python",
   "pygments_lexer": "ipython3",
   "version": "3.9.13"
  }
 },
 "nbformat": 4,
 "nbformat_minor": 5
}
