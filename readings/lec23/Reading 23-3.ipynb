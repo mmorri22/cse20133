{
 "cells": [
  {
   "cell_type": "markdown",
   "id": "eebd5727",
   "metadata": {},
   "source": [
    "## Reading 23-3 - Encapsulation"
   ]
  },
  {
   "cell_type": "markdown",
   "id": "b0dc9345",
   "metadata": {},
   "source": [
    "## Motivation: Inefficient use of Registers\n",
    "\n",
    "Let us review the diagram from <a href = \"https://github.com/mmorri22/cse20133/blob/main/readings/lec23/Reading%2023-2.ipynb\">Reading 23-2</a> regarding dynamically allocating nodes. \n",
    "\n",
    "Notice how we use a register for every single node in addition to a pointer on the heap to point to all the subsequent nodes in the Singly Linked List. This is <b>inefficient and redundant</b>, especially since we never used the registers to iterate through the elements in the first place. We has to create another sll_node pointer.\n",
    "\n",
    "<img src = \"https://github.com/mmorri22/cse20133/blob/main/readings/lec23/Lecture%2023-2-2.jpg?raw=true\" width=400 height=400></img>"
   ]
  },
  {
   "cell_type": "markdown",
   "id": "d849676a",
   "metadata": {},
   "source": [
    "## Encapsulation\n",
    "\n",
    "<b>Encapsulation</b> is defined as <b>the structuring of data under a single unit</b>. \n",
    "\n",
    "We will see in C structs, as well as in C++ classes, that we can improve memory operation, as well as the security of the data, by using one register to point to the location on the Data Heap, and then perform all the remaining data allocations on the data heap.\n",
    "\n",
    "\n",
    "We will encapsulate the Singly Linked List by using a pointer to point to an initial head pointer. We are designing the Singly Linked List this way for two reasons\n",
    "<ul>\n",
    "    <li>So we can point at an initially empty list</li>\n",
    "    <li>So we can update the list in the event we want to delete the first node</li>\n",
    "</ul>\n",
    "\n",
    "\n",
    "We will create a <code>struct slllist</code> that only contains a sll_node pointer, which we will call <code>head_node</code>.\n",
    "\n",
    "    typedef struct sll_node{\n",
    "\n",
    "        int data;\n",
    "        struct sll_node* next_node;    \n",
    "\n",
    "    }sll_node;\n",
    "\n",
    "\n",
    "    typedef struct sllist{\n",
    "\n",
    "        struct sll_node* head_node;\n",
    "\n",
    "    }sllist;\n",
    "\n",
    "\n",
    "We will the create a function that will construct (allocate) the \n",
    "\n",
    "    sllist* constructor(){\n",
    "\n",
    "        sllist* temp_node = (sllist *)malloc( sizeof(sllist) );\n",
    "\n",
    "        return temp_node;\n",
    "\n",
    "    }\n",
    "\n",
    "We can do the same for deletion\n",
    "\n",
    "void destructor( sllist* delete_list ){\n",
    "    \n",
    "    free( delete_list );\n",
    "    \n",
    "}\n",
    "\n",
    "\n",
    "Finally, we can combine everything into <a href = \"https://github.com/mmorri22/cse20133/blob/main/readings/lec23/sll_encap.c\">sll_encap.c</a> to observe the encapsulation of the empty linked lists.\n",
    "\n",
    "    int main()\n",
    "    {\n",
    "\n",
    "        sllist* list_1 = constructor();\n",
    "        sllist* list_2 = constructor();\n",
    "\n",
    "        destructor( list_2 );\n",
    "        destructor( list_1 );\n",
    "\n",
    "        return EXIT_SUCCESS;\n",
    "    }\n",
    "\n",
    "## In Class\n",
    "\n",
    "In class, we will code how to insert nodes into the linked list, as well as delete nodes from the linked list (using recursion)"
   ]
  },
  {
   "cell_type": "markdown",
   "id": "e4bbbedc",
   "metadata": {},
   "source": [
    "### <font color = \"red\">Class Introduction Question #5 - What is encapsulation, and how do we leverage encapsulation to design and protect linked lists in memory?</a>"
   ]
  }
 ],
 "metadata": {
  "kernelspec": {
   "display_name": "Python 3 (ipykernel)",
   "language": "python",
   "name": "python3"
  },
  "language_info": {
   "codemirror_mode": {
    "name": "ipython",
    "version": 3
   },
   "file_extension": ".py",
   "mimetype": "text/x-python",
   "name": "python",
   "nbconvert_exporter": "python",
   "pygments_lexer": "ipython3",
   "version": "3.9.13"
  }
 },
 "nbformat": 4,
 "nbformat_minor": 5
}
