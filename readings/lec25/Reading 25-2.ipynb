{
 "cells": [
  {
   "cell_type": "markdown",
   "id": "eebd5727",
   "metadata": {},
   "source": [
    "## Reading 25-2 - Inserting into the Front of a Doubly Linked List"
   ]
  },
  {
   "cell_type": "markdown",
   "id": "915322b9",
   "metadata": {},
   "source": [
    "## Inserting an Element in the Front of the Doubly Linked List\n",
    "\n",
    "Since we have <code>head_node</code> and <code>tail_node</code> pointers, we will be able to keep track of the beginning and end of the doubly linked list. We can significantly reduce the amount of insertion time by developing data structures that limit the location of the insertion to the front or the back.\n",
    "<ul>\n",
    "    <li>We will call inserting at the front of the list <code>push_front</code></li>\n",
    "    <li>We will call inserting at the back of the list <code>push_back</code></li>\n",
    "</ul>"
   ]
  },
  {
   "cell_type": "markdown",
   "id": "1f587672",
   "metadata": {},
   "source": [
    "## push_front function\n",
    "\n",
    "Here are the steps and the corresponding code for the <code>push_front</code> function\n",
    "<ol>\n",
    "    <li>Create a dll_node pointer to temporarily point to the location on the Data Heap.</li>\n",
    "    <li>Set the node's data to the value being passed to the function, and then the next node and previous node equal to NULL</li>\n",
    "    <li>Check if the head node and tail node are equal to NULL in order to account for the case when the list is empty</li>\n",
    "</ol>\n",
    "\n",
    "    void push_front( dllist* the_list, int the_value ){\n",
    "\n",
    "        // Step 1\n",
    "        dll_node* insert_node = (dll_node*)malloc( sizeof(dll_node) );\n",
    "\n",
    "        // Step 2\n",
    "        insert_node->data = the_value;\n",
    "        insert_node->prev_node = NULL;\n",
    "        insert_node->next_node = NULL;\n",
    "\n",
    "        // Step 3\n",
    "        // Dr. Morrison's Golden Rule of Pointers \n",
    "        if( the_list->head_node == NULL ){\n",
    "\n",
    "            // Set the head node equal to insert_node \n",
    "            the_list->head_node = insert_node;\n",
    "            the_list->tail_node = insert_node;\n",
    "\n",
    "            return;\n",
    "        }\n",
    "        \n",
    "        // Step 4\n",
    "        ... In the next portion of the reading code\n",
    "\n",
    "    }\n",
    "    \n",
    "### Pushing to the Front when we have elements in the Doubly Linked List\n",
    "\n",
    "First, we create a reference pointer to point to the current head node. We do this so we do not lose track of the original head node.\n",
    "\n",
    "    dll_node* reference = the_list->head_node;\n",
    "\n",
    "Then, we update the <code>head_node</code> so we are pointing to the new node. (In the image, this is the <font color = \"blue\">blue arrow</font> is now coming from head_node)\n",
    "\n",
    "    the_list->head_node = insert_node;\n",
    "\n",
    "<img src = \"https://github.com/mmorri22/cse20133/blob/main/readings/lec25/25-2-1.jpg?raw=true\" width=400 height=400></img>\n",
    "\n",
    "Finally, we connect the new head node with the previous head node in the doubly linked list form. Since this is a Doubly Linked List, we need to do the following tasks:\n",
    "<ol>\n",
    "    <li>Set the new head node's next node equal to reference, which was the previous head node</li>\n",
    "    <li>Set the previous head node's prev_node equal to the head node.</li>\n",
    "</ol>\n",
    "\n",
    "    the_list->head_node->next_node = reference;\n",
    "\n",
    "<img src = \"https://github.com/mmorri22/cse20133/blob/main/readings/lec25/25-2-2.jpg?raw=true\" width=400 height=400></img>\n",
    "\n",
    "\n",
    "Here is the final step, where we set the previous head node's previous point to the new head node.\n",
    "\n",
    "    reference->prev_node = the_list->head_node;\n",
    "\n",
    "<img src = \"https://github.com/mmorri22/cse20133/blob/main/readings/lec25/25-2-3.jpg?raw=true\" width=400 height=400></img>\n",
    "\n",
    "Once the push_front function goes out of scope, the insert_node and reference registers will no longer be used, and we will see how the Doubly Linked List is set up. This example shows the benefit of understanding how memory locations in a Doubly Linked List often run counter intuitively to how you might visualize the doubly linked list. \n",
    "\n",
    "> You would visualize the list as -20 -> 10, but the node containing 10 is closer to the head and tail node than -20.\n"
   ]
  },
  {
   "cell_type": "markdown",
   "id": "30fe2fbe",
   "metadata": {},
   "source": [
    "## Sample Memory May\n",
    "\n",
    "Here is a sample run for <a href = \"https://github.com/mmorri22/cse20133/blob/main/readings/lec25/dll_push_front.c\">dll_push_front.c</a>, with the values 10 and -20 entered, just like the example above.\n",
    "\n",
    "    > gcc -Wall -Wextra -Werror -Wconversion -std=c11 -O2 dll_push_front.c -o dll_push_front \n",
    "    > ./dll_push_front 10 -20 \n",
    "    Base Addresses: 0x7ffde2822188 0x24e2010 \n",
    "    Head Node Addresses: 0x24e2010 0x24e2050 \n",
    "    Tail Node Addresses: 0x24e2018 0x24e2030 \n",
    "    Node Base Address: 0x24e2050, Data Value: -20, Location of Prev Node: 0x24e2058, Value of Prev Node: (nil) \n",
    "    Location of Next Node: 0x24e2060, Value of Next Node: 0x24e2030 \n",
    "    Node Base Address: 0x24e2030, Data Value: 10, Location of Prev Node: 0x24e2038, Value of Prev Node: 0x24e2050 \n",
    "    Location of Next Node: 0x24e2040, Value of Next Node: (nil) "
   ]
  },
  {
   "cell_type": "markdown",
   "id": "e4bbbedc",
   "metadata": {},
   "source": [
    "### <font color = \"red\">Class Introduction Question #3 - Describe the initial stage of pushing to the front of a Doubly Linked List. Use the code below as a guide:</a>\n",
    "\n",
    "    void push_front( dllist* the_list, int the_value ){\n",
    "\n",
    "        // Step 1\n",
    "        dll_node* insert_node = (dll_node*)malloc( sizeof(dll_node) );\n",
    "\n",
    "        // Step 2\n",
    "        insert_node->data = the_value;\n",
    "        insert_node->prev_node = NULL;\n",
    "        insert_node->next_node = NULL;\n",
    "\n",
    "\n",
    "### <font color = \"red\">Class Introduction Question #4 - Describe the purpose of the code segment below and how the code accomplishes that purpose</a>\n",
    "\n",
    "        // Dr. Morrison's Golden Rule of Pointers \n",
    "        if( the_list->head_node == NULL ){\n",
    "\n",
    "            // Set the head node equal to insert_node \n",
    "            the_list->head_node = insert_node;\n",
    "            the_list->tail_node = insert_node;\n",
    "\n",
    "            return;\n",
    "        }\n",
    "        \n",
    "### <font color = \"red\">Class Introduction Question #5 - Describe the process of pushing to the front of the Doubly Linked List when there are already nodes in the list.</a>"
   ]
  },
  {
   "cell_type": "markdown",
   "id": "a396ffcf",
   "metadata": {},
   "source": [
    "### The next reading for this lecture is <a href = \"https://github.com/mmorri22/cse20133/blob/main/readings/lec25/Reading%2025-3.ipynb\">Reading 25-3 - Inserting into the Back of a Doubly Linked List</a>"
   ]
  }
 ],
 "metadata": {
  "kernelspec": {
   "display_name": "Python 3 (ipykernel)",
   "language": "python",
   "name": "python3"
  },
  "language_info": {
   "codemirror_mode": {
    "name": "ipython",
    "version": 3
   },
   "file_extension": ".py",
   "mimetype": "text/x-python",
   "name": "python",
   "nbconvert_exporter": "python",
   "pygments_lexer": "ipython3",
   "version": "3.9.13"
  }
 },
 "nbformat": 4,
 "nbformat_minor": 5
}
