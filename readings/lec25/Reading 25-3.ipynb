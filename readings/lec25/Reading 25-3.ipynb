{
 "cells": [
  {
   "cell_type": "markdown",
   "id": "eebd5727",
   "metadata": {},
   "source": [
    "## Reading 25-3 - Doubly Linked List Destructor"
   ]
  },
  {
   "cell_type": "markdown",
   "id": "915322b9",
   "metadata": {},
   "source": [
    "The simplest way to destruct a Doubly Linked List is to use recursion, just like the Singly Linked List. You can see the full Doubly Linked List C code at <a href = \"https://github.com/mmorri22/cse20133/blob/main/readings/lec25/dllist.c\">dllist.c</a>\n",
    "\n",
    "> <b>Note:</b> I want you to observe how I only free each node once, meaning that I only call the curr_ptr. <i>I do not attempt to free all the head nodes and then try to free the tail nodes</i>. Once they are free, we cannot free them again! My motivation for reviewing the \"double free error\" all the way back in void pointers was to set you up for success in understanding freeing Doubly Linked Lists, so you don't make the double free mistake here.\n",
    "\n",
    "Here is the destructor\n",
    "\n",
    "    void destructor( dll_node* curr_ptr ){\n",
    "\n",
    "        // Dr. Morrison's Golden Rule of Pointers \n",
    "        if( curr_ptr == NULL )\n",
    "            return;\n",
    "\n",
    "        // Recursively call destructor on the next node  \n",
    "        destructor( curr_ptr->next_node );\n",
    "\n",
    "        // Free the current pointer \n",
    "        free( curr_ptr );\n",
    "    }\n"
   ]
  },
  {
   "cell_type": "markdown",
   "id": "e4bbbedc",
   "metadata": {},
   "source": [
    "### <font color = \"red\">Class Introduction Question #5 - Describe the purpose and the operation of the destructor:</a>\n",
    "\n",
    "    void destructor( dll_node* curr_ptr ){\n",
    "\n",
    "        // Dr. Morrison's Golden Rule of Pointers \n",
    "        if( curr_ptr == NULL )\n",
    "            return;\n",
    "\n",
    "        // Recursively call destructor on the next node  \n",
    "        destructor( curr_ptr->next_node );\n",
    "\n",
    "        // Free the current pointer \n",
    "        free( curr_ptr );\n",
    "    }"
   ]
  }
 ],
 "metadata": {
  "kernelspec": {
   "display_name": "Python 3 (ipykernel)",
   "language": "python",
   "name": "python3"
  },
  "language_info": {
   "codemirror_mode": {
    "name": "ipython",
    "version": 3
   },
   "file_extension": ".py",
   "mimetype": "text/x-python",
   "name": "python",
   "nbconvert_exporter": "python",
   "pygments_lexer": "ipython3",
   "version": "3.9.13"
  }
 },
 "nbformat": 4,
 "nbformat_minor": 5
}
