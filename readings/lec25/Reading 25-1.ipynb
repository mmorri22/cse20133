{
 "cells": [
  {
   "cell_type": "markdown",
   "id": "eebd5727",
   "metadata": {},
   "source": [
    "## Reading 25-1 - Deleting from the Front of a Doubly Linked List\n",
    "\n",
    "In this section, we will briefly review the code for pop_front, and the final destructor from the Doubly Linked List."
   ]
  },
  {
   "cell_type": "markdown",
   "id": "915322b9",
   "metadata": {},
   "source": [
    "## The Pop Front Method\n",
    "\n",
    "Just like removing the node from the front of the stack, we can do the same with a pop_front method in a Doubly Linked List. The only difference is that we need to update the prev_node pointer of the new head node to NULL to ensure it is not pointing to memory we just freed.\n",
    "\n",
    "    void pop_front( dllist* the_list )\n",
    "    \n",
    "First, we check if the head node is empty. If so, we just return\n",
    "\n",
    "    if( the_list->head_node == NULL )\n",
    "        return;\n",
    "\n",
    "Next, we account for the scenario where the head node and the tail node are equivalent. If this is the case. We need to free that node, and set the head_node and tail node to null.\n",
    "\n",
    "    else if( the_list->head_node == the_list->tail_node ){\n",
    "\n",
    "        dll_node* reference = the_list->head_node;\n",
    "        \n",
    "        the_list->head_node = NULL;\n",
    "        the_list->tail_node = NULL;\n",
    "        \n",
    "        free( reference );\n",
    "        return;\n",
    "    }\n",
    "\n",
    "Finally, we must account for the general case where there are two or more nodes. In this case, we will perform the following steps:\n",
    "\n",
    "First, we create a reference pointer and set it equal to the head node.\n",
    "\n",
    "    dll_node* reference = the_list->head_node;\n",
    "\n",
    "Next, we set the head node equal to the reference's next node, which is where the new head_node should be:   \n",
    "\n",
    "    the_list->head_node = reference->next_node;\n",
    "\n",
    "Next, we need to set the new head node's prev_node to NULL because there should not\n",
    "\n",
    "    the_list->head_node->prev_node = NULL;\n",
    "\n"
   ]
  },
  {
   "cell_type": "markdown",
   "id": "e4bbbedc",
   "metadata": {},
   "source": [
    "### <font color = \"red\">Class Introduction Question #1 - Describe the purpose and the operation of the first two cases for the pop_front operation:</a>\n",
    "\n",
    "        void pop_front( dllist* the_list ){\n",
    "        \n",
    "            if( the_list->head_node == NULL )\n",
    "                return;\n",
    "\n",
    "            else if( the_list->head_node == the_list->tail_node ){\n",
    "\n",
    "                dll_node* reference = the_list->head_node;\n",
    "\n",
    "                the_list->head_node = NULL;\n",
    "                the_list->tail_node = NULL;\n",
    "\n",
    "                free( reference );\n",
    "                return;\n",
    "            }\n",
    "\n",
    "\n",
    "### <font color = \"red\">Class Introduction Question #2 - Describe the purpose and the operation of the final operation in the pop_front operation</a>\n",
    "\n",
    "        dll_node* reference = the_list->head_node;\n",
    "        \n",
    "        the_list->head_node = reference->next_node;\n",
    "        \n",
    "        the_list->head_node->prev_node = NULL;\n",
    "        \n",
    "        free( reference );"
   ]
  },
  {
   "cell_type": "code",
   "execution_count": null,
   "id": "39181482",
   "metadata": {},
   "outputs": [],
   "source": []
  }
 ],
 "metadata": {
  "kernelspec": {
   "display_name": "Python 3 (ipykernel)",
   "language": "python",
   "name": "python3"
  },
  "language_info": {
   "codemirror_mode": {
    "name": "ipython",
    "version": 3
   },
   "file_extension": ".py",
   "mimetype": "text/x-python",
   "name": "python",
   "nbconvert_exporter": "python",
   "pygments_lexer": "ipython3",
   "version": "3.9.13"
  }
 },
 "nbformat": 4,
 "nbformat_minor": 5
}
