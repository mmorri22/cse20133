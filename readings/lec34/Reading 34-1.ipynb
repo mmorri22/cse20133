{
 "cells": [
  {
   "cell_type": "markdown",
   "id": "7cf6ea5f",
   "metadata": {},
   "source": [
    "## Reading 34-1 - The Operating System"
   ]
  },
  {
   "cell_type": "markdown",
   "id": "76ea4e17",
   "metadata": {},
   "source": [
    "In this reading, we will understand the concepts that make this <b>safe sharing</b> of a computer's hardware possible. Many of these concepts are implemented inside a special software program that every computer runs: the <b>operating system</b>."
   ]
  },
  {
   "cell_type": "markdown",
   "id": "9986352d",
   "metadata": {},
   "source": [
    "### Why do we need an Operating System?\n",
    "\n",
    "For an analogy, consider why a football game has referees and replay reviewers: not every football player always abides by the rules, but in order to make football safe and fair for others, we have people and structures that enforce the rules. \n",
    "\n",
    "The same applies with computer programs: not all computer programs are always inclined to play by the rules. Some programs are outright malicious (e.g., viruses or ransomware), others can become co-opted by malicious hackers (e.g., due to bugs such as unchecked buffer overflows), and others again are benign but resource-hungry and can crowd out other programs that run on the same computer.\n",
    "\n",
    "Here is an example of a program that, depending on your viewpoint, could be seen as benign or as actively malicious\n",
    "\n",
    "    int main() {\n",
    "        while (true) {\n",
    "        }\n",
    "    }\n",
    "\n",
    "This program runs an infinite loop! Based on our understanding of how processors work, as presented in the course so far, running this program should be potential fatal to our computer: the processor only does what it's told, so it will infinitely keep executing the loop.\n",
    "\n",
    "> We define an <b>operating system</b> as a set of abstractions (processes, threads, memory, filesystem) that enable applications to effectively and efficiently utilize hardware resources and interact with each other.\n",
    "\n",
    "<b>The role of the operating system is to make sure that all programs play by the rules, and also to make it easier for programs to use shared resources such as the computer's hardware</b>"
   ]
  },
  {
   "cell_type": "markdown",
   "id": "5e0d61a6",
   "metadata": {},
   "source": [
    "## The Three Principles of Operating Systems\n",
    "\n",
    "\n",
    "<b>Virtualization</b> - When the OS takes a physical resource and transforms it into a more general, powerful, and easy-to-use virtual form.\n",
    "\n",
    "> Example: Docker Desktop!\n",
    "\n",
    "<b>Concurrency</b> - When the OS  has multiple tasks executing and utilizing resources at the same time\n",
    "\n",
    "> We've seen concurrency in our parallel implementation of threads!\n",
    "\n",
    "<b>Persistence</b> - This is the ability to store and share data in a reliable and efficient manner."
   ]
  },
  {
   "cell_type": "markdown",
   "id": "896f1a09",
   "metadata": {},
   "source": [
    "### The Scheduler\n",
    "\n",
    "Whenever we need to decide which process to run next, we invoke the scheduler. The decision making process is called a <b>scheduling policy</b> or <b>discipline</b>.\n",
    "\n",
    "To make scheduling policies, we need to consider our <b>workload</b>, or collection of processes running on our system.\n",
    "\n",
    "Let's start with the following assumptions:\n",
    "<ul>\n",
    "    <li>Each job runs for the same amount of time</li>\n",
    "    <li>All jobs arrive at the same time</li>\n",
    "    <li>Once started, each job runs to completion</li>\n",
    "    <li>All jobs only use the CPU (no I/O)</li>\n",
    "    <li>The run-time of each job is known.</li>\n",
    "</ul>\n",
    "\n",
    "\n",
    "### Metrics\n",
    "\n",
    "To compare different scheduling policies, we need to consider different measurements:\n",
    "\n",
    "#### Turnaround Time\n",
    "\n",
    "How soon does the job <b>complete</b>?\n",
    "\n",
    "$T_{throughput} = T_{completion} - T_{arrival}$\n",
    "\n",
    "\n",
    "#### Response Time\n",
    "\n",
    "How soon does the job <b>start</b>?\n",
    "\n",
    "$T_{response} = T_{firstrun} - T_{arrival}$"
   ]
  },
  {
   "cell_type": "markdown",
   "id": "a77c6a0a",
   "metadata": {},
   "source": [
    "### <font color = \"red\">Class Introduction Question #1 - What is an operating system and what is the role of an operating system?</font>\n",
    "\n",
    "### <font color = \"red\">Class Introduction Question #2 - What are the three principles of operating systems?</font>\n",
    "\n",
    "### <font color = \"red\">Class Introduction Question #3 - Define turnaround and response times</font>"
   ]
  },
  {
   "cell_type": "markdown",
   "id": "988e3c09",
   "metadata": {},
   "source": [
    "### The next reading for this lecture is <a href = \"https://github.com/mmorri22/cse20133/blob/main/readings/lec34/Reading%2034-2.ipynb\">Reading 34-2 - Thread Scheduling - FIFO and SJF</a>"
   ]
  }
 ],
 "metadata": {
  "kernelspec": {
   "display_name": "Python 3 (ipykernel)",
   "language": "python",
   "name": "python3"
  },
  "language_info": {
   "codemirror_mode": {
    "name": "ipython",
    "version": 3
   },
   "file_extension": ".py",
   "mimetype": "text/x-python",
   "name": "python",
   "nbconvert_exporter": "python",
   "pygments_lexer": "ipython3",
   "version": "3.9.13"
  }
 },
 "nbformat": 4,
 "nbformat_minor": 5
}
