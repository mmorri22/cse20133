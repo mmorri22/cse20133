{
 "cells": [
  {
   "cell_type": "markdown",
   "id": "933170a6",
   "metadata": {},
   "source": [
    "# Homework 6 - Linked List Labyrinth"
   ]
  },
  {
   "cell_type": "markdown",
   "id": "1220541e",
   "metadata": {},
   "source": [
    "<b>Due Date</b>: 11/2/2023 at 11:59pm<br>\n",
    "<b>Points</b> - 1000 points<br>"
   ]
  },
  {
   "cell_type": "markdown",
   "id": "8986a752",
   "metadata": {},
   "source": [
    "><b>Qualitative Feedback</b>: The objective of this assignment is to give you practice with structs, linked lists, pointers, and memory allocation. You will demonstrate your ability to implement:\n",
    "><ul>\n",
    ">    <li>Advanced C Structs</li>\n",
    ">    <li>Command Line inputs</li>\n",
    ">    <li>Recursion</li>\n",
    ">    <li>Depth-First Search</li>\n",
    "     <li>Developing Your Own Test Cases</li>\n",
    "></ul>"
   ]
  },
  {
   "cell_type": "markdown",
   "id": "84e90360",
   "metadata": {},
   "source": [
    "## Obtaining the Header Files\n",
    "\n",
    "You will be provided two files for this assignment:\n",
    "<ul>\n",
    "    <li>labyrinth.h</li>\n",
    "    <li>maze_generator.h</li>\n",
    "</ul>"
   ]
  },
  {
   "cell_type": "code",
   "execution_count": null,
   "id": "b4d6752f",
   "metadata": {},
   "outputs": [],
   "source": []
  }
 ],
 "metadata": {
  "kernelspec": {
   "display_name": "Python 3 (ipykernel)",
   "language": "python",
   "name": "python3"
  },
  "language_info": {
   "codemirror_mode": {
    "name": "ipython",
    "version": 3
   },
   "file_extension": ".py",
   "mimetype": "text/x-python",
   "name": "python",
   "nbconvert_exporter": "python",
   "pygments_lexer": "ipython3",
   "version": "3.9.13"
  }
 },
 "nbformat": 4,
 "nbformat_minor": 5
}
