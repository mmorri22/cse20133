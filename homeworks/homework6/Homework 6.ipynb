{
 "cells": [
  {
   "cell_type": "markdown",
   "id": "673d9f62",
   "metadata": {},
   "source": [
    "# Homework 6 - Linked List Labyrinth"
   ]
  },
  {
   "cell_type": "markdown",
   "id": "28765cdd",
   "metadata": {},
   "source": [
    "<b>Due Date</b>: 11/2/2023 at 11:59pm<br>\n",
    "<b>Points</b> - 1000 points<br>"
   ]
  },
  {
   "cell_type": "markdown",
   "id": "ce86b013",
   "metadata": {},
   "source": [
    "><b>Qualitative Feedback</b>: The objective of this assignment is to give you practice with structs, linked lists, pointers, and memory allocation. You will demonstrate your ability to implement:\n",
    "><ul>\n",
    ">    <li>Advanced C Structs</li>\n",
    ">    <li>Command Line inputs</li>\n",
    ">    <li>Recursion</li>\n",
    ">    <li>Depth-First Search</li>\n",
    "     <li>Developing Your Own Test Cases</li>\n",
    "></ul>"
   ]
  },
  {
   "cell_type": "markdown",
   "id": "0d7e42b9",
   "metadata": {},
   "source": [
    "## Setup Steps\n",
    "\n",
    "<b>1.</b> Open Docker Desktop. Go to the cse20133-user Container you created. Press the Blue Triangle to start the Container.\n",
    "\n",
    "<b>2.</b> Open VSCode, and on the left, select the blue button in the bottom left of VSCode. At the top, select the pull-down choice “Attach to running container” and select your CSE 20133 course container.\n",
    "\n",
    "<b>3.</b> Go into your Git Folder:\n",
    "\n",
    "> Recall that @USERNAME is the unique username you created when you created your GitHub account. You will see your user name in the VS Code Docker\n",
    "\n",
    "    cd cse20133-user/cse20133-@USERNAME\n",
    "\n",
    "Create the folder:\n",
    "\n",
    "    mkdir homework06\n",
    "    cd homework06\n",
    "\n",
    "4 - You will need to create the following files in your <code>homework4</code> folder:\n",
    "<ul>\n",
    "    <li><code>homework06.c</code></li>\n",
    "    <li><code>labyrinth.c</code></li>\n",
    "    <li><code>maze_generator.c</code></li>\n",
    "    <li><code>Makefile</code></li>\n",
    "</ul>\n",
    "\n",
    "You will be provided the header files for this assignment, <code>labyrinth.h</code> and <code>maze_generator.h</code>. You can obtain them by performing these commands in your <code>homework06</code> folder:\n",
    "\n",
    "    wget https://raw.githubusercontent.com/mmorri22/cse20133/main/homeworks/homework6/labyrinth.h\n",
    "\n",
    "\n",
    "\n",
    "When your assignment is completed, you will need to be able to run the command <code>make homework05</code>, and produce the output and compiler flags as shown below. You must also pass <code>valgrind</code> since we are performing dynamic memory allocation.\n",
    "\n",
    "<code><font size=\"2\" color=\"white\" style=\"background-color:black;\">> make homework05</font></code><br>\n",
    "<code><font size=\"2\" color=\"white\" style=\"background-color:black;\">gcc -std=c2x -O2 -g -Wall -Wextra -Wconversion -Wshadow -Werror -c rotations.c</font></code><br>\n",
    "<code><font size=\"2\" color=\"white\" style=\"background-color:black;\">gcc -std=c2x -O2 -g -Wall -Wextra -Wconversion -Wshadow -Werror -c homework05.c</font></code><br>\n",
    "<code><font size=\"2\" color=\"white\" style=\"background-color:black;\">gcc -std=c2x -O2 -g -Wall -Wextra -Wconversion -Wshadow -Werror -o homework05 homework05.o rotations.o -lm</font></code><br>\n",
    "<code><font size=\"2\" color=\"white\" style=\"background-color:black;\">valgrind --leak-check=full ./homework05</font></code></font><br>"
   ]
  },
  {
   "cell_type": "code",
   "execution_count": null,
   "id": "642ca61e",
   "metadata": {},
   "outputs": [],
   "source": []
  }
 ],
 "metadata": {
  "kernelspec": {
   "display_name": "Python 3 (ipykernel)",
   "language": "python",
   "name": "python3"
  },
  "language_info": {
   "codemirror_mode": {
    "name": "ipython",
    "version": 3
   },
   "file_extension": ".py",
   "mimetype": "text/x-python",
   "name": "python",
   "nbconvert_exporter": "python",
   "pygments_lexer": "ipython3",
   "version": "3.9.13"
  }
 },
 "nbformat": 4,
 "nbformat_minor": 5
}
