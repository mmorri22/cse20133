{
 "cells": [
  {
   "cell_type": "markdown",
   "id": "d4689e2c",
   "metadata": {},
   "source": [
    "# Homework 1 - Data Representation in a Computer"
   ]
  },
  {
   "cell_type": "markdown",
   "id": "87d2eaf8",
   "metadata": {},
   "source": [
    "<b>Due Date</b>: 9/7/2023 at 11:59pm on Gradescope through Canvas<br>\n",
    "<b>Points</b> - 500 points<br>\n",
    "\n",
    "<b>Submission:</b> For full credit, you must:\n",
    "<ul>\n",
    "    <li>Show your work and steps for completion of the problem. Simply putting only the answer will result in no credit, even if the answer is correct.</li>\n",
    "    <li>Submit your solutions in PDF format and follow the steps as detailed below.</li>\n",
    "    <li>Link the outline to the problems in Gradescope for ease of grading. (I will show you how to do this at the bottom of this page</li>\n",
    "</ul>\n",
    "\n",
    "<b>Videos</b>: For the Thinking Model Question, you are welcome to video the explanation for the operation of the Thinking Model. You will need to submit to a private Canvas repository and share with Prof. Morrison and all the TAs. I will describe in detail how you will do that in Problem 5.\n",
    "\n",
    "><b>Qualitative Feedback</b>: Completion of this assignment will demonstrate your understanding of the common data representations used in UNIX that you will implement later in C and C++ programming."
   ]
  },
  {
   "cell_type": "markdown",
   "id": "df23f11a",
   "metadata": {},
   "source": [
    "<b>Problem 1: [48 points]</b> Binary Conversion\n",
    "\n",
    "1-a) Convert the following decimal to binary. Represent as a seven-bit signed integer\n",
    "\n",
    "    57\n",
    "\n",
    "1-b) Convert the following decimal to binary. Represent as a seven-bit signed integer\n",
    "\n",
    "    -42\n",
    "\n",
    "1-c) Convert the following six-bit signed integer in binary to decimal.\n",
    "\n",
    "    110110"
   ]
  },
  {
   "cell_type": "markdown",
   "id": "5e5fc8a3",
   "metadata": {},
   "source": [
    "<b>Problem 2: [72 points]</b> Hexadecimal Conversion\n",
    "\n",
    "2-a) Convert the following from hexadecimal to decimal\n",
    "\n",
    "    0x7c4b\n",
    "\n",
    "2-b) Convert the following from decimal to hexadecimal. Use four hexadecimal characters in your solution.\n",
    "\n",
    "    -3482"
   ]
  },
  {
   "cell_type": "markdown",
   "id": "52d4210d",
   "metadata": {},
   "source": [
    "<b>Problem 3: [60 points]</b> ASCII Conversion\n",
    "\n",
    "3-a) Convert the following statement to ASCII hexadecimal\n",
    "\n",
    "    .Programming in C is \"fun\"!\n",
    "    \n",
    "3-b) Convert the following ASCII <i>decimal</i> values to characters\n",
    "\n",
    "    71 114 97 100 32 115 116 117 100 101 110 116 115 32 112 114 101 102 101 114 32 111 102 102 105 99 101 115 32 119 105 116 104 32 119 105 110 100 111 119 115 "
   ]
  },
  {
   "cell_type": "markdown",
   "id": "9b7642d0",
   "metadata": {},
   "source": [
    "<b>Problem 4: [120 points]</b> IEEE 754 Floating Point Conversion\n",
    "\n",
    "4-a) Convert the following IEEE 754 Single Precision Formats to decimal\n",
    "\n",
    "    0 10001100 11010000000000000000000\n",
    "\n",
    "    1 01111101 10100000000000000000000\n",
    "    \n",
    "4-b) Convert the following IEEE 754 Double Precision Format to decimal\n",
    "\n",
    "    0 10000000111 1110000000000000000000000000000000000000000000000000\n",
    "    \n",
    "4-c) In the event of an overflow where the first 32 bits from the Double Precision Formate value in 4-b were stored in a Single Precision floating point register, what would be the decimal result in IEEE 754 Single Precision Format?"
   ]
  },
  {
   "cell_type": "markdown",
   "id": "cb9a6cbb",
   "metadata": {},
   "source": [
    "<b>Problem 5: [200 points]</b> Thinking Model Problem:\n",
    "\n",
    "Review the <a href = \"https://github.com/mmorri22/cse20133/blob/main/readings/lec03/Reading%203-1.ipynb\">Thinking Model</a> reading assignments, including <a href = \"https://github.com/mmorri22/cse20133/blob/main/readings/lec03/Reading%203-2.ipynb\">Remember by Value</a> and <a href = \"https://github.com/mmorri22/cse20133/blob/main/readings/lec03/Reading%203-3.ipynb\">Remember by Reference</a>. You can also review the in-class answers posted to the Lecture Notes page.\n",
    "\n",
    "<b>Part 1:</b> You will develop a Thinking Model that performs the following task:\n",
    "<ul>\n",
    "    <li>Create a positive integer in main equal that is at least five digits long</li>\n",
    "    <ul><li>For example: 1827 or 9438</li></ul>\n",
    "    <li>Create a result integer sum in main equal to 0</li>\n",
    "    <li>Create a function that prints an integer called value and an integer called index</li>\n",
    "    <li>Create a function that calculates the Sum of Digits of a Number (described below)</li>\n",
    "    <li>Update the sum using the result integer sum in main (using Remember by Reference)</li>\n",
    "</ul>\n",
    "\n",
    "<b>Finding the Sum of digit of a number using recursion using Recursion</b>\n",
    "\n",
    "Given a number, we need to find sum of its digits using recursion.\n",
    "Examples: \n",
    "\n",
    "    Number: 1827\n",
    "    Solution: 7 + 2 + 8 + 1 = 18\n",
    "   \n",
    "    Number: 9438\n",
    "    Solution: 8 + 3 + 4 + 9 = 24\n",
    "    \n",
    "<b>Hints and Tips:</b>\n",
    "<ul>\n",
    "    <li>The <code>%</code> modulo is used to get a remainder. For example, <code>1827 % 10 = 7</code></li>\n",
    "    <li>We know about the difference between integers and floating points from Lectures 1 and 2. There is a quirk about dividing integers in a computer that you can use to your advantage here. When you divide two integers, the result is the <b>quotient</b> and the remainder is lost. Normally, this would be bad because you lose information. But in this case, it's good because of how dividing by 10 works, since the last digit is <i>removed</i>. For example: <code>1827 / 10 = 182</code></li>\n",
    "    <li>Notice how I appear to add the values <i>backwards</i> in the two examples above. That is a hint as to how the computer will actually perform this task recursively.</li>\n",
    "    <li>You must update the sum in main using <b>remember by reference</b>. You can use a <b>for</b> or <b>while</b> loop to perform the tasks in a function.\n",
    "</ul>\n",
    "\n",
    "<b>Part 2:</b> You will include a detailed description of how the program works in the memory model. (Refer to the videos in Reading 3-2 and Reading 3-3). Your example using at least four digits must be fully completed, including all function calls and register allocations.\n",
    "\n",
    "You may include your description in one of two ways.\n",
    "<ol>\n",
    "    <li><b>Include a detailed description of all the steps in your PDF</b>, including pictures of the model and several different steps. Typically, students may include pictures from their phone in the PDF in line with a detailed description of the steps being taken. Remember that you are describing the <i>decisions</i> of the computer, so the detail that I go into in the videos is the expectation for the problem.</li>\n",
    "    <li><b>Record your own video on Panopto and include the link to the video in your PDF.</b> You can record the Thinking Model operations on your laptop, phone, or tablet. <p>The steps to submit a video with your Homework 1 Assignment are listed below. <p><b>Note</b>: There is a YouTube video at the bottom of the page where I replicate these steps. There is also a small treat at the end of that video :)<p></li>\n",
    "    <ol>\n",
    "        <li>Go to the Canvas page and select the <b>Panopto</b> link on the left.</li>\n",
    "        <li>Click on the folder that says <b>Homework 1 Thinking Model</b>.</li>\n",
    "        <li>Click on the blue <b>\"+ Create\"</b> button at the top. There will be a pop-up window. Select <b>\"Upload Media\"</b></li>\n",
    "        <li>At the top on the drop down next to <b>Add to Files</b>, ensure the drop down next to <b>All Folders</b> says <b>My Folder</b>.</li>\n",
    "        <li>Upload your video by either <b>dragging and dropping</b> or searching by <b>finding the video in your file hierarchy</b>.</li>\n",
    "        <li><b>Do not close the window!</b> Hover over the video name, and you will see a set of icons appear on the right. Select the \"gear\" (for Settings)</li>\n",
    "        <li>On the left, click on Share</li>\n",
    "        <li>At the top, you will see an entry for <b>People and Groups</b>. Copy these emails into the bar (these are Prof. Morrison and the TAs): <code>mmorri22@nd.edu, aarmelin@nd.edu, tflanne2@nd.edu, aguinan2@nd.edu, skopfer@nd.edu, bmackey@nd.edu, msilvest@nd.edu, xli34@nd.edu</code> \n",
    "            <p>This will ensure that <i>only the professor and TAs</i> will have access to your video.\n",
    "            <p>You do <b>not</b> need to notify the users and TAs by email that you have uploaded a video.</li>\n",
    "        <li>On that same page, there is an option to Copy the Link. <b>Include a comment in your PDF with that link so the TA knows exactly where to find your solution</b>.</li>\n",
    "    </ol>\n",
    "</ol>\n",
    "<p></p>\n",
    "\n",
    "Click on the image below to view the example video:\n",
    "[![](http://img.youtube.com/vi/Nb4dAmtv3kI/mqdefault.jpg)](https://www.youtube.com/watch?v=Nb4dAmtv3kI)"
   ]
  },
  {
   "cell_type": "markdown",
   "id": "fec3571d",
   "metadata": {},
   "source": [
    "### Submission Steps\n",
    "\n",
    "<ol>\n",
    "    <li>Go to the following link: <a href = \"https://canvas.nd.edu/courses/74671/assignments/201979\">Homework 1 Gradescope Submission</a></li>\n",
    "    <li>Once the PDF is upload, you are required to select which page contains the assignment answer based on the assignment outline. This is to ensure ease of grading for the TAs.\n",
    "</li>\n",
    "    <li>Hit Submit in the bottom right</li>\n",
    "</ol>"
   ]
  }
 ],
 "metadata": {
  "kernelspec": {
   "display_name": "Python 3 (ipykernel)",
   "language": "python",
   "name": "python3"
  },
  "language_info": {
   "codemirror_mode": {
    "name": "ipython",
    "version": 3
   },
   "file_extension": ".py",
   "mimetype": "text/x-python",
   "name": "python",
   "nbconvert_exporter": "python",
   "pygments_lexer": "ipython3",
   "version": "3.9.13"
  }
 },
 "nbformat": 4,
 "nbformat_minor": 5
}
