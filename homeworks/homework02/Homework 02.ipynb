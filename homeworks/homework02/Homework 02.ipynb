{
 "cells": [
  {
   "cell_type": "markdown",
   "id": "d4689e2c",
   "metadata": {},
   "source": [
    "# Homework 02 - Data Representation in a Computer"
   ]
  },
  {
   "cell_type": "markdown",
   "id": "87d2eaf8",
   "metadata": {},
   "source": [
    "<b>Due Date</b>: Wednesday, 9/11/2024 at 11:59pm on Canvas<br>\n",
    "<b>Points</b> - 500 points<br>\n",
    "\n",
    "<b>Submission:</b> For full credit, you must:\n",
    "<ul>\n",
    "    <li>Show your work and steps for completion of the problem. Simply putting only the answer will result in no credit, even if the answer is correct.</li>\n",
    "    <li>Submit your solutions in PDF format and follow the steps as detailed below. The directions for submission are at the bottom of the page.</li>\n",
    "</ul>\n",
    "\n",
    "><b>Qualitative Feedback</b>: Completion of this assignment will demonstrate your understanding of the common data representations used in UNIX that you will implement later in C and C++ programming."
   ]
  },
  {
   "cell_type": "markdown",
   "id": "df23f11a",
   "metadata": {},
   "source": [
    "<b>Problem 1: [60 points]</b> Binary Conversion\n",
    "\n",
    "1-a) Convert the following decimal to binary. Represent as a seven-bit signed integer\n",
    "\n",
    "    57\n",
    "\n",
    "1-b) Convert the following decimal to binary. Represent as a seven-bit signed integer\n",
    "\n",
    "    -42\n",
    "\n",
    "1-c) Convert the following six-bit signed integer in binary to decimal.\n",
    "\n",
    "    110110\n",
    "\n",
    "1-d) Conver the following six-bit unsigned integer in binary to decimal.\n",
    "\n",
    "    110110 "
   ]
  },
  {
   "cell_type": "markdown",
   "id": "5e5fc8a3",
   "metadata": {},
   "source": [
    "<b>Problem 2: [90 points]</b> Hexadecimal Conversion\n",
    "\n",
    "2-a) Convert the following from hexadecimal to a signed integer.\n",
    "\n",
    "    0x9c4b\n",
    "\n",
    "2-b) Convert the same value in 2-a from hexadecimal to an unsigned integer.\n",
    "\n",
    "Hint:\n",
    "<ul>\n",
    "    <li>Convert the hex to binary</li>\n",
    "    <li>Perform the two's complement</li>\n",
    "    <li>Translate back into binary</li>\n",
    "    <li>Convert to decimal and then add a negative number</li>\n",
    "</ul>\n",
    "\n",
    "2-c) Convert the following from decimal to hexadecimal. Use four hexadecimal characters in your solution.\n",
    "\n",
    "    -3482"
   ]
  },
  {
   "cell_type": "markdown",
   "id": "52d4210d",
   "metadata": {},
   "source": [
    "<b>Problem 3: [60 points]</b> ASCII Conversion\n",
    "\n",
    "3-a) Convert the following statement to ASCII hexadecimal (include the period in the front)\n",
    "\n",
    "    .Programming in C is \"fun\"!\n",
    "    \n",
    "3-b) Convert the following ASCII <i>decimal</i> values to characters\n",
    "\n",
    "    78 111 116 114 101 32 68 97 109 101 32 101 110 103 105 110 101 101 114 105 110 103 32 115 116 117 100 101 110 116 115 32 114 117 108 101 33"
   ]
  },
  {
   "cell_type": "markdown",
   "id": "9b7642d0",
   "metadata": {},
   "source": [
    "<b>Problem 4: [140 points]</b> IEEE 754 Floating Point Conversion\n",
    "\n",
    "Note: A full credit answer for 4-a, 4-b, and 4-c requires showing the calculations, not just the correct answer.\n",
    "\n",
    "4-a) Convert the following IEEE 754 Single Precision Formats to decimal\n",
    "\n",
    "    0 10001100 11010000000000000000000\n",
    "\n",
    "    1 01111101 10100000000000000000000\n",
    "    \n",
    "4-b) Convert the following IEEE 754 Double Precision Format to decimal\n",
    "\n",
    "    0 10000000111 1110000000000000000000000000000000000000000000000000\n",
    "    \n",
    "4-c) In the event of an overflow where the first 32 bits from the Double Precision Formate value in 4-b were stored in a Single Precision floating point register, what would be the decimal result in IEEE 754 Single Precision Format?"
   ]
  },
  {
   "cell_type": "markdown",
   "id": "cb9a6cbb",
   "metadata": {},
   "source": [
    "<b>Problem 5: [150 points]</b> Converting between formats\n",
    "\n",
    "Consider the following 32-bit binary value:\n",
    "\n",
    "1000011110111111001001100101\n",
    "\n",
    "5a) Convert this 32-bit value to hexadecimal. Show your work for full credit.\n",
    "\n",
    "5b) Convert the hexadecimal value to ASCII\n",
    "\n",
    "5c) Convert this 32-bit value to IEEE 754 Single Precision. (For this problem, since the calculation is longer than what may be expected on an exam, you are permitted to use this online <a href = \"https://www.h-schmidt.net/FloatConverter/IEEE754.html\">IEEE 754 Format Converter</a> as long as you include a screen capture or picture of the result in your assignment)\n",
    "\n",
    "5d) Convert this 32-bit value to a 32-bit signed integer. (For this problem, since the calculation is longer than what may be expected on an exam, you are permitted to use this online <a href = \"https://www.rapidtables.com/convert/number/binary-to-decimal.html\">binary to decimal coverter</a> as long as you include a screen capture or picture of the result in your assignment)\n",
    "\n",
    "5e) Based on this problem and our discussions in class, briefly describe why it is important for an engineer to understand how data is represented in a computer when they write code."
   ]
  },
  {
   "cell_type": "markdown",
   "id": "fec3571d",
   "metadata": {},
   "source": [
    "### Submission Steps and Requirements\n",
    "\n",
    "<ol>\n",
    "    <li>Go to the following link: <a href = \"https://canvas.nd.edu/courses/97655/assignments/298357\">Homework 02 Canvas Submission</a></li>\n",
    "    <li><b>Your submission <i>must</i> be uploaded in PDF format.</b> The reasoning is that word processing documents will render images on some Operating Systems, but not all. So your images may not appear on the TAs laptop as you submitted. <u>Regrade requests for assignments that were not submitted in PDF format because an image did not render will not be granted</u>. There are several free PDF converters both available online and for download.</li>\n",
    "    <li><b>You are permitted unlimited uploads before the submission window closes.</b> Note that the only submission that we will be able to see is your <i>last</i> submission, so ensure that all solutions are included with every upload. <u> To ensure fairness and integrity, we cannot accept problems after the deadlines, even if it was an upload mistake.</u>\n",
    "    <li>I recommend downloading the PDF you submitted to verify that all images render in Canvas as you intended.</li>\n",
    "</ol>"
   ]
  }
 ],
 "metadata": {
  "kernelspec": {
   "display_name": "Python 3 (ipykernel)",
   "language": "python",
   "name": "python3"
  },
  "language_info": {
   "codemirror_mode": {
    "name": "ipython",
    "version": 3
   },
   "file_extension": ".py",
   "mimetype": "text/x-python",
   "name": "python",
   "nbconvert_exporter": "python",
   "pygments_lexer": "ipython3",
   "version": "3.9.13"
  }
 },
 "nbformat": 4,
 "nbformat_minor": 5
}
