{
 "cells": [
  {
   "cell_type": "markdown",
   "id": "d823b84f",
   "metadata": {},
   "source": [
    "# Lab 0: Getting Set Up (Docker & Git)"
   ]
  },
  {
   "cell_type": "markdown",
   "id": "0b38916f",
   "metadata": {},
   "source": [
    "<b>Assigned</b>: 8/23/23<br>\n",
    "<b>Due:</b> 8/32/23 at 11:59pm"
   ]
  },
  {
   "cell_type": "markdown",
   "id": "efcc68f0",
   "metadata": {},
   "source": [
    "## Introduction\n",
    "\n",
    "Welcome to your first assignment! The main focus will be to get you set up with the tools we’ll be using throughout CSE 20133/20232, and give you an intuitive understanding of each one.\n",
    "\n",
    "The main tools we’ll be using are <b>Docker</b>, a convenient way to manage virtual environments as “containers”, and <b>Git</b>, the most prominent version control software.\n",
    "\n",
    "|Tool|Use|\n",
    "|:---|:---|\n",
    "|<b>Docker</b>|Software environment virtualization|\n",
    "|<b>Git</b>|Version control software|\n",
    "|<b>GitHub</b>|Online code storage and version control|"
   ]
  },
  {
   "cell_type": "markdown",
   "id": "f22fbc61",
   "metadata": {},
   "source": [
    "## Why are we using these tools?\n",
    "\n",
    "<ul>\n",
    "    <li><b>You’ll be able to develop locally.</b> With virtualization, we can specify a standard development environment on any machine, so your code will work no matter where it’s run. (You won’t need to log into the CSE department machines to write, test, or hand in your code!)</li>\n",
    "<li><b>Version control is awesome.</b> All changes to your code are tracked and can be reverted, making testing and debugging significantly more bearable. Your changes are also semi-automatically merged with other people’s, making collaboration easy. CSE 20133/20232 has no partner assignments, but version control will be useful for other courses that do.</li>\n",
    "<li><b>It’s how it’s done in the industry.</b> Most companies use some form of version-control in order to better manage projects and collaboration, and use machine virtualization for easier deployment and testing.</li>\n",
    "</ul>"
   ]
  },
  {
   "cell_type": "markdown",
   "id": "69c2bf9c",
   "metadata": {},
   "source": [
    "## Development Environment Setup\n",
    "\n",
    "Your computer is probably running Mac OS X, Windows, or Linux. These different <i>operating systems</i> all come with different libraries and preinstalled software. A <a href = \"https://www.youtube.com/watch?v=yIVXjl4SwVo\">Virtual Machine</a> (VM) can establish the same software environment for everyone.<p>\n",
    "\n",
    "Software inside a VM believes it is running on a physical computer, even though it is running within an OS within another computer. Achieving this level of virtualization has costs, including the cost of emulating the underlying hardware.<p>\n",
    "\n",
    "In the CSE 20133/20232 course, we will use a <b>container</b>, a technology that emulates an OS without the full overhead of a VM. The container runs a Linux-based operating system, <b>Ubuntu</b>. Our grading server also runs a Linux-based OS, so if your code works in the container, it <i>will</i> work on the grading server.<p>\n",
    "    \n",
    "><b>Optional Reading</b> - <i>Virtual machines vs. containers?</i> We will talk about this in the OS section of the course. But if you’re curious, <a href = \"https://www.backblaze.com/blog/vm-vs-containers/\">here</a> is a more detailed walk-through of the differences between a Virtual Machine and a container."
   ]
  },
  {
   "cell_type": "markdown",
   "id": "e72910ec",
   "metadata": {},
   "source": [
    "## Docker\n",
    "\n",
    "<a href = \"https://www.docker.com/\">Docker</a> is one of the most popular container solutions and widely used in industry. In CSE 20133/20232, we use Docker because it lets you run a course container on Windows, macOS, or Linux."
   ]
  },
  {
   "cell_type": "markdown",
   "id": "6d4051b0",
   "metadata": {},
   "source": [
    "### Task: Download and install Docker.\n",
    "\n",
    "If you have a Windows or Mac, you may download Docker <a href = \"https://www.docker.com/products/docker-desktop/\">here</a>. On Linux machines, follow the instructions <a href = \"https://docs.docker.com/engine/install/ubuntu/\">here</a>.\n",
    "\n",
    "After downloading Docker, follow Docker’s instructions to install it on your OS. Accept if Docker asks for privileged access. Be sure to save everything you are working on, because you will need to close and restart your computer.\n",
    "\n",
    "On Windows or macOS, open the <i?Docker Desktop</i> application after it has been installed. You may see a message similar to “Docker Desktop is Starting…”. Once this message goes away, your Docker has started successfully!\n",
    "\n",
    "Verify Docker is installed by executing the following command in a terminal:"
   ]
  },
  {
   "cell_type": "code",
   "execution_count": null,
   "id": "c9b43b2e",
   "metadata": {},
   "outputs": [],
   "source": []
  }
 ],
 "metadata": {
  "kernelspec": {
   "display_name": "Python 3 (ipykernel)",
   "language": "python",
   "name": "python3"
  },
  "language_info": {
   "codemirror_mode": {
    "name": "ipython",
    "version": 3
   },
   "file_extension": ".py",
   "mimetype": "text/x-python",
   "name": "python",
   "nbconvert_exporter": "python",
   "pygments_lexer": "ipython3",
   "version": "3.9.13"
  }
 },
 "nbformat": 4,
 "nbformat_minor": 5
}
