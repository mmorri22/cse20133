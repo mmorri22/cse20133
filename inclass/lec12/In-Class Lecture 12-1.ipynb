{
 "cells": [
  {
   "cell_type": "markdown",
   "id": "5ea0730a",
   "metadata": {},
   "source": [
    "## In-Class Lecture 12-1 - Pass by Reference and Memory Draw Problem 2"
   ]
  },
  {
   "cell_type": "markdown",
   "id": "c325b570",
   "metadata": {},
   "source": [
    "## Create folder\n",
    "\n",
    "<b>To review:</b>\n",
    "\n",
    "<b>1.</b> Open Docker Desktop. Go to the cse20133-user Container you created. Press the Blue Triangle to start the Container.\n",
    "\n",
    "<b>2.</b> Open VSCode, and on the left, select the blue button in the bottom left of VSCode. At the top, select the pull-down choice “Attach to running container” and select your CSE 20133 course container.\n",
    "\n",
    "<b>3.</b> Go into your Git Folder:\n",
    "\n",
    "> Recall that @USERNAME is the unique username you created when you created your GitHub account. You will see your user name in the VS Code Docker\n",
    "\n",
    "    cd cse20133-user/cse20133-@USERNAME\n",
    "\n",
    "Create the folder:\n",
    "\n",
    "    mkdir lec12\n",
    "    cd lec12"
   ]
  },
  {
   "cell_type": "markdown",
   "id": "919cb2be",
   "metadata": {},
   "source": [
    "### To obtain the code for today's lecture, perform the following commands:\n",
    "\n",
    "    wget https://raw.githubusercontent.com/mmorri22/cse20133/main/inclass/lec12/setup.sh\n",
    "    chmod a+rx setup.sh\n",
    "    ./setup.sh\n",
    "    \n",
    "To confirm, perform the <code>ls</code> command. You will see the following:\n",
    "\n",
    "    dyn_array_time.c  Makefile  stat_dyn_func.c  void_recast.c"
   ]
  },
  {
   "cell_type": "markdown",
   "id": "785820e1",
   "metadata": {},
   "source": [
    "The solution to Lecture 11's <code>stat_dyn_addr.c</code> will be found in <code>stat_dyn_func.c</code>"
   ]
  },
  {
   "cell_type": "markdown",
   "id": "7f1a451a",
   "metadata": {},
   "source": [
    "We will modify the code where the static and dynamic arrays are passed by reference to functions. We will print addresses in <code>main</code> as well as the functions we pass the arrays to.\n",
    "\n",
    "You will be able to use the command <code>make stat_dyn_func</code> to compile this code."
   ]
  },
  {
   "cell_type": "markdown",
   "id": "76a05980",
   "metadata": {},
   "source": [
    "Run your program, and based on the printed addresses, we will draw the location and value of the data in:\n",
    "<ul>\n",
    "    <li>Registers</li>\n",
    "    <li>Stack</li>\n",
    "    <li>Heap</li>\n",
    "</ul>"
   ]
  }
 ],
 "metadata": {
  "kernelspec": {
   "display_name": "Python 3 (ipykernel)",
   "language": "python",
   "name": "python3"
  },
  "language_info": {
   "codemirror_mode": {
    "name": "ipython",
    "version": 3
   },
   "file_extension": ".py",
   "mimetype": "text/x-python",
   "name": "python",
   "nbconvert_exporter": "python",
   "pygments_lexer": "ipython3",
   "version": "3.9.13"
  }
 },
 "nbformat": 4,
 "nbformat_minor": 5
}
