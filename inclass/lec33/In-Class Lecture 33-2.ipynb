{
 "cells": [
  {
   "cell_type": "markdown",
   "id": "31983d16",
   "metadata": {},
   "source": [
    "## In-Class Lecture 33-2 - Nine Steps of Initializing a <code>pthread</code> Example"
   ]
  },
  {
   "attachments": {},
   "cell_type": "markdown",
   "id": "2bf53e26",
   "metadata": {},
   "source": [
    "### Nine Steps.\n",
    "\n",
    "In this in-class example, we will review the Nine Steps for initializing a pthread that we covered in <a href = \"https://github.com/mmorri22/cse20133/blob/main/readings/lec35/Reading%2035-2.ipynb\">Reading 35-2</a>.\n",
    "\n",
    "In this in class assignment we will:\n",
    "<ul>\n",
    "    <li>Create 5 threads with their own integer and a pthread</li>\n",
    "    <li>All of them will point to another integer in main, which we will update in the function</li>\n",
    "    <li>In the function, we will print all addresses and then add</li>\n",
    "    <li>Think about race conditions</li>\n",
    "</ul>\n",
    "\n",
    "## Quick Note\n",
    "\n",
    "I have budgeted time to complete this code application for Lecture 36 In-Class as well (after the Thanksgiving holiday). Because of this, I encourage you to <b>ask questions</b>."
   ]
  },
  {
   "attachments": {},
   "cell_type": "markdown",
   "id": "a8a23e27",
   "metadata": {},
   "source": [
    "### Step 1\n",
    "\n",
    "1. Write a struct representing the inputs to a function you wish to parallelize"
   ]
  },
  {
   "attachments": {},
   "cell_type": "markdown",
   "id": "05155093",
   "metadata": {},
   "source": [
    "### Step 2\n",
    "\n",
    "2. Write the function you wish to implement, except pass a void pointer to the function, and return a void pointer"
   ]
  },
  {
   "attachments": {},
   "cell_type": "markdown",
   "id": "5a71bf9b",
   "metadata": {},
   "source": [
    "### Step 3\n",
    "\n",
    "3. Cast the void* back to a struct pointer inside the function\n",
    "\n",
    "    When you call the function, you cast inputs to a thread_func_args struct, which allows you to access the memory\n",
    "    \n",
    "### Preventing Race Conditions\n",
    "\n",
    "#### Global pthread mutex:\n",
    "\n",
    "    pthread_mutex_t Lock = PTHREAD_MUTEX_INITIALIZER;\n",
    "\n",
    "#### In the function:\n",
    "\n",
    "Before: \n",
    "\n",
    "    pthread_mutex_lock(&Lock);\n",
    "    \n",
    "After: \n",
    "\n",
    "    pthread_mutex_unlock(&Lock);"
   ]
  },
  {
   "attachments": {},
   "cell_type": "markdown",
   "id": "f90cd3ca",
   "metadata": {},
   "source": [
    "### Step 4\n",
    "\n",
    "4. You must return a void pointer in the function, so you will write return NULL;"
   ]
  },
  {
   "attachments": {},
   "cell_type": "markdown",
   "id": "916501ed",
   "metadata": {},
   "source": [
    "### Step 5\n",
    "\n",
    "Create a dynamically allocated struct object in main, and set the values you'd want to input to the function"
   ]
  },
  {
   "attachments": {},
   "cell_type": "markdown",
   "id": "1f2e7d7b",
   "metadata": {},
   "source": [
    "### Step 6\n",
    "\n",
    "Call pthread_create, calling the thread_ID by reference, NULL (we are not adding attributes in this course) and then pass the struct to the pthread by casting to a void pointer\n",
    "\n",
    "In our code, we will create a function:\n",
    "<ul>\n",
    "    <li>Pass the thread_funcs pointer to pointer variable</li>\n",
    "    <li>Long unsigned int for number of threads</li>\n",
    "    <li>The pointer to the global integer</li>\n",
    "    <li>We will loop through</li>\n",
    "    <ul>\n",
    "        <li>Pthreads require clear memory, so we will implement calloc instead of malloc</li>\n",
    "        <li>Set the int and the int pointer</li>\n",
    "        <li>Then create the pthread</li>\n",
    "    </ul>\n",
    "</ul>"
   ]
  },
  {
   "attachments": {},
   "cell_type": "markdown",
   "id": "f99bb59b",
   "metadata": {},
   "source": [
    "### Step 7\n",
    "\n",
    "Join each pthread by calling pthread_join"
   ]
  },
  {
   "attachments": {},
   "cell_type": "markdown",
   "id": "49c38103",
   "metadata": {},
   "source": [
    "### Step 8\n",
    "\n",
    "Free the dynamically allocated structs for the function inputs"
   ]
  },
  {
   "attachments": {},
   "cell_type": "markdown",
   "id": "d177000a",
   "metadata": {},
   "source": [
    "### Step 9\n",
    "\n",
    "Call pthread_exit( NULL ); as the last thing you do before return main"
   ]
  }
 ],
 "metadata": {
  "kernelspec": {
   "display_name": "Python 3 (ipykernel)",
   "language": "python",
   "name": "python3"
  },
  "language_info": {
   "codemirror_mode": {
    "name": "ipython",
    "version": 3
   },
   "file_extension": ".py",
   "mimetype": "text/x-python",
   "name": "python",
   "nbconvert_exporter": "python",
   "pygments_lexer": "ipython3",
   "version": "3.9.13"
  }
 },
 "nbformat": 4,
 "nbformat_minor": 5
}
