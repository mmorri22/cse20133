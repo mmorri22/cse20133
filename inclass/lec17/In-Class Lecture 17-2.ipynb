{
 "cells": [
  {
   "cell_type": "markdown",
   "id": "11e76e74",
   "metadata": {},
   "source": [
    "## In-Class Lecture 17-2 - Memory Draw Problems"
   ]
  },
  {
   "cell_type": "markdown",
   "id": "4dd23e2a",
   "metadata": {},
   "source": [
    "## Create folder\n",
    "\n",
    "<b>To review:</b>\n",
    "\n",
    "<b>1.</b> Open Docker Desktop. Go to the cse20133-user Container you created. Press the Blue Triangle to start the Container.\n",
    "\n",
    "<b>2.</b> Open VSCode, and on the left, select the blue button in the bottom left of VSCode. At the top, select the pull-down choice “Attach to running container” and select your CSE 20133 course container.\n",
    "\n",
    "<b>3.</b> Go into your Git Folder:\n",
    "\n",
    "> Recall that @USERNAME is the unique username you created when you created your GitHub account. You will see your user name in the VS Code Docker\n",
    "\n",
    "    cd cse20133-user/cse20133-@USERNAME\n",
    "\n",
    "Create the folder:\n",
    "\n",
    "    mkdir lec17\n",
    "    cd lec17"
   ]
  },
  {
   "cell_type": "markdown",
   "id": "c74b3f46",
   "metadata": {},
   "source": [
    "### To obtain the code for today's lecture, perform the following commands:\n",
    "\n",
    "    wget https://raw.githubusercontent.com/mmorri22/cse20133/main/inclass/lec17/setup.sh\n",
    "    chmod a+rx setup.sh\n",
    "    ./setup.sh\n",
    "    \n",
    "To confirm, perform the <code>ls</code> command. You will see the following:\n",
    "\n",
    "    dyn_array_time.c  Makefile  stat_dyn_func.c"
   ]
  },
  {
   "cell_type": "markdown",
   "id": "8950626b",
   "metadata": {},
   "source": [
    "### Drawing the memory layout\n",
    "\n",
    "Given your working <code>stat_dyn_addr.c</code>, you can design your own practice problems to draw a memory layout.\n",
    "\n",
    "Run your program, and based on the printed addresses, we will draw the location and value of the data in:\n",
    "<ul>\n",
    "    <li>Registers</li>\n",
    "    <li>Stack</li>\n",
    "    <li>Heap</li>\n",
    "</ul>"
   ]
  }
 ],
 "metadata": {
  "kernelspec": {
   "display_name": "Python 3 (ipykernel)",
   "language": "python",
   "name": "python3"
  },
  "language_info": {
   "codemirror_mode": {
    "name": "ipython",
    "version": 3
   },
   "file_extension": ".py",
   "mimetype": "text/x-python",
   "name": "python",
   "nbconvert_exporter": "python",
   "pygments_lexer": "ipython3",
   "version": "3.9.13"
  }
 },
 "nbformat": 4,
 "nbformat_minor": 5
}
