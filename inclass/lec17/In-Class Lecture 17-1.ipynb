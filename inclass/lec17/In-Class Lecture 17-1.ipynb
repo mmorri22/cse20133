{
 "cells": [
  {
   "cell_type": "markdown",
   "id": "510b67e6",
   "metadata": {},
   "source": [
    "## In-Class Lecture 17-1 - Static and Dynamic Memory Allocation"
   ]
  },
  {
   "cell_type": "markdown",
   "id": "55079998",
   "metadata": {},
   "source": [
    "## Create folder\n",
    "\n",
    "<b>To review:</b>\n",
    "\n",
    "<b>1.</b> Open Docker Desktop. Go to the cse20133-user Container you created. Press the Blue Triangle to start the Container.\n",
    "\n",
    "<b>2.</b> Open VSCode, and on the left, select the blue button in the bottom left of VSCode. At the top, select the pull-down choice “Attach to running container” and select your CSE 20133 course container.\n",
    "\n",
    "<b>3.</b> Go into your Git Folder:\n",
    "\n",
    "> Recall that @USERNAME is the unique username you created when you created your GitHub account. You will see your user name in the VS Code Docker\n",
    "\n",
    "    cd cse20133-user/cse20133-@USERNAME\n",
    "\n",
    "Create the folder:\n",
    "\n",
    "    mkdir lec17\n",
    "    cd lec17\n",
    "    \n",
    "> If you have not yet already done so, you will need to go into the Docker Desktop and perform the following commands in the Terminal (Exec)\n",
    ">\n",
    "> <code>sudo apt-get update</code><br>\n",
    "> <code>sudo apt-get install valgrind</code>"
   ]
  },
  {
   "cell_type": "markdown",
   "id": "54b61cee",
   "metadata": {},
   "source": [
    "### To obtain the code for today's lecture, perform the following commands:\n",
    "\n",
    "    wget https://raw.githubusercontent.com/mmorri22/cse20133/main/inclass/lec17/setup.sh\n",
    "    chmod a+rx setup.sh\n",
    "    ./setup.sh\n",
    "    \n",
    "To confirm, perform the <code>ls</code> command. You will see the following:\n",
    "\n",
    "    Makefile  dyn_array_time.c stat_dyn_addr.c stat_dyn_func.c"
   ]
  },
  {
   "cell_type": "markdown",
   "id": "8b41956b",
   "metadata": {},
   "source": [
    "### Performing Static and Dynamic Memory Allocation\n",
    "\n",
    "Open the file <code>stat_dyn_addr.c</code>. This code is mostly blank. In these steps, we will work together on allocating static and dynamic memory, and then comparing address locations. \n",
    "\n",
    "Finding the location of the comments in <code>stat_dyn_addr.c</code> corresponding to the action, you will:\n",
    "\n",
    "Step 1 - Write the required libraries for printing and dynamic malloc\n",
    "\n",
    "Step 2 - Create a compiler directive for a size of five elements\n",
    "\n",
    "Step 3 - Now that we have <code>#include< stdlib.h > </code>, use compiler directive <code>EXIT_SUCCESS</code> for return\n",
    "\n",
    "Step 4 - Create a static integer array with five elements\n",
    "\n",
    "Step 5 - Creating a dynamic array of integers:\n",
    "\n",
    "    Step 5a - Create a variable for the size of the dynamic array\n",
    "    \n",
    "    Step 5b - Read in a size using fscanf\n",
    "    \n",
    "    Step 5c - Print the location and value of this variable\n",
    "    \n",
    "    Step 5d - Dynamically allocate an int array using the size\n",
    "    \n",
    "Step 6 - Read in the number of values using fscanf into the dynamic array\n",
    "\n",
    "Step 7 - Print the address and values of each location in the dynamic array\n",
    "\n",
    "    7.1 - Location and value of the register containing the base address\n",
    "    \n",
    "    7.2 - Location and value of each element in the dynamic array\n",
    "    \n",
    "Step 8 - Free the Dynamic Array"
   ]
  },
  {
   "cell_type": "markdown",
   "id": "b1999cbd",
   "metadata": {},
   "source": [
    "### Update to Makefile using <code>valgrind</code>\n",
    "\n",
    "Open the Makefile. You will see we have modified the compilation for programs using dynamic memory. The <code>valgrind</code> tool can automatically detect many memory management and threading bugs, and profile your programs in detail, as we discussed in the reading assignment.\n",
    "\n",
    "Go to the Docker Desktop to install valgrind\n",
    "\n",
    "    sudo apt-get install valgrind\n",
    "\n",
    "> For Homework 4, you will be expected to include this <code><font color=\"red\">valgrind --leak-check=full</font></code> in your executable.\n",
    "\n",
    "<code># Create the Static Dynamic Address Object</code><br>\n",
    "<code>stat_dyn_addr.o: stat_dyn_addr.c</code><br>\n",
    "<code>\t$(CC) $(CFLAGS) -c stat_dyn_addr.c</code><br>\n",
    "<code></code><br>\n",
    "<code># Static Dynamic Address Objects</code><br>\n",
    "<code>stat_dyn_addr_objs := stat_dyn_addr.o</code><br>\n",
    "<code></code><br>\n",
    "<code># Static Dynamic Address Executable</code><br>\n",
    "<code>stat_dyn_addr: $( stat_dyn_addr_objs )\n",
    "     $(CC) $(CFLAGS) -o stat_dyn_addr $(stat_dyn_addr_objs)</code><br>\n",
    "<code>\t<font color=\"red\">valgrind --leak-check=full</font> ./stat_dyn_addr</code><br>"
   ]
  }
 ],
 "metadata": {
  "kernelspec": {
   "display_name": "Python 3 (ipykernel)",
   "language": "python",
   "name": "python3"
  },
  "language_info": {
   "codemirror_mode": {
    "name": "ipython",
    "version": 3
   },
   "file_extension": ".py",
   "mimetype": "text/x-python",
   "name": "python",
   "nbconvert_exporter": "python",
   "pygments_lexer": "ipython3",
   "version": "3.9.13"
  }
 },
 "nbformat": 4,
 "nbformat_minor": 5
}
