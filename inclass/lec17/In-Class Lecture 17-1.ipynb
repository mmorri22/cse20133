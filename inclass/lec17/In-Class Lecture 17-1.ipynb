{
 "cells": [
  {
   "cell_type": "markdown",
   "id": "8b6ceed6",
   "metadata": {},
   "source": [
    "## In-Class Lecture 17-2 - Maze Solver"
   ]
  },
  {
   "cell_type": "markdown",
   "id": "72697841",
   "metadata": {},
   "source": [
    "## Create folder\n",
    "\n",
    "<b>To review:</b>\n",
    "\n",
    "<b>1.</b> Open Docker Desktop. Go to the cse20133-user Container you created. Press the Blue Triangle to start the Container.\n",
    "\n",
    "<b>2.</b> Open VSCode, and on the left, select the blue button in the bottom left of VSCode. At the top, select the pull-down choice “Attach to running container” and select your CSE 20133 course container.\n",
    "\n",
    "<b>3.</b> Go into your Git Folder:\n",
    "\n",
    "> Recall that @USERNAME is the unique username you created when you created your GitHub account. You will see your user name in the VS Code Docker\n",
    "\n",
    "    cd cse20133-user/cse20133-@USERNAME\n",
    "\n",
    "Create the folder:\n",
    "\n",
    "    mkdir lec17\n",
    "    cd lec17"
   ]
  },
  {
   "cell_type": "markdown",
   "id": "1a09ac2e",
   "metadata": {},
   "source": [
    "## To obtain the code for today's lecture, perform the following commands:\n",
    "\n",
    "    wget https://raw.githubusercontent.com/mmorri22/cse20133/main/inclass/lec17/setup.sh\n",
    "    chmod a+rx setup.sh\n",
    "    ./setup.sh\n",
    "    \n",
    "To confirm, perform the <code>ls</code> command. You will see the following:\n",
    "\n",
    "    Makefile maze.c maze_demo.c "
   ]
  },
  {
   "cell_type": "markdown",
   "id": "36208955",
   "metadata": {},
   "source": [
    "In this example, we will use recursion and multi-dimensional arrays to perform a \"depth-first search\"\n",
    "\n",
    "The main idea behind depth-first search is that we check the first element, then go down the path and recursively check the element. Consider the example below:\n",
    "\n",
    "<center><code>        1        </code></center><br>\n",
    "<center><code>        |        </code></center><br>\n",
    "<center><code> +------+------+ </code></center><br>\n",
    "<center><code> |      |      | </code></center><br>\n",
    "<center><code> 2      3      4 </code></center><br>\n",
    "<center><code>/ \\    /|\\     | </code></center><br>\n",
    "<center><code>5 6   8 9 10   11</code></center><br>\n",
    "<center><code>        |      | </code></center><br>\n",
    "<center><code>        12     13</code></center><br>\n",
    "\n",
    "Depth-first search result: <code>1 2 5 6 3 8 9 12 10 4 11 13</code>\n",
    "\n",
    "For <b>Breadth-First Search</b>, put each element at a level next in order to search:\n",
    "\n",
    "Breadth-First search result: <code>1 2 3 4 5 6 8 9 10 11 12 13</code>"
   ]
  },
  {
   "cell_type": "markdown",
   "id": "120b4d8c",
   "metadata": {},
   "source": [
    "### <font color = \"red\">Presentation Points Opportunities</font>\n",
    "\n",
    "Given the following Graph, state the solution to\n",
    "<ul>\n",
    "    <li>Depth-First Search</li>\n",
    "    <li>Breadith-First Search</li>\n",
    "</ul>\n",
    "\n",
    "<center><code>            A               </code></center><br>\n",
    "<center><code>            |               </code></center><br>\n",
    "<center><code> +-------+------+------+    </code></center><br>\n",
    "<center><code> |       |      |     / \\   </code></center><br>\n",
    "<center><code> D      _M_     X    N   S  </code></center><br>\n",
    "<center><code>/ \\    /   \\    |        |  </code></center><br>\n",
    "<center><code>F C   Q     E   R_       V  </code></center><br>\n",
    "<center><code>     / \\   / \\  | \\     / \\ </code></center><br>\n",
    "<center><code>    G   Y    13 H  6   19  B</code></center><br>"
   ]
  },
  {
   "cell_type": "markdown",
   "id": "7b5d160e",
   "metadata": {},
   "source": [
    "Run the command <code>make maze_demo</code>\n",
    "\n",
    "    > make maze_demo\n",
    "    gcc -std=c2x -O2 -g -Wall -Wextra -Wconversion -Wshadow -Werror -lm -c maze_demo.c\n",
    "    gcc -std=c2x -O2 -g -Wall -Wextra -Wconversion -Wshadow -Werror -lm -o maze_demo maze_demo.o\n",
    "    ./maze_demo\n",
    "     |  -  -  -  -  -  -  -  -  -  | \n",
    "     |                             |\n",
    "     |     -  -  -  -  -  -  -     |\n",
    "     |     |           |           |\n",
    "     |           |     |     -  -  |\n",
    "     |  -  -     |     |           |\n",
    "     |           |     |  -  -     |\n",
    "     |     -  -  -        F  |     |\n",
    "     |     |     |  -  -  -  -     |\n",
    "     |           |                 |\n",
    "     |  -  -  -  -  -  -  -  -  -  |\n",
    "\n",
    "    The maze was not solvable from (1, 1)\n",
    "    > make clean\n",
    "    rm -rf *.o *.swp trace trace_ptr fib fib_memo maze"
   ]
  },
  {
   "cell_type": "markdown",
   "id": "b76777e5",
   "metadata": {},
   "source": [
    "### Steps we will perform in class\n",
    "\n",
    "Open the file <code>maze.c</code>\n",
    "\n",
    ">There will be several <font color = \"red\">Presentation Points Opportunities</font> as we work through this together.\n",
    "\n",
    "1 - Write the recursive function declaration\n",
    "\n",
    "2 - Write the recursive function definition\n",
    "\n",
    "3 - Call the depth_first_search function in main"
   ]
  },
  {
   "cell_type": "markdown",
   "id": "a85d61ee",
   "metadata": {},
   "source": [
    "### Final Demo\n",
    "\n",
    "Print each step to show the procedure of the recursive call\n",
    "\n",
    "<code>make maze</code>\n",
    "\n",
    "<code>make clean</code>"
   ]
  },
  {
   "cell_type": "markdown",
   "id": "56e81744",
   "metadata": {},
   "source": [
    "### Practice Committing and Pushing Through VS Code\n",
    "\n",
    "Once you make changes in your GitHub folder in VS Code, you can <code>commit</code> and <code>push</code> directly from the VS Code.\n",
    "\n",
    "From the VS Code Terminal:\n",
    "\n",
    "    cd ..\n",
    "    \n",
    "At this point, you should be in the <code>cse20133-@USERNAME</code> folder\n",
    "\n",
    "    git add --all\n",
    "    git commit -m \"Lecture 17 Update\"\n",
    "    git push -u origin main"
   ]
  }
 ],
 "metadata": {
  "kernelspec": {
   "display_name": "Python 3 (ipykernel)",
   "language": "python",
   "name": "python3"
  },
  "language_info": {
   "codemirror_mode": {
    "name": "ipython",
    "version": 3
   },
   "file_extension": ".py",
   "mimetype": "text/x-python",
   "name": "python",
   "nbconvert_exporter": "python",
   "pygments_lexer": "ipython3",
   "version": "3.9.13"
  }
 },
 "nbformat": 4,
 "nbformat_minor": 5
}
