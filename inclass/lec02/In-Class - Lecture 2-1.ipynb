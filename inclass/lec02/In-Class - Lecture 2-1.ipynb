{
 "cells": [
  {
   "cell_type": "markdown",
   "id": "eb9d60ed",
   "metadata": {},
   "source": [
    "# In-Class - Lecture 2-1 - Hexadecimal and ASCII"
   ]
  },
  {
   "cell_type": "markdown",
   "id": "89536153",
   "metadata": {},
   "source": [
    "ICQ 2-1: Show the process for performing the following subtraction in binary using five-bit signed integers\n",
    "\n",
    "    13 - 7\n",
    "\n",
    "<font color = \"red\">How do we convert from decimal to hexadecimal? And what is the benefit of understanding hexadecimal in computing?</font>\n",
    "\n",
    "ICQ 2-2: Convert the following decimal to hexadecimal\n",
    "\n",
    "    1081\n",
    "\n",
    "ICQ 2-3: Convert the following from hexadecimal to decimal\n",
    "\n",
    "    0x7ea\n",
    "\n",
    "ICQ 2-4: Convert the following from hexadecimal to decimal\n",
    "\n",
    "    -1081"
   ]
  },
  {
   "cell_type": "markdown",
   "id": "b2510721",
   "metadata": {},
   "source": [
    "<font color = \"red\">What is ASCII, and how do we use ASCII to represent characters on a computer? Give an example of a small phrase in ASCII.</font>\n",
    "\n",
    "ICQ 2-5: Pair and Share \n",
    "\n",
    "Using the table as <a href = \"https://www.asciitable.com/\">ASCIITable.com</a>\n",
    "\n",
    "    Step 1: Write a small sentence, and convert it to ASCII Hex\n",
    "    Develop your own solution\n",
    "\n",
    "    Step 2: Swap with a classmate\n",
    "    Code each other's hexadecimal codes back into ASCII\n",
    "    Check your solutions\n",
    "\n",
    "    Step 3: We share a problem with the class"
   ]
  }
 ],
 "metadata": {
  "kernelspec": {
   "display_name": "Python 3 (ipykernel)",
   "language": "python",
   "name": "python3"
  },
  "language_info": {
   "codemirror_mode": {
    "name": "ipython",
    "version": 3
   },
   "file_extension": ".py",
   "mimetype": "text/x-python",
   "name": "python",
   "nbconvert_exporter": "python",
   "pygments_lexer": "ipython3",
   "version": "3.9.13"
  }
 },
 "nbformat": 4,
 "nbformat_minor": 5
}
