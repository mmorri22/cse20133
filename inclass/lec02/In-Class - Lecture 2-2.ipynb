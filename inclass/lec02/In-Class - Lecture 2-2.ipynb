{
 "cells": [
  {
   "cell_type": "markdown",
   "id": "08c5a5d4",
   "metadata": {},
   "source": [
    "# In-Class - Lecture 2-2 - IEEE 754 Format"
   ]
  },
  {
   "cell_type": "markdown",
   "id": "168c03db",
   "metadata": {},
   "source": [
    "ICQ 2-6: Convert the following IEEE 754 Single Precision Format to decimal\n",
    "\n",
    "    0 10001010 10110000000000000000000"
   ]
  },
  {
   "cell_type": "markdown",
   "id": "344caaec",
   "metadata": {},
   "source": [
    "ICQ 2-7: Convert the following IEEE 754 Double Precision Format to decimal\n",
    "\n",
    "    0 10000000101 1010000000000000000000000000000000000000000000000000\n",
    "\n",
    "ICQ 2-8: If we took the first 32 bits of the previous problem, what would be the decimal result in IEEE 754 Single Precision Format?\n",
    "(<a href=\"https://www.h-schmidt.net/FloatConverter/IEEE754.html\">Hint</a>)"
   ]
  },
  {
   "cell_type": "markdown",
   "id": "c8ca3019",
   "metadata": {},
   "source": [
    "ICQ 2-8: Pair and Share \n",
    "\n",
    "    Step 1: Develop your own problem where you\n",
    "    Convert a IEEE 754 Single Precision Format to decimal\n",
    "    Develop your own solution\n",
    "\n",
    "    Step 2: Swap with a classmate\n",
    "    They solve your problem and you solve their problem\n",
    "    Check your solutions\n",
    "\n",
    "    Step 3: We share a problem with the class"
   ]
  }
 ],
 "metadata": {
  "kernelspec": {
   "display_name": "Python 3 (ipykernel)",
   "language": "python",
   "name": "python3"
  },
  "language_info": {
   "codemirror_mode": {
    "name": "ipython",
    "version": 3
   },
   "file_extension": ".py",
   "mimetype": "text/x-python",
   "name": "python",
   "nbconvert_exporter": "python",
   "pygments_lexer": "ipython3",
   "version": "3.9.13"
  }
 },
 "nbformat": 4,
 "nbformat_minor": 5
}
