{
 "cells": [
  {
   "cell_type": "markdown",
   "id": "08c5a5d4",
   "metadata": {},
   "source": [
    "# In-Class - Lecture 2-2 - IEEE 754 Format"
   ]
  },
  {
   "cell_type": "markdown",
   "id": "139c96a5",
   "metadata": {},
   "source": [
    "<font color = \"red\">Describe the difference between <i>precision</i> and <i>accuracy</i>, and why it's important to understand this difference in the context of computing.</font>\n",
    "\n",
    "<font color = \"red\">What is the IEEE 754 format, and how are numbers represented in IEEE 754 Format?</font>"
   ]
  },
  {
   "cell_type": "markdown",
   "id": "168c03db",
   "metadata": {},
   "source": [
    "ICQ 2-6: Convert the following IEEE 754 Single Precision Format to decimal\n",
    "\n",
    "    0 10001010 10110000000000000000000"
   ]
  },
  {
   "cell_type": "markdown",
   "id": "344caaec",
   "metadata": {},
   "source": [
    "ICQ 2-7: Convert the following IEEE 754 Double Precision Format to decimal\n",
    "\n",
    "    0 10000000101 1010000000000000000000000000000000000000000000000000\n",
    "\n",
    "ICQ 2-8: If we took the first 32 bits of the previous problem, what would be the decimal result in IEEE 754 Single Precision Format?\n",
    "(<a href=\"https://www.h-schmidt.net/FloatConverter/IEEE754.html\">Hint</a>)"
   ]
  },
  {
   "cell_type": "code",
   "execution_count": null,
   "id": "06222505",
   "metadata": {},
   "outputs": [],
   "source": []
  }
 ],
 "metadata": {
  "kernelspec": {
   "display_name": "Python 3 (ipykernel)",
   "language": "python",
   "name": "python3"
  },
  "language_info": {
   "codemirror_mode": {
    "name": "ipython",
    "version": 3
   },
   "file_extension": ".py",
   "mimetype": "text/x-python",
   "name": "python",
   "nbconvert_exporter": "python",
   "pygments_lexer": "ipython3",
   "version": "3.9.13"
  }
 },
 "nbformat": 4,
 "nbformat_minor": 5
}
