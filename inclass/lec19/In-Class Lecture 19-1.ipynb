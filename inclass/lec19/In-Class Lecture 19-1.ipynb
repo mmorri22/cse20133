{
 "cells": [
  {
   "cell_type": "markdown",
   "id": "c4e4043b",
   "metadata": {},
   "source": [
    "## In-Class Lecture 19-1 - A better malloc() example"
   ]
  },
  {
   "cell_type": "markdown",
   "id": "dc31a07c",
   "metadata": {},
   "source": [
    "## Create folder\n",
    "\n",
    "<b>To review:</b>\n",
    "\n",
    "<b>1.</b> Open Docker Desktop. Go to the cse20133-user Container you created. Press the Blue Triangle to start the Container.\n",
    "\n",
    "<b>2.</b> Open VSCode, and on the left, select the blue button in the bottom left of VSCode. At the top, select the pull-down choice “Attach to running container” and select your CSE 20133 course container.\n",
    "\n",
    "<b>3.</b> Go into your Git Folder:\n",
    "\n",
    "> Recall that @USERNAME is the unique username you created when you created your GitHub account. You will see your user name in the VS Code Docker\n",
    "\n",
    "    cd cse20133-user/cse20133-@USERNAME\n",
    "\n",
    "Create the folder:\n",
    "\n",
    "    mkdir lec19\n",
    "    cd lec19"
   ]
  },
  {
   "cell_type": "markdown",
   "id": "9e45694d",
   "metadata": {},
   "source": [
    "To obtain the code for today's lecture, perform the following commands:\n",
    "\n",
    "    wget https://raw.githubusercontent.com/mmorri22/cse20133/main/inclass/lec19/setup.sh\n",
    "    chmod a+rx setup.sh\n",
    "    ./setup.sh\n",
    "    \n",
    "To confirm, perform the <code>ls</code> command. You will see the following:\n",
    "\n",
    "    argc_argv.c      better_malloc.c         better_malloc_float.c  Makefile\n",
    "    argc_argv_mod.c  better_malloc_double.c  better_malloc_li.c     "
   ]
  },
  {
   "cell_type": "markdown",
   "id": "5863cf07",
   "metadata": {},
   "source": [
    "## Reading Review\n",
    "\n",
    "Discuss for two minutes the answers to the reading questions:\n",
    "\n",
    "<font color = \"red\">Class Introduction Question #1 - Describe the process of pointers to pointers dynamically in C\n",
    "\n",
    "Class Introduction Question #2 - For the following code segment, describe what each element means:\n",
    "\n",
    "<code>int** pascal_array = (int ** )malloc( array_size * sizeof( int * ) );</code>\n",
    "\n",
    "Class Introduction Question #3 - Describe the process of allocating memory to pointers of pointers in C by reference\n",
    "\n",
    "Class Introduction Question #4 - Describe the process of freeing pointers to pointers by reference\n",
    "\n",
    "Class Introduction Question #5 - Why is it important for you to understand allocating and freeing memory to pointers to pointers?\n",
    "</font>"
   ]
  },
  {
   "cell_type": "markdown",
   "id": "0a1e0fe7",
   "metadata": {},
   "source": [
    "### Updating better_malloc.c\n",
    "\n",
    "We will learn how to call a pointer array in C using a pointer to a pointer.\n",
    "\n",
    "Consider a dynamic array:\n",
    "    \n",
    "    int* the_array = (int *)malloc( num_elements * sizeof(int) );\n",
    "\n",
    "Rules:\n",
    "\n",
    "1 - When passing an array you wish to update\n",
    "    \n",
    "    In the function declaration / defintion, use type**  (such as int **)\n",
    "    \n",
    "    In the call in main, pass by reference using & (such as &the_array)\n",
    "    \n",
    "2 - When passing an array you do not wish to update\n",
    "    \n",
    "    In the function declaration / defintion, use type*  (such as int *)\n",
    "    \n",
    "    In the call in main, pass by value (such as the_array)\n",
    "    \n",
    "    \n",
    "### We will write three functions:\n",
    "\n",
    "alloc_memory - To allocate the memory\n",
    "\n",
    "print_memory - To print the data and memory locations\n",
    "\n",
    "free_memory - To free the memory"
   ]
  },
  {
   "cell_type": "markdown",
   "id": "4ae1550a",
   "metadata": {},
   "source": [
    "### Combining Concepts - Range of data types and factorial\n",
    "\n",
    "Now that you have a program that allocates and frees memory, and calculates powers of 2, run the following:\n",
    "\n",
    "    make clean\n",
    "    make better_malloc\n",
    "    \n",
    "When prompted, put in 25 for the factorial. What happens?\n",
    "\n",
    "Next, you have <code>better_malloc_li.c</code>, which performs the factorial calculation using a long signed integer.\n",
    "\n",
    "    make better_malloc_li\n",
    "\n",
    "When prompted, put in 25 for the factorial. What happens?\n",
    "\n",
    "Next, you have <code>better_malloc_float.c</code>, which performs the factorial calculation using a float.\n",
    "\n",
    "    make better_malloc_float\n",
    "    \n",
    "When prompted, put in 25 for the factorial. What happens?\n",
    "\n",
    "Do it again, but now for 40 for the factorial. What happens?\n",
    "\n",
    "Finally, you have <code>better_malloc_double.c</code>, which performs the factorial calculation using a double.\n",
    "\n",
    "    make better_malloc_double\n",
    "    \n",
    "When prompted, put in 40 for the factorial. What happens?\n",
    "\n",
    "Do it again, but now for 175 for the factorial. What happens?"
   ]
  }
 ],
 "metadata": {
  "kernelspec": {
   "display_name": "Python 3 (ipykernel)",
   "language": "python",
   "name": "python3"
  },
  "language_info": {
   "codemirror_mode": {
    "name": "ipython",
    "version": 3
   },
   "file_extension": ".py",
   "mimetype": "text/x-python",
   "name": "python",
   "nbconvert_exporter": "python",
   "pygments_lexer": "ipython3",
   "version": "3.9.13"
  }
 },
 "nbformat": 4,
 "nbformat_minor": 5
}
