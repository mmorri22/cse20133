{
 "cells": [
  {
   "cell_type": "markdown",
   "id": "5ea0730a",
   "metadata": {},
   "source": [
    "## In-Class Lecture 19-1 - Pass by Reference and Memory Draw Problem 3"
   ]
  },
  {
   "cell_type": "markdown",
   "id": "785820e1",
   "metadata": {},
   "source": [
    "The solution to Lecture 17's <code>stat_dyn_addr.c</code> will be found in <code>stat_dyn_func.c</code>"
   ]
  },
  {
   "cell_type": "markdown",
   "id": "7f1a451a",
   "metadata": {},
   "source": [
    "We will modify the code where the static and dynamic arrays are passed by reference to functions. We will print addresses in <code>main</code> as well as the functions we pass the arrays to.\n",
    "\n",
    "You will be able to use the command <code>make stat_dyn_func</code> to compile this code."
   ]
  },
  {
   "cell_type": "markdown",
   "id": "76a05980",
   "metadata": {},
   "source": [
    "Run your program, and based on the printed addresses, we will draw the location and value of the data in:\n",
    "<ul>\n",
    "    <li>Registers</li>\n",
    "    <li>Stack</li>\n",
    "    <li>Heap</li>\n",
    "</ul>"
   ]
  },
  {
   "cell_type": "markdown",
   "id": "e68c0f43",
   "metadata": {},
   "source": [
    "### Practice Committing and Pushing Through VS Code\n",
    "\n",
    "Once you make changes in your GitHub folder in VS Code, you can <code>commit</code> and <code>push</code> directly from the VS Code.\n",
    "\n",
    "From the VS Code Terminal:\n",
    "\n",
    "    cd ..\n",
    "    \n",
    "At this point, you should be in the <code>cse20133-@USERNAME</code> folder\n",
    "\n",
    "    git add --all\n",
    "    git commit -m \"Lecture 17 Update\"\n",
    "    git push -u origin main"
   ]
  }
 ],
 "metadata": {
  "kernelspec": {
   "display_name": "Python 3 (ipykernel)",
   "language": "python",
   "name": "python3"
  },
  "language_info": {
   "codemirror_mode": {
    "name": "ipython",
    "version": 3
   },
   "file_extension": ".py",
   "mimetype": "text/x-python",
   "name": "python",
   "nbconvert_exporter": "python",
   "pygments_lexer": "ipython3",
   "version": "3.9.13"
  }
 },
 "nbformat": 4,
 "nbformat_minor": 5
}
