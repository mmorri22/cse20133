{
 "cells": [
  {
   "cell_type": "markdown",
   "id": "31983d16",
   "metadata": {},
   "source": [
    "## In-Class Lecture 36-1 - Matplot++ Instroduction"
   ]
  },
  {
   "cell_type": "markdown",
   "id": "d6af3f99",
   "metadata": {},
   "source": [
    "## Create folder\n",
    "\n",
    "<b>To review:</b>\n",
    "\n",
    "<b>1.</b> Open Docker Desktop. Go to the cse20133-user Container you created. Press the Blue Triangle to start the Container.\n",
    "\n",
    "<b>2.</b> Open VSCode, and on the left, select the blue button in the bottom left of VSCode. At the top, select the pull-down choice “Attach to running container” and select your CSE 20133 course container.\n",
    "\n",
    "<b>3.</b> Go into your Git Folder:\n",
    "\n",
    "> Recall that @USERNAME is the unique username you created when you created your GitHub account. You will see your user name in the VS Code Docker\n",
    "\n",
    "    cd cse20133-user/cse20133-@USERNAME\n",
    "\n",
    "Create the folder:\n",
    "\n",
    "    mkdir lec36\n",
    "    cd lec36\n",
    "    \n",
    "    \n",
    "### Obtaining the class files\n",
    "\n",
    "Perform the following command:\n",
    "\n",
    "    wget https://raw.githubusercontent.com/mmorri22/cse20133/main/inclass/lec36/setup.sh\n",
    "    chmod a+rx setup.sh\n",
    "    ./setup.sh\n",
    "    \n",
    "Once you perform these commands, you will get the following:\n",
    "\n",
    "    Makefile minimal.cpp 3d_plot.cpp"
   ]
  },
  {
   "cell_type": "markdown",
   "id": "c11d1930",
   "metadata": {},
   "source": [
    "## Installing and Implementing Matplot++\n",
    "\n",
    "> Note: This is a repeat of the instructions we performed in Lecture 35 while we did the Operating Systems in-class problems, as well as the directions in the Reading 36. No need to repeat, but I expecteded this to be completed by the time we start Lecture 36. If you do not have it done yet, perform the commands below and work with a classmate, because this start up takes awhile to run.\n",
    "\n",
    "<a href = \"https://alandefreitas.github.io/matplotplusplus/\">Matplot++</a> is a C++ graphics library for data visualization that provides interactive plotting as a means for exporting plots in high-quality formats. \n",
    "\n",
    "\n",
    "#### Installing Matplot++\n",
    "\n",
    "Close out of your VS Code and your <b>Docker Destop</b>. Re-open Docker Desktop and start your Container.\n",
    "\n",
    "Go to either \"Terminal\" or \"Exec\" (you will see one or the other.)\n",
    "\n",
    "In that terminal, run the following commands:\n",
    "\n",
    "    wget https://raw.githubusercontent.com/mmorri22/cse20133/main/readings/lec36/setup.sh\n",
    "    chmod a+rx setup.sh\n",
    "    ./setup.sh\n",
    "\n",
    "> These commands will take awhile. <a href=\"https://www.youtube.com/watch?v=GrzWcLMBnco\">Grab a Snickers</a> You will also likely need to monitor the first few commands where it will likely ask you for a <code>[Y/n]</code> to continue. Select <code>Y</code>. \n",
    "\n",
    "#### Step 2 - Updating the Makefile\n",
    "\n",
    "Once we install the Matplot++ library, we will need to tell the programs where the Matplot++ library is. We will do this by adding our final compiler flags of the semester:\n",
    "\n",
    "    MATPLOT = -I/usr/local/include/matplot/ -lmatplot\n",
    "\n",
    "When we compile code using Matplot++, we will include this flag after the .cpp files as well after the object files.\n",
    "\n",
    "    # C++ Visualization Introduction\n",
    "    # Command: make minimal\n",
    "    minimal.o: minimal.cpp\n",
    "        $(PP) $(CXXFLAGS) -c minimal.cpp $(MATPLOT)\n",
    "\n",
    "    minimal_objs := minimal.o\n",
    "\n",
    "    minimal: $(minimal_objs)\n",
    "        $(PP) $(CXXFLAGS) -o minimal $(minimal_objs) $(MATPLOT) -lm"
   ]
  },
  {
   "cell_type": "code",
   "execution_count": null,
   "id": "36c39d3f",
   "metadata": {},
   "outputs": [],
   "source": []
  }
 ],
 "metadata": {
  "kernelspec": {
   "display_name": "Python 3 (ipykernel)",
   "language": "python",
   "name": "python3"
  },
  "language_info": {
   "codemirror_mode": {
    "name": "ipython",
    "version": 3
   },
   "file_extension": ".py",
   "mimetype": "text/x-python",
   "name": "python",
   "nbconvert_exporter": "python",
   "pygments_lexer": "ipython3",
   "version": "3.9.13"
  }
 },
 "nbformat": 4,
 "nbformat_minor": 5
}
