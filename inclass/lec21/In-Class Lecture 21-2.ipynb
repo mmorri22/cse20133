{
 "cells": [
  {
   "cell_type": "markdown",
   "id": "8b6ceed6",
   "metadata": {},
   "source": [
    "## In-Class Lecture 21-2 - Static and Dynamic Memory Map"
   ]
  },
  {
   "cell_type": "markdown",
   "id": "49830df2",
   "metadata": {},
   "source": [
    "## Exam-Type Problem - Memory Map\n",
    "\n",
    "In this problem, we will perform a sample run of the memory_map.c and print the locations of each element in memory based on the sample run.\n",
    "\n",
    "<b>Given the code in mem_map.c, and the corresponding output, draw a memory map indicating where each element in located in memory. Using the last three hexadecimal values is sufficient for full credit.</b>\n",
    "\n",
    "    > gcc -std=c2x -Wall -Werror -Wconversion mem_map.c -o mem_map\n",
    "    > ./mem_map 22 -131 14.7 41.99\n",
    "    0x7ffc97f505cc 5\n",
    "    0x7ffc97f505c0 0x7ffc97f506f8\n",
    "    0x7ffc97f506f8 0x7ffc97f514d7 ./mem_map\n",
    "    0x7ffc97f50700 0x7ffc97f514e1 22\n",
    "    0x7ffc97f50708 0x7ffc97f514e4 -131\n",
    "    0x7ffc97f50710 0x7ffc97f514e9 14.7\n",
    "    0x7ffc97f50718 0x7ffc97f514ee 41.99\n",
    "    0x7ffc97f505e0\n",
    "    0x7ffc97f505e0 22\n",
    "    0x7ffc97f505e4 -131\n",
    "    0x7ffc97f505e8 14.700000\n",
    "    0x7ffc97f505f0 41.990000\n",
    "    0x7ffc97f505d8 0x8a0010\n",
    "    0x8a0010 22\n",
    "    0x8a0014 -131\n",
    "    0x8a0018 14.700000\n",
    "    0x8a0020 41.990000\n",
    "\n",
    "And here is an image with a sample output:\n",
    "\n",
    "![](https://github.com/mmorri22/cse20133/blob/main/inclass/lec21/Memory%20Map%20Example%20Solution.jpg?raw=true)\n"
   ]
  }
 ],
 "metadata": {
  "kernelspec": {
   "display_name": "Python 3 (ipykernel)",
   "language": "python",
   "name": "python3"
  },
  "language_info": {
   "codemirror_mode": {
    "name": "ipython",
    "version": 3
   },
   "file_extension": ".py",
   "mimetype": "text/x-python",
   "name": "python",
   "nbconvert_exporter": "python",
   "pygments_lexer": "ipython3",
   "version": "3.9.13"
  }
 },
 "nbformat": 4,
 "nbformat_minor": 5
}
