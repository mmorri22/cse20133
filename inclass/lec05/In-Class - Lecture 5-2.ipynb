{
 "cells": [
  {
   "cell_type": "markdown",
   "id": "1521ae82",
   "metadata": {},
   "source": [
    "## In-Class Lecture 5-2 - Conditional Statements\n",
    "\n",
    "In this section, we will learn to differentiate between if, else if, and switch statements"
   ]
  },
  {
   "cell_type": "markdown",
   "id": "50b3fa9b",
   "metadata": {},
   "source": [
    "## If-Else\n",
    "\n",
    "To test our understanding of <code>if</code>, <code>else if</code>, and <code>else</code> statements, we will build a basic set of these statements.\n",
    "\n",
    "Obtain the <code>if_else.c</code> skeleton code\n",
    "\n",
    "    wget https://raw.githubusercontent.com/mmorri22/cse20133/main/inclass/lec05/if_else.c\n",
    "\n",
    "Pair and Share - <b><font color = \"red\">Presentation Points Opportunity</font></b>\n",
    "\n",
    "With a partner, develop a set of conditions of your choice that requires an if/else conidition (needs at least an if, an else if, and an else) and present your idea to the class.\n",
    "\n",
    "The compilation, execution, and deletion commands for this part are:\n",
    "\n",
    "    gcc -Wall -std=c2x -Wconversion -Werror if_else.c -o if_else\n",
    "    ./if_else\n",
    "    rm if_else"
   ]
  },
  {
   "cell_type": "markdown",
   "id": "e9b20001",
   "metadata": {},
   "source": [
    "## Switch\n",
    "\n",
    "In your <code>lec05</code> folder, obtain the <code>switch.c</code> skeleton code\n",
    "\n",
    "    wget https://raw.githubusercontent.com/mmorri22/cse20133/main/inclass/lec05/switch.c\n",
    "\n",
    "Pair and Share - <b><font color = \"red\">Presentation Points Opportunity</font></b>\n",
    "\n",
    "With a partner, develop a set of conditions of your choice that requires an if/else conidition (needs at least an if, an else if, and an else) and present your idea to the class.\n",
    "\n",
    "The compilation, execution, and deletion commands for this part are:\n",
    "\n",
    "    gcc -Wall -std=c2x -Wconversion -Werror switch.c -o switch\n",
    "    ./switch\n",
    "    rm switch"
   ]
  },
  {
   "cell_type": "markdown",
   "id": "2cdabf7a",
   "metadata": {},
   "source": [
    "## Switch with Accuracy vs Precision\n",
    "\n",
    "To <b>combine concepts</b>, let's look at what happens when we download the code segment <code>switch_double.c</code>\n",
    "\n",
    "<code>wget https://raw.githubusercontent.com/mmorri22/cse20133/main/inclass/lec05/switch_double.c</code>\n",
    "\n",
    "The compilation command for this part is:\n",
    "\n",
    "    gcc -Wall -std=c2x -Wconversion -Werror switch_double.c -o switch_double\n",
    "    \n",
    "The code does not compile. <b>Why not</b>?"
   ]
  },
  {
   "cell_type": "markdown",
   "id": "925a8e06",
   "metadata": {},
   "source": [
    "### Practice Committing and Pushing Through VS Code\n",
    "\n",
    "Once you make changes in your GitHub folder in VS Code, you can <code>commit</code> and <code>push</code> directly from the VS Code.\n",
    "\n",
    "From the VS Code Terminal:\n",
    "\n",
    "    cd ..\n",
    "    \n",
    "At this point, you should be in the <code>cse20133-@USERNAME</code> folder\n",
    "\n",
    "    git add --all\n",
    "    git commit -m \"Lecture 05 Update\"\n",
    "    git push -u origin main"
   ]
  }
 ],
 "metadata": {
  "kernelspec": {
   "display_name": "Python 3 (ipykernel)",
   "language": "python",
   "name": "python3"
  },
  "language_info": {
   "codemirror_mode": {
    "name": "ipython",
    "version": 3
   },
   "file_extension": ".py",
   "mimetype": "text/x-python",
   "name": "python",
   "nbconvert_exporter": "python",
   "pygments_lexer": "ipython3",
   "version": "3.9.13"
  }
 },
 "nbformat": 4,
 "nbformat_minor": 5
}
