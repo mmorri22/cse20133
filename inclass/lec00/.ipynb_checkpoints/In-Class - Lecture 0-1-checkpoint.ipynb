{
 "cells": [
  {
   "cell_type": "markdown",
   "id": "82ed932e",
   "metadata": {},
   "source": [
    "## In-Class - Lecture 00 - Introduction to Computational Thinking"
   ]
  },
  {
   "cell_type": "markdown",
   "id": "1b714a18",
   "metadata": {},
   "source": [
    "### Here are the links from lecture that are presented for in-class activities:\n",
    "\n",
    "Experience with C/C++ - https://site.forms.gle/bGYe5R8JyX7kJBEb6Links\n",
    "\n",
    "Working Memory Test 1 - https://docs.google.com/forms/d/e/1FAIpQLSfslfeEtNqv_-n3vDrgLsvADRPRhP9WFiBgiGMaiVTejzqbBQ/viewformLinks\n",
    "\n",
    "Working Memory Test 2 - https://docs.google.com/forms/d/e/1FAIpQLSc9-f2DBQ2UfqGoBKKGuwJJnKZMFyj8JKgBniNCY9epexs3sw/viewformLinks\n",
    "\n",
    "Wikipedia - Search for Philosophy Test - https://www.wikipedia.org/\n",
    "<ul><li>Wikipedia:Getting to Philosophy - https://en.wikipedia.org/wiki/Wikipedia:Getting_to_Philosophy</ul></li>\n",
    "\n",
    "Time Permitting: Solving the Graph Puzzles - https://www.transum.org/Maths/Activity/without/"
   ]
  }
 ],
 "metadata": {
  "kernelspec": {
   "display_name": "Python 3 (ipykernel)",
   "language": "python",
   "name": "python3"
  },
  "language_info": {
   "codemirror_mode": {
    "name": "ipython",
    "version": 3
   },
   "file_extension": ".py",
   "mimetype": "text/x-python",
   "name": "python",
   "nbconvert_exporter": "python",
   "pygments_lexer": "ipython3",
   "version": "3.9.13"
  }
 },
 "nbformat": 4,
 "nbformat_minor": 5
}
