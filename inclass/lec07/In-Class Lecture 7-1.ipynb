{
 "cells": [
  {
   "cell_type": "markdown",
   "id": "25f7c988",
   "metadata": {},
   "source": [
    "# In-Class Lecture 7-1 - Decompose a C File in Header Files and Create an Makefile"
   ]
  },
  {
   "cell_type": "markdown",
   "id": "768ebd3f",
   "metadata": {},
   "source": [
    "## Create folder\n",
    "\n",
    "<b>To review:</b>\n",
    "\n",
    "<b>1.</b> Open Docker Desktop. Go to the cse20133-user Container you created. Press the Blue Triangle to start the Container.\n",
    "\n",
    "<b>2.</b> Open VSCode, and on the left, select the blue button in the bottom left of VSCode. At the top, select the pull-down choice “Attach to running container” and select your CSE 20133 course container.\n",
    "\n",
    "<b>3.</b> Go into your Git Folder:\n",
    "\n",
    "> Recall that @USERNAME is the unique username you created when you created your GitHub account. You will see your user name in the VS Code Docker\n",
    "\n",
    "    cd cse20133-user/cse20133-@USERNAME\n",
    "\n",
    "Create the folder:\n",
    "\n",
    "    mkdir lec07\n",
    "    cd lec07\n",
    "    \n",
    "Perform the following command:\n",
    "\n",
    "    wget https://raw.githubusercontent.com/mmorri22/cse20133/main/inclass/lec07/parallel.c\n",
    "    \n",
    "You have obtained a program that takes in three resistances in parallel and calculates the overall resistance. To see the output, perform the following commands:\n",
    "\n",
    "    gcc -std=c2x -g -O2 -Wall -Wextra -Wconversion -Werror parallel.c -o parallel\n",
    "    ./parallel\n",
    "    rm -rf parallel\n",
    "    \n",
    "The expected output will be:\n",
    "\n",
    "    Resistance in parallel of 10.000000, 22.700000, and 13.500000 is 4.584486"
   ]
  },
  {
   "cell_type": "markdown",
   "id": "40ffec4b",
   "metadata": {},
   "source": [
    "### Pair and Share\n",
    "\n",
    "Separate the parallel.c file into the following:\n",
    "\n",
    "<ul>\n",
    "    <li><code>parallel_lib.h</code> - Will contain global variables, included C libraries, and function declarations</li>\n",
    "    <li><code>parallel_lib.c</code> - Will contain function definitions</li>\n",
    "    <li><code>parallel_run.c</code> - Will include the main driver program</li>\n",
    "</ul>"
   ]
  },
  {
   "cell_type": "markdown",
   "id": "19945905",
   "metadata": {},
   "source": [
    "### Pair and Share\n",
    "\n",
    "Create a Makefile that will compile the program. Feel free to use the <a href = \"https://raw.githubusercontent.com/mmorri22/cse20133/main/readings/lec07/Makefile\">Makefile</a> from the reading as a guide.\n",
    "\n",
    "Here is an example run from my solution:\n",
    "\n",
    "    ~/cse20133-mmorri22/lec07$ make parallel_run\n",
    "    gcc -std=c2x -O2 -g -Wall -Wextra -Wconversion -Wshadow -Werror -lm -c parallel_run.c\n",
    "    gcc -std=c2x -O2 -g -Wall -Wextra -Wconversion -Wshadow -Werror -lm -c parallel_lib.c\n",
    "    gcc -std=c2x -O2 -g -Wall -Wextra -Wconversion -Wshadow -Werror -lm -o parallel_run parallel_run.o parallel_lib.o\n",
    "    ./parallel_run\n",
    "    Resistance in parallel of 10.000000, 22.700000, and 13.500000 is 4.584486\n",
    "    ~/cse20133-mmorri22/lec07$ make clean\n",
    "    rm -rf *.o *.swp parallel_run"
   ]
  }
 ],
 "metadata": {
  "kernelspec": {
   "display_name": "Python 3 (ipykernel)",
   "language": "python",
   "name": "python3"
  },
  "language_info": {
   "codemirror_mode": {
    "name": "ipython",
    "version": 3
   },
   "file_extension": ".py",
   "mimetype": "text/x-python",
   "name": "python",
   "nbconvert_exporter": "python",
   "pygments_lexer": "ipython3",
   "version": "3.9.13"
  }
 },
 "nbformat": 4,
 "nbformat_minor": 5
}
