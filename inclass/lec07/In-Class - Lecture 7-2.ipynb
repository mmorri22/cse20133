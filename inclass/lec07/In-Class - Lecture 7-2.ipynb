{
 "cells": [
  {
   "cell_type": "markdown",
   "id": "e1f5e16a",
   "metadata": {},
   "source": [
    "## In-Class Lecture 7-2 - Functions\n",
    "\n",
    "In this section, we will create functions that takes in the variables we created in other files, and then promotes <b>modularity</b> and <b>information</b> hiding."
   ]
  },
  {
   "cell_type": "markdown",
   "id": "7f735d8e",
   "metadata": {},
   "source": [
    "In your <code>lec07</code> folder, obtain the <code>functions.c</code> skeleton code:\n",
    "\n",
    "    wget https://raw.githubusercontent.com/mmorri22/cse20133/main/inclass/lec07/functions.c"
   ]
  },
  {
   "cell_type": "markdown",
   "id": "895d1021",
   "metadata": {},
   "source": [
    "## Function Declarations\n",
    "\n",
    "We will first create a function that takes in the if-else variables and then print the result\n",
    "\n",
    "For the function declarations, we will perform the following task <i>above</i> main:\n",
    "\n",
    "    return-type function_name( input_variables );\n",
    "    \n",
    "    \n",
    "For the function definitions, we will perform the following task <i>below</i> main:\n",
    "\n",
    "    return-type function_name( input_variables ){\n",
    "    \n",
    "        Copied code from if-else main goes here\n",
    "    \n",
    "    }\n",
    "    \n",
    "Then, we will create a <b>Function Header</b> above the if_else function with this format:\n",
    "\n",
    "    /********************************************\n",
    "     * Function Name: function_name\n",
    "     * Pre-Conditions: input_variables\n",
    "     * Post-Conditions: return-type\n",
    "     *\n",
    "     * Brief Description of what the code does\n",
    "     *******************************************/"
   ]
  },
  {
   "cell_type": "markdown",
   "id": "b59dec11",
   "metadata": {},
   "source": [
    "#### Compilation\n",
    "\n",
    "We will regularly test and compile the code\n",
    "\n",
    "    gcc -Wall -Wextra -std=c2x -Wconversion -Werror functions.c -o functions\n",
    "    ./functions\n",
    "    rm functions"
   ]
  },
  {
   "cell_type": "markdown",
   "id": "b9611137",
   "metadata": {},
   "source": [
    "## Repeat with while / for\n",
    "\n",
    "Pair and Share\n",
    "\n",
    "There will be three pairs who will get opportunities:\n",
    "<ul>\n",
    "    <li>Copy <code>while.c</code> to <code>while_func.c</code> and pass the inputs to a function. Run the while loop in that function</li>\n",
    "    <li>Copy <code>dowhile.c</code> to <code>dowhile_func.c</code> and pass the inputs to a function. Run the do-while loop in that function</li>\n",
    "    <li>Copy <code>for.c</code> to <code>for_func.c</code> and pass the inputs to a function. Run the for loop in that function</li>\n",
    "</ul>\n",
    "\n",
    "For the <code>while_func.c</code>:\n",
    "\n",
    "    gcc -Wall -Wextra -std=c2x -Wconversion -Werror while_func.c -o while_func\n",
    "    ./while_func\n",
    "    rm while_func\n",
    "    \n",
    "For the <code>dowhile_func.c</code>:\n",
    "\n",
    "    gcc -Wall -Wextra -std=c2x -Wconversion -Werror dowhile_func.c -o dowhile_func\n",
    "    ./dowhile_func\n",
    "    rm dowhile_func\n",
    "    \n",
    "For the <code>for_func.c</code>:\n",
    "\n",
    "    gcc -Wall -Wextra -std=c2x -Wconversion -Werror for_func.c -o for_func\n",
    "    ./for_func\n",
    "    rm for_func"
   ]
  }
 ],
 "metadata": {
  "kernelspec": {
   "display_name": "Python 3 (ipykernel)",
   "language": "python",
   "name": "python3"
  },
  "language_info": {
   "codemirror_mode": {
    "name": "ipython",
    "version": 3
   },
   "file_extension": ".py",
   "mimetype": "text/x-python",
   "name": "python",
   "nbconvert_exporter": "python",
   "pygments_lexer": "ipython3",
   "version": "3.9.13"
  }
 },
 "nbformat": 4,
 "nbformat_minor": 5
}
