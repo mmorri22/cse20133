{
 "cells": [
  {
   "cell_type": "markdown",
   "id": "ef05ba3a",
   "metadata": {},
   "source": [
    "## In-Class Lecture 7-2 - Build a Program and Modify the Makefile"
   ]
  },
  {
   "cell_type": "markdown",
   "id": "6d803d10",
   "metadata": {},
   "source": [
    "Perform the following command:\n",
    "\n",
    "    wget https://raw.githubusercontent.com/mmorri22/cse20133/main/inclass/lec07/fact_double_sci.c"
   ]
  },
  {
   "cell_type": "markdown",
   "id": "b0a07a51",
   "metadata": {},
   "source": [
    "### Repeat the process\n",
    "\n",
    "We will separate the fact_double_sci.c file into the following:\n",
    "\n",
    "<ul>\n",
    "    <li><code>fact_lib.h</code> - Will contain global variables, included C libraries, and function declarations</li>\n",
    "    <li><code>fact_lib.c</code> - Will contain function definitions</li>\n",
    "    <li><code>fact_run.c</code> - Will include the main driver program</li>\n",
    "</ul>"
   ]
  },
  {
   "cell_type": "markdown",
   "id": "d40b1093",
   "metadata": {},
   "source": [
    "### Modifying the Makefile\n",
    "\n",
    "Instead of creating an entirely new Makefile, we will build another executable in the same Makefile"
   ]
  },
  {
   "cell_type": "markdown",
   "id": "500fd128",
   "metadata": {},
   "source": [
    "### <font color=\"red\">Time Permitting</font>\n",
    "\n",
    "Build your own program with a library, and incorporate your executable into the current Makefile\n",
    "\n",
    "If we get a student team to complete this task, they can present for Presentation Points."
   ]
  }
 ],
 "metadata": {
  "kernelspec": {
   "display_name": "Python 3 (ipykernel)",
   "language": "python",
   "name": "python3"
  },
  "language_info": {
   "codemirror_mode": {
    "name": "ipython",
    "version": 3
   },
   "file_extension": ".py",
   "mimetype": "text/x-python",
   "name": "python",
   "nbconvert_exporter": "python",
   "pygments_lexer": "ipython3",
   "version": "3.9.13"
  }
 },
 "nbformat": 4,
 "nbformat_minor": 5
}
