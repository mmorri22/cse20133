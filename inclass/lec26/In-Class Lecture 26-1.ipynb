{
 "cells": [
  {
   "cell_type": "markdown",
   "id": "054c40c5",
   "metadata": {},
   "source": [
    "## In-Class Lecture 26-1 - Assembling our Assembly Instructions\n",
    "\n",
    "In this lecture, we will see how to add using integers, floats, and doubles. And then we will try to add a mixed result of a float/double and float/int to see what is actually happening."
   ]
  },
  {
   "cell_type": "markdown",
   "id": "66f13480",
   "metadata": {},
   "source": [
    "## Create folder\n",
    "\n",
    "<b>To review:</b>\n",
    "\n",
    "<b>1.</b> Open Docker Desktop. Go to the cse20133-user Container you created. Press the Blue Triangle to start the Container.\n",
    "\n",
    "<b>2.</b> Open VSCode, and on the left, select the blue button in the bottom left of VSCode. At the top, select the pull-down choice “Attach to running container” and select your CSE 20133 course container.\n",
    "\n",
    "<b>3.</b> Go into your Git Folder:\n",
    "\n",
    "> Recall that @USERNAME is the unique username you created when you created your GitHub account. You will see your user name in the VS Code Docker\n",
    "\n",
    "    cd cse20133-user/cse20133-@USERNAME\n",
    "\n",
    "Create the folder:\n",
    "\n",
    "    mkdir lec26\n",
    "    cd lec26"
   ]
  },
  {
   "cell_type": "markdown",
   "id": "e93ede34",
   "metadata": {},
   "source": [
    "### Obtaining the class files\n",
    "\n",
    "Perform the following command:\n",
    "\n",
    "    wget https://raw.githubusercontent.com/mmorri22/cse20133/main/inclass/lec26/setup.sh\n",
    "    chmod a+rx setup.sh\n",
    "    ./setup.sh\n",
    "    \n",
    "Once you perform these commands, you will get the following:\n",
    "\n",
    "    add_int.c add_float.c add_double.c add_mixed.c"
   ]
  },
  {
   "cell_type": "markdown",
   "id": "e0093640",
   "metadata": {},
   "source": [
    "## Adding using integers\n",
    "\n",
    "First, we will perform the compilation and objdump on <code>add_int.c</code>\n",
    "\n",
    "    int main(){\n",
    "        int a = 5;\n",
    "        int b = 6;\n",
    "\n",
    "        int c = a+b;\n",
    "\n",
    "        return 0;\n",
    "    }\n",
    "    \n",
    "And here are the operations:\n",
    "\n",
    "    gcc -c add_int.c\n",
    "    objdump -d add_int.o\n",
    "    \n",
    "<b>Reminder:</b> If you have a MacBook, you will likely need to perform the following command:\n",
    "\n",
    "    x86_64-linux-gnu-objdump -d add_int.o\n",
    "    \n",
    "Here is the expected result, with new instructions highlighted:\n",
    "\n",
    "<code>0000000000000000 <main>:</code><br>\n",
    "<code>   0:   f3 0f 1e fa             endbr64 </code><br>\n",
    "<code>   4:   55                      push   %rbp</code><br>\n",
    "<code>   5:   48 89 e5                mov    %rsp,%rbp</code><br>\n",
    "<code><font color=\"red\">   8:   c7 45 f4 05 00 00 00    movl   $0x5,-0xc(%rbp)\n",
    "    f:   c7 45 f8 06 00 00 00    movl   $0x6,-0x8(%rbp)</font></code><br>\n",
    "<code><font color=\"red\">  16:   8b 55 f4                mov    -0xc(%rbp),%edx</font></code><br>\n",
    "<code><font color=\"red\">  19:   8b 45 f8                mov    -0x8(%rbp),%eax</font></code><br>\n",
    "<code><font color=\"red\">  1c:   01 d0                   add    %edx,%eax</font></code><br>\n",
    "<code><font color=\"red\">  1e:   89 45 fc                mov    %eax,-0x4(%rbp)</font></code><br>\n",
    "<code>  21:   b8 00 00 00 00          mov    $0x0,%eax</code><br>\n",
    "<code>  26:   5d                      pop    %rbp</code><br>\n",
    "<code>  27:   c3                      retq </code><br>"
   ]
  },
  {
   "cell_type": "markdown",
   "id": "10d2a365",
   "metadata": {},
   "source": [
    "## What do these new instructions mean?\n",
    "\n",
    "The <code>-0xc(%rbp)</code> means that we are going to go 12 (c) bytes <i>before</i> the Register Base Pointer and store the value $0x5 at that location:\n",
    "\n",
    "    8:   c7 45 f4 05 00 00 00    movl   $0x5,-0xc(%rbp)\n",
    "    \n",
    "We will do the same with 8 bytes <i>before</i> the Register Base Pointer and move the value $0x6 at that location:\n",
    "\n",
    "    f:   c7 45 f8 06 00 00 00    movl   $0x6,-0x8(%rbp)\n",
    "    \n",
    "Next, we will mov (aka: copy) the value at -0xc(%rbp) into register %edx\n",
    "\n",
    "    16:   8b 55 f4                mov    -0xc(%rbp),%edx\n",
    "\n",
    "Next, we will mov (aka: copy) the value at -0x8(%rbp) into register %eax\n",
    "\n",
    "    19:   8b 45 f8                mov    -0x8(%rbp),%eax\n",
    "    \n",
    "Now, we will add the values in %edx and %eax and store them in %eax\n",
    "\n",
    "    1c:   01 d0                   add    %edx,%eax\n",
    "    \n",
    "Next, we will mov (aka: copy) the value at register %eax into -0x4(%rbp), which will represent <code>int c</code>\n",
    "\n",
    "    1e:   89 45 fc                mov    %eax,-0x4(%rbp)"
   ]
  }
 ],
 "metadata": {
  "kernelspec": {
   "display_name": "Python 3 (ipykernel)",
   "language": "python",
   "name": "python3"
  },
  "language_info": {
   "codemirror_mode": {
    "name": "ipython",
    "version": 3
   },
   "file_extension": ".py",
   "mimetype": "text/x-python",
   "name": "python",
   "nbconvert_exporter": "python",
   "pygments_lexer": "ipython3",
   "version": "3.9.13"
  }
 },
 "nbformat": 4,
 "nbformat_minor": 5
}
