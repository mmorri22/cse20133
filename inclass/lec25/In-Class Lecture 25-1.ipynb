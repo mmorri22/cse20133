{
 "cells": [
  {
   "cell_type": "markdown",
   "id": "4ee9d952",
   "metadata": {},
   "source": [
    "## In-Class Lecture 25-1 - Towers of Hanoi Continued"
   ]
  },
  {
   "cell_type": "markdown",
   "id": "2111c7aa",
   "metadata": {},
   "source": [
    "Now that we have completed the Singly Linked List code, we will draw a memory map of the List with a set of push and pop operations"
   ]
  },
  {
   "cell_type": "markdown",
   "id": "caa2a11d",
   "metadata": {},
   "source": [
    "## Create folder\n",
    "\n",
    "<b>To review:</b>\n",
    "\n",
    "<b>1.</b> Open Docker Desktop. Go to the cse20133-user Container you created. Press the Blue Triangle to start the Container.\n",
    "\n",
    "<b>2.</b> Open VSCode, and on the left, select the blue button in the bottom left of VSCode. At the top, select the pull-down choice “Attach to running container” and select your CSE 20133 course container.\n",
    "\n",
    "<b>3.</b> Go into your Git Folder:\n",
    "\n",
    "> Recall that @USERNAME is the unique username you created when you created your GitHub account. You will see your user name in the VS Code Docker\n",
    "\n",
    "    cd cse20133-user/cse20133-@USERNAME\n",
    "\n",
    "Create the folder:\n",
    "\n",
    "    mkdir lec25\n",
    "    cd lec25"
   ]
  },
  {
   "cell_type": "markdown",
   "id": "b8aa159b",
   "metadata": {},
   "source": [
    "### Obtaining the class files\n",
    "\n",
    "Perform the following command:\n",
    "\n",
    "    wget https://raw.githubusercontent.com/mmorri22/cse20133/main/inclass/lec25/setup.sh\n",
    "    chmod a+rx setup.sh\n",
    "    ./setup.sh\n",
    "    \n",
    "Once you perform these commands, you will get the following:\n",
    "\n",
    "    Makefile hanoi.c hanoi_func.c hanoi_func.h hanoi_func_sol.c lec25.c  sllist.c sllist.h stack.c stack.h max_min.c max_min.h"
   ]
  },
  {
   "cell_type": "markdown",
   "id": "49537d76",
   "metadata": {},
   "source": [
    "## Background\n",
    "\n",
    "The puzzle was invented by the French mathematician Édouard Lucas in 1883. Numerous myths regarding the ancient and mystical nature of the puzzle popped up almost immediately, including a myth about an Indian temple in Kashi Vishwanath containing a large room with three time-worn posts in it, surrounded by 64 golden disks. The priests would move a disk, and once it was solved, that would be the end of the universe.\n",
    "\n",
    "The puzzle begins with the disks stacked on one rod in order of decreasing size, the smallest at the top, thus approximating a conical shape. The objective of the puzzle is to move the entire stack to one of the other rods, obeying the following rules:\n",
    "<ol>\n",
    "    <li>Only one disk may be moved at a time.</li>\n",
    "    <li>Each move consists of taking the upper disk from one of the stacks and placing it on top of another stack or on an empty rod.</li>\n",
    "    <li>No disk may be placed on top of a disk that is smaller than it.</li>\n",
    "</ol>\n",
    "\n",
    "If the legend were true - in actuality, it was actually spread tounge-in-cheek by French mathematician Édouard Luca - then if the priests were able to move disks at a rate of one per second, using the smallest number of moves, it would take them 2^64 − 1 seconds or roughly 585 billion years to finish."
   ]
  },
  {
   "cell_type": "markdown",
   "id": "dee7edca",
   "metadata": {},
   "source": [
    "## Let's Play\n",
    "\n",
    "Before we code, let's play the game itself. Go to the following link:\n",
    "\n",
    "https://webgamesonline.com/towers-of-hanoi/\n",
    "\n",
    "The stack with three plates can be done in 7 moves. Can you and a classmate figure out the pattern?\n",
    "\n",
    "The stack with four plates can be done in 15 moves. What is that solution?"
   ]
  },
  {
   "cell_type": "markdown",
   "id": "7d7bab08",
   "metadata": {},
   "source": [
    "## Stacks and Recursion\n",
    "\n",
    "It turns out that, now that we've designed our own stacks and we understand recursion, we can write a program that solves this for us!\n",
    "\n",
    "The best case solution is <code>2^n-1</code>, when n is the number of plates."
   ]
  }
 ],
 "metadata": {
  "kernelspec": {
   "display_name": "Python 3 (ipykernel)",
   "language": "python",
   "name": "python3"
  },
  "language_info": {
   "codemirror_mode": {
    "name": "ipython",
    "version": 3
   },
   "file_extension": ".py",
   "mimetype": "text/x-python",
   "name": "python",
   "nbconvert_exporter": "python",
   "pygments_lexer": "ipython3",
   "version": "3.9.13"
  }
 },
 "nbformat": 4,
 "nbformat_minor": 5
}
