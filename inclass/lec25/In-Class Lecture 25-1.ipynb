{
 "cells": [
  {
   "cell_type": "markdown",
   "id": "4ee9d952",
   "metadata": {},
   "source": [
    "## In-Class Lecture 25-1 - Completing the Doubly Linked List"
   ]
  },
  {
   "cell_type": "markdown",
   "id": "2111c7aa",
   "metadata": {},
   "source": [
    "In this lecture, we will combine your understanding of C structs, dynamic memory, FILE*, and standard input/output in order to develop a library."
   ]
  },
  {
   "cell_type": "markdown",
   "id": "afcf784d",
   "metadata": {},
   "source": [
    "## Create folder\n",
    "\n",
    "<b>To review:</b>\n",
    "\n",
    "<b>1.</b> Open Docker Desktop. Go to the cse20133-user Container you created. Press the Blue Triangle to start the Container.\n",
    "\n",
    "<b>2.</b> Open VSCode, and on the left, select the blue button in the bottom left of VSCode. At the top, select the pull-down choice “Attach to running container” and select your CSE 20133 course container.\n",
    "\n",
    "<b>3.</b> Go into your Git Folder:\n",
    "\n",
    "> Recall that @USERNAME is the unique username you created when you created your GitHub account. You will see your user name in the VS Code Docker\n",
    "\n",
    "    cd cse20133-user/cse20133-@USERNAME\n",
    "\n",
    "Create the folder:\n",
    "\n",
    "    mkdir lec25\n",
    "    cd lec25"
   ]
  },
  {
   "cell_type": "markdown",
   "id": "1f844608",
   "metadata": {},
   "source": [
    "##### Obtaining the class files\n",
    "\n",
    "Perform the following command:\n",
    "\n",
    "    wget https://raw.githubusercontent.com/mmorri22/cse20133/main/inclass/lec25/setup.sh\n",
    "    chmod a+rx setup.sh\n",
    "    ./setup.sh\n",
    "    \n",
    "Once you perform these commands, you will get the following:\n",
    "\n",
    "    Makefile lec25.c dllist.c dllist.h"
   ]
  },
  {
   "cell_type": "markdown",
   "id": "e1fdcc7f",
   "metadata": {},
   "source": [
    "### Build the Linked List\n",
    "\n",
    "We will perform the following tasks\n",
    "<ul>\n",
    "    <li>Use our knowledge of pointers to write a push front function</li>\n",
    "    <li>Use our knowledge of pointers to write a push back function</li>\n",
    "    <li>Use our knowledge of pointers to write a pop front function</li>\n",
    "    <li>Use our knowledge of pointers to write a pop back function</li>\n",
    "</ul>"
   ]
  }
 ],
 "metadata": {
  "kernelspec": {
   "display_name": "Python 3 (ipykernel)",
   "language": "python",
   "name": "python3"
  },
  "language_info": {
   "codemirror_mode": {
    "name": "ipython",
    "version": 3
   },
   "file_extension": ".py",
   "mimetype": "text/x-python",
   "name": "python",
   "nbconvert_exporter": "python",
   "pygments_lexer": "ipython3",
   "version": "3.9.13"
  }
 },
 "nbformat": 4,
 "nbformat_minor": 5
}
