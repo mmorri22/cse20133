{
 "cells": [
  {
   "cell_type": "markdown",
   "id": "175839b9",
   "metadata": {},
   "source": [
    "## In-Class Lecture 25-2 - Max/Min Problem"
   ]
  },
  {
   "cell_type": "markdown",
   "id": "90255ba3",
   "metadata": {},
   "source": [
    "In this in-class lab, we will derive the solution to the Max/Min Problem"
   ]
  },
  {
   "cell_type": "markdown",
   "id": "bb960bd6",
   "metadata": {},
   "source": [
    "## Background\n",
    "\n",
    "https://www.geeksforgeeks.org/design-a-stack-that-supports-getmin-in-o1-time-and-o1-extra-space/\n",
    "\n",
    "Design a Data Structure SpecialStack that supports all the stack operations like push(), pop(), isEmpty(), isFull() and an additional operation getMin() which should return minimum element from the SpecialStack. All these operations of SpecialStack must have a time and space complexity of O(1). "
   ]
  }
 ],
 "metadata": {
  "kernelspec": {
   "display_name": "Python 3 (ipykernel)",
   "language": "python",
   "name": "python3"
  },
  "language_info": {
   "codemirror_mode": {
    "name": "ipython",
    "version": 3
   },
   "file_extension": ".py",
   "mimetype": "text/x-python",
   "name": "python",
   "nbconvert_exporter": "python",
   "pygments_lexer": "ipython3",
   "version": "3.9.13"
  }
 },
 "nbformat": 4,
 "nbformat_minor": 5
}
