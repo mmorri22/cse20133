{
 "cells": [
  {
   "cell_type": "markdown",
   "id": "1521ae82",
   "metadata": {},
   "source": [
    "## In-Class Lecture 6-1 - Repetitive Statements\n",
    "\n",
    "In this section, we will learn to differentiate between if, else if, and switch statements"
   ]
  },
  {
   "cell_type": "markdown",
   "id": "5460774a",
   "metadata": {},
   "source": [
    "## While Loop\n",
    "\n",
    "In your <code>lec06</code> folder, obtain the <code>while.c</code> skeleton code\n",
    "\n",
    "    wget https://raw.githubusercontent.com/mmorri22/cse20133/main/inclass/lec06/while.c\n",
    "    \n",
    "    \n",
    "We will build a <code>while</code> loop based on a topic of a student's choice.\n",
    "    \n",
    "The compilation, execution, and deletion commands for this part are:\n",
    "\n",
    "    gcc -Wall -std=c2x -Wconversion -Werror while.c -o while\n",
    "    ./while\n",
    "    rm while"
   ]
  },
  {
   "cell_type": "markdown",
   "id": "34abb2f8",
   "metadata": {},
   "source": [
    "## Do-While Loop\n",
    "\n",
    "Next, we will test our understanding of <code>do-while</code> loops by building a <code>do-while</code> loop based on a research topic of a student's choice.\n",
    "\n",
    "In your <code>lec06</code> folder, obtain the <code>dowhile.c</code> skeleton code\n",
    "\n",
    "    wget https://raw.githubusercontent.com/mmorri22/cse20133/main/inclass/lec06/dowhile.c\n",
    "    \n",
    "The compilation, execution, and deletion commands for this part are:\n",
    "\n",
    "    gcc -Wall -std=c2x -Wconversion -Werror dowhile.c -o dowhile\n",
    "    ./dowhile\n",
    "    rm dowhile"
   ]
  },
  {
   "cell_type": "markdown",
   "id": "9ed84844",
   "metadata": {},
   "source": [
    "## For Loop\n",
    "In your <code>lec06</code> folder, obtain the <code>for.c</code> skeleton code\n",
    "\n",
    "    wget https://raw.githubusercontent.com/mmorri22/cse20133/main/inclass/lec06/for.c\n",
    "\n",
    "Pair and Share\n",
    "\n",
    "With a partner, build a <code>for</code> loop based on a research topic of a student's choice.\n",
    "\n",
    "The compilation, execution, and deletion commands for this part are:\n",
    "\n",
    "    gcc -Wall -std=c2x -Wconversion -Werror for.c -o for\n",
    "    ./for\n",
    "    rm for"
   ]
  },
  {
   "cell_type": "markdown",
   "id": "816de1a3",
   "metadata": {},
   "source": [
    "## Data Types and Looping\n",
    "\n",
    "We will discuss a unique case in loop: <b>What happens when the data produces undesired behavior?</b> \n",
    "\n",
    "In your <code>lec06</code> folder, obtain the <code>for.c</code> skeleton code\n",
    "\n",
    "    wget https://raw.githubusercontent.com/mmorri22/cse20133/main/inclass/lec06/lui_while.c\n",
    "    \n",
    "What do we think will happen?\n",
    "\n",
    "    gcc -Wall -std=c2x -Wconversion -Werror lui_while.c -o lui_while\n",
    "    \n",
    "> To stop the loop, press <code>Ctrl-C</code> or <code>Command-C</code>\n",
    "\n",
    "It turns out that <code>-Wall</code> for <i>all warnings</i> doesn't actually cover all the warnings. <code>-Wall</code> only covers up to 1999 for C. \n",
    "\n",
    "We will now introduce our next compiler flag: <code>-Wextra</code>\n",
    "\n",
    "    gcc -Wall -Wextra -std=c2x -Wconversion -Werror lui_while.c -o lui_while\n",
    "    \n",
    "And we now see that we have added protections for our code."
   ]
  },
  {
   "cell_type": "markdown",
   "id": "5ba141f9",
   "metadata": {},
   "source": [
    "### Practice Committing and Pushing Through VS Code\n",
    "\n",
    "Once you make changes in your GitHub folder in VS Code, you can <code>commit</code> and <code>push</code> directly from the VS Code.\n",
    "\n",
    "From the VS Code Terminal:\n",
    "\n",
    "    cd ..\n",
    "    \n",
    "At this point, you should be in the <code>20133-@USERNAME</code> folder\n",
    "\n",
    "    git add --all\n",
    "    git commit -m \"Lecture 06 Update\"\n",
    "    git push -u origin main"
   ]
  }
 ],
 "metadata": {
  "kernelspec": {
   "display_name": "Python 3 (ipykernel)",
   "language": "python",
   "name": "python3"
  },
  "language_info": {
   "codemirror_mode": {
    "name": "ipython",
    "version": 3
   },
   "file_extension": ".py",
   "mimetype": "text/x-python",
   "name": "python",
   "nbconvert_exporter": "python",
   "pygments_lexer": "ipython3",
   "version": "3.9.13"
  }
 },
 "nbformat": 4,
 "nbformat_minor": 5
}
