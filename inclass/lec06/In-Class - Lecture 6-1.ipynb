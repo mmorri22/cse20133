{
 "cells": [
  {
   "cell_type": "markdown",
   "id": "1521ae82",
   "metadata": {},
   "source": [
    "## In-Class Lecture 6-1 - Conditional Statements\n",
    "\n",
    "In this section, we will learn to differentiate between if, else if, and switch statements"
   ]
  },
  {
   "cell_type": "markdown",
   "id": "e9b5e5d7",
   "metadata": {},
   "source": [
    "## Create folder\n",
    "\n",
    "<b>To review:</b>\n",
    "\n",
    "<b>1.</b> Open Docker Desktop. Go to the cse20133-user Container you created. Press the Blue Triangle to start the Container.\n",
    "\n",
    "<b>2.</b> Open VSCode, and on the left, select the blue button in the bottom left of VSCode. At the top, select the pull-down choice “Attach to running container” and select your CSE 20133 course container.\n",
    "\n",
    "<b>3.</b> Go into your Git Folder:\n",
    "\n",
    "> Recall that @USERNAME is the unique username you created when you created your GitHub account. You will see your user name in the VS Code Docker\n",
    "\n",
    "    cd cse20133-user/cse20133-@USERNAME\n",
    "\n",
    "Create the folder:\n",
    "\n",
    "    mkdir lec06\n",
    "    cd lec06"
   ]
  },
  {
   "cell_type": "markdown",
   "id": "50b3fa9b",
   "metadata": {},
   "source": [
    "## If-Else\n",
    "\n",
    "To test our understanding of <code>if</code>, <code>else if</code>, and <code>else</code> statements, we will build a basic set of these statements.\n",
    "\n",
    "Obtain the <code>if_else.c</code> skeleton code\n",
    "\n",
    "    wget https://raw.githubusercontent.com/mmorri22/cse20133/main/inclass/lec06/if_else.c\n",
    "\n",
    "### Pair and Share\n",
    "\n",
    "With a partner, develop a set of conditions of your choice that requires an if/else conidition (needs at least an if, an else if, and an else) and present your idea to the class.\n",
    "\n",
    "The compilation, execution, and deletion commands for this part are:\n",
    "\n",
    "    gcc -Wall -std=c2x -Wconversion -Werror if_else.c -o if_else\n",
    "    ./if_else\n",
    "    rm if_else"
   ]
  },
  {
   "cell_type": "markdown",
   "id": "e9b20001",
   "metadata": {},
   "source": [
    "## Switch\n",
    "\n",
    "In your <code>lec06</code> folder, obtain the <code>switch.c</code> skeleton code\n",
    "\n",
    "    wget https://raw.githubusercontent.com/mmorri22/cse20133/main/inclass/lec06/switch.c\n",
    "\n",
    "### Pair and Share\n",
    "\n",
    "With a partner, develop a set of conditions of your choice that requires an if/else conidition (needs at least an if, an else if, and an else) and present your idea to the class.\n",
    "\n",
    "The compilation, execution, and deletion commands for this part are:\n",
    "\n",
    "    gcc -Wall -std=c2x -Wconversion -Werror switch.c -o switch\n",
    "    ./switch\n",
    "    rm switch"
   ]
  },
  {
   "cell_type": "markdown",
   "id": "2cdabf7a",
   "metadata": {},
   "source": [
    "## Switch with Accuracy vs Precision\n",
    "\n",
    "To <b>combine concepts</b>, let's look at what happens when we download the code segment <code>switch_double.c</code>\n",
    "\n",
    "<code>wget https://raw.githubusercontent.com/mmorri22/cse20133/main/inclass/lec06/switch_double.c</code>\n",
    "\n",
    "The compilation command for this part is:\n",
    "\n",
    "    gcc -Wall -std=c2x -Wconversion -Werror switch_double.c -o switch_double\n",
    "    \n",
    "The code does not compile. <b>Why not</b>?"
   ]
  }
 ],
 "metadata": {
  "kernelspec": {
   "display_name": "Python 3 (ipykernel)",
   "language": "python",
   "name": "python3"
  },
  "language_info": {
   "codemirror_mode": {
    "name": "ipython",
    "version": 3
   },
   "file_extension": ".py",
   "mimetype": "text/x-python",
   "name": "python",
   "nbconvert_exporter": "python",
   "pygments_lexer": "ipython3",
   "version": "3.9.13"
  }
 },
 "nbformat": 4,
 "nbformat_minor": 5
}
