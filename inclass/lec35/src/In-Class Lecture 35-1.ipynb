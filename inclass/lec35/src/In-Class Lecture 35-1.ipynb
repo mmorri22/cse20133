{
 "cells": [
  {
   "cell_type": "markdown",
   "id": "31983d16",
   "metadata": {},
   "source": [
    "## In-Class Lecture 35-1 - Introduction to Multithreaded Programming"
   ]
  },
  {
   "cell_type": "markdown",
   "id": "ec65b621",
   "metadata": {},
   "source": [
    "## Create folder\n",
    "\n",
    "<b>To review:</b>\n",
    "\n",
    "<b>1.</b> Open Docker Desktop. Go to the cse20133-user Container you created. Press the Blue Triangle to start the Container.\n",
    "\n",
    "<b>2.</b> Open VSCode, and on the left, select the blue button in the bottom left of VSCode. At the top, select the pull-down choice “Attach to running container” and select your CSE 20133 course container.\n",
    "\n",
    "<b>3.</b> Go into your Git Folder:\n",
    "\n",
    "> Recall that @USERNAME is the unique username you created when you created your GitHub account. You will see your user name in the VS Code Docker\n",
    "\n",
    "    cd cse20133-user/cse20133-@USERNAME\n",
    "\n",
    "Create the folder:\n",
    "\n",
    "    mkdir lec35\n",
    "    cd lec35\n",
    "    \n",
    "    \n",
    "### Obtaining the class files\n",
    "\n",
    "Perform the following command:\n",
    "\n",
    "    wget https://raw.githubusercontent.com/mmorri22/cse20133/main/inclass/lec35/setup.sh\n",
    "    chmod a+rx setup.sh\n",
    "    ./setup.sh\n",
    "    \n",
    "Once you perform these commands, you will get the following:\n",
    "\n",
    "    Makefile pthread_1.cpp pthread_2.cpp pthread_3.cpp pthread_in_class.cpp pthread_in_class_rc.cpp pthread_in_class_sol.cpp"
   ]
  },
  {
   "cell_type": "markdown",
   "id": "708c0f78",
   "metadata": {},
   "source": [
    "### Build Understanding Examples\n",
    "\n",
    "We will first perform the command <code>make pthread_1</code> and discuss the basic contents of <code>pthread_1.cpp</code>\n",
    "\n",
    "    > make pthread_1\n",
    "    g++ -std=c++2a -c pthread_1.cpp -lpthread\n",
    "    g++ -std=c++2a -o pthread_1 pthread_1.o  -lpthread\n",
    "    ./pthread_1\n",
    "    0x7ffead97c060 140731810824544"
   ]
  },
  {
   "cell_type": "markdown",
   "id": "20cbaaf0",
   "metadata": {},
   "source": [
    "Next, we will perform the command <code>make pthread_2</code> and discuss the basic contents of <code>pthread_2.cpp</code>\n",
    "\n",
    "    > make clean\n",
    "    > make pthread_2\n",
    "    g++ -std=c++2a -O2 -g -Wall -Wextra -Wconversion -Werror   -c pthread_2.cpp\n",
    "    g++ -std=c++2a -O2 -g -Wall -Wextra -Wconversion -Werror   -o pthread_2 pthread_2.o  -lpthread\n",
    "    valgrind --leak-check=full --track-origins=yes ./pthread_2\n",
    "    ==259521== Memcheck, a memory error detector\n",
    "    ==259521== Copyright (C) 2002-2017, and GNU GPL'd, by Julian Seward et al.\n",
    "    ==259521== Using Valgrind-3.15.0 and LibVEX; rerun with -h for copyright info\n",
    "    ==259521== Command: ./pthread_2\n",
    "    ==259521== \n",
    "    0x4dc9c80 94078720\n",
    "    10 20\n",
    "    ==259521== \n",
    "    ==259521== HEAP SUMMARY:\n",
    "    ==259521==     in use at exit: 0 bytes in 0 blocks\n",
    "    ==259521==   total heap usage: 5 allocs, 5 frees, 74,088 bytes allocated\n",
    "    ==259521== \n",
    "    ==259521== All heap blocks were freed -- no leaks are possible\n",
    "    ==259521== \n",
    "    ==259521== For lists of detected and suppressed errors, rerun with: -s\n",
    "    ==259521== ERROR SUMMARY: 0 errors from 0 contexts (suppressed: 0 from 0)"
   ]
  },
  {
   "cell_type": "markdown",
   "id": "8ff1b27a",
   "metadata": {},
   "source": [
    "Next, we will perform the command <code>make pthread_3</code> and discuss the basic contents of <code>pthread_3.cpp</code>\n",
    "\n",
    "> In the Makefile, we have another flag after <code>valgrind</code> called <code>--track-origins=yes</code>. This flag is added for multithreaded valgrind checking, and you will use it on Homework 10.\n",
    "\n",
    "    > make clean\n",
    "    > make pthread_3\n",
    "    g++ -std=c++2a -O2 -g -Wall -Wextra -Wconversion -Werror   -c pthread_3.cpp -lpthread\n",
    "    g++ -std=c++2a -O2 -g -Wall -Wextra -Wconversion -Werror   -o pthread_3 pthread_3.o  -lpthread\n",
    "    valgrind --leak-check=full --track-origins=yes ./pthread_3\n",
    "    ==260122== Memcheck, a memory error detector\n",
    "    ==260122== Copyright (C) 2002-2017, and GNU GPL'd, by Julian Seward et al.\n",
    "    ==260122== Using Valgrind-3.15.0 and LibVEX; rerun with -h for copyright info\n",
    "    ==260122== Command: ./pthread_3\n",
    "    ==260122== \n",
    "    136042240 , Initial: 5 10 0, Final: 5000005 5000010 10000005\n",
    "    169613056 , Initial: 9 18 0, Final: 5000013 5000018 10000021\n",
    "    161220352 , Initial: 8 16 0, Final: 5000011 5000016 10000017\n",
    "    144434944 , Initial: 6 12 0, Final: 5000007 5000012 10000009\n",
    "    110864128 , Initial: 2 4 0, Final: 4999999 5000004 9999993\n",
    "    127649536 , Initial: 4 8 0, Final: 5000003 5000008 10000001\n",
    "    102471424 , Initial: 1 2 0, Final: 4999997 5000002 9999989\n",
    "    119256832 , Initial: 3 6 0, Final: 5000001 5000006 9999997\n",
    "    152827648 , Initial: 7 14 0, Final: 5000009 5000014 10000013\n",
    "    94078720 , Initial: 0 0 0, Final: 4999995 5000000 9999985\n",
    "    ==260122== \n",
    "    ==260122== HEAP SUMMARY:\n",
    "    ==260122==     in use at exit: 0 bytes in 0 blocks\n",
    "    ==260122==   total heap usage: 24 allocs, 24 frees, 76,984 bytes allocated\n",
    "    ==260122== \n",
    "    ==260122== All heap blocks were freed -- no leaks are possible\n",
    "    ==260122== \n",
    "    ==260122== For lists of detected and suppressed errors, rerun with: -s\n",
    "    ==260122== ERROR SUMMARY: 0 errors from 0 contexts (suppressed: 0 from 0)"
   ]
  }
 ],
 "metadata": {
  "kernelspec": {
   "display_name": "Python 3 (ipykernel)",
   "language": "python",
   "name": "python3"
  },
  "language_info": {
   "codemirror_mode": {
    "name": "ipython",
    "version": 3
   },
   "file_extension": ".py",
   "mimetype": "text/x-python",
   "name": "python",
   "nbconvert_exporter": "python",
   "pygments_lexer": "ipython3",
   "version": "3.9.13"
  }
 },
 "nbformat": 4,
 "nbformat_minor": 5
}
