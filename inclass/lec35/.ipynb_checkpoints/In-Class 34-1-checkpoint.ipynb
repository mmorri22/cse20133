{
 "cells": [
  {
   "cell_type": "markdown",
   "id": "7cf6ea5f",
   "metadata": {},
   "source": [
    "## In-Class 34-1 - FIFO, SJF, and Round Robin Questions"
   ]
  },
  {
   "cell_type": "markdown",
   "id": "a1878b3e",
   "metadata": {},
   "source": [
    "### #1 - FIFO Example Question\n",
    "\n",
    "Jobs A arrives at time 0 and runs for 25 seconds. Jobs B and C arrive at time 0 and runs for 10 seconds each.\n",
    "\n",
    "Using the FIFO Algorithm, where the input is A, B, and then C, what are the average turnaround and response times?"
   ]
  },
  {
   "cell_type": "markdown",
   "id": "b6f430ee",
   "metadata": {},
   "source": [
    "### #2 - Shortest Job First Algorithm Question\n",
    "\n",
    "Jobs A arrives at time 0 and runs for 30 seconds. Jobs B and C arrive at time 0 and runs for 5 seconds each.\n",
    "\n",
    "Using the SJF Algorithm, what are the average turnaround and response times?"
   ]
  },
  {
   "cell_type": "markdown",
   "id": "b08da0b2",
   "metadata": {},
   "source": [
    "### #3 - Round Robin Algorithm Question\n",
    "\n",
    "Jobs A, B, and C arrive at time 0. Job A runs for 20 seconds Job B runs for 30 seconds Job C runs for 25 seconds\n",
    "\n",
    "Using the Round-Robin Algorithm where each process is interrupted every 5 seconds, describe the round-robin operation and state the turnaround and response times."
   ]
  }
 ],
 "metadata": {
  "kernelspec": {
   "display_name": "Python 3 (ipykernel)",
   "language": "python",
   "name": "python3"
  },
  "language_info": {
   "codemirror_mode": {
    "name": "ipython",
    "version": 3
   },
   "file_extension": ".py",
   "mimetype": "text/x-python",
   "name": "python",
   "nbconvert_exporter": "python",
   "pygments_lexer": "ipython3",
   "version": "3.9.13"
  }
 },
 "nbformat": 4,
 "nbformat_minor": 5
}
