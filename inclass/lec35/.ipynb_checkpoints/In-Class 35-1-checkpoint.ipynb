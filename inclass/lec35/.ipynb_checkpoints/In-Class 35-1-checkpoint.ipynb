{
 "cells": [
  {
   "cell_type": "markdown",
   "id": "7cf6ea5f",
   "metadata": {},
   "source": [
    "## In-Class 35-1 - FIFO, SJF, and Round Robin Questions"
   ]
  },
  {
   "cell_type": "markdown",
   "id": "24d4baa7",
   "metadata": {},
   "source": [
    "## Installing and Implementing Matplot++\n",
    "\n",
    "<a href = \"https://alandefreitas.github.io/matplotplusplus/\">Matplot++</a> is a C++ graphics library for data visualization that provides interactive plotting as a means for exporting plots in high-quality formats. \n",
    "\n",
    "\n",
    "#### Installing Matplot++\n",
    "\n",
    "Close out of your VS Code and your <b>Docker Destop</b>. Re-open Docker Desktop and start your Container.\n",
    "\n",
    "Go to either \"Terminal\" or \"Exec\" (you will see one or the other.)\n",
    "\n",
    "In that terminal, run the following commands:\n",
    "\n",
    "    wget https://raw.githubusercontent.com/mmorri22/cse20133/main/readings/lec36/setup.sh\n",
    "    chmod a+rx setup.sh\n",
    "    ./setup.sh\n",
    "\n",
    "> These commands will take awhile. <a href=\"https://www.youtube.com/watch?v=GrzWcLMBnco\">Grab a Snickers</a> You will also likely need to monitor the first few commands where it will likely ask you for a <code>[Y/n]</code> to continue. Select <code>Y</code>.\n",
    "\n",
    "\n",
    "I will perform a quick demo of Lecture 36 (running the 3d_plot) to show you what we will be doing after the break.\n",
    "\n",
    "The rest of the lecture will be practice problems."
   ]
  },
  {
   "cell_type": "markdown",
   "id": "a1878b3e",
   "metadata": {},
   "source": [
    "### #1 - FIFO Example Question\n",
    "\n",
    "Jobs A arrives at time 0 and runs for 25 seconds. Jobs B and C arrive at time 0 and runs for 10 seconds each.\n",
    "\n",
    "Using the FIFO Algorithm, where the input is A, B, and then C, what are the average turnaround and response times?"
   ]
  },
  {
   "cell_type": "markdown",
   "id": "b6f430ee",
   "metadata": {},
   "source": [
    "### #2 - Shortest Job First Algorithm Question\n",
    "\n",
    "Jobs A arrives at time 0 and runs for 30 seconds. Jobs B and C arrive at time 0 and runs for 5 seconds each.\n",
    "\n",
    "Using the SJF Algorithm, what are the average turnaround and response times?"
   ]
  },
  {
   "cell_type": "markdown",
   "id": "b08da0b2",
   "metadata": {},
   "source": [
    "### #3 - Round Robin Algorithm Question\n",
    "\n",
    "Jobs A, B, and C arrive at time 0. Job A runs for 20 seconds Job B runs for 30 seconds Job C runs for 25 seconds\n",
    "\n",
    "Using the Round-Robin Algorithm where each process is interrupted every 5 seconds, describe the round-robin operation and state the turnaround and response times."
   ]
  }
 ],
 "metadata": {
  "kernelspec": {
   "display_name": "Python 3 (ipykernel)",
   "language": "python",
   "name": "python3"
  },
  "language_info": {
   "codemirror_mode": {
    "name": "ipython",
    "version": 3
   },
   "file_extension": ".py",
   "mimetype": "text/x-python",
   "name": "python",
   "nbconvert_exporter": "python",
   "pygments_lexer": "ipython3",
   "version": "3.9.13"
  }
 },
 "nbformat": 4,
 "nbformat_minor": 5
}
