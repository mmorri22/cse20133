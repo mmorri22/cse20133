{
 "cells": [
  {
   "cell_type": "markdown",
   "id": "ccce557e",
   "metadata": {},
   "source": [
    "## In-Class Lecture 8-2 - Build Your Own Program and Modify the Makefile"
   ]
  },
  {
   "cell_type": "markdown",
   "id": "6dddccf0",
   "metadata": {},
   "source": [
    "### Build A Program Together\n",
    "\n",
    "I am going to ask for an idea for a program based on a concept some students are learning a class. We are going to build a project, separate the program into a header file, library, and main. Then we are going to get the program to compile."
   ]
  },
  {
   "cell_type": "markdown",
   "id": "ac90681e",
   "metadata": {},
   "source": [
    "### Practice Committing and Pushing Through VS Code\n",
    "\n",
    "Once you make changes in your GitHub folder in VS Code, you can <code>commit</code> and <code>push</code> directly from the VS Code.\n",
    "\n",
    "From the VS Code Terminal:\n",
    "\n",
    "    cd ..\n",
    "    \n",
    "At this point, you should be in the <code>cse20133-@USERNAME</code> folder\n",
    "\n",
    "    git add --all\n",
    "    git commit -m \"Lecture 08 Update\"\n",
    "    git push -u origin main"
   ]
  }
 ],
 "metadata": {
  "kernelspec": {
   "display_name": "Python 3 (ipykernel)",
   "language": "python",
   "name": "python3"
  },
  "language_info": {
   "codemirror_mode": {
    "name": "ipython",
    "version": 3
   },
   "file_extension": ".py",
   "mimetype": "text/x-python",
   "name": "python",
   "nbconvert_exporter": "python",
   "pygments_lexer": "ipython3",
   "version": "3.9.13"
  }
 },
 "nbformat": 4,
 "nbformat_minor": 5
}
