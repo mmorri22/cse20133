{
 "cells": [
  {
   "cell_type": "markdown",
   "id": "ef05ba3a",
   "metadata": {},
   "source": [
    "## In-Class Lecture 8-1 - Build a Program and Modify the Makefile"
   ]
  },
  {
   "cell_type": "markdown",
   "id": "6d803d10",
   "metadata": {},
   "source": [
    "## Create folder\n",
    "\n",
    "<b>To review:</b>\n",
    "\n",
    "<b>1.</b> Open Docker Desktop. Go to the cse20133-user Container you created. Press the Blue Triangle to start the Container.\n",
    "\n",
    "<b>2.</b> Open VSCode, and on the left, select the blue button in the bottom left of VSCode. At the top, select the pull-down choice “Attach to running container” and select your CSE 20133 course container.\n",
    "\n",
    "<b>3.</b> Go into your Git Folder:\n",
    "\n",
    "> Recall that @USERNAME is the unique username you created when you created your GitHub account. You will see your user name in the VS Code Docker\n",
    "\n",
    "    cd cse20133-user/cse20133-@USERNAME\n",
    "\n",
    "Create the folder:\n",
    "\n",
    "    mkdir lec08\n",
    "    cd lec08\n",
    "    \n",
    "Perform the following command:\n",
    "\n",
    "    wget https://raw.githubusercontent.com/mmorri22/cse20133/main/inclass/lec08/setup.sh\n",
    "    \n",
    "This file is a setup script. We will download several files from online using this script.\n",
    "\n",
    "    chmod a+rx setup.sh\n",
    "    ./setup.sh\n",
    "    \n",
    "Once you run the script, you can view the files you've downloaded by running the command <code>ls</code>. A successful run will look like this:\n",
    "\n",
    "    fact_double_sci.c  parallel.c      parallel_lib.h\n",
    "    Makefile           parallel_lib.c  parallel_run.c\n",
    "\n",
    "Every file, except for <code>fact_double_sci.c</code> are the solutions to the code developed in Lecture 07."
   ]
  },
  {
   "cell_type": "markdown",
   "id": "75d95cf2",
   "metadata": {},
   "source": [
    "### Compiling for just a file\n",
    "\n",
    "We will work together to compile just the <code>fact_double_sci.c</code> before we split up the file.\n",
    "\n",
    "Since this is the way you'll set up HW1 with Prob 1 through Prob 5\n",
    "\n",
    "\n",
    "    # Compile the fact_double_sci object file\n",
    "    fact_double_sci.o: fact_double_sci.c\n",
    "        $(CC) $(CFLAGS) -c fact_double_sci.c\n",
    "        \n",
    "    # Object list\n",
    "    fact_double_sci_objs := fact_double_sci.o\n",
    "    \n",
    "    # fact_double_sci executables:\n",
    "    fact_double_sci: $(fact_double_sci_objs)\n",
    "        $(CC) $(CFLAGS) -o fact_double_sci_objs $(fact_double_sci_objs)\n",
    "        \n",
    "        \n",
    "Then, modify the <code>make all</code> and executable commands\n",
    "\n",
    "<b>Before:</b>\n",
    "\n",
    "    # Executable Names\n",
    "    executable_names := parallel_run\n",
    "\n",
    "\n",
    "<b>After:</b>\n",
    "\n",
    "    # Executable Names\n",
    "    executable_names := parallel_run fact_double_sci"
   ]
  },
  {
   "cell_type": "markdown",
   "id": "b0a07a51",
   "metadata": {},
   "source": [
    "### Repeat the process \n",
    "\n",
    "### At each stage, a student will come up and present for a <font color=\"red\">Presentation Points Opportunity</font>\n",
    "\n",
    "We will separate the fact_double_sci.c file into the following:\n",
    "\n",
    "<ul>\n",
    "    <li><code>fact_lib.h</code> - Will contain global variables, included C libraries, and function declarations</li>\n",
    "    <li><code>fact_lib.c</code> - Will contain function definitions</li>\n",
    "    <li><code>fact_run.c</code> - Will include the main driver program</li>\n",
    "</ul>"
   ]
  },
  {
   "cell_type": "markdown",
   "id": "d40b1093",
   "metadata": {},
   "source": [
    "### Modifying the Makefile\n",
    "\n",
    "Instead of creating an entirely new Makefile, we will build another executable in the same Makefile"
   ]
  }
 ],
 "metadata": {
  "kernelspec": {
   "display_name": "Python 3 (ipykernel)",
   "language": "python",
   "name": "python3"
  },
  "language_info": {
   "codemirror_mode": {
    "name": "ipython",
    "version": 3
   },
   "file_extension": ".py",
   "mimetype": "text/x-python",
   "name": "python",
   "nbconvert_exporter": "python",
   "pygments_lexer": "ipython3",
   "version": "3.9.13"
  }
 },
 "nbformat": 4,
 "nbformat_minor": 5
}
