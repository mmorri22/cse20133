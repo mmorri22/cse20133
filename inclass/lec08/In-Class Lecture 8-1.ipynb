{
 "cells": [
  {
   "cell_type": "markdown",
   "id": "ef05ba3a",
   "metadata": {},
   "source": [
    "## In-Class Lecture 8-1 - Build a Program and Modify the Makefile"
   ]
  },
  {
   "cell_type": "markdown",
   "id": "6d803d10",
   "metadata": {},
   "source": [
    "Perform the following command:\n",
    "\n",
    "    wget https://raw.githubusercontent.com/mmorri22/cse20133/main/inclass/lec08/setup.sh\n",
    "    \n",
    "This file is a setup script. We will download several files from online using this script.\n",
    "\n",
    "    chmod a+rx setup.sh\n",
    "    ./setup.sh\n",
    "    \n",
    "Once you run the script, you can view the files you've downloaded by running the command <code>ls</code>. A successful run will look like this:"
   ]
  },
  {
   "cell_type": "markdown",
   "id": "b0a07a51",
   "metadata": {},
   "source": [
    "### Repeat the process\n",
    "\n",
    "We will separate the fact_double_sci.c file into the following:\n",
    "\n",
    "<ul>\n",
    "    <li><code>fact_lib.h</code> - Will contain global variables, included C libraries, and function declarations</li>\n",
    "    <li><code>fact_lib.c</code> - Will contain function definitions</li>\n",
    "    <li><code>fact_run.c</code> - Will include the main driver program</li>\n",
    "</ul>"
   ]
  },
  {
   "cell_type": "markdown",
   "id": "d40b1093",
   "metadata": {},
   "source": [
    "### Modifying the Makefile\n",
    "\n",
    "Instead of creating an entirely new Makefile, we will build another executable in the same Makefile"
   ]
  },
  {
   "cell_type": "markdown",
   "id": "500fd128",
   "metadata": {},
   "source": [
    "### <font color=\"red\">Time Permitting</font>\n",
    "\n",
    "Build your own program with a library, and incorporate your executable into the current Makefile\n",
    "\n",
    "If we get a student team to complete this task, they can present for Presentation Points."
   ]
  },
  {
   "cell_type": "markdown",
   "id": "e505e1db",
   "metadata": {},
   "source": [
    "### Practice Committing and Pushing Through VS Code\n",
    "\n",
    "Once you make changes in your GitHub folder in VS Code, you can <code>commit</code> and <code>push</code> directly from the VS Code.\n",
    "\n",
    "From the VS Code Terminal:\n",
    "\n",
    "    cd ..\n",
    "    \n",
    "At this point, you should be in the <code>cse20133-@USERNAME</code> folder\n",
    "\n",
    "    git add --all\n",
    "    git commit -m \"Lecture 07 Update\"\n",
    "    git push -u origin main"
   ]
  },
  {
   "cell_type": "code",
   "execution_count": null,
   "id": "d4c64d43",
   "metadata": {},
   "outputs": [],
   "source": []
  }
 ],
 "metadata": {
  "kernelspec": {
   "display_name": "Python 3 (ipykernel)",
   "language": "python",
   "name": "python3"
  },
  "language_info": {
   "codemirror_mode": {
    "name": "ipython",
    "version": 3
   },
   "file_extension": ".py",
   "mimetype": "text/x-python",
   "name": "python",
   "nbconvert_exporter": "python",
   "pygments_lexer": "ipython3",
   "version": "3.9.13"
  }
 },
 "nbformat": 4,
 "nbformat_minor": 5
}
