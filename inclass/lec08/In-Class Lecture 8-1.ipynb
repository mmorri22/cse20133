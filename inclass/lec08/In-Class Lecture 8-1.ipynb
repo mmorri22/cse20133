{
 "cells": [
  {
   "cell_type": "markdown",
   "id": "ef05ba3a",
   "metadata": {},
   "source": [
    "## In-Class Lecture 8-1 - Build a Program and Modify the Makefile"
   ]
  },
  {
   "cell_type": "markdown",
   "id": "6d803d10",
   "metadata": {},
   "source": [
    "## Create folder\n",
    "\n",
    "<b>To review:</b>\n",
    "\n",
    "<b>1.</b> Open Docker Desktop. Go to the cse20133-user Container you created. Press the Blue Triangle to start the Container.\n",
    "\n",
    "<b>2.</b> Open VSCode, and on the left, select the blue button in the bottom left of VSCode. At the top, select the pull-down choice “Attach to running container” and select your CSE 20133 course container.\n",
    "\n",
    "<b>3.</b> Go into your Git Folder:\n",
    "\n",
    "> Recall that @USERNAME is the unique username you created when you created your GitHub account. You will see your user name in the VS Code Docker\n",
    "\n",
    "    cd cse20133-user/cse20133-@USERNAME\n",
    "\n",
    "Create the folder:\n",
    "\n",
    "    mkdir lec08\n",
    "    cd lec08\n",
    "    \n",
    "Perform the following command:\n",
    "\n",
    "    wget https://raw.githubusercontent.com/mmorri22/cse20133/main/inclass/lec08/setup.sh\n",
    "    \n",
    "This file is a setup script. We will download several files from online using this script.\n",
    "\n",
    "    chmod a+rx setup.sh\n",
    "    ./setup.sh\n",
    "    \n",
    "Once you run the script, you can view the files you've downloaded by running the command <code>ls</code>. A successful run will look like this:\n",
    "\n",
    "    fact_double_sci.c  parallel.c      parallel_lib.h\n",
    "    Makefile           parallel_lib.c  parallel_run.c"
   ]
  },
  {
   "cell_type": "markdown",
   "id": "bf8efac0",
   "metadata": {},
   "source": [
    "## Class Discussion Questions\n",
    "\n",
    "#### <font color=\"red\">Question 1: What is a Header File, and what is the benefit of creating Header Files and Libraries?</font>\n",
    "\n",
    "#### <font color=\"red\">Question 2: What are the steps and requirements for constructing a <code>.h</code> header file?</font>\n",
    "\n",
    "#### <font color=\"red\">Question 3: What are the steps and requirements for constructing the corresponding <code>.c</code> file for a header file?</font>"
   ]
  },
  {
   "cell_type": "markdown",
   "id": "05a41172",
   "metadata": {},
   "source": [
    "## Breaking a Main Down\n",
    "\n",
    "In this section, we will take the <code>parallel.c</code> file and break it into .c and .h files,\n",
    "\n",
    "<ul>\n",
    "    <li>parallel_lib.h</li>\n",
    "    <li>parallel_lib.c</li>\n",
    "    <li>parallel_run.c</li>\n",
    "</ul>"
   ]
  },
  {
   "cell_type": "markdown",
   "id": "cb51f85f",
   "metadata": {},
   "source": [
    "## Class Discussion Questions\n",
    "\n",
    "#### <font color=\"red\">Question 4: Describe the process of creating an executable and executing the program in memory.</font>\n",
    "\n",
    "#### <font color=\"red\">Question 5: Describe the five elements contained in every Makefile</font>\n",
    "\n",
    "#### <font color=\"red\">Question 6: Describe the two new Production Quality Compilation Flags <code>-g</code> and <code>-O2</code></font>"
   ]
  },
  {
   "cell_type": "markdown",
   "id": "856325b8",
   "metadata": {},
   "source": [
    "### Compiling for just a file\n",
    "\n",
    "We will work together to compile just the <code>fact_double_sci.c</code> before we split up the file.\n",
    "\n",
    "Since this is the way you'll set up HW1 with Prob 1 through Prob 5\n",
    "\n",
    "\n",
    "    # Compile the fact_double_sci object file\n",
    "    fact_double_sci.o: fact_double_sci.c\n",
    "        $(CC) $(CFLAGS) -c fact_double_sci.c\n",
    "        \n",
    "    # Object list\n",
    "    fact_double_sci_objs := fact_double_sci.o\n",
    "    \n",
    "    # fact_double_sci executables:\n",
    "    fact_double_sci: $(fact_double_sci_objs)\n",
    "        $(CC) $(CFLAGS) -o fact_double_sci_objs $(fact_double_sci_objs)\n",
    "        \n",
    "        \n",
    "Then, modify the <code>make all</code> and executable commands\n",
    "\n",
    "<b>Before:</b>\n",
    "\n",
    "    # Executable Names\n",
    "    executable_names := parallel_run\n",
    "\n",
    "\n",
    "<b>After:</b>\n",
    "\n",
    "    # Executable Names\n",
    "    executable_names := parallel_run fact_double_sci"
   ]
  },
  {
   "cell_type": "markdown",
   "id": "b0a07a51",
   "metadata": {},
   "source": [
    "### Repeat the process \n",
    "\n",
    "We will separate the fact_double_sci.c file into the following:\n",
    "\n",
    "<ul>\n",
    "    <li><code>fact_lib.h</code> - Will contain global variables, included C libraries, and function declarations</li>\n",
    "    <li><code>fact_lib.c</code> - Will contain function definitions</li>\n",
    "    <li><code>fact_run.c</code> - Will include the main driver program</li>\n",
    "</ul>"
   ]
  },
  {
   "cell_type": "markdown",
   "id": "d40b1093",
   "metadata": {},
   "source": [
    "### Modifying the Makefile\n",
    "\n",
    "Instead of creating an entirely new Makefile, we will build another executable in the same Makefile"
   ]
  }
 ],
 "metadata": {
  "kernelspec": {
   "display_name": "Python 3 (ipykernel)",
   "language": "python",
   "name": "python3"
  },
  "language_info": {
   "codemirror_mode": {
    "name": "ipython",
    "version": 3
   },
   "file_extension": ".py",
   "mimetype": "text/x-python",
   "name": "python",
   "nbconvert_exporter": "python",
   "pygments_lexer": "ipython3",
   "version": "3.9.13"
  }
 },
 "nbformat": 4,
 "nbformat_minor": 5
}
