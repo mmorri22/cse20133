{
 "cells": [
  {
   "cell_type": "markdown",
   "id": "23fe09e0",
   "metadata": {},
   "source": [
    "## In-Class Lecture 9-1 - Pass By Reference Example"
   ]
  },
  {
   "cell_type": "markdown",
   "id": "36ab17b6",
   "metadata": {},
   "source": [
    "## Create folder\n",
    "\n",
    "<b>To review:</b>\n",
    "\n",
    "<b>1.</b> Open Docker Desktop. Go to the cse20133-user Container you created. Press the Blue Triangle to start the Container.\n",
    "\n",
    "<b>2.</b> Open VSCode, and on the left, select the blue button in the bottom left of VSCode. At the top, select the pull-down choice “Attach to running container” and select your CSE 20133 course container.\n",
    "\n",
    "<b>3.</b> Go into your Git Folder:\n",
    "\n",
    "> Recall that @USERNAME is the unique username you created when you created your GitHub account. You will see your user name in the VS Code Docker\n",
    "\n",
    "    cd cse20133-user/cse20133-@USERNAME\n",
    "\n",
    "Create the folder:\n",
    "\n",
    "    mkdir lec09\n",
    "    cd lec09"
   ]
  },
  {
   "cell_type": "markdown",
   "id": "4a5bc566",
   "metadata": {},
   "source": [
    "### To setup for today's in-class coding opportunity:\n",
    "\n",
    "To obtain the code for today's lecture, perform the following commands:\n",
    "\n",
    "    wget https://raw.githubusercontent.com/mmorri22/cse20133/main/inclass/lec09/setup.sh\n",
    "    chmod a+rx setup.sh\n",
    "    ./setup.sh\n",
    "    \n",
    "To confirm, perform the <code>ls</code> command. You will see the following:\n",
    "\n",
    "    Makefile hours.c ptr_trace.c"
   ]
  },
  {
   "cell_type": "markdown",
   "id": "3a1af539",
   "metadata": {},
   "source": [
    "### Hours Example - <font color = \"red\">Presentation Points Opportunity</font>\n",
    "\n",
    "In this example, you will: \n",
    "<ul>\n",
    "    <li>get experience programming with pass by reference</li> \n",
    "    <li>understand the benefit of using pointers and functions</li>\n",
    "    <li>Compiler Directives</li>\n",
    "    <li>learn about how to read in information from the terminal.</li>\n",
    "</ul>\n",
    "\n",
    "You will write a program where the user will read in an unsigned integer representing the number of minutes, and you will convert to hours and minutes.\n",
    "\n",
    "Example Output:\n",
    "\n",
    "    Test program to convert time values\n",
    "    Enter a time duration in minutes: 157\n",
    "    Number of minutes entered: 157\n",
    "    HH:MM format: 2:37"
   ]
  },
  {
   "cell_type": "markdown",
   "id": "f3ef24b2",
   "metadata": {},
   "source": [
    "### Compiler Directives\n",
    "\n",
    "We will learn about compiler directives in the slides\n",
    "\n",
    "#### Step 1 - Write a compiler directive for MINUTES that sets it to 60"
   ]
  },
  {
   "cell_type": "markdown",
   "id": "62dbe9a6",
   "metadata": {},
   "source": [
    "### fscanf\n",
    "\n",
    "We will learn about fscanf, and how to pass by reference to get values from the terminal\n",
    "\n",
    "#### Step 2 - Use <code>fscanf</code> to save a value for time\n",
    "\n",
    "#### Step 2b - Use <code>fprintf</code> to print the result to the terminal"
   ]
  },
  {
   "cell_type": "markdown",
   "id": "921301a7",
   "metadata": {},
   "source": [
    "### Functions using Pass By Reference\n",
    "\n",
    "#### Step 3 - Write a function declaration for <code>convert_time_to_hm</code>\n",
    "<ul><li>Passes time by value, and hours and minutes by reference</li></ul>\n",
    "\n",
    "#### Step 4 - Write a function definition for <code>convert_time_to_hm</code>\n",
    "<ul>\n",
    "    <li>Calculate the hours and save in the reference variable</li>\n",
    "    <li>Calculate the minutes and save in the reference variable</li>\n",
    "</ul>\n",
    "\n",
    "#### Step 5 - Call <code>convert_time_to_hm</code> in main"
   ]
  },
  {
   "cell_type": "markdown",
   "id": "dc045563",
   "metadata": {},
   "source": [
    "### Compile and Run\n",
    "\n",
    "Using the provided Makefile, run the following command:\n",
    "\n",
    "    > make hours\n",
    "    gcc -std=c2x -O2 -g -Wall -Wextra -Wconversion -Wshadow -Werror -lm -c hours.c\n",
    "    gcc -std=c2x -O2 -g -Wall -Wextra -Wconversion -Wshadow -Werror -lm -o hours hours.o\n",
    "    ./hours\n",
    "    Test program to convert time values\n",
    "    Enter a time duration in minutes: 192\n",
    "    Number of minutes entered: 192\n",
    "    HH:MM format: 3:12\n",
    "    > make clean\n",
    "    rm -rf *.o *.swp hours"
   ]
  }
 ],
 "metadata": {
  "kernelspec": {
   "display_name": "Python 3 (ipykernel)",
   "language": "python",
   "name": "python3"
  },
  "language_info": {
   "codemirror_mode": {
    "name": "ipython",
    "version": 3
   },
   "file_extension": ".py",
   "mimetype": "text/x-python",
   "name": "python",
   "nbconvert_exporter": "python",
   "pygments_lexer": "ipython3",
   "version": "3.9.13"
  }
 },
 "nbformat": 4,
 "nbformat_minor": 5
}
