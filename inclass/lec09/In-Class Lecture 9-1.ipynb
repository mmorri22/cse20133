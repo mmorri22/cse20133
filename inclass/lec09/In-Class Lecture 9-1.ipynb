{
 "cells": [
  {
   "cell_type": "markdown",
   "id": "7fff8456",
   "metadata": {},
   "source": [
    "## In-Class Lecture 9-1 - Building and Iterating Through Arrays"
   ]
  },
  {
   "cell_type": "markdown",
   "id": "accde193",
   "metadata": {},
   "source": [
    "## Create folder\n",
    "\n",
    "<b>To review:</b>\n",
    "\n",
    "<b>1.</b> Open Docker Desktop. Go to the cse20133-user Container you created. Press the Blue Triangle to start the Container.\n",
    "\n",
    "<b>2.</b> Open VSCode, and on the left, select the blue button in the bottom left of VSCode. At the top, select the pull-down choice “Attach to running container” and select your CSE 20133 course container.\n",
    "\n",
    "<b>3.</b> Go into your Git Folder:\n",
    "\n",
    "> Recall that @USERNAME is the unique username you created when you created your GitHub account. You will see your user name in the VS Code Docker\n",
    "\n",
    "    cd cse20133-user/cse20133-@USERNAME\n",
    "\n",
    "Create the folder:\n",
    "\n",
    "    mkdir lec09\n",
    "    cd lec09"
   ]
  },
  {
   "cell_type": "markdown",
   "id": "cd558f3a",
   "metadata": {},
   "source": [
    "### Basic Arrays\n",
    "\n",
    "We will work together to create a file <code>static_basic.c</code> where we will initialize an integer array with six elements, and then we will iterate through the array, printing out the value and its location at each stage.\n",
    "\n",
    "    gcc -g -std=c2x -Wall -Wextra -Wconversion -Wshadow -Werror static_basic.c -o static_basic\n",
    "    ./static_basic\n",
    "    rm static_basic"
   ]
  },
  {
   "cell_type": "markdown",
   "id": "8f66733e",
   "metadata": {},
   "source": [
    "### Pass by Reference\n",
    "\n",
    "We will work together to pass the array by reference, along with the array size, in order to increment each element in the array by a specified number. We will also update the sum while iterating through the array, where the sum register is in main. We will also print the results in a third function.\n",
    "\n",
    "    gcc -g -std=c2x -Wall -Wextra -Wconversion -Wshadow -Werror static_basic.c -o static_basic\n",
    "    ./static_basic\n",
    "    rm static_basic"
   ]
  }
 ],
 "metadata": {
  "kernelspec": {
   "display_name": "Python 3 (ipykernel)",
   "language": "python",
   "name": "python3"
  },
  "language_info": {
   "codemirror_mode": {
    "name": "ipython",
    "version": 3
   },
   "file_extension": ".py",
   "mimetype": "text/x-python",
   "name": "python",
   "nbconvert_exporter": "python",
   "pygments_lexer": "ipython3",
   "version": "3.9.13"
  }
 },
 "nbformat": 4,
 "nbformat_minor": 5
}
