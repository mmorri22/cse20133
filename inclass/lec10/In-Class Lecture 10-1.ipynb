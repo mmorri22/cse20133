{
 "cells": [
  {
   "cell_type": "markdown",
   "id": "510b67e6",
   "metadata": {},
   "source": [
    "## In-Class Lecture 9-1 - Recursive Tracing"
   ]
  },
  {
   "cell_type": "markdown",
   "id": "cd3b418e",
   "metadata": {},
   "source": [
    "## Create folder\n",
    "\n",
    "<b>To review:</b>\n",
    "\n",
    "<b>1.</b> Open Docker Desktop. Go to the cse20133-user Container you created. Press the Blue Triangle to start the Container.\n",
    "\n",
    "<b>2.</b> Open VSCode, and on the left, select the blue button in the bottom left of VSCode. At the top, select the pull-down choice “Attach to running container” and select your CSE 20133 course container.\n",
    "\n",
    "<b>3.</b> Go into your Git Folder:\n",
    "\n",
    "> Recall that @USERNAME is the unique username you created when you created your GitHub account. You will see your user name in the VS Code Docker\n",
    "\n",
    "    cd cse20133-user/cse20133-@USERNAME\n",
    "\n",
    "Create the folder:\n",
    "\n",
    "    mkdir lec10\n",
    "    cd lec10"
   ]
  },
  {
   "cell_type": "markdown",
   "id": "e82706b7",
   "metadata": {},
   "source": [
    "To obtain the code for today's lecture, perform the following commands:\n",
    "\n",
    "    wget https://raw.githubusercontent.com/mmorri22/cse20133/main/inclass/lec10/setup.sh\n",
    "    chmod a+rx setup.sh\n",
    "    ./setup.sh\n",
    "    \n",
    "To confirm, perform the <code>ls</code> command. You will see the following:\n",
    "\n",
    "    Makefile fib.c fib_memo.c maze.c maze_demo.c trace.c trace_ptr.c"
   ]
  },
  {
   "cell_type": "markdown",
   "id": "82b7c131",
   "metadata": {},
   "source": [
    "### Basic Recursive Tracing\n",
    "\n",
    "Open the file <code>trace.c</code> and view its contents.\n",
    "\n",
    "On the overhead, we will \"trace\" out the recursion the way the machine performs the operation\n",
    "\n",
    "    > make trace\n",
    "    gcc -std=c11 -O2 -g -Wall -Wextra -Wconversion -Wshadow -Werror -lm -c trace.c\n",
    "    gcc -std=c11 -O2 -g -Wall -Wextra -Wconversion -Wshadow -Werror -lm -o trace trace.o\n",
    "    ./trace\n",
    "    In foo: x = 10\n",
    "    Foo Case 2!\n",
    "    In bar: y = 9\n",
    "    Bar Case 3!\n",
    "    In bar: y = 6\n",
    "    Bar Case 2!\n",
    "    In foo: x = 4\n",
    "    Foo Case 2!\n",
    "    In bar: y = 3\n",
    "    Bar Case 3!\n",
    "    In bar: y = 0\n",
    "    Bar base case!\n",
    "    34\n",
    "    > make clean\n",
    "    rm -rf *.o *.swp trace trace_ptr fib fib_memo"
   ]
  },
  {
   "cell_type": "markdown",
   "id": "643013f3",
   "metadata": {},
   "source": [
    "### Practice on your Own\n",
    "\n",
    "The Word Documents I used to represent recursion on the instruction stack are available if you wish to practice on your own:\n",
    "<ul>\n",
    "    <li><a href = \"https://github.com/mmorri22/su23-cse20332/raw/main/inclass/lec06/Trace%20-%20Main.docx\">Trace - Main</a></li>\n",
    "    <li><a href = \"https://github.com/mmorri22/su23-cse20332/raw/main/inclass/lec06/Trace%20-%20foo.docx\">Trace - foo</a></li>\n",
    "    <li><a href = \"https://github.com/mmorri22/su23-cse20332/raw/main/inclass/lec06/Trace%20-%20bar.docx\">Trace - bar</a></li>\n",
    "</ul>"
   ]
  },
  {
   "cell_type": "markdown",
   "id": "a71152df",
   "metadata": {},
   "source": [
    "### Recursive Tracing with Pointers\n",
    "\n",
    "Open the file <code>trace_ptr.c</code> and view its contents.\n",
    "\n",
    "On the overhead, we will \"trace\" out the recursion the way the machine performs the operation\n",
    "\n",
    "    > make trace_ptr\n",
    "    gcc -std=c11 -O2 -g -Wall -Wextra -Wconversion -Wshadow -Werror -lm -c trace_ptr.c\n",
    "    gcc -std=c11 -O2 -g -Wall -Wextra -Wconversion -Wshadow -Werror -lm -o trace_ptr trace_ptr.o\n",
    "    ./trace_ptr\n",
    "    In foo: x = 10\n",
    "    Foo Case 2!\n",
    "    In bar: y = 9\n",
    "    Bar Case 3!\n",
    "    In bar: y = 6\n",
    "    Bar Case 2!\n",
    "    In foo: x = 4\n",
    "    Foo Case 2!\n",
    "    In bar: y = 3\n",
    "    Bar Case 3!\n",
    "    In bar: y = 0\n",
    "    Bar base case!\n",
    "    34\n",
    "    > make clean\n",
    "    rm -rf *.o *.swp trace trace_ptr fib fib_memo"
   ]
  },
  {
   "cell_type": "markdown",
   "id": "069a1158",
   "metadata": {},
   "source": [
    "### Practice on your Own\n",
    "\n",
    "The Word Documents I used to represent pointer recursion on the instruction stack are available if you wish to practice on your own:\n",
    "<ul>\n",
    "    <li><a href = \"https://github.com/mmorri22/su23-cse20332/raw/main/inclass/lec06/Pointer%20Trace%20-%20Main.docx\">Pointer Trace - Main</a></li>\n",
    "    <li><a href = \"https://github.com/mmorri22/su23-cse20332/raw/main/inclass/lec06/Trace%20-%20foo.docx\">Pointer Trace - foo</a></li>\n",
    "    <li><a href = \"https://github.com/mmorri22/su23-cse20332/raw/main/inclass/lec06/Pointer%20Trace%20-%20bar.docx\">Pointer Trace - bar</a></li>\n",
    "</ul>"
   ]
  }
 ],
 "metadata": {
  "kernelspec": {
   "display_name": "Python 3 (ipykernel)",
   "language": "python",
   "name": "python3"
  },
  "language_info": {
   "codemirror_mode": {
    "name": "ipython",
    "version": 3
   },
   "file_extension": ".py",
   "mimetype": "text/x-python",
   "name": "python",
   "nbconvert_exporter": "python",
   "pygments_lexer": "ipython3",
   "version": "3.9.13"
  }
 },
 "nbformat": 4,
 "nbformat_minor": 5
}
