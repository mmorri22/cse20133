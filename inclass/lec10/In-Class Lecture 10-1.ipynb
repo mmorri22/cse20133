{
 "cells": [
  {
   "cell_type": "markdown",
   "id": "fd31b8c8",
   "metadata": {},
   "source": [
    "## In-Class Lecture 10-1 - Building and Iterating Through Arrays"
   ]
  },
  {
   "cell_type": "markdown",
   "id": "149d3895",
   "metadata": {},
   "source": [
    "## Create folder\n",
    "\n",
    "<b>To review:</b>\n",
    "\n",
    "<b>1.</b> Open Docker Desktop. Go to the cse20133-user Container you created. Press the Blue Triangle to start the Container.\n",
    "\n",
    "<b>2.</b> Open VSCode, and on the left, select the blue button in the bottom left of VSCode. At the top, select the pull-down choice “Attach to running container” and select your CSE 20133 course container.\n",
    "\n",
    "<b>3.</b> Go into your Git Folder:\n",
    "\n",
    "> Recall that @USERNAME is the unique username you created when you created your GitHub account. You will see your user name in the VS Code Docker\n",
    "\n",
    "    cd cse20133-user/cse20133-@USERNAME\n",
    "\n",
    "Create the folder:\n",
    "\n",
    "    mkdir lec10\n",
    "    cd lec10"
   ]
  },
  {
   "cell_type": "markdown",
   "id": "943129be",
   "metadata": {},
   "source": [
    "### To setup for today's in-class coding opportunity:\n",
    "\n",
    "To obtain the code for today's lecture, perform the following commands:\n",
    "\n",
    "    wget https://raw.githubusercontent.com/mmorri22/cse20133/main/inclass/lec10/setup.sh\n",
    "    chmod a+rx setup.sh\n",
    "    ./setup.sh\n",
    "    \n",
    "To confirm, perform the <code>ls</code> command. You will see the following:\n",
    "\n",
    "    Makefile static_basic.c"
   ]
  },
  {
   "cell_type": "markdown",
   "id": "34f2f4e3",
   "metadata": {},
   "source": [
    "### Basic Arrays\n",
    "\n",
    "We will work together to create a file <code>static_basic.c</code> where we will initialize an integer array with six elements, and then we will iterate through the array, printing out the value and its location at each stage.\n",
    "\n",
    "We will also learn about compiler directives\n",
    "\n",
    "    #ARRAYSIZE 6\n",
    "    \n",
    "The Makefile will contain a <code>make static_basic</code> command with a <b>deliberate error</b>. We will find it together.\n",
    "\n",
    "    make static_basic\n",
    "\n",
    "We will draw a memory map, where we correlate the memory locations printed to our Thinking Model"
   ]
  },
  {
   "cell_type": "markdown",
   "id": "83917f83",
   "metadata": {},
   "source": [
    "### Pass by Reference - <font color = \"red\">Presentation Points Opportunity</font>\n",
    "\n",
    "We will work together to pass the array by reference, along with the array size, in order to increment each element in the array by a specified number. We will also update the sum while iterating through the array, where the sum register is in main. We will also print the results in a third function.\n",
    "\n",
    "    cp static_basic.c static_pbr.c\n",
    "    \n",
    "Then we will pass the array to a function and perform the same task\n",
    "\n",
    "    make static_pbr"
   ]
  }
 ],
 "metadata": {
  "kernelspec": {
   "display_name": "Python 3 (ipykernel)",
   "language": "python",
   "name": "python3"
  },
  "language_info": {
   "codemirror_mode": {
    "name": "ipython",
    "version": 3
   },
   "file_extension": ".py",
   "mimetype": "text/x-python",
   "name": "python",
   "nbconvert_exporter": "python",
   "pygments_lexer": "ipython3",
   "version": "3.9.13"
  }
 },
 "nbformat": 4,
 "nbformat_minor": 5
}
