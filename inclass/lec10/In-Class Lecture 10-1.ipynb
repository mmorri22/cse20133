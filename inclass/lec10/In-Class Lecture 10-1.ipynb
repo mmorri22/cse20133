{
 "cells": [
  {
   "cell_type": "markdown",
   "id": "f75d2013",
   "metadata": {},
   "source": [
    "## In-Class Lecture 10-1 - Pointer Trace Example"
   ]
  },
  {
   "cell_type": "markdown",
   "id": "00f23c2b",
   "metadata": {},
   "source": [
    "## Create folder\n",
    "\n",
    "<b>To review:</b>\n",
    "\n",
    "<b>1.</b> Open Docker Desktop. Go to the cse20133-user Container you created. Press the Blue Triangle to start the Container.\n",
    "\n",
    "<b>2.</b> Open VSCode, and on the left, select the blue button in the bottom left of VSCode. At the top, select the pull-down choice “Attach to running container” and select your CSE 20133 course container.\n",
    "\n",
    "<b>3.</b> Go into your Git Folder:\n",
    "\n",
    "> Recall that @USERNAME is the unique username you created when you created your GitHub account. You will see your user name in the VS Code Docker\n",
    "\n",
    "    cd cse20133-user/cse20133-@USERNAME\n",
    "\n",
    "Create the folder:\n",
    "\n",
    "    mkdir lec10\n",
    "    cd lec10"
   ]
  },
  {
   "cell_type": "markdown",
   "id": "82df951f",
   "metadata": {},
   "source": [
    "### To setup for today's in-class coding opportunity:\n",
    "\n",
    "To obtain the code for today's lecture, perform the following commands:\n",
    "\n",
    "    wget https://raw.githubusercontent.com/mmorri22/cse20133/main/inclass/lec10/setup.sh\n",
    "    chmod a+rx setup.sh\n",
    "    ./setup.sh\n",
    "    \n",
    "To confirm, perform the <code>ls</code> command. You will see the following:\n",
    "\n",
    "    Makefile fscanf.c fscanf_pbr.c ptr_trace.c ptr_trace_pbf.c"
   ]
  },
  {
   "cell_type": "markdown",
   "id": "9ee9ed4f",
   "metadata": {},
   "source": [
    "## Class Discussion\n",
    "\n",
    "#### <font color = \"red\">Class Introduction Question #1 - State and describe the three key elements of any pointer in C</a>\n",
    "\n",
    "#### <font color = \"red\">Class Introduction Question #2 - What do * and & represent in C pointer syntax? Give a small int example correlating the two.</a>\n",
    "\n",
    "#### <font color = \"red\">Class Introduction Question #3 - What is pointer de-referencing and how do we perform this task in C?</a>"
   ]
  },
  {
   "cell_type": "markdown",
   "id": "3890a603",
   "metadata": {},
   "source": [
    "## Trace Example\n",
    "\n",
    "You have been provided with a\\ file <code><a href=\"https://raw.githubusercontent.com/mmorri22/cse20133/main/inclass/lec10/ptr_trace.c\">ptr_trace.c</a></code>. Open and take a look.\n",
    "\n",
    "The commands to run the code are\n",
    "\n",
    "    make ptr_trace\n",
    "    make clean\n",
    "\n",
    "\n",
    "We will trace the operations and determine what we believe will happen\n",
    "\n",
    "## Trace Example with Pass By Reference\n",
    "\n",
    "You have been provided with a\\ file <code><a href=\"https://raw.githubusercontent.com/mmorri22/cse20133/main/inclass/lec10/ptr_trace_pbr.c\">ptr_trace_pbr.c</a></code>. Open and take a look.\n",
    "\n",
    "The commands to run the code are\n",
    "\n",
    "    make ptr_trace_pbr\n",
    "    make clean\n",
    "\n",
    "### Step 1 - We will trace the operations and determine what we believe will happen\n",
    "\n",
    "### Step 2 - We need to address and value of a and b (and how it relates to the variables) in the function\n",
    "\n",
    "### Step 3 - We will print the results.\n",
    "\n",
    "### Step 4 - We will draw our first memory map, where we correlate the memory locations printed to our Thinking Model"
   ]
  }
 ],
 "metadata": {
  "kernelspec": {
   "display_name": "Python 3 (ipykernel)",
   "language": "python",
   "name": "python3"
  },
  "language_info": {
   "codemirror_mode": {
    "name": "ipython",
    "version": 3
   },
   "file_extension": ".py",
   "mimetype": "text/x-python",
   "name": "python",
   "nbconvert_exporter": "python",
   "pygments_lexer": "ipython3",
   "version": "3.9.13"
  }
 },
 "nbformat": 4,
 "nbformat_minor": 5
}
