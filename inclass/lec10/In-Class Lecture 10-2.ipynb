{
 "cells": [
  {
   "cell_type": "markdown",
   "id": "88310364",
   "metadata": {},
   "source": [
    "## In-Class Lecture 10-2 - Combining Concepts: fscanf"
   ]
  },
  {
   "cell_type": "markdown",
   "id": "11f1ce84",
   "metadata": {},
   "source": [
    "You have been provided with an advanced file <code><a href=\"https://raw.githubusercontent.com/mmorri22/cse20133/main/inclass/lec10/fscanf.c\">fscanf.c</a></code>. Open and take a look.\n",
    "\n",
    "The commands to run the code are\n",
    "\n",
    "    make fscanf\n",
    "    ./fscanf\n",
    "    rm fscanf\n",
    "    \n",
    "or\n",
    "\n",
    "    gcc -std=c2x -g -O2 -Wall -Wextra -Wconversion -Werror -Wshadow fscanf.c -o fscanf\n",
    "    ./fscanf\n",
    "    rm fscanf"
   ]
  },
  {
   "cell_type": "markdown",
   "id": "033aecb2",
   "metadata": {},
   "source": [
    "### fscanf\n",
    "\n",
    "We use <code>fscanf</code> to read from the command line\n",
    "\n",
    "For <code>fscanf</code> register values are <b>passed by reference</b>, as opposed to <code>fprintf</code>, where they are passed by value."
   ]
  },
  {
   "cell_type": "markdown",
   "id": "7de5986a",
   "metadata": {},
   "source": [
    "### Calling fscanf in main - <font color = \"red\">Presentation Points Opportunity</font>\n",
    "\n",
    "Step 1 - Write fscanf to read in the values in main\n",
    "\n",
    "Step 2 - Write fprintf to print all the values"
   ]
  },
  {
   "cell_type": "markdown",
   "id": "7fbf6e90",
   "metadata": {},
   "source": [
    "## Pass By Reference with Functions\n",
    "\n",
    "You have been provided with an advanced file <code><a href=\"https://raw.githubusercontent.com/mmorri22/cse20133/main/inclass/lec08/fscanf.c\">fscanf.c</a></code>. Open and take a look.\n",
    "\n",
    "The commands to run the code are\n",
    "\n",
    "    gcc -std=c2x -g -O2 -Wall -Wextra -Wconversion -Werror -Wshadow fscanf.c -o fscanf\n",
    "    ./fscanf\n",
    "    rm fscanf"
   ]
  },
  {
   "cell_type": "markdown",
   "id": "eba00daf",
   "metadata": {},
   "source": [
    "### Calling fscanf and fprintf in a function  - <font color = \"red\">Presentation Points Opportunity</font>\n",
    "\n",
    "Step 1 - Write a function declaration and definition for <code>fscanf_pbr</code> that passes an integer, a float, a double, and a character string by reference, and then calls <code>fscanf</code> in that function\n",
    "\n",
    "> <b>Objective</b> - This can be a bit tricky, but if you can write this function correctly, you have a strong understanding of how pass by reference for variables and arrays works!\n",
    "\n",
    "Step 2 - Write a function declaration and definition for <code>fprintf_pbv</code> that passes an integer, a float, a double, and a character string by reference, and then calls <code>fprintf</code> in that function\n",
    "\n",
    "Step 3 - Call them both in main\n",
    "\n",
    "Step 4 - We will draw a memory map, where we correlate the memory locations printed to our Thinking Model"
   ]
  },
  {
   "cell_type": "markdown",
   "id": "7bca8a63",
   "metadata": {},
   "source": [
    "### Practice Committing and Pushing Through VS Code\n",
    "\n",
    "Once you make changes in your GitHub folder in VS Code, you can <code>commit</code> and <code>push</code> directly from the VS Code.\n",
    "\n",
    "From the VS Code Terminal:\n",
    "\n",
    "    cd ..\n",
    "    \n",
    "At this point, you should be in the <code>cse20133-@USERNAME</code> folder\n",
    "\n",
    "    git add --all\n",
    "    git commit -m \"Lecture 10 Update\"\n",
    "    git push -u origin main"
   ]
  }
 ],
 "metadata": {
  "kernelspec": {
   "display_name": "Python 3 (ipykernel)",
   "language": "python",
   "name": "python3"
  },
  "language_info": {
   "codemirror_mode": {
    "name": "ipython",
    "version": 3
   },
   "file_extension": ".py",
   "mimetype": "text/x-python",
   "name": "python",
   "nbconvert_exporter": "python",
   "pygments_lexer": "ipython3",
   "version": "3.9.13"
  }
 },
 "nbformat": 4,
 "nbformat_minor": 5
}
