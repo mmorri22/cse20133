{
 "cells": [
  {
   "cell_type": "markdown",
   "id": "88310364",
   "metadata": {},
   "source": [
    "## In-Class Lecture 10-2 - Combining Concepts: fscanf"
   ]
  },
  {
   "cell_type": "markdown",
   "id": "11f1ce84",
   "metadata": {},
   "source": [
    "We will copy the <b>fscanf</b> files from Lecture 09. This will also help you learn how to copy files from another folder.\n",
    "\n",
    "cp ../lec09/fscanf.c .\n",
    "\n",
    "cp ../lec09/fscanf_pbr.c ."
   ]
  },
  {
   "cell_type": "markdown",
   "id": "033aecb2",
   "metadata": {},
   "source": [
    "### fscanf and char arrays\n",
    "\n",
    "We will learn about allocating static character arrays"
   ]
  }
 ],
 "metadata": {
  "kernelspec": {
   "display_name": "Python 3 (ipykernel)",
   "language": "python",
   "name": "python3"
  },
  "language_info": {
   "codemirror_mode": {
    "name": "ipython",
    "version": 3
   },
   "file_extension": ".py",
   "mimetype": "text/x-python",
   "name": "python",
   "nbconvert_exporter": "python",
   "pygments_lexer": "ipython3",
   "version": "3.9.13"
  }
 },
 "nbformat": 4,
 "nbformat_minor": 5
}
