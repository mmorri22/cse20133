{
 "cells": [
  {
   "cell_type": "markdown",
   "id": "a2c63e3d",
   "metadata": {},
   "source": [
    "## In-Class Lecture 10-2 - Insertion Sort"
   ]
  },
  {
   "cell_type": "markdown",
   "id": "21e18b4f",
   "metadata": {},
   "source": [
    "### Sorting an Array\n",
    "\n",
    "In our first crack at sorting an array, we will perform an insertion sort. Insertion sort is a simple sorting algorithm that builds the final sorted array (or list) one item at a time by comparisons. It is much less efficient on large lists than more advanced algorithms. But it's simpler to program, so it is a good place to start.\n",
    "\n",
    "Consider the following array: <code>10 7 15 22 9 31 6 14 7</code>\n",
    "\n",
    "We start at the second element, which is <code>7</code>. We keep moving it left until we get to the point where there is no longer any larger element. Then we repeat until the algorithm is completed.\n",
    "\n",
    "<b>First iteration</b>:\n",
    "\n",
    "<code>Before: 10 <font color=\"red\">7</font> 15 9 22 31 6 14 7</code><br>\n",
    "<code>After : <font color=\"red\">7</font> 10 15 9 22 31 6 14 7</code>\n",
    "\n",
    "<b>Second iteration</b>:\n",
    "\n",
    "<code>Before: 7 10 <font color=\"red\">15</font> 9 22 31 6 14 7</code><br>\n",
    "<code>After : 7 10 <font color=\"red\">15</font> 9 22 31 6 14 7</code>\n",
    "\n",
    "<b>Third iteration</b>:\n",
    "\n",
    "<code>Before: 7 10 15 <font color=\"red\">9</font> 22 31 6 14 7</code><br>\n",
    "<code>After : 7 <font color=\"red\">9</font> 10 15 22 31 6 14 7</code>\n",
    "\n",
    "<b>Fourth iteration</b>:\n",
    "\n",
    "<code>Before: 7 9 10 15 <font color=\"red\">22</font> 31 6 14 7</code><br>\n",
    "<code>After : 7 9 10 15 <font color=\"red\">22</font> 31 6 14 7</code>\n",
    "    \n",
    "<b>Fifth iteration</b>:\n",
    "\n",
    "<code>Before: 7 9 10 15 22 <font color=\"red\">31</font> 6 14 7</code><br>\n",
    "<code>After : 7 9 10 15 22 <font color=\"red\">31</font> 6 14 7</code>\n",
    "    \n",
    "<b>Sixth iteration</b>:\n",
    "\n",
    "<code>Before: 7 9 10 15 22 31 <font color=\"red\">6</font> 14 7</code><br>\n",
    "<code>After : <font color=\"red\">6</font> 7 9 10 15 22 31 14 7</code>\n",
    "    \n",
    "<b>Seventh iteration</b>:\n",
    "\n",
    "<code>Before: 6 7 9 10 15 22 31 <font color=\"red\">14</font> 7</code><br>\n",
    "<code>After : 6 7 9 10 <font color=\"red\">14</font> 15 22 31 7</code>\n",
    "    \n",
    "<b>Eigth iteration</b> - \n",
    "\n",
    "<code>Before: 6 7 9 10 14 15 22 31 <font color=\"red\">7</font></code><br>\n",
    "<code>After : 6 7 <font color=\"red\">7</font> 9 10 14 15 22 31</code>"
   ]
  },
  {
   "cell_type": "markdown",
   "id": "cb535ae8",
   "metadata": {},
   "source": [
    "### Complete the insertion sort\n",
    "\n",
    "Pair and Share - <b><font color = \"red\">Presentation Points Opportunity</font></b>\n",
    "\n",
    "Open <code>insertion_sort.c</code>\n",
    "\n",
    "Create a function where you print the values and addresses of each element in the array\n",
    "\n",
    "Create a function where you pass the array and the array length.\n",
    "\n",
    "In that function, perform insertion sort.\n",
    "\n",
    "Call the print function again to show the correct result."
   ]
  },
  {
   "cell_type": "markdown",
   "id": "19ec6a4e",
   "metadata": {},
   "source": [
    "### Practice Committing and Pushing Through VS Code\n",
    "\n",
    "Once you make changes in your GitHub folder in VS Code, you can <code>commit</code> and <code>push</code> directly from the VS Code.\n",
    "\n",
    "From the VS Code Terminal:\n",
    "\n",
    "    cd ..\n",
    "    \n",
    "At this point, you should be in the <code>cse20133-@USERNAME</code> folder\n",
    "\n",
    "    git add --all\n",
    "    git commit -m \"Lecture 10 Update\"\n",
    "    git push -u origin main"
   ]
  }
 ],
 "metadata": {
  "kernelspec": {
   "display_name": "Python 3 (ipykernel)",
   "language": "python",
   "name": "python3"
  },
  "language_info": {
   "codemirror_mode": {
    "name": "ipython",
    "version": 3
   },
   "file_extension": ".py",
   "mimetype": "text/x-python",
   "name": "python",
   "nbconvert_exporter": "python",
   "pygments_lexer": "ipython3",
   "version": "3.9.13"
  }
 },
 "nbformat": 4,
 "nbformat_minor": 5
}
