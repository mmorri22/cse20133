{
 "cells": [
  {
   "cell_type": "markdown",
   "id": "7fa40e89",
   "metadata": {},
   "source": [
    "## In-Class Lecture 22-2 - C Struct Memory Optimization Problem"
   ]
  },
  {
   "cell_type": "markdown",
   "id": "4adfdb51",
   "metadata": {},
   "source": [
    "### Objective\n",
    "\n",
    "The objective of this exercise is to reflect an example of how to arrange C structs in an order that reduces memory consumption"
   ]
  },
  {
   "cell_type": "markdown",
   "id": "1d2daf38",
   "metadata": {},
   "source": [
    "### Problem Statement\n",
    "    \n",
    "Given the following C struct:\n",
    "<ol>\n",
    "    <li>Calculate the optimal amount of memory the struct could consume in memory</li>\n",
    "    <li>Calculate the actual amount of memory the struct consumes, and draw the layout.</li>\n",
    "    <li>Re-design the struct to improve the memory consumed</li>\n",
    "    <li>Calculate the actual amount of memory the new struct consumes, and draw the layout.</li>\n",
    "</ol>\n",
    "\n",
    "    typedef struct first_struct{\n",
    "        float fl_1;\n",
    "        char ch_1;\n",
    "        double do_1;\n",
    "        int int_1;\n",
    "        double do_2;\n",
    "        float fl_2;\n",
    "        char ch_2;\n",
    "        char ch_3;\n",
    "        int int_2;\n",
    "        double do_3;\n",
    "    }first_struct;"
   ]
  }
 ],
 "metadata": {
  "kernelspec": {
   "display_name": "Python 3 (ipykernel)",
   "language": "python",
   "name": "python3"
  },
  "language_info": {
   "codemirror_mode": {
    "name": "ipython",
    "version": 3
   },
   "file_extension": ".py",
   "mimetype": "text/x-python",
   "name": "python",
   "nbconvert_exporter": "python",
   "pygments_lexer": "ipython3",
   "version": "3.9.13"
  }
 },
 "nbformat": 4,
 "nbformat_minor": 5
}
