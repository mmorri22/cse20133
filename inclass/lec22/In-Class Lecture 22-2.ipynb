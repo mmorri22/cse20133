{
 "cells": [
  {
   "cell_type": "markdown",
   "id": "7fa40e89",
   "metadata": {},
   "source": [
    "## In-Class Lecture 22-3 - C Struct Memory Optimization Problem"
   ]
  },
  {
   "cell_type": "markdown",
   "id": "cf078c8c",
   "metadata": {},
   "source": [
    "## Create folder\n",
    "\n",
    "<b>To review:</b>\n",
    "\n",
    "<b>1.</b> Open Docker Desktop. Go to the cse20133-user Container you created. Press the Blue Triangle to start the Container.\n",
    "\n",
    "<b>2.</b> Open VSCode, and on the left, select the blue button in the bottom left of VSCode. At the top, select the pull-down choice “Attach to running container” and select your CSE 20133 course container.\n",
    "\n",
    "<b>3.</b> Go into your Git Folder:\n",
    "\n",
    "> Recall that @USERNAME is the unique username you created when you created your GitHub account. You will see your user name in the VS Code Docker\n",
    "\n",
    "    cd cse20133-user/cse20133-@USERNAME\n",
    "\n",
    "Create the folder:\n",
    "\n",
    "    mkdir lec22\n",
    "    cd lec22"
   ]
  },
  {
   "cell_type": "markdown",
   "id": "3232cad3",
   "metadata": {},
   "source": [
    "### Obtaining the class files\n",
    "\n",
    "Perform the following command:\n",
    "\n",
    "    wget https://raw.githubusercontent.com/mmorri22/cse20133/main/inclass/lec22/setup.sh\n",
    "    chmod a+rx setup.sh\n",
    "    ./setup.sh\n",
    "    \n",
    "Once you perform these commands, you will get the following:\n",
    "\n",
    "    lec22.c  library.txt  Makefile"
   ]
  },
  {
   "cell_type": "markdown",
   "id": "4adfdb51",
   "metadata": {},
   "source": [
    "### Objective\n",
    "\n",
    "The objective of this exercise is to reflect an example you will find on Homework 6 as well as the Final Exam"
   ]
  },
  {
   "cell_type": "markdown",
   "id": "1d2daf38",
   "metadata": {},
   "source": [
    "### Problem Statement\n",
    "    \n",
    "Given the following C struct:\n",
    "<ol>\n",
    "    <li>Calculate the optimal amount of memory the struct could consume in memory</li>\n",
    "    <li>Calculate the actual amount of memory the struct consumes, and draw the layout. Show the segmentation in memory</li>\n",
    "    <li>Re-design the struct to improve the memory consumed</li>\n",
    "    <li>Calculate the actual amount of memory the new struct consumes, and draw the layout. Show any remaining segmentation in memory</li>\n",
    "</ol>\n",
    "\n",
    "    typedef struct first_struct{\n",
    "        float fl_1;\n",
    "        char ch_1;\n",
    "        double do_1;\n",
    "        int int_1;\n",
    "        double do_2;\n",
    "        float fl_2;\n",
    "        char ch_2;\n",
    "        char ch_3;\n",
    "        int int_2;\n",
    "        double do_3;\n",
    "    }first_struct;"
   ]
  }
 ],
 "metadata": {
  "kernelspec": {
   "display_name": "Python 3 (ipykernel)",
   "language": "python",
   "name": "python3"
  },
  "language_info": {
   "codemirror_mode": {
    "name": "ipython",
    "version": 3
   },
   "file_extension": ".py",
   "mimetype": "text/x-python",
   "name": "python",
   "nbconvert_exporter": "python",
   "pygments_lexer": "ipython3",
   "version": "3.9.13"
  }
 },
 "nbformat": 4,
 "nbformat_minor": 5
}
