{
 "cells": [
  {
   "cell_type": "markdown",
   "id": "7fa40e89",
   "metadata": {},
   "source": [
    "## In-Class Lecture 22-2 - Git Branching Visualization"
   ]
  },
  {
   "cell_type": "markdown",
   "id": "4adfdb51",
   "metadata": {},
   "source": [
    "### Git Branching Visualization\n",
    "\n",
    "Possibly the fastest growing skill being requested by employers is the ability to perform Git commands. This is the reason why myself and Professor Bui require students to submit assignments via GitHub. For example, when I did my research fellowship with Intel, I was writing C++ code in collaboration with software engineers from all over the world. Staging and verifying Git code is important, and claiming this skill on resumes will increase your hireability!\n",
    "\n",
    "But there is a lot more to Git than one simple branch and merge. \n",
    "\n",
    "To start, go to the page https://learngitbranching.js.org/\n",
    "\n",
    "This is a JavaScript page that will help you learn Git! Read over the initial introduction, and select the Green Checkmark at the bottom when done."
   ]
  },
  {
   "cell_type": "markdown",
   "id": "1d2daf38",
   "metadata": {},
   "source": [
    "### <font color = \"red\">In-Class Participation Opportunities</font>\n",
    "    \n",
    "To successfully complete the git commands, we will work through each of these steps. Once a group figures it out, you should raise your hand to present your work.\n",
    "<ol>\n",
    "    <li>Introduction to git commits</li>\n",
    "    <li>Branching in git </li>\n",
    "    <li>Merging in git</li>\n",
    "    <li>Rebase introduction</li>\n",
    "    <li>Detach yo' head</li>\n",
    "    <li>Relative Refs (^)</li>\n",
    "    <li>Relative Refs 2 (~)</li>\n",
    "    <li>Reversing Changes in git</li>\n",
    "</ol>\n",
    "    \n",
    "On your own time, you are welcome to continue and learn much more about Git! These 8 were selected because of the strong likelihood that you can complete them in under an hour.\n",
    "\n",
    "Happy Branching!"
   ]
  },
  {
   "cell_type": "code",
   "execution_count": null,
   "id": "ca555fdf",
   "metadata": {},
   "outputs": [],
   "source": []
  }
 ],
 "metadata": {
  "kernelspec": {
   "display_name": "Python 3 (ipykernel)",
   "language": "python",
   "name": "python3"
  },
  "language_info": {
   "codemirror_mode": {
    "name": "ipython",
    "version": 3
   },
   "file_extension": ".py",
   "mimetype": "text/x-python",
   "name": "python",
   "nbconvert_exporter": "python",
   "pygments_lexer": "ipython3",
   "version": "3.9.13"
  }
 },
 "nbformat": 4,
 "nbformat_minor": 5
}
