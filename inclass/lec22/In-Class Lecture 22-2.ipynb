{
 "cells": [
  {
   "cell_type": "markdown",
   "id": "4ee9d952",
   "metadata": {},
   "source": [
    "## In-Class Lecture 22-2 - Optimizing the Size of C Structs"
   ]
  },
  {
   "cell_type": "markdown",
   "id": "2111c7aa",
   "metadata": {},
   "source": [
    "We will learn how to optimize the size of a C struct when you design them in memory"
   ]
  },
  {
   "cell_type": "markdown",
   "id": "4c0ec102",
   "metadata": {},
   "source": [
    "## Compilation Run \n",
    "\n",
    "    make struct_align\n",
    "    valgrind --leak-check=full ./struct_align\n",
    "    \n",
    "## Sample Run\n",
    "\n",
    "    Size of optimal first_struct = 34\n",
    "    Size of first_struct = 48\n",
    "    The locations:\n",
    "    Base address  : 0x4a4a040\n",
    "    first_float   : 0x4a4a040\n",
    "    first_double  : 0x4a4a048\n",
    "    first_char    : 0x4a4a050\n",
    "    second_double : 0x4a4a058\n",
    "    first_int     : 0x4a4a060\n",
    "    second_float  : 0x4a4a064\n",
    "    second_char   : 0x4a4a068\n",
    "    third_char    : 0x4a4a069\n",
    "    third_float   : 0x4a4a06c\n",
    "    \n",
    "## What happened?\n",
    "\n",
    "The Operating System lays out the data types as efficiently as possible. But \n",
    "\n",
    "    char - May be at any location since a char is a size of 1 byte\n",
    "    int/float/unsigned int  - Must be at a location that is a multiple of 4 since they are a size of 4 bytes\n",
    "    long int/double/pointer address  - Must be at a location that is a multiple of 8 since they are a size of 8 bytes\n",
    "    \n",
    "So let's break that down by memory location\n",
    "\n",
    "    first_float   : 0x4a4a040 - Satisfies float rule and must be at the same location as the base address on the heap\n",
    "    \n",
    "    first_double  : 0x4a4a048 - We lose 4 bytes because a double can't be at 0x040 since 4 is not a multiple of 8. \n",
    "    \n",
    "    first_char    : 0x4a4a050 - Goes to the first available spot at 0x050\n",
    "    \n",
    "    second_double : 0x4a4a058 - We lose 7 bytes because a double can't be at 0x051 since 1 is not a multiple of 8.\n",
    "    \n",
    "    first_int     : 0x4a4a060 - Goes to the first available spot at 0x060 and satisfies int rule\n",
    "    \n",
    "    second_float  : 0x4a4a064 - Goes to the first available spot at 0x064 and satisfies float rule\n",
    "    \n",
    "    second_char   : 0x4a4a068 - Goes to the first available spot at 0x068 and satisfies char rule\n",
    "    \n",
    "    second_char   : 0x4a4a069 - Goes to the first available spot at 0x069 and satisfies char rule\n",
    "    \n",
    "    third_float   : 0x4a4a06c - We lose 2 bytes because a double can't be at 0x06a since 10 is not a multiple of 4."
   ]
  },
  {
   "cell_type": "markdown",
   "id": "7ee60bf5",
   "metadata": {},
   "source": [
    "## So how can we improve this?\n",
    "\n",
    "We arrange the data in the struct <b>in order of size from smallest to largest</b>.\n",
    "\n",
    "We will go to <code>struct_align_fix.c</code> and re-write the struct.\n",
    "\n",
    "When we run the program, what will be observe?"
   ]
  }
 ],
 "metadata": {
  "kernelspec": {
   "display_name": "Python 3 (ipykernel)",
   "language": "python",
   "name": "python3"
  },
  "language_info": {
   "codemirror_mode": {
    "name": "ipython",
    "version": 3
   },
   "file_extension": ".py",
   "mimetype": "text/x-python",
   "name": "python",
   "nbconvert_exporter": "python",
   "pygments_lexer": "ipython3",
   "version": "3.9.13"
  }
 },
 "nbformat": 4,
 "nbformat_minor": 5
}
