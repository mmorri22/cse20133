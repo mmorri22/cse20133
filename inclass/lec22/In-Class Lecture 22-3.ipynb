{
 "cells": [
  {
   "cell_type": "markdown",
   "id": "7fa40e89",
   "metadata": {},
   "source": [
    "## In-Class Lecture 22-3 - C Struct Memory Optimization Problem"
   ]
  },
  {
   "cell_type": "markdown",
   "id": "4adfdb51",
   "metadata": {},
   "source": [
    "### Objective\n",
    "\n",
    "The objective of this exercise is to reflect an example you will find on Homework 6 as well as the Final Exam"
   ]
  },
  {
   "cell_type": "markdown",
   "id": "1d2daf38",
   "metadata": {},
   "source": [
    "### Problem Statement\n",
    "    \n",
    "Given the following C struct:\n",
    "<ol>\n",
    "    <li>Calculate the optimal amount of memory the struct could consume in memory</li>\n",
    "    <li>Calculate the actual amount of memory the struct consumes, and draw the layout. Show the segmentation in memory</li>\n",
    "    <li>Re-design the struct to improve the memory consumed</li>\n",
    "    <li>Calculate the actual amount of memory the new struct consumes, and draw the layout. Show any remaining segmentation in memory</li>\n",
    "</ol>\n",
    "\n",
    "    typedef struct first_struct{\n",
    "        float first_float;\n",
    "        char first_char;\n",
    "        double first_double;\n",
    "        int first_int;\n",
    "        double second_double;\n",
    "        float second_float;\n",
    "        char second_char;\n",
    "        char third_char;\n",
    "        int second_int;\n",
    "        double third_double;\n",
    "    }first_struct;"
   ]
  },
  {
   "cell_type": "code",
   "execution_count": null,
   "id": "b449cd9e",
   "metadata": {},
   "outputs": [],
   "source": []
  }
 ],
 "metadata": {
  "kernelspec": {
   "display_name": "Python 3 (ipykernel)",
   "language": "python",
   "name": "python3"
  },
  "language_info": {
   "codemirror_mode": {
    "name": "ipython",
    "version": 3
   },
   "file_extension": ".py",
   "mimetype": "text/x-python",
   "name": "python",
   "nbconvert_exporter": "python",
   "pygments_lexer": "ipython3",
   "version": "3.9.13"
  }
 },
 "nbformat": 4,
 "nbformat_minor": 5
}
