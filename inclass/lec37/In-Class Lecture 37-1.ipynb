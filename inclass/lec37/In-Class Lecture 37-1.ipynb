{
 "cells": [
  {
   "cell_type": "markdown",
   "id": "31983d16",
   "metadata": {},
   "source": [
    "## In-Class Lecture 37-1 - Complete sin-cos Visualization Example"
   ]
  },
  {
   "cell_type": "markdown",
   "id": "19ab47db",
   "metadata": {},
   "source": [
    "## Create folder\n",
    "\n",
    "<b>To review:</b>\n",
    "\n",
    "<b>1.</b> Open Docker Desktop. Go to the cse20133-user Container you created. Press the Blue Triangle to start the Container.\n",
    "\n",
    "<b>2.</b> Open VSCode, and on the left, select the blue button in the bottom left of VSCode. At the top, select the pull-down choice “Attach to running container” and select your CSE 20133 course container.\n",
    "\n",
    "<b>3.</b> Go into your Git Folder:\n",
    "\n",
    "> Recall that @USERNAME is the unique username you created when you created your GitHub account. You will see your user name in the VS Code Docker\n",
    "\n",
    "    cd cse20133-user/cse20133-@USERNAME\n",
    "\n",
    "Create the folder:\n",
    "\n",
    "    mkdir lec37\n",
    "    cd lec37\n",
    "    \n",
    "    \n",
    "### Obtaining the class files\n",
    "\n",
    "Perform the following command:\n",
    "\n",
    "    wget https://raw.githubusercontent.com/mmorri22/cse20133/main/inclass/lec37/setup.sh\n",
    "    chmod a+rx setup.sh\n",
    "    ./setup.sh\n",
    "    \n",
    "Once you perform these commands, you will get the following:\n",
    "\n",
    "    Makefile electric.cpp electric_sol.cpp sin_cos.cpp sin_cos_sol.cpp"
   ]
  },
  {
   "cell_type": "markdown",
   "id": "d6af3f99",
   "metadata": {},
   "source": [
    "### Sin-Cos Example\n",
    "\n",
    "We will complete the sin-cos Example from the previous class.\n",
    "    \n",
    "Last lecture, we performed a simple plot of sin and cos. Now we will modify the plots in order to make the plot look more visualy appealing.\n",
    "\n",
    "    auto the_plots = plot(x_vals, sin_vals, x_vals, cos_vals);\n",
    "    the_plots.at(0)->line_width(2);\n",
    "    the_plots.at(0)->marker(line_spec::marker_style::square).marker_face_color(\"#0c23d0\");\n",
    "    the_plots.at(1)->marker(line_spec::marker_style::circle).marker_face_color(\"#C99700\");\n",
    "\n",
    "    title(\"Sin/Cos Comparison\");\n",
    "    xlabel(\"x\");\n",
    "    ylabel(\"y\");\n",
    "    legend({\"sin(x)\", \"cos(x)\"});\n",
    "    show();\n",
    "\n",
    "And here is the final solution:"
   ]
  }
 ],
 "metadata": {
  "kernelspec": {
   "display_name": "Python 3 (ipykernel)",
   "language": "python",
   "name": "python3"
  },
  "language_info": {
   "codemirror_mode": {
    "name": "ipython",
    "version": 3
   },
   "file_extension": ".py",
   "mimetype": "text/x-python",
   "name": "python",
   "nbconvert_exporter": "python",
   "pygments_lexer": "ipython3",
   "version": "3.9.13"
  }
 },
 "nbformat": 4,
 "nbformat_minor": 5
}
