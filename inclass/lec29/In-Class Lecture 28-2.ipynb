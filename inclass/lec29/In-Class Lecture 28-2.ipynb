{
 "cells": [
  {
   "cell_type": "markdown",
   "id": "7eb02632",
   "metadata": {},
   "source": [
    "## In-Class Lecture 28-2 - Product of Array Except Self"
   ]
  },
  {
   "cell_type": "markdown",
   "id": "8ff1d734",
   "metadata": {},
   "source": [
    "## Create folder\n",
    "\n",
    "<b>To review:</b>\n",
    "\n",
    "<b>1.</b> Open Docker Desktop. Go to the cse20133-user Container you created. Press the Blue Triangle to start the Container.\n",
    "\n",
    "<b>2.</b> Open VSCode, and on the left, select the blue button in the bottom left of VSCode. At the top, select the pull-down choice “Attach to running container” and select your CSE 20133 course container.\n",
    "\n",
    "<b>3.</b> Go into your Git Folder:\n",
    "\n",
    "> Recall that @USERNAME is the unique username you created when you created your GitHub account. You will see your user name in the VS Code Docker\n",
    "\n",
    "    cd cse20133-user/cse20133-@USERNAME\n",
    "\n",
    "Create the folder:\n",
    "\n",
    "    mkdir lec28\n",
    "    cd lec28"
   ]
  },
  {
   "cell_type": "markdown",
   "id": "5230ce8b",
   "metadata": {},
   "source": [
    "### Obtaining the class files\n",
    "\n",
    "Perform the following command:\n",
    "\n",
    "    wget https://raw.githubusercontent.com/mmorri22/cse20133/main/inclass/lec28/setup.sh\n",
    "    chmod a+rx setup.sh\n",
    "    ./setup.sh\n",
    "    \n",
    "Once you perform these commands, you will get the following:\n",
    "\n",
    "    Makefile product.cpp product_sol.cpp"
   ]
  },
  {
   "cell_type": "markdown",
   "id": "9b39da82",
   "metadata": {},
   "source": [
    "## Interview Challenge Problem\n",
    "\n",
    "Known as the “Product of Array Except Self” problem\n",
    "\n",
    "Given an array nums of n integers where n > 1,  return an array output such that output[i] is equal to the product of all the elements of nums except nums[i].\n",
    "\n",
    "Example Solution:\n",
    "\n",
    "    [1, 2, 3, 4]\n",
    "    [24, 12, 8, 6]"
   ]
  },
  {
   "cell_type": "markdown",
   "id": "8b83c5f8",
   "metadata": {},
   "source": [
    "## Better way to think of the problem\n",
    "\n",
    "    Input: [i1, i2, i3, i4]\n",
    "    Output: [i2*i3*i4, i1*i2*i3, i1*i2*i4, i1*i2*i3]\n",
    "\n",
    "So, what is the pattern and how can we solve it?\n",
    "\n",
    "### Common Pratfalls\n",
    "\n",
    "Students get hung up on the example being “in order”\n",
    "\n",
    "Some other sample solutions\n",
    "\n",
    "Solution1:\n",
    "\n",
    "    Input : [1,2,3,4,5]\n",
    "    Output: [120,60,40,30,24]\n",
    "\n",
    "Solution2:\n",
    "\n",
    "    Input: [22,18,5,33,9,101]\n",
    "    Output: [2699730, 3299670, 11878812, 1799820, 6599340, 588060]\n",
    "    \n",
    "Solution3:\n",
    "\n",
    "    Input : [1,2,5,3,4,8]\n",
    "    Output: [960,480,192,320,240,120]"
   ]
  },
  {
   "cell_type": "markdown",
   "id": "127e983a",
   "metadata": {},
   "source": [
    "## Solution\n",
    "\n",
    "We will discuss potential solutions and then write the code in <code>product.cpp</code>"
   ]
  }
 ],
 "metadata": {
  "kernelspec": {
   "display_name": "Python 3 (ipykernel)",
   "language": "python",
   "name": "python3"
  },
  "language_info": {
   "codemirror_mode": {
    "name": "ipython",
    "version": 3
   },
   "file_extension": ".py",
   "mimetype": "text/x-python",
   "name": "python",
   "nbconvert_exporter": "python",
   "pygments_lexer": "ipython3",
   "version": "3.9.13"
  }
 },
 "nbformat": 4,
 "nbformat_minor": 5
}
