{
 "cells": [
  {
   "cell_type": "markdown",
   "id": "4ee9d952",
   "metadata": {},
   "source": [
    "## In-Class Lecture 18-1 - C Struct Fundamentals"
   ]
  },
  {
   "cell_type": "markdown",
   "id": "2111c7aa",
   "metadata": {},
   "source": [
    "For the remainder of this course, you will be using your knowledge of C/C++ pointers and memory allocation to perform tasks and implement <i>ideas</i>. But up to this point, you have used <i>primitive</i> types.\n",
    "\n",
    "We will use C structs in order to create blocks of information."
   ]
  },
  {
   "cell_type": "markdown",
   "id": "afcf784d",
   "metadata": {},
   "source": [
    "## Create folder\n",
    "\n",
    "<b>To review:</b>\n",
    "\n",
    "<b>1.</b> Open Docker Desktop. Go to the cse20133-user Container you created. Press the Blue Triangle to start the Container.\n",
    "\n",
    "<b>2.</b> Open VSCode, and on the left, select the blue button in the bottom left of VSCode. At the top, select the pull-down choice “Attach to running container” and select your CSE 20133 course container.\n",
    "\n",
    "<b>3.</b> Go into your Git Folder:\n",
    "\n",
    "> Recall that @USERNAME is the unique username you created when you created your GitHub account. You will see your user name in the VS Code Docker\n",
    "\n",
    "    cd cse20133-user/cse20133-@USERNAME\n",
    "\n",
    "Create the folder:\n",
    "\n",
    "    mkdir lec18\n",
    "    cd lec18"
   ]
  },
  {
   "cell_type": "markdown",
   "id": "1f844608",
   "metadata": {},
   "source": [
    "### Basic Struct\n",
    "\n",
    "Perform the following command:\n",
    "\n",
    "    wget https://raw.githubusercontent.com/mmorri22/cse20133/main/inclass/lec18/setup.sh\n",
    "    chmod a+rx setup.sh\n",
    "    ./setup.sh\n",
    "    \n",
    "Once you perform these commands, you will get the following:\n",
    "\n",
    "    Makefile structs.c"
   ]
  },
  {
   "cell_type": "markdown",
   "id": "0b6f3cc6",
   "metadata": {},
   "source": [
    "### Setting Up for Linked Lists\n",
    "\n",
    "We will create a type definition for the C Struct with the name new_struct. The internals will be an int, a float, and a double\n",
    "\n",
    "    typedef struct new_struct{\n",
    "\n",
    "      int the_int;\n",
    "      float the_float;\n",
    "      double the_double;\n",
    "\n",
    "    }NEW_STRUCT;"
   ]
  },
  {
   "cell_type": "markdown",
   "id": "5fa846a8",
   "metadata": {},
   "source": [
    "### Combining Concepts: Memory Layout\n",
    "\n",
    "Step 2: Statically Allocate a new_struct\n",
    "\n",
    "    1) Statically create the struct\n",
    "    2) Create an int using atoi\n",
    "    3) Create a float using atof - and cast\n",
    "    4) Create a double using atof\n",
    "    \n",
    "\n",
    "Step 3: Print use fprintf\n",
    "\n",
    "    1) The address of the address of the static struct on the stack\n",
    "    2) The value and address of the dynamic struct's int\n",
    "    3) The value and address of the dynamic struct's float\n",
    "    4) The value and address of the dynamic struct's double\n",
    "    \n",
    "Step 4: Dynamically Allocate a NEW_STRUCT\n",
    "\n",
    "Step 5: De-reference and set values for the int, long unsigned int, and float\n",
    "\n",
    "Step 6: Print use fprintf\n",
    "\n",
    "    1) The address of the register containing the dynamic struct pointer\n",
    "    2) The address of the address of the dynamic struct pointer on the heap\n",
    "    3) The value and address of the dynamic struct's int\n",
    "    4) The value and address of the dynamic struct's float\n",
    "    5) The value and address of the dynamic struct's double\n",
    "\n",
    "\n",
    "Step 7: Free the Dynamically Allocated Memory"
   ]
  },
  {
   "cell_type": "code",
   "execution_count": null,
   "id": "d2eb4b48",
   "metadata": {},
   "outputs": [],
   "source": []
  }
 ],
 "metadata": {
  "kernelspec": {
   "display_name": "Python 3 (ipykernel)",
   "language": "python",
   "name": "python3"
  },
  "language_info": {
   "codemirror_mode": {
    "name": "ipython",
    "version": 3
   },
   "file_extension": ".py",
   "mimetype": "text/x-python",
   "name": "python",
   "nbconvert_exporter": "python",
   "pygments_lexer": "ipython3",
   "version": "3.9.13"
  }
 },
 "nbformat": 4,
 "nbformat_minor": 5
}
