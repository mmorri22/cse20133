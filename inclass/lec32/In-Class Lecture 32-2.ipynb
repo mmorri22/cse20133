{
 "cells": [
  {
   "cell_type": "markdown",
   "id": "1cd82fbd",
   "metadata": {},
   "source": [
    "## In-Class Lecture 32-2 - Fractals and Recursion"
   ]
  },
  {
   "cell_type": "markdown",
   "id": "42df08d3",
   "metadata": {},
   "source": [
    "<b>Optional Viewing:</b> If you are interested, and when you can find the time (53 min long), here is a <a href = \"https://www.youtube.com/watch?v=d0Exnv8Ym7s\">fascinating Nova documentary</a> on fractals."
   ]
  },
  {
   "cell_type": "markdown",
   "id": "4b2ace02",
   "metadata": {},
   "source": [
    "### Objective\n",
    "\n",
    "We will complete a program that will generate the fractal shapes. When the user presses any of the numbers 1 through 8, the program will clear the screen, and then draw the corresponding fractal shape. Then, for each new number (1-8) pressed, that fractal will be displayed. The program exits when the user presses 'q'.\n",
    "\n",
    "Each fractal shape should be drawn by a recursive function that stops recursing when the scale of drawing\n",
    "becomes too small."
   ]
  },
  {
   "cell_type": "markdown",
   "id": "1939e8ef",
   "metadata": {},
   "source": [
    "### X11 Forwarding and C++ Makefile\n",
    "\n",
    "We will run <a href = \"\">X11 forwarding</a>, which is a Secure Shell (SSH) protocol that enables users to run graphical applications on a remote server and interact with them using their local display. \n",
    "\n",
    "> In your case, the \"remote\" server is the Docker Desktop, and the \"local display\" is VS Code. So you are running a mini server on your own machine! \n",
    "\n",
    "In order for this to work on your machine when you run C++, you need to add the following compiler flags to the executable: <code>-lX11</code>\n",
    "\n",
    "    fractals: $(fractals_objs)\n",
    "        $(PP) $(CXXFLAGS) -o fractals $(fractals_objs) -lX11\n",
    "\n",
    "This Makefile is also a good example of the importance of the objects list I started to instill earlier this semester. Notice that our list is getting longer and longer. This helps you compile without having to write several commands (while troubleshooting every error!)\n",
    "\n",
    "    fractals.o: fractals.cpp\n",
    "        $(PP) $(CXXFLAGS) -c fractals.cpp\n",
    "\n",
    "    fractal_lib.o: fractal_lib.cpp\n",
    "        $(PP) $(CXXFLAGS) -c fractal_lib.cpp\n",
    "\n",
    "    gfx.o: gfx.cpp\n",
    "        $(PP) $(CXXFLAGS) -c gfx.cpp\n",
    "\n",
    "    fractals_objs := fractals.o fractal_lib.o gfx.o\n",
    "    "
   ]
  },
  {
   "cell_type": "markdown",
   "id": "312e1621",
   "metadata": {},
   "source": [
    "### Running the Program\n",
    "\n",
    "We will use the inputs of width and height as our <code>argv[1]</code> and <code>argv[2]</code> inputs.\n",
    "\n",
    "Here is an example of the final run:\n",
    "\n",
    "    > make fractals\n",
    "    g++ -std=c++2a -O2 -g -Wall -Wextra -Wconversion -Wshadow -Werror -lm -c fractals.cpp\n",
    "    g++ -std=c++2a -O2 -g -Wall -Wextra -Wconversion -Wshadow -Werror -lm -c fractal_lib.cpp\n",
    "    g++ -std=c++2a -O2 -g -Wall -Wextra -Wconversion -Wshadow -Werror -lm -c gfx.cpp\n",
    "    g++ -std=c++2a -O2 -g -Wall -Wextra -Wconversion -Wshadow -Werror -lm -o fractals fractals.o fractal_lib.o gfx.o -lX11\n",
    "    > ./fractals 1000 1000"
   ]
  },
  {
   "cell_type": "code",
   "execution_count": null,
   "id": "5c3c725f",
   "metadata": {},
   "outputs": [],
   "source": []
  }
 ],
 "metadata": {
  "kernelspec": {
   "display_name": "Python 3 (ipykernel)",
   "language": "python",
   "name": "python3"
  },
  "language_info": {
   "codemirror_mode": {
    "name": "ipython",
    "version": 3
   },
   "file_extension": ".py",
   "mimetype": "text/x-python",
   "name": "python",
   "nbconvert_exporter": "python",
   "pygments_lexer": "ipython3",
   "version": "3.9.13"
  }
 },
 "nbformat": 4,
 "nbformat_minor": 5
}
