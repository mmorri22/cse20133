{
 "cells": [
  {
   "cell_type": "markdown",
   "id": "7eb02632",
   "metadata": {},
   "source": [
    "## In-Class Lecture 32-1 - C++ Class Aggregation - \"Line\""
   ]
  },
  {
   "cell_type": "markdown",
   "id": "f6737e54",
   "metadata": {},
   "source": [
    "## Create folder\n",
    "\n",
    "<b>To review:</b>\n",
    "\n",
    "<b>1.</b> Open Docker Desktop. Go to the cse20133-user Container you created. Press the Blue Triangle to start the Container.\n",
    "\n",
    "<b>2.</b> Open VSCode, and on the left, select the blue button in the bottom left of VSCode. At the top, select the pull-down choice “Attach to running container” and select your CSE 20133 course container.\n",
    "\n",
    "<b>3.</b> Go into your Git Folder:\n",
    "\n",
    "> Recall that @USERNAME is the unique username you created when you created your GitHub account. You will see your user name in the VS Code Docker\n",
    "\n",
    "    cd cse20133-user/cse20133-@USERNAME\n",
    "\n",
    "Create the folder:\n",
    "\n",
    "    mkdir lec32\n",
    "    cd lec32"
   ]
  },
  {
   "cell_type": "markdown",
   "id": "879bf389",
   "metadata": {},
   "source": [
    "### Obtaining the class files\n",
    "\n",
    "Perform the following command:\n",
    "\n",
    "    wget https://raw.githubusercontent.com/mmorri22/cse20133/main/inclass/lec32/setup.sh\n",
    "    chmod a+rx setup.sh\n",
    "    ./setup.sh\n",
    "    \n",
    "Once you perform these commands, you will get the following:\n",
    "\n",
    "    aggregate.cpp         gfx.h           Makefile\n",
    "    fractal_lib.cpp       line.cpp        point.cpp\n",
    "    fractal_lib.h         line.h          point.h\n",
    "    fractal_lib_sol.cpp   line_sol.cpp    setup.sh\n",
    "    fractals.cpp          line_sol.h      gfx.cpp            "
   ]
  },
  {
   "cell_type": "markdown",
   "id": "127e983a",
   "metadata": {},
   "source": [
    "## Building a Line\n",
    "\n",
    "We will work together to build a class that represents a cartesian line on a plane consisting of two points\n",
    "\n",
    "We will modify the <code>line.cpp</code> and <code>line.h</code> files.\n",
    "\n",
    "In the .cpp file, you will create the method definitions\n",
    "\n",
    "The .h file contained the method declarations"
   ]
  },
  {
   "cell_type": "markdown",
   "id": "6ce16bc5",
   "metadata": {},
   "source": [
    "## Class Constructor - Aggregarion\n",
    "\n",
    "\n",
    "### In the Header File - Constructor Format\n",
    "\n",
    "\t\tline();\n",
    "\t\t\n",
    "\t\tline(point originIn, point destinIn);\n",
    "    \n",
    "    \n",
    "### Assignment Inputs\n",
    "\n",
    "PQC rules state that we must input them in the order the are declared in the class\n",
    "\n",
    "    line::line() : origin( point(0, 0) ), destin( point(0, 0) ) {}\n",
    "\n",
    "    line::line(point originIn, point destinIn) : origin(originIn), destin(destinIn) {}\n",
    "\n",
    "        \n",
    "        \n",
    "## We will build class method examples\n",
    "\n",
    "\n",
    "\t\tpoint getOrigin() const;\n",
    "\t\t\n",
    "\t\tpoint getDestin() const;\n",
    "\t\t\n",
    "\t\tSLOPE getSlope() const;\n",
    "\t\n",
    "\t\tvoid print() const;\t\n",
    "        \n",
    "## And here are the method examples in .cpp\n",
    "\n",
    "    point line::getOrigin() const{\n",
    "\n",
    "        return origin;\n",
    "    }\n",
    "\n",
    "    point line::getDestin() const{\n",
    "\n",
    "        return destin;\n",
    "    }\n",
    "\n",
    "\n",
    "    SLOPE line::getSlope() const{\n",
    "\n",
    "        return (destin.get_y() - origin.get_y()) / (destin.get_x() - origin.get_x());\n",
    "\n",
    "    }\n",
    "\n",
    "    void line::print() const{\n",
    "\n",
    "        COUT << \"{\";\n",
    "\n",
    "        this->origin.print();\n",
    "\n",
    "        COUT << \", \";\n",
    "\n",
    "        this->destin.print();\n",
    "\n",
    "        COUT << \"}\";\n",
    "\n",
    "    }"
   ]
  }
 ],
 "metadata": {
  "kernelspec": {
   "display_name": "Python 3 (ipykernel)",
   "language": "python",
   "name": "python3"
  },
  "language_info": {
   "codemirror_mode": {
    "name": "ipython",
    "version": 3
   },
   "file_extension": ".py",
   "mimetype": "text/x-python",
   "name": "python",
   "nbconvert_exporter": "python",
   "pygments_lexer": "ipython3",
   "version": "3.9.13"
  }
 },
 "nbformat": 4,
 "nbformat_minor": 5
}
