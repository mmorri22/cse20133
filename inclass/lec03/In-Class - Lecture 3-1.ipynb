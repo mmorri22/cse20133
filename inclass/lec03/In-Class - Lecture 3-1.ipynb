{
 "cells": [
  {
   "cell_type": "markdown",
   "id": "08c5a5d4",
   "metadata": {},
   "source": [
    "# In-Class - Lecture 3-1 - IEEE 754 Format"
   ]
  },
  {
   "cell_type": "markdown",
   "id": "139c96a5",
   "metadata": {},
   "source": [
    "<font color = \"red\">Describe the difference between <i>precision</i> and <i>accuracy</i>, and why it's important to understand this difference in the context of computing.</font>\n",
    "\n",
    "<font color = \"red\">What is the IEEE 754 format, and how are numbers represented in IEEE 754 Format?</font>"
   ]
  },
  {
   "cell_type": "markdown",
   "id": "168c03db",
   "metadata": {},
   "source": [
    "ICQ 3-1: Convert the following IEEE 754 Single Precision Format to decimal\n",
    "\n",
    "    0 10001010 10110000000000000000000"
   ]
  },
  {
   "cell_type": "markdown",
   "id": "344caaec",
   "metadata": {},
   "source": [
    "ICQ 3-2: Convert the following IEEE 754 Double Precision Format to decimal\n",
    "\n",
    "    0 10000000101 1010000000000000000000000000000000000000000000000000\n",
    "\n",
    "ICQ 3-3: If we took the first 32 bits of the previous problem, what would be the decimal result in IEEE 754 Single Precision Format?\n",
    "(<a href=\"https://www.h-schmidt.net/FloatConverter/IEEE754.html\">Hint</a>)"
   ]
  }
 ],
 "metadata": {
  "kernelspec": {
   "display_name": "Python 3 (ipykernel)",
   "language": "python",
   "name": "python3"
  },
  "language_info": {
   "codemirror_mode": {
    "name": "ipython",
    "version": 3
   },
   "file_extension": ".py",
   "mimetype": "text/x-python",
   "name": "python",
   "nbconvert_exporter": "python",
   "pygments_lexer": "ipython3",
   "version": "3.9.13"
  }
 },
 "nbformat": 4,
 "nbformat_minor": 5
}
