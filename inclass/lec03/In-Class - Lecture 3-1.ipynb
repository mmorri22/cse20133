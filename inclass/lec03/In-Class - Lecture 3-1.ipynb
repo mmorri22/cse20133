{
 "cells": [
  {
   "cell_type": "markdown",
   "id": "ccac1724",
   "metadata": {},
   "source": [
    "# In-Class - Lecture 3-1 - Thinking Model: Remember by Value"
   ]
  },
  {
   "cell_type": "markdown",
   "id": "b51f87eb",
   "metadata": {},
   "source": [
    "### Develop a Thinking Model and Present the Result\n",
    "\n",
    "Pair and Share - <b><font color = \"red\">Presentation Points Opportunity</font></b>\n",
    "\n",
    "Using the Thinking Model from the Reading 3 Assignment, develop a model that performs the following task:\n",
    "\n",
    "<ul>\n",
    "    <li>Creates three integers</li>\n",
    "    <li>Finds the middle of the three values</li>\n",
    "    <li>Prints all three values and the selected result. (i.e. <code>The middle value of 10, 30, and 6 is 10</code>)</li>\n",
    "    <li>Use functions and promote modularity, just like in Reading 3-2.</li>\n",
    "</ul>"
   ]
  }
 ],
 "metadata": {
  "kernelspec": {
   "display_name": "Python 3 (ipykernel)",
   "language": "python",
   "name": "python3"
  },
  "language_info": {
   "codemirror_mode": {
    "name": "ipython",
    "version": 3
   },
   "file_extension": ".py",
   "mimetype": "text/x-python",
   "name": "python",
   "nbconvert_exporter": "python",
   "pygments_lexer": "ipython3",
   "version": "3.9.13"
  }
 },
 "nbformat": 4,
 "nbformat_minor": 5
}
