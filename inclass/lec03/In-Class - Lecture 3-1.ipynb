{
 "cells": [
  {
   "cell_type": "markdown",
   "id": "cf1c76a9",
   "metadata": {},
   "source": [
    "# In-Class - Lecture 3-1 - Basic C Programming and Vim"
   ]
  },
  {
   "cell_type": "markdown",
   "id": "15a26b5f",
   "metadata": {},
   "source": [
    "At this point, you have completed your installation of your programming environment, and have completed Homework 0. In today's lecture, you will get the opportunity to:\n",
    "\n",
    "<ul>\n",
    "    <li>Learn <b>Vim</b> and how to navigate the UNIX environment</li>\n",
    "    <li><b>Create</b> files and compile basic C programs from the <b>command line</b></li>\n",
    "    <li>Gain familiarity with <b>data types</b> and print the results in several representations</li>\n",
    "    <li>Learn about compiler flags and their importance in <b>production quality</b> code</li>\n",
    "</ul>"
   ]
  },
  {
   "cell_type": "markdown",
   "id": "e94af95b",
   "metadata": {},
   "source": [
    "<b>To review:</b>\n",
    "\n",
    "<b>1.</b> Open Docker Desktop. Go to the cse20133-user Container you created. Press the Blue Triangle to start the Container.\n",
    "\n",
    "<b>2.</b> Open VSCode, and on the left, select the blue button in the bottom left of VSCode. At the top, select the pull-down choice “Attach to running container” and select your CSE 20133 course container.\n",
    "\n",
    "<b>3.</b> Go into your Git Folder:\n",
    "\n",
    "> Recall that @USERNAME is the unique username you created when you created your GitHub account. You will see your user name in the VS Code Docker\n",
    "\n",
    "    cd cse20133-user/cse20133-@USERNAME\n",
    "\n",
    "At this point, you will make a directory for you to practice your code. The command <code>mkdir</code> stands for <b>Make Directory</b>. Then you will change directory (using the command <code>cd</code>) into that folder.\n",
    "\n",
    "    mkdir lec03\n",
    "    cd lec03"
   ]
  },
  {
   "cell_type": "markdown",
   "id": "ef3364fb",
   "metadata": {},
   "source": [
    "## Creating a File and Executing\n",
    "\n",
    "<font color=\"red\">Given the code in <code>nothing3.c</code>, describe the purpose of each part:</font>\n",
    "\n",
    "    int main(void){\n",
    "        return 0;\n",
    "    }\n",
    "\n",
    "In Vim, create a file <code>void.c</code> with the following commands:\n",
    "\n",
    "    touch void.c\n",
    "    ls -l\n",
    "    \n",
    "You will now see a <code>void.c</code> file with a size of <code>0</code>\n",
    "\n",
    "To open <code>void.c</code>, perform the following command:\n",
    "\n",
    "    vim void.c"
   ]
  },
  {
   "cell_type": "markdown",
   "id": "d423d99d",
   "metadata": {},
   "source": [
    "## Writing a basic C Program\n",
    "\n",
    "Now we will write hello.c, including learning how to perform basic Vim commands. These include:\n",
    "\n",
    "<ul>\n",
    "    <li>Type <code>i</code> to start writing in Vim.</li>\n",
    "    <li>Hold <code>Shift</code> and type <code>:</code> to set up saving and quitting</li>\n",
    "    <li>Type <code>wq!</code> to write and quit the program</li>\n",
    "</ul>"
   ]
  },
  {
   "cell_type": "markdown",
   "id": "52ff2806",
   "metadata": {},
   "source": [
    "## Writing void.c\n",
    "\n",
    "Next, we will go through the process of building the basic C programs\n",
    "\n",
    "To compile void.c, we will perform these basic command\n",
    "\n",
    "    gcc void.c -o void\n",
    "    ./void\n",
    "    ls -l\n",
    "    rm void"
   ]
  },
  {
   "cell_type": "markdown",
   "id": "958f92ac",
   "metadata": {},
   "source": [
    "## Copying void.c to void_return.c\n",
    "\n",
    "<font color=\"red\">What is the purpose of the course Production Quality Compilation flags, and give an example of what can go wrong when we do not ensure Production Quality Compilation in C/C++ programming?</font>\n",
    "\n",
    "We will now write the classic \"Hello, World\" program.\n",
    "\n",
    "In the UNIX terminal, perform the command:\n",
    "\n",
    "    cp void.c void_return.c\n",
    "    ls -l\n",
    "    \n",
    "You will now see that we have created a copy of <code>void.c</code> called <code>void_return.c</code>, and that they are the identical size.\n",
    "\n",
    "Now we will update to have the <code>int</code> return, and determine why we should use the <code>-Wall</code> command and eventually <code>-Werror</code>\n",
    "\n",
    "    gcc -Wall void_return.c -o void_return\n",
    "    gcc -Wall -Werror void_return.c -o void_return\n",
    "    \n",
    "    # Then we will fix void_return.c\n",
    "    \n",
    "    gcc -Wall -Werror void_return.c -o void_return\n",
    "    ./void_return\n",
    "    rm void_return\n",
    "\n",
    "We will now work together on writing Hello, World.\n",
    "\n",
    "    cp void_return.c hello.c\n",
    "    \n",
    "Now we will make edits to <code>hello.c</code> in order to print out Hello, World.\n",
    "    \n",
    "    gcc -Wall -Werror hello.c -o hello\n",
    "    ./hello\n",
    "    rm hello"
   ]
  }
 ],
 "metadata": {
  "kernelspec": {
   "display_name": "Python 3 (ipykernel)",
   "language": "python",
   "name": "python3"
  },
  "language_info": {
   "codemirror_mode": {
    "name": "ipython",
    "version": 3
   },
   "file_extension": ".py",
   "mimetype": "text/x-python",
   "name": "python",
   "nbconvert_exporter": "python",
   "pygments_lexer": "ipython3",
   "version": "3.9.13"
  }
 },
 "nbformat": 4,
 "nbformat_minor": 5
}
