{
 "cells": [
  {
   "cell_type": "markdown",
   "id": "b4369110",
   "metadata": {},
   "source": [
    "# In-Class - Lecture 3-3 - Thinking Model: Recursion"
   ]
  },
  {
   "cell_type": "markdown",
   "id": "f8b6c252",
   "metadata": {},
   "source": [
    "Later this semester, we will discuss the concept of <b>recursion</b> in detail. Recursion is a programming technique where <b>functions call themselves</b> until a terminating <i>base case</i> is reached.\n",
    "\n",
    "Recursion is a notoriously challenging topic for students to understand, with the common complaint being \"I am having a hard time visualizing what the computer is doing.\"\n",
    "\n",
    "The goal of the Thinking Model is to overcome this challenge. By working through the decisions that a computer is doing <i>before you even write a line of code</i>, you will be much more likely to <b>understand the procedures</b> of the program, and to <b>write clean, efficient, and safe code</b>."
   ]
  },
  {
   "cell_type": "markdown",
   "id": "4e031b92",
   "metadata": {},
   "source": [
    "### Work through a Thinking Model of Recursion\n",
    "\n",
    "I have written a Thinking Model of a simple recursive function using both <b>Remember by Value</b> and <b>Remember by Reference</b>.\n",
    "\n",
    "    int recursive_func( int check_val, int address main_val ){\n",
    "\n",
    "        // Base case\n",
    "        if( check_val <= 0 ){\n",
    "        \n",
    "            return 0;\n",
    "        }\n",
    "\n",
    "        if( check_val is even ){\n",
    "        \n",
    "            // Before we continue, what should go in the ????\n",
    "            return check_val + recursive_func( copy of check_val - 1, ???? );\n",
    "        }\n",
    "        else{\n",
    "        \n",
    "            // Before we continue, what should go in the ????\n",
    "            return check_val + recursive_func( copy of check_val - 3, ???? );       \n",
    "        }\n",
    "\n",
    "    }\n",
    "\n",
    "\n",
    "    int main (no input registers){\n",
    "\n",
    "        register int val = 8;\n",
    "\n",
    "        // Call the swap function\n",
    "        register sol = val + recursive_func( copy of val, address of val );\n",
    "        \n",
    "        print to stream: (ASCII \" to \" ASCII), value in val, value in sol;\n",
    "        \n",
    "        return 0 to tell OS success;\n",
    "    }"
   ]
  },
  {
   "cell_type": "markdown",
   "id": "d5119b34",
   "metadata": {},
   "source": [
    "### Pair and Share - <b><font color = \"red\">Presentation Points Opportunity</font></b>\n",
    "\n",
    "Using the Thinking Model from the Reading 3 Assignment, develop a model that performs the following task:\n",
    "\n",
    "<ul>\n",
    "    <li>Create a positive integer in main less than 8</li>\n",
    "    <li>Create a result integer in main equal to 1</li>\n",
    "    <li>Create a recursive function that passes a copy of the first integer and a reference to the main result integer</li>\n",
    "    <ul>\n",
    "        <li>Has a base case which returns 3 if result is less than or equal to 1</li>\n",
    "        <li>If the copy of the first integer is odd, multiply the main result integer by the copy</li>\n",
    "        <li>If the copy of the first integer is even, add the main result integer by the copy</li>\n",
    "        <li>Call the recursive function with a copy of the first integer minus 1, and a reference to the main result integer</li>\n",
    "        <li>sum the return value and recursive function result</li>\n",
    "    </ul>\n",
    "    <li>In main, subtract the result of the recursive function from the </li>\n",
    "    <li>Print the positive integer and the result integer</li>\n",
    "</ul>\n",
    "\n",
    "Here is an example <i>recursive trace</i>:\n",
    "\n",
    "    main: int value = 7, int result = 1\n",
    "    recur call 1: value = 7, main.result = 1*7=7, value = rec_func(value-1, addr of main.result)\n",
    "    recur call 2: value = 6, main.result = 6+7=13, value = rec_func(value-1, addr of main.result)\n",
    "    recur call 3: value = 5, main.result = 5*13=65, value = rec_func(value-1, addr of main.result)\n",
    "    recur call 4: value = 4, main.result = 4+65=69, value = rec_func(value-1, addr of main.result)\n",
    "    recur call 5: value = 3, main.result = 3*69=207, value = rec_func(value-1, addr of main.result)\n",
    "    recur call 6: value = 2, main.result = 2+207=209, value = rec_func(value-1, addr of main.result)\n",
    "    recur call 7: value = 1, return 3\n",
    "    recur call 6: return value + rec_func = 2 + 3 = 5\n",
    "    recur call 5: return value + rec_func = 3 + 5 = 8\n",
    "    recur call 4: return value + rec_func = 4 + 8 = 12\n",
    "    recur call 3: return value + rec_func = 5 + 12 = 17\n",
    "    recur call 2: return value + rec_func = 6 + 17 = 23\n",
    "    recur call 1: return value + rec_func = 7 + 23 = 30\n",
    "    main: main.result - rec_func = 209 - 30 = 179\n",
    "    output stream: 7, 179\n"
   ]
  }
 ],
 "metadata": {
  "kernelspec": {
   "display_name": "Python 3 (ipykernel)",
   "language": "python",
   "name": "python3"
  },
  "language_info": {
   "codemirror_mode": {
    "name": "ipython",
    "version": 3
   },
   "file_extension": ".py",
   "mimetype": "text/x-python",
   "name": "python",
   "nbconvert_exporter": "python",
   "pygments_lexer": "ipython3",
   "version": "3.9.13"
  }
 },
 "nbformat": 4,
 "nbformat_minor": 5
}
