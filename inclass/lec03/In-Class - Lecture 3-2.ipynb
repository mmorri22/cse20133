{
 "cells": [
  {
   "cell_type": "markdown",
   "id": "80925e88",
   "metadata": {},
   "source": [
    "# In-Class - Lecture 3-2 - Thinking Model: Remember by Reference"
   ]
  },
  {
   "cell_type": "markdown",
   "id": "69662c16",
   "metadata": {},
   "source": [
    "### Develop a Thinking Model and Present the Result\n",
    "\n",
    "Pair and Share - <b><font color = \"red\">Presentation Points Opportunity</font></b>\n",
    "\n",
    "Using the Thinking Model from the Reading 3 Assignment, develop a model that performs the following task:\n",
    "\n",
    "<ul>\n",
    "    <li>Creates three integers for total minutes, time hours, and time minutes</li>\n",
    "    <li>Finds the time hours and time minutes given a total number of minutes. For example, if the total number of minutes is 1052 minutes, then the answer is 17 hours and 34 minutes.</li>\n",
    "    <li>You must perform the task in one function. This means you need to pass pointers to the time hours and time minutes registers</li>\n",
    "    <li>Prints all three values and the selected result. (i.e. <code>384 minutes is 6 hours and 24 minutes</code>)</li>\n",
    "    <li>Use functions and promote modularity, just like in Reading 3-3.</li>\n",
    "</ul>"
   ]
  }
 ],
 "metadata": {
  "kernelspec": {
   "display_name": "Python 3 (ipykernel)",
   "language": "python",
   "name": "python3"
  },
  "language_info": {
   "codemirror_mode": {
    "name": "ipython",
    "version": 3
   },
   "file_extension": ".py",
   "mimetype": "text/x-python",
   "name": "python",
   "nbconvert_exporter": "python",
   "pygments_lexer": "ipython3",
   "version": "3.9.13"
  }
 },
 "nbformat": 4,
 "nbformat_minor": 5
}
