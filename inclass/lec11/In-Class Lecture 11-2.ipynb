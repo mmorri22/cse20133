{
 "cells": [
  {
   "cell_type": "markdown",
   "id": "146f8561",
   "metadata": {},
   "source": [
    "## In-Class Lecture 11-2 - Combining Concepts: Memoization"
   ]
  },
  {
   "cell_type": "markdown",
   "id": "81d5ddaf",
   "metadata": {},
   "source": [
    "### Improving Recursion Efficiency\n",
    "\n",
    "Open the file <code>fib.c</code> and run the command <code>make fib</code>. You will get the following result:\n",
    "\n",
    "    > make fib\n",
    "    gcc -std=c2x -O2 -g -Wall -Wextra -Wconversion -Wshadow -Werror -lm -c fib.c\n",
    "    gcc -std=c2x -O2 -g -Wall -Wextra -Wconversion -Wshadow -Werror -lm -o fib fib.o\n",
    "    > ./fib\n",
    "    The 6 Fib Number is = 8\n",
    "    \n",
    "This is what we expect, since the first 6 numbers of the fibonacci sequence are: \n",
    "\n",
    "    1 1 2 3 5 8\n",
    "    \n",
    "Now, go into <code>fib.c</code> and on line 9, change fib_num from 6 to 42, and then run it again.\n",
    "\n",
    "> <b>Thought Question:</b> Why do you think this happened?"
   ]
  },
  {
   "cell_type": "markdown",
   "id": "6e1b1544",
   "metadata": {},
   "source": [
    "### Improving Efficiency Using Memoization\n",
    "\n",
    "Now we will review fib_memo.c\n",
    "\n",
    "This file contains the \n",
    "\n",
    "And now run <code>make fib_num</code>\n",
    "\n",
    "> <b>Thought Question:</b> Why do you think this happened?"
   ]
  },
  {
   "cell_type": "markdown",
   "id": "7ad22b45",
   "metadata": {},
   "source": [
    "### Arrays and Computers\n",
    "\n",
    "7. Now you will fix the array to account for the unexpected behavior."
   ]
  }
 ],
 "metadata": {
  "kernelspec": {
   "display_name": "Python 3 (ipykernel)",
   "language": "python",
   "name": "python3"
  },
  "language_info": {
   "codemirror_mode": {
    "name": "ipython",
    "version": 3
   },
   "file_extension": ".py",
   "mimetype": "text/x-python",
   "name": "python",
   "nbconvert_exporter": "python",
   "pygments_lexer": "ipython3",
   "version": "3.9.13"
  }
 },
 "nbformat": 4,
 "nbformat_minor": 5
}
