{
 "cells": [
  {
   "cell_type": "markdown",
   "id": "4ee9d952",
   "metadata": {},
   "source": [
    "## In-Class Lecture 27-2 - C++ <code>std::stack</code> - Revisiting the Towers of Hanoi"
   ]
  },
  {
   "cell_type": "markdown",
   "id": "2111c7aa",
   "metadata": {},
   "source": [
    "In this in-class activity, we will review the Towers of Hanoi, where the solution is in C++"
   ]
  },
  {
   "cell_type": "markdown",
   "id": "1493fc36",
   "metadata": {},
   "source": [
    "## The Towers of Hanoi in C++\n",
    "\n",
    "We can see the use of <code>std::vector</code> and <code>std::stack</code> will significantly simplify the coding efforts required to run the Towers of Hanoi algoithm.\n",
    "\n",
    "We will also observe the use of Call By Reference to simplify pointer de-referencing and programming in functions.\n",
    "\n",
    "### Using valgrind with C++ STL\n",
    "\n",
    "When we compile and run <code>hanoi_stl.cpp</code>, we will see that there are several allocs and frees in the code!\n",
    "\n",
    "This is because the C++ Standard Template Library has internal methods that dynamically allocate and free the memory for you. But now that you have programmed in C, you know <i>why</i> this is the case. So programming in C has <b>improved</b> your understanding of C++, even as the programming is at a higher level of abstraction."
   ]
  }
 ],
 "metadata": {
  "kernelspec": {
   "display_name": "Python 3 (ipykernel)",
   "language": "python",
   "name": "python3"
  },
  "language_info": {
   "codemirror_mode": {
    "name": "ipython",
    "version": 3
   },
   "file_extension": ".py",
   "mimetype": "text/x-python",
   "name": "python",
   "nbconvert_exporter": "python",
   "pygments_lexer": "ipython3",
   "version": "3.9.13"
  }
 },
 "nbformat": 4,
 "nbformat_minor": 5
}
