{
 "cells": [
  {
   "cell_type": "markdown",
   "id": "4ee9d952",
   "metadata": {},
   "source": [
    "## In-Class Lecture 28-2 - C++ <code>std::vector</code> Practice and Counting Sort"
   ]
  },
  {
   "cell_type": "markdown",
   "id": "2111c7aa",
   "metadata": {},
   "source": [
    "In this in-class activity, you will gain familiarity with C++ std::vector operations"
   ]
  },
  {
   "cell_type": "markdown",
   "id": "1cb9b10f",
   "metadata": {},
   "source": [
    "### In this example, we will get some basic practice with std::vector\n",
    "\n",
    "You will learn how to\n",
    "<ul>\n",
    "    <li>push_back</li>\n",
    "    <li>access using .at()</li>\n",
    "    <li>iterate through</li>\n",
    "</ul>"
   ]
  },
  {
   "cell_type": "markdown",
   "id": "cd9b940c",
   "metadata": {},
   "source": [
    "## Counting Sort\n",
    "\n",
    "In the <code>count_sort.cpp</code> file, you will implement the counting sort algorithm. The steps of the algorithm are:\n",
    "<ol>\n",
    "    <li>Find the largest element in the array</li>\n",
    "    <li>Initialize a vector of that size+1, with all elements initialized to 0</li>\n",
    "    <li>Iterate through the elements, and increment the \"bucket\" by one.</li>\n",
    "    <li>When done, iterate though the new vector and "
   ]
  },
  {
   "cell_type": "markdown",
   "id": "1493fc36",
   "metadata": {},
   "source": [
    "## Compare Counting Sort and Insert Sort\n",
    "\n",
    "In this code, we generate random numbers and insert them into a vector. Then we sort using both of the sorting algorithms we have learned this semester.\n",
    "\n",
    "The code is available in <code>sort_comp.c</code> that you downloaded.\n",
    "\n",
    "The <code>argv[1]</code> is the number of values we need to sort. Additionally, we will remove the Production Quality Compilation flags - just like we did in Lecture 19 In Class.\n",
    "\n",
    "    > make sort_comp\n",
    "    g++ -std=c++2a -c sort_comp.cpp\n",
    "    g++ -std=c++2a -o sort_comp sort_comp.o -lm\n",
    "    > ./sort_comp 10\n",
    "    Hash Sort Time: 1.1e-05 seconds\n",
    "    Insert Sort Time: 2e-06 seconds\n",
    "    \n",
    "> At this point, you might think the Insert Sort is better. But this is because the amount of <i>preprocessing time</i> for allocating the memory for the Hash on the Data Heap takes longer than 100 loops for the Insert Sort. But once we go up to 100, we see that advantage quickly wears off.\n",
    "\n",
    "    > ./sort_comp 100\n",
    "    Hash Sort Time: 4.7e-05 seconds\n",
    "    Insert Sort Time: 8.6e-05 seconds\n",
    "    > ./sort_comp 1000\n",
    "    Hash Sort Time: 0.000263 seconds\n",
    "    Insert Sort Time: 0.007215 seconds\n",
    "    ./sort_comp 10000\n",
    "    Hash Sort Time: 0.001615 seconds\n",
    "    Insert Sort Time: 0.634852 seconds\n",
    "    \n",
    "> We can really see the advantage at 100,000, where the run time fo the Hash is ~1/100th of a second, and the run time for the Insert Sort takes over 1 minute:\n",
    "    \n",
    "    ./sort_comp 100000\n",
    "    Hash Sort Time: 0.016635 seconds\n",
    "    Insert Sort Time: 70.7877 seconds\n",
    "    \n",
    "> We won't perform this one in class, but look at the difference between Hash and Insert Sort with 1000000. That's the difference between ~1/7th of a second and approximately 2 hours!\n",
    "\n",
    "    > ./sort_comp 1000000\n",
    "    Hash Sort Time: 0.145379 seconds\n",
    "    Insert Sort Time: 7552.13 seconds"
   ]
  }
 ],
 "metadata": {
  "kernelspec": {
   "display_name": "Python 3 (ipykernel)",
   "language": "python",
   "name": "python3"
  },
  "language_info": {
   "codemirror_mode": {
    "name": "ipython",
    "version": 3
   },
   "file_extension": ".py",
   "mimetype": "text/x-python",
   "name": "python",
   "nbconvert_exporter": "python",
   "pygments_lexer": "ipython3",
   "version": "3.9.13"
  }
 },
 "nbformat": 4,
 "nbformat_minor": 5
}
