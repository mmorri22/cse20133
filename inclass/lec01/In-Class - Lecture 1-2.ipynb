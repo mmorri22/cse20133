{
 "cells": [
  {
   "cell_type": "markdown",
   "id": "d290b9a5",
   "metadata": {},
   "source": [
    "# In-Class - Lecture 1-2 - Binary Addition and Subtraction"
   ]
  },
  {
   "cell_type": "markdown",
   "id": "72c7be9d",
   "metadata": {},
   "source": [
    "<font color = \"red\">What is overflow and how does this impact our ability to represent values using binary?</font>\n",
    "\n",
    "ICQ 1-6: Show the process for performing the following addition in binary using six-bit signed integers\n",
    "\n",
    "    18 + 15\n",
    "\n",
    "<font color = \"red\">How do we perform binary subtraction?</font>"
   ]
  },
  {
   "cell_type": "code",
   "execution_count": null,
   "id": "904a988f",
   "metadata": {},
   "outputs": [],
   "source": []
  }
 ],
 "metadata": {
  "kernelspec": {
   "display_name": "Python 3 (ipykernel)",
   "language": "python",
   "name": "python3"
  },
  "language_info": {
   "codemirror_mode": {
    "name": "ipython",
    "version": 3
   },
   "file_extension": ".py",
   "mimetype": "text/x-python",
   "name": "python",
   "nbconvert_exporter": "python",
   "pygments_lexer": "ipython3",
   "version": "3.9.13"
  }
 },
 "nbformat": 4,
 "nbformat_minor": 5
}
