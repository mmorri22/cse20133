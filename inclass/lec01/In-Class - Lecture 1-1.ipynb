{
 "cells": [
  {
   "cell_type": "markdown",
   "id": "d290b9a5",
   "metadata": {},
   "source": [
    "# In-Class - Lecture 1-1 - Binary Conversion"
   ]
  },
  {
   "cell_type": "markdown",
   "id": "0581fbb1",
   "metadata": {},
   "source": [
    "ICQ 1-1: Convert the following eight-bit unsigned int to decimal\n",
    "\n",
    "    11010110\n",
    "\n",
    "ICQ 1-2: Convert the following eight-bit signed int to decimal\n",
    "\n",
    "    11010110\n",
    "\n",
    "ICQ 1-3: Convert the following decimal to binary\n",
    "\n",
    "    215\n",
    "    \n",
    "ICQ 1-4: Convert the following decimal to binary\n",
    "\n",
    "    -134\n",
    "    \n",
    "ICQ 1-5: Pair and Share \n",
    "\n",
    "    Step 1: Develop your own problem where you\n",
    "        Develop an 8-bit signed int in binary\n",
    "        Develop your own solution\n",
    "\n",
    "    Step 2: Swap with a classmate\n",
    "        They solve your problem and You solve their problem\n",
    "        Check your solutions\n",
    "\n",
    "    Step 3: We share a problem with the class\n",
    "    "
   ]
  }
 ],
 "metadata": {
  "kernelspec": {
   "display_name": "Python 3 (ipykernel)",
   "language": "python",
   "name": "python3"
  },
  "language_info": {
   "codemirror_mode": {
    "name": "ipython",
    "version": 3
   },
   "file_extension": ".py",
   "mimetype": "text/x-python",
   "name": "python",
   "nbconvert_exporter": "python",
   "pygments_lexer": "ipython3",
   "version": "3.9.13"
  }
 },
 "nbformat": 4,
 "nbformat_minor": 5
}
