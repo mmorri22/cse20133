{
 "cells": [
  {
   "cell_type": "markdown",
   "id": "d290b9a5",
   "metadata": {},
   "source": [
    "# In-Class - Lecture 1-1 - Binary Conversion"
   ]
  },
  {
   "cell_type": "markdown",
   "id": "0581fbb1",
   "metadata": {},
   "source": [
    "<font color = \"red\">What is binary logic and how to we convert between decimal to binary?</font>\n",
    "\n",
    "<font color = \"red\">How do we convert from positive to negative binary numbers?</font>\n",
    "\n",
    "ICQ 1-1: Convert the following eight-bit <i>unsigned</i> int to decimal\n",
    "\n",
    "    11010110\n",
    "    \n",
    "ICQ 1-2: Convert the following eight-bit <i>signed</i> int to decimal\n",
    "\n",
    "    11010110\n",
    "\n",
    "ICQ 1-3: Convert the following decimal to binary\n",
    "\n",
    "    215\n",
    "    \n",
    "ICQ 1-4: Convert the following decimal to binary\n",
    "\n",
    "    -134\n",
    "    \n",
    "ICQ 1-5: Pair and Share\n",
    "\n",
    "    Step 1: Develop your own problem where you\n",
    "        Develop an 8-bit signed int in binary\n",
    "        Develop your own solution\n",
    "\n",
    "    Step 2: Swap with a classmate\n",
    "        They solve your problem and You solve their problem\n",
    "        Check your solutions\n",
    "\n",
    "    Step 3: We share a problem with the class\n",
    "    "
   ]
  },
  {
   "cell_type": "code",
   "execution_count": null,
   "id": "1b12dc95",
   "metadata": {},
   "outputs": [],
   "source": []
  }
 ],
 "metadata": {
  "kernelspec": {
   "display_name": "Python 3 (ipykernel)",
   "language": "python",
   "name": "python3"
  },
  "language_info": {
   "codemirror_mode": {
    "name": "ipython",
    "version": 3
   },
   "file_extension": ".py",
   "mimetype": "text/x-python",
   "name": "python",
   "nbconvert_exporter": "python",
   "pygments_lexer": "ipython3",
   "version": "3.9.13"
  }
 },
 "nbformat": 4,
 "nbformat_minor": 5
}
