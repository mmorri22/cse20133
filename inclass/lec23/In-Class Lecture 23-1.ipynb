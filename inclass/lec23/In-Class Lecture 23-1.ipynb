{
 "cells": [
  {
   "cell_type": "markdown",
   "id": "4ee9d952",
   "metadata": {},
   "source": [
    "## In-Class Lecture 23-1 - Building a Library"
   ]
  },
  {
   "cell_type": "markdown",
   "id": "2111c7aa",
   "metadata": {},
   "source": [
    "In this lecture, we will combine your understanding of C structs, dynamic memory, FILE*, and standard input/output in order to develop a library."
   ]
  },
  {
   "cell_type": "markdown",
   "id": "543de253",
   "metadata": {},
   "source": [
    "## Create folder\n",
    "\n",
    "<b>To review:</b>\n",
    "\n",
    "<b>1.</b> Open Docker Desktop. Go to the cse20133-user Container you created. Press the Blue Triangle to start the Container.\n",
    "\n",
    "<b>2.</b> Open VSCode, and on the left, select the blue button in the bottom left of VSCode. At the top, select the pull-down choice “Attach to running container” and select your CSE 20133 course container.\n",
    "\n",
    "<b>3.</b> Go into your Git Folder:\n",
    "\n",
    "> Recall that @USERNAME is the unique username you created when you created your GitHub account. You will see your user name in the VS Code Docker\n",
    "\n",
    "    cd cse20133-user/cse20133-@USERNAME\n",
    "\n",
    "Create the folder:\n",
    "\n",
    "    mkdir lec23\n",
    "    cd lec23"
   ]
  },
  {
   "cell_type": "markdown",
   "id": "0b4621d2",
   "metadata": {},
   "source": [
    "To obtain the code for today's lecture, perform the following commands:\n",
    "\n",
    "    wget https://raw.githubusercontent.com/mmorri22/cse20133/main/inclass/lec23/setup.sh\n",
    "    chmod a+rx setup.sh\n",
    "    ./setup.sh\n",
    "    \n",
    "To confirm, perform the <code>ls</code> command. You will see the following:\n",
    "\n",
    "    lec23.c   library.txt   Makefile   setup.sh   "
   ]
  },
  {
   "cell_type": "markdown",
   "id": "e3ea133b",
   "metadata": {},
   "source": [
    "### In-Class Reading Discussion\n",
    "\n",
    "<font color = \"red\">Class Introduction Question #1 - What is a <code>FILE*</code> and why are they used to keep track of files?</font>\n",
    "\n",
    "<font color = \"red\">Class Introduction Question #2 - Describe how to create a <code>FILE*</code> struct, and the three types of <code>FILE*</code> modes</font>\n",
    "\n",
    "<font color = \"red\">Class Introduction Question #3 - Describe the three-step process for allocating and freeing a <code>FILE*</code> and why it is important to follow these three steps?</font>\n",
    "\n",
    "<font color = \"red\">Class Introduction Question #4 - Briefly describe what a file actually is in the context of our understanding of a computer up to this point.</font>\n",
    "\n",
    "<font color = \"red\">Class Introduction Question #5 - Describe the <code>FILE*</code> members that we can use to iterate through a file and how they are used to ensure we reach the end of the file.\n",
    "</font>"
   ]
  },
  {
   "cell_type": "markdown",
   "id": "e1fdcc7f",
   "metadata": {},
   "source": [
    "### Build the Library\n",
    "\n",
    "We will perform the following tasks\n",
    "<ul>\n",
    "    <li>Check the command line input for a file name</li>\n",
    "    <li>Create a FILE* for the file, and properly check to ensure the FILE* is pointing to a valid file</li>\n",
    "    <li>Read in information from the library</li>\n",
    "    <li>Create a dynamically allocated array of those struct that represents the library information for each book</li>\n",
    "    <li>Ensure we have properly cleaned the memory</li>\n",
    "    <li>Store the information</li>\n",
    "    <li>Print the information</li>\n",
    "    <li>Time Permitting: Update the number of books</li>\n",
    "</ul>"
   ]
  },
  {
   "cell_type": "markdown",
   "id": "4c0ec102",
   "metadata": {},
   "source": [
    "## Compilation Run\n",
    "\n",
    "    make library\n",
    "    \n",
    "    valgrind --leak-check=full ./library library.txt library_out.txt"
   ]
  }
 ],
 "metadata": {
  "kernelspec": {
   "display_name": "Python 3 (ipykernel)",
   "language": "python",
   "name": "python3"
  },
  "language_info": {
   "codemirror_mode": {
    "name": "ipython",
    "version": 3
   },
   "file_extension": ".py",
   "mimetype": "text/x-python",
   "name": "python",
   "nbconvert_exporter": "python",
   "pygments_lexer": "ipython3",
   "version": "3.9.13"
  }
 },
 "nbformat": 4,
 "nbformat_minor": 5
}
