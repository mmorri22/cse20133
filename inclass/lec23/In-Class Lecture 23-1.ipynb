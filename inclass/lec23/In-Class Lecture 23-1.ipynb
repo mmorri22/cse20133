{
 "cells": [
  {
   "cell_type": "markdown",
   "id": "4ee9d952",
   "metadata": {},
   "source": [
    "## In-Class Lecture 23-1 - Completing the Singly Linked List"
   ]
  },
  {
   "cell_type": "markdown",
   "id": "2111c7aa",
   "metadata": {},
   "source": [
    "In this lecture, we will combine your understanding of C structs, dynamic memory, FILE*, and standard input/output in order to develop a library."
   ]
  },
  {
   "cell_type": "markdown",
   "id": "afcf784d",
   "metadata": {},
   "source": [
    "## Create folder\n",
    "\n",
    "<b>To review:</b>\n",
    "\n",
    "<b>1.</b> Open Docker Desktop. Go to the cse20133-user Container you created. Press the Blue Triangle to start the Container.\n",
    "\n",
    "<b>2.</b> Open VSCode, and on the left, select the blue button in the bottom left of VSCode. At the top, select the pull-down choice “Attach to running container” and select your CSE 20133 course container.\n",
    "\n",
    "<b>3.</b> Go into your Git Folder:\n",
    "\n",
    "> Recall that @USERNAME is the unique username you created when you created your GitHub account. You will see your user name in the VS Code Docker\n",
    "\n",
    "    cd cse20133-user/cse20133-@USERNAME\n",
    "\n",
    "Create the folder:\n",
    "\n",
    "    mkdir lec23\n",
    "    cd lec23"
   ]
  },
  {
   "cell_type": "markdown",
   "id": "1f844608",
   "metadata": {},
   "source": [
    "### Obtaining the class files\n",
    "\n",
    "Perform the following command:\n",
    "\n",
    "    wget https://raw.githubusercontent.com/mmorri22/cse20133/main/inclass/lec23/setup.sh\n",
    "    chmod a+rx setup.sh\n",
    "    ./setup.sh\n",
    "    \n",
    "Once you perform these commands, you will get the following:\n",
    "\n",
    "    Makefile lec23.c lec23_sol  sllist.c sllist_sol.c sllist.h struct_align.c"
   ]
  },
  {
   "cell_type": "markdown",
   "id": "ceda30ad",
   "metadata": {},
   "source": [
    "## Review from Friday's Lecture\n",
    "\n",
    "Run the following commands:\n",
    "\n",
    "    make struct_align\n",
    "    make clean\n",
    "    \n",
    "Here is the example problem that will be similar to HW6 and the Final Exam:\n",
    "\n",
    "Given the following C struct:\n",
    "<ul>\n",
    "    <li>Calculate the optimal size of the C struct</li>\n",
    "    <li>Calculate the minimal size of the C struct using the gcc compiler</li>\n",
    "    <li>Calculate the size of the C struct as currently designed, and draw the memory locations given a base address of 0x43ff5d0</li>\n",
    "    <li>Redesign the C struct to minimize the memory, calculate the updated memory size, and draw the memory locations given a base address of 0x43ceae0</li>\n",
    "</ul>\n",
    "\n",
    "    typedef struct first_struct{\n",
    "        char first_char;\n",
    "        double first_double;\n",
    "        char second_char;\n",
    "        double second_double;\n",
    "        float first_float;\n",
    "        int first_int;\n",
    "        float second_float;\n",
    "        float third_float;\n",
    "        char third_char;\n",
    "    }first_struct;"
   ]
  },
  {
   "cell_type": "markdown",
   "id": "e1fdcc7f",
   "metadata": {},
   "source": [
    "### Build the Linked List\n",
    "\n",
    "We will perform the following tasks\n",
    "<ul>\n",
    "    <li>Use our knowledge of pointers to write a push function</li>\n",
    "    <li>Use our knowledge of pointers to write a \"pop\" function</li>\n",
    "    <li>Use our knowledge of pointers and recursion to write a destructor function </li>\n",
    "</ul>"
   ]
  }
 ],
 "metadata": {
  "kernelspec": {
   "display_name": "Python 3 (ipykernel)",
   "language": "python",
   "name": "python3"
  },
  "language_info": {
   "codemirror_mode": {
    "name": "ipython",
    "version": 3
   },
   "file_extension": ".py",
   "mimetype": "text/x-python",
   "name": "python",
   "nbconvert_exporter": "python",
   "pygments_lexer": "ipython3",
   "version": "3.9.13"
  }
 },
 "nbformat": 4,
 "nbformat_minor": 5
}
