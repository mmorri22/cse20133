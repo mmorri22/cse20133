{
 "cells": [
  {
   "cell_type": "markdown",
   "id": "4ee9d952",
   "metadata": {},
   "source": [
    "## In-Class Lecture 23-2 - Designing the Singly Linked List"
   ]
  },
  {
   "cell_type": "markdown",
   "id": "49537d76",
   "metadata": {},
   "source": [
    "We will perform the following tasks\n",
    "<ul>\n",
    "    <li>Use our knowledge of pointers to write a push function</li>\n",
    "    <li>Use our knowledge of pointers to read from the \"top\" element</li>\n",
    "    <li>Use our knowledge of pointers to write a \"pop\" function</li>\n",
    "    <li>Use our knowledge of pointers and recursion to write a destructor function </li>\n",
    "</ul>"
   ]
  }
 ],
 "metadata": {
  "kernelspec": {
   "display_name": "Python 3 (ipykernel)",
   "language": "python",
   "name": "python3"
  },
  "language_info": {
   "codemirror_mode": {
    "name": "ipython",
    "version": 3
   },
   "file_extension": ".py",
   "mimetype": "text/x-python",
   "name": "python",
   "nbconvert_exporter": "python",
   "pygments_lexer": "ipython3",
   "version": "3.9.13"
  }
 },
 "nbformat": 4,
 "nbformat_minor": 5
}
