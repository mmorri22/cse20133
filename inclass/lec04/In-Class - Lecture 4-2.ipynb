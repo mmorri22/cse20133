{
 "cells": [
  {
   "cell_type": "markdown",
   "id": "805e0913",
   "metadata": {},
   "source": [
    "# In-Class - Lecture 4-2 - Output Specifiers and Memory"
   ]
  },
  {
   "cell_type": "markdown",
   "id": "02e844ae",
   "metadata": {},
   "source": [
    "## How Static Memory Works\n",
    "\n",
    "We will use our first output specifier to print the location of <code>stdout</code> and discuss how memory works in a computing device.\n",
    "\n",
    "We will print the location of where <code>stdout</code> is in the system using the <code>%p</code> output specifier.\n",
    "\n",
    "    cp hello.c hello_stdout.c"
   ]
  },
  {
   "cell_type": "markdown",
   "id": "5533dc30",
   "metadata": {},
   "source": [
    "Pair and Share - <b><font color = \"red\">Presentation Points Opportunity</font></b>\n",
    "\n",
    "Next, I want you to build your own file called <code>int_print.c</code>. Be sure you have the following:\n",
    "\n",
    "<ul>\n",
    "    <li>The standard input-output library</li>\n",
    "    <li>The proper main function call, with return 0 included</li>\n",
    "    <li>An integers <code>int_a</code> set to a positive integer</li>\n",
    "    <li>Using <code>fprintf</code>, print the decimal and hexadecimal versions of int_a, as well as the <i>address</i> of that register</li>\n",
    "</ul>\n",
    "\n",
    "To compile, run, and then delete the executable, perform the following commands in Tabby:\n",
    "\n",
    "    gcc -Wall -std=c11 -Werror int_print.c -o int_print\n",
    "    ./int_print\n",
    "    rm int_print\n",
    "    \n",
    "After you get it working, change the positive number to a negative number and run it, and see what the outputs are, specifically with respect to the hexadecimal representation."
   ]
  },
  {
   "cell_type": "markdown",
   "id": "9caa4159",
   "metadata": {},
   "source": [
    "Pair and Share - <b><font color = \"red\">Presentation Points Opportunity</font></b>\n",
    "\n",
    "Now, we will do the same thing, but with division.\n",
    "\n",
    "    cp int_print.c uint_print.c\n",
    "    \n",
    "<ul>\n",
    "    <li>Change <code>int_a</code> to <code>uint_a</code> and change the variable type from an <code>int</code> to an <code>unsigned int</code> in the code.</li>\n",
    "    <li>Set <code>uint_a</code> to a positive number</li>\n",
    "</ul>\n",
    "\n",
    "To compile, run, and then delete the executable, perform the following commands in Tabby:\n",
    "\n",
    "    gcc -Wall -std=c11 -Werror uint_print.c -o uint_print\n",
    "    ./uint_print\n",
    "    rm uint_print\n",
    "    \n",
    "After you get it working, change the positive number to a negative number and run it, and see what the outputs are, specifically with respect to the hexadecimal representation.\n",
    "\n",
    "> You will see the importance of keeping track of data types. We will discuss the new Production Quality Compilation flag <code>-Wconversion</code>\n",
    "\n",
    "With the same code, try this compilation.\n",
    "\n",
    "    gcc -Wall -std=c11 -Wconversion -Werror uint_print.c -o uint_print\n",
    "    \n",
    "You will get the following\n",
    "\n",
    "    error: negative integer implicitly converted to unsigned int [-Wsign-conversion]\n",
    "    \n",
    "This is a good thing! It keeps track of your use of data types to ensure your program is safe! We will use <code>-Wconversion</code> from now on."
   ]
  },
  {
   "cell_type": "markdown",
   "id": "381ffb54",
   "metadata": {},
   "source": [
    "### Practice Committing and Pushing Through VS Code\n",
    "\n",
    "Once you make changes in your GitHub folder in VS Code, you can <code>commit</code> and <code>push</code> directly from the VS Code.\n",
    "\n",
    "From the VS Code Terminal:\n",
    "\n",
    "    cd ..\n",
    "    \n",
    "At this point, you should be in the <code>cse20133-@USERNAME</code> folder\n",
    "\n",
    "    git add --all\n",
    "    git commit -m \"Lecture 04 Update\"\n",
    "    git push -u origin main"
   ]
  }
 ],
 "metadata": {
  "kernelspec": {
   "display_name": "Python 3 (ipykernel)",
   "language": "python",
   "name": "python3"
  },
  "language_info": {
   "codemirror_mode": {
    "name": "ipython",
    "version": 3
   },
   "file_extension": ".py",
   "mimetype": "text/x-python",
   "name": "python",
   "nbconvert_exporter": "python",
   "pygments_lexer": "ipython3",
   "version": "3.9.13"
  }
 },
 "nbformat": 4,
 "nbformat_minor": 5
}
