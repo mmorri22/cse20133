{
 "cells": [
  {
   "cell_type": "markdown",
   "id": "146f8561",
   "metadata": {},
   "source": [
    "## In-Class Lecture 13-1 - Combining Concepts: Memoization"
   ]
  },
  {
   "cell_type": "markdown",
   "id": "6823b35f",
   "metadata": {},
   "source": [
    "## Create folder\n",
    "\n",
    "<b>To review:</b>\n",
    "\n",
    "<b>1.</b> Open Docker Desktop. Go to the cse20133-user Container you created. Press the Blue Triangle to start the Container.\n",
    "\n",
    "<b>2.</b> Open VSCode, and on the left, select the blue button in the bottom left of VSCode. At the top, select the pull-down choice “Attach to running container” and select your CSE 20133 course container.\n",
    "\n",
    "<b>3.</b> Go into your Git Folder:\n",
    "\n",
    "> Recall that @USERNAME is the unique username you created when you created your GitHub account. You will see your user name in the VS Code Docker\n",
    "\n",
    "    cd cse20133-user/cse20133-@USERNAME\n",
    "\n",
    "Create the folder:\n",
    "\n",
    "    mkdir lec13\n",
    "    cd lec13"
   ]
  },
  {
   "cell_type": "markdown",
   "id": "9772aaec",
   "metadata": {},
   "source": [
    "To obtain the code for today's lecture, perform the following commands:\n",
    "\n",
    "    wget https://raw.githubusercontent.com/mmorri22/cse20133/main/inclass/lec13/setup.sh\n",
    "    chmod a+rx setup.sh\n",
    "    ./setup.sh"
   ]
  },
  {
   "cell_type": "markdown",
   "id": "81d5ddaf",
   "metadata": {},
   "source": [
    "### Improving Recursion Efficiency\n",
    "\n",
    "Open the file <code>fib.c</code> and run the command <code>make fib</code>. You will get the following result:\n",
    "\n",
    "    gcc -std=c2x -O2 -g -Wall -Wextra -Wconversion -Wshadow -Werror -lm -c fib.c\n",
    "    gcc -std=c2x -O2 -g -Wall -Wextra -Wconversion -Wshadow -Werror -lm -o fib fib.o\n",
    "    ./fib\n",
    "    The 6 Fib Number is = 8\n",
    "    \n",
    "This is what we expect, since the first 6 numbers of the fibonacci sequence are: \n",
    "\n",
    "    1 1 2 3 5 8\n",
    "    \n",
    "Now, go into <code>fib.c</code> and on line 9, change fib_num from 6 to 42, and then run it again.\n",
    "\n",
    "> <b>Thought Question:</b> Why do you think this happened?"
   ]
  },
  {
   "cell_type": "markdown",
   "id": "6e1b1544",
   "metadata": {},
   "source": [
    "### Improving Efficiency Using Memoization\n",
    "\n",
    "We will use arrays to store intermediate steps to improve the efficiency. Here are the steps we will use:\n",
    "\n",
    "0. Open the file <code>fib.c</code>\n",
    "\n",
    "1. Initialize a static array of fib_num size\n",
    "\n",
    "2. Modify the function declaration and definition to take in the array\n",
    "\n",
    "3. Check the array value to see if it is not 0\n",
    "\n",
    "4. Set the array value to 1 if fib_num is 0 or 1\n",
    "\n",
    "5. Update the array with the binary conversion\n",
    "\n",
    "6. Return the array value\n",
    "\n",
    "And now run <code>make fib_num</code>\n",
    "\n",
    "> <b>Thought Question:</b> Why do you think this happened?"
   ]
  },
  {
   "cell_type": "markdown",
   "id": "7ad22b45",
   "metadata": {},
   "source": [
    "### Arrays and Computers\n",
    "\n",
    "7. Now you will fix the array to account for the unexpected behavior."
   ]
  },
  {
   "cell_type": "markdown",
   "id": "ed97efab",
   "metadata": {},
   "source": [
    "### Practice Committing and Pushing Through VS Code\n",
    "\n",
    "Once you make changes in your GitHub folder in VS Code, you can <code>commit</code> and <code>push</code> directly from the VS Code.\n",
    "\n",
    "From the VS Code Terminal:\n",
    "\n",
    "    cd ..\n",
    "    \n",
    "At this point, you should be in the <code>cse20133-@USERNAME</code> folder\n",
    "\n",
    "    git add --all\n",
    "    git commit -m \"Lecture 12 Update\"\n",
    "    git push -u origin main"
   ]
  },
  {
   "cell_type": "code",
   "execution_count": null,
   "id": "4d66035e",
   "metadata": {},
   "outputs": [],
   "source": []
  }
 ],
 "metadata": {
  "kernelspec": {
   "display_name": "Python 3 (ipykernel)",
   "language": "python",
   "name": "python3"
  },
  "language_info": {
   "codemirror_mode": {
    "name": "ipython",
    "version": 3
   },
   "file_extension": ".py",
   "mimetype": "text/x-python",
   "name": "python",
   "nbconvert_exporter": "python",
   "pygments_lexer": "ipython3",
   "version": "3.9.13"
  }
 },
 "nbformat": 4,
 "nbformat_minor": 5
}
