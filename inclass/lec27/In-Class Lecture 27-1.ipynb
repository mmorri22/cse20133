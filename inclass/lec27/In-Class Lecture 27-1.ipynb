{
 "cells": [
  {
   "cell_type": "markdown",
   "id": "4ee9d952",
   "metadata": {},
   "source": [
    "## In-Class Lecture 27-1 - C++ I/O Operations"
   ]
  },
  {
   "cell_type": "markdown",
   "id": "2111c7aa",
   "metadata": {},
   "source": [
    "In this in-class activity, you will gain familiarity with input and output operations in C++"
   ]
  },
  {
   "cell_type": "markdown",
   "id": "caa2a11d",
   "metadata": {},
   "source": [
    "## Create folder\n",
    "\n",
    "<b>To review:</b>\n",
    "\n",
    "<b>1.</b> Open Docker Desktop. Go to the cse20133-user Container you created. Press the Blue Triangle to start the Container.\n",
    "\n",
    "<b>2.</b> Open VSCode, and on the left, select the blue button in the bottom left of VSCode. At the top, select the pull-down choice “Attach to running container” and select your CSE 20133 course container.\n",
    "\n",
    "<b>3.</b> Go into your Git Folder:\n",
    "\n",
    "> Recall that @USERNAME is the unique username you created when you created your GitHub account. You will see your user name in the VS Code Docker\n",
    "\n",
    "    cd cse20133-user/cse20133-@USERNAME\n",
    "\n",
    "Create the folder:\n",
    "\n",
    "    mkdir lec27\n",
    "    cd lec27"
   ]
  },
  {
   "cell_type": "markdown",
   "id": "b8aa159b",
   "metadata": {},
   "source": [
    "### Obtaining the class files\n",
    "\n",
    "Perform the following command:\n",
    "\n",
    "    wget https://raw.githubusercontent.com/mmorri22/cse20133/main/inclass/lec27/setup.sh\n",
    "    chmod a+rx setup.sh\n",
    "    ./setup.sh\n",
    "    \n",
    "Once you perform these commands, you will get the following:\n",
    "\n",
    "    call_by.cpp      file_io.cpp      Makefile             output.cpp\n",
    "    call_by_sol.cpp  file_io_sol.cpp  namespace.cpp        setup.sh\n",
    "    cin.cpp          inputs.txt       namespace_fixed.cpp"
   ]
  },
  {
   "cell_type": "markdown",
   "id": "ae121dca",
   "metadata": {},
   "source": [
    "# Reading Review\n",
    "\n",
    "<font color = \"red\">Class Introduction Question #1 - Describe Object-Oriented Programming.</a>\n",
    "\n",
    "<font color = \"red\">Class Introduction Question #2 - Describe how we print to the output using objects in C++</a>\n",
    "\n",
    "<font color = \"red\">Class Introduction Question #3 - How do we write allocate and free memory in C++, and what are the differences between the procedural (C version) and object-oriented (C++ version) approaches to memory allocation?</font>\n",
    "\n",
    "<font color = \"red\">Class Introduction Question #4 - What is the purpose of C++ Call By Reference, and what are the potential benefits and drawbacks?</font>\n",
    "\n",
    "<font color = \"red\">Class Introduction Question #5 - Describe how to call an integer by reference and how to update that variable in a function in C++.</font>"
   ]
  },
  {
   "cell_type": "markdown",
   "id": "1cb9b10f",
   "metadata": {},
   "source": [
    "### std::cout and cin Example\n",
    "\n",
    "First, we will review the output.cpp code to observe how C++ uses objects to interact with the Terminal\n",
    "\n",
    "    std::cout\n",
    "    std::endl\n",
    "    std::cin - Specifically how error checking is used with std::cin"
   ]
  },
  {
   "cell_type": "markdown",
   "id": "cd9b940c",
   "metadata": {},
   "source": [
    "### std::ifstream and std::ofstream\n",
    "\n",
    "Next, we will learn how to use <code>std::ifstream</code> and <code>std::ofstream</code>\n",
    "\n",
    "Required libraries:\n",
    "\n",
    "    #include <iostream>\n",
    "    #include <fstream>\n",
    "    \n",
    "### Compilation and run directions\n",
    "\n",
    "    make file_io\n",
    "    ./file_io inputs.txt outputs.txt"
   ]
  }
 ],
 "metadata": {
  "kernelspec": {
   "display_name": "Python 3 (ipykernel)",
   "language": "python",
   "name": "python3"
  },
  "language_info": {
   "codemirror_mode": {
    "name": "ipython",
    "version": 3
   },
   "file_extension": ".py",
   "mimetype": "text/x-python",
   "name": "python",
   "nbconvert_exporter": "python",
   "pygments_lexer": "ipython3",
   "version": "3.9.13"
  }
 },
 "nbformat": 4,
 "nbformat_minor": 5
}
