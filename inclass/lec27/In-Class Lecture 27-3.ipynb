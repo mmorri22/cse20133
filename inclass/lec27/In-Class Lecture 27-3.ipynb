{
 "cells": [
  {
   "cell_type": "markdown",
   "id": "4ee9d952",
   "metadata": {},
   "source": [
    "## In-Class Lecture 27-3 - The Two Sums Problem"
   ]
  },
  {
   "cell_type": "markdown",
   "id": "2111c7aa",
   "metadata": {},
   "source": [
    "In this in-class activity, we will complete the classic LeetCode problem <a href = \"https://leetcode.com/problems/two-sum/\">Two Sums</a>"
   ]
  },
  {
   "cell_type": "markdown",
   "id": "1493fc36",
   "metadata": {},
   "source": [
    "## Two Sum Problem Statement\n",
    "\n",
    "Given an array of integers <code>nums</code> and an integer <code>target</code>, return indices of the two numbers such that they add up to <code>target</code>.\n",
    "\n",
    "You may assume that each input would have exactly one solution, and you may not use the same element twice.\n",
    "\n",
    "You can return the answer in any order.\n",
    "\n",
    "    Example 1:\n",
    "\n",
    "        Input: nums = [2,7,11,15], target = 9\n",
    "        Output: [0,1]\n",
    "        Explanation: Because nums[0] + nums[1] == 9, we return [0, 1].\n",
    "    \n",
    "    Example 2:\n",
    "\n",
    "        Input: nums = [3,2,4], target = 6\n",
    "        Output: [1,2]\n",
    "    \n",
    "    Example 3:\n",
    "\n",
    "        Input: nums = [3,3], target = 6\n",
    "        Output: [0,1]\n",
    "\n",
    "\n",
    "### Solution\n",
    "\n",
    "We will work together to develop a solution and then write code for two sums problem. \n",
    "\n",
    "The file is <code>two_sums.cpp</code>"
   ]
  }
 ],
 "metadata": {
  "kernelspec": {
   "display_name": "Python 3 (ipykernel)",
   "language": "python",
   "name": "python3"
  },
  "language_info": {
   "codemirror_mode": {
    "name": "ipython",
    "version": 3
   },
   "file_extension": ".py",
   "mimetype": "text/x-python",
   "name": "python",
   "nbconvert_exporter": "python",
   "pygments_lexer": "ipython3",
   "version": "3.9.13"
  }
 },
 "nbformat": 4,
 "nbformat_minor": 5
}
