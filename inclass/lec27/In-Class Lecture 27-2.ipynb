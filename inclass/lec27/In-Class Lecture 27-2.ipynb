{
 "cells": [
  {
   "cell_type": "markdown",
   "id": "4ee9d952",
   "metadata": {},
   "source": [
    "## In-Class Lecture 26-2 - Why <code>using namespace std;</code> is bad practice"
   ]
  },
  {
   "cell_type": "markdown",
   "id": "2111c7aa",
   "metadata": {},
   "source": [
    "In many online C++ tutorials, you will often see the follwing:\n",
    "\n",
    "    using namespace std;\n",
    "    \n",
    "The issue is that <code>using namespace std;</code> is considered bad practice in industry. We will investigate why in this experiment.\n",
    "\n",
    "> For the reasons we will discuss, the use of <code>using namespace std;</code> is forbidden in this course. An automatic 250 point deduction on any C++ coding assignment."
   ]
  },
  {
   "cell_type": "markdown",
   "id": "caa2a11d",
   "metadata": {},
   "source": [
    "## Compiling the bad code with Namespace Pollution\n",
    "\n",
    "    make namespace\n",
    "    \n",
    "This will give the following errors:\n",
    "\n",
    "    namespace.cpp: In function ‘int main()’:\n",
    "    namespace.cpp:24:2: error: reference to ‘cout’ is ambiguous\n",
    "       24 |  cout << cout() << endl;\n",
    "          |  ^~~~\n",
    "    namespace.cpp:14:6: note: candidates are: ‘int foo::cout()’\n",
    "       14 |  int cout(){\n",
    "          |      ^~~~\n",
    "    In file included from namespace.cpp:10:\n",
    "    /usr/include/c++/9/iostream:61:18: note:                 ‘std::ostream std::cout’\n",
    "       61 |   extern ostream cout;  /// Linked to standard output\n",
    "          |                  ^~~~\n",
    "    namespace.cpp:24:10: error: reference to ‘cout’ is ambiguous\n",
    "       24 |  cout << cout() << endl;\n",
    "          |          ^~~~\n",
    "    namespace.cpp:14:6: note: candidates are: ‘int foo::cout()’\n",
    "       14 |  int cout(){\n",
    "          |      ^~~~\n",
    "    In file included from namespace.cpp:10:\n",
    "    /usr/include/c++/9/iostream:61:18: note:                 ‘std::ostream std::cout’\n",
    "       61 |   extern ostream cout;  /// Linked to standard output\n",
    "          |                  ^~~~\n",
    "    make: *** [Makefile:53: namespace.o] Error 1"
   ]
  },
  {
   "cell_type": "markdown",
   "id": "a39f4336",
   "metadata": {},
   "source": [
    "## Compiling the Code with Fixed Namespaces\n",
    "\n",
    "    make namespace_fixed"
   ]
  },
  {
   "cell_type": "code",
   "execution_count": null,
   "id": "720a333f",
   "metadata": {},
   "outputs": [],
   "source": []
  }
 ],
 "metadata": {
  "kernelspec": {
   "display_name": "Python 3 (ipykernel)",
   "language": "python",
   "name": "python3"
  },
  "language_info": {
   "codemirror_mode": {
    "name": "ipython",
    "version": 3
   },
   "file_extension": ".py",
   "mimetype": "text/x-python",
   "name": "python",
   "nbconvert_exporter": "python",
   "pygments_lexer": "ipython3",
   "version": "3.9.13"
  }
 },
 "nbformat": 4,
 "nbformat_minor": 5
}
