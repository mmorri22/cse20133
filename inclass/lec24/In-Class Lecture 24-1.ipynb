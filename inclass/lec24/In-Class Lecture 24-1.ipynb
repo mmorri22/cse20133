{
 "cells": [
  {
   "cell_type": "markdown",
   "id": "4ee9d952",
   "metadata": {},
   "source": [
    "## In-Class Lecture 24-1 - Designing the Singly Linked List"
   ]
  },
  {
   "cell_type": "markdown",
   "id": "49537d76",
   "metadata": {},
   "source": [
    "We will perform the following tasks\n",
    "<ul>\n",
    "    <li>Use our knowledge of pointers to write a push function</li>\n",
    "    <li>Use our knowledge of pointers to read from the \"top\" element</li>\n",
    "    <li>Use our knowledge of pointers to write a \"pop\" function</li>\n",
    "    <li>Use our knowledge of pointers and recursion to write a destructor function </li>\n",
    "</ul>"
   ]
  },
  {
   "cell_type": "markdown",
   "id": "3c4c6173",
   "metadata": {},
   "source": [
    "## Create folder\n",
    "\n",
    "<b>To review:</b>\n",
    "\n",
    "<b>1.</b> Open Docker Desktop. Go to the cse20133-user Container you created. Press the Blue Triangle to start the Container.\n",
    "\n",
    "<b>2.</b> Open VSCode, and on the left, select the blue button in the bottom left of VSCode. At the top, select the pull-down choice “Attach to running container” and select your CSE 20133 course container.\n",
    "\n",
    "<b>3.</b> Go into your Git Folder:\n",
    "\n",
    "> Recall that @USERNAME is the unique username you created when you created your GitHub account. You will see your user name in the VS Code Docker\n",
    "\n",
    "    cd cse20133-user/cse20133-@USERNAME\n",
    "\n",
    "Create the folder:\n",
    "\n",
    "    mkdir lec24\n",
    "    cd lec24"
   ]
  },
  {
   "cell_type": "markdown",
   "id": "c07fb97e",
   "metadata": {},
   "source": [
    "### Obtaining the class files\n",
    "\n",
    "Perform the following command:\n",
    "\n",
    "    wget https://raw.githubusercontent.com/mmorri22/cse20133/main/inclass/lec24/setup.sh\n",
    "    chmod a+rx setup.sh\n",
    "    ./setup.sh\n",
    "    \n",
    "Once you perform these commands, you will get the following:\n",
    "\n",
    "    Makefile lec24.c sllist.c sllist_sol.c sllist.h"
   ]
  },
  {
   "cell_type": "markdown",
   "id": "d900691e",
   "metadata": {},
   "source": [
    "### In-Class Reading Discussion\n",
    "\n",
    "<font color = \"red\">Class Introduction Question #1 - What is a Linked List, and what are the two key elements of a Linked List node?</font>\n",
    "\n",
    "<font color = \"red\">Class Introduction Question #2 - Describe the process of building a Singly Linked List node struct</font>\n",
    "\n",
    "<font color = \"red\">Class Introduction Question #3 - Describe how to link and iterate through a Singly Linked List</font>\n",
    "\n",
    "<font color = \"red\">Class Introduction Question #4 - What is encapsulation, and how do we leverage encapsulation to design and protect linked lists in memory?</font>"
   ]
  },
  {
   "cell_type": "markdown",
   "id": "176de9ff",
   "metadata": {},
   "source": [
    "### Create a Push Function\n",
    "\n",
    "First, we will go to the <code>push</code> function where we will insert a node at the front of the Singly Linked List\n",
    "\n",
    "    void push( sllist* the_list, int the_value )"
   ]
  },
  {
   "cell_type": "markdown",
   "id": "7922d0ab",
   "metadata": {},
   "source": [
    "### Create a Pop Function\n",
    "\n",
    "First, we will go to the <code>pop</code> function where we will remove a node at the front of the Singly Linked List\n",
    "\n",
    "    void pop( sllist* the_list )"
   ]
  },
  {
   "cell_type": "markdown",
   "id": "ca2b2cb3",
   "metadata": {},
   "source": [
    "### Create a Destructor Function\n",
    "\n",
    "Finally, we will go to the <code>pop</code> function where we will recursively delete the Singly Linked List, freeing all memory\n",
    "\n",
    "    void destructor( sll_node* curr_ptr )"
   ]
  }
 ],
 "metadata": {
  "kernelspec": {
   "display_name": "Python 3 (ipykernel)",
   "language": "python",
   "name": "python3"
  },
  "language_info": {
   "codemirror_mode": {
    "name": "ipython",
    "version": 3
   },
   "file_extension": ".py",
   "mimetype": "text/x-python",
   "name": "python",
   "nbconvert_exporter": "python",
   "pygments_lexer": "ipython3",
   "version": "3.9.13"
  }
 },
 "nbformat": 4,
 "nbformat_minor": 5
}
