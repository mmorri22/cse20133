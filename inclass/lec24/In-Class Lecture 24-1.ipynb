{
 "cells": [
  {
   "cell_type": "markdown",
   "id": "4ee9d952",
   "metadata": {},
   "source": [
    "## In-Class Lecture 23-2 - Memory Map Example"
   ]
  },
  {
   "cell_type": "markdown",
   "id": "2111c7aa",
   "metadata": {},
   "source": [
    "Now that we have completed the Singly Linked List code, we will draw a memory map of the List with a set of push and pop operations"
   ]
  },
  {
   "cell_type": "markdown",
   "id": "49537d76",
   "metadata": {},
   "source": [
    "Example Problem: Given a Singly Linked List <code>sllist* the_list</code> and the following push and pop operations, draw the corresponding memory map:\n",
    "\n",
    "Push 22, Push 18, Push 7, Pop, Push 19, Push 31, Push 47, Pop, Pop, Push 1\n",
    "\n",
    "    &the_list = 0x7fff000530\n",
    "    the_list = 0x4a4a040\n",
    "    \n",
    "    Address of  1: 0x4a4aaf0\n",
    "    Address of  7: 0x4a4a9b0\n",
    "    Address of 18: 0x4a4a960\n",
    "    Address of 19: 0x4a4aa00\n",
    "    Address of 22: 0x4a4a910\n",
    "    Address of 31: 0x4a4aa50\n",
    "    Address of 47: 0x4a4aaa0"
   ]
  }
 ],
 "metadata": {
  "kernelspec": {
   "display_name": "Python 3 (ipykernel)",
   "language": "python",
   "name": "python3"
  },
  "language_info": {
   "codemirror_mode": {
    "name": "ipython",
    "version": 3
   },
   "file_extension": ".py",
   "mimetype": "text/x-python",
   "name": "python",
   "nbconvert_exporter": "python",
   "pygments_lexer": "ipython3",
   "version": "3.9.13"
  }
 },
 "nbformat": 4,
 "nbformat_minor": 5
}
