{
 "cells": [
  {
   "cell_type": "markdown",
   "id": "4ee9d952",
   "metadata": {},
   "source": [
    "## In-Class Lecture 24-1 - Singly Linked List Memory Map Example"
   ]
  },
  {
   "cell_type": "markdown",
   "id": "2111c7aa",
   "metadata": {},
   "source": [
    "Now that we have completed the Singly Linked List code, we will draw a memory map of the List with a set of push and pop operations"
   ]
  },
  {
   "cell_type": "markdown",
   "id": "caa2a11d",
   "metadata": {},
   "source": [
    "## Create folder\n",
    "\n",
    "<b>To review:</b>\n",
    "\n",
    "<b>1.</b> Open Docker Desktop. Go to the cse20133-user Container you created. Press the Blue Triangle to start the Container.\n",
    "\n",
    "<b>2.</b> Open VSCode, and on the left, select the blue button in the bottom left of VSCode. At the top, select the pull-down choice “Attach to running container” and select your CSE 20133 course container.\n",
    "\n",
    "<b>3.</b> Go into your Git Folder:\n",
    "\n",
    "> Recall that @USERNAME is the unique username you created when you created your GitHub account. You will see your user name in the VS Code Docker\n",
    "\n",
    "    cd cse20133-user/cse20133-@USERNAME\n",
    "\n",
    "Create the folder:\n",
    "\n",
    "    mkdir lec24\n",
    "    cd lec24"
   ]
  },
  {
   "cell_type": "markdown",
   "id": "b8aa159b",
   "metadata": {},
   "source": [
    "### Obtaining the class files\n",
    "\n",
    "Perform the following command:\n",
    "\n",
    "    wget https://raw.githubusercontent.com/mmorri22/cse20133/main/inclass/lec24/setup.sh\n",
    "    chmod a+rx setup.sh\n",
    "    ./setup.sh\n",
    "    \n",
    "Once you perform these commands, you will get the following:\n",
    "\n",
    "    Makefile hanoi.c hanoi_func.c hanoi_func.h hanoi_func_sol.c lec24.c  sllist.c sllist_sol.c sllist.h stack.c stack.h"
   ]
  },
  {
   "cell_type": "markdown",
   "id": "49537d76",
   "metadata": {},
   "source": [
    "## Example Problem\n",
    "\n",
    "Given a Singly Linked List <code>sllist* the_list</code>, node addresses, and the following push and pop operations, draw the corresponding memory map:\n",
    "\n",
    "Push 22, Push 18, Push 7, Pop, Push 19, Push 31, Push 47, Pop, Pop, Push 1\n",
    "\n",
    "    &the_list = 0x7fff000530\n",
    "    the_list = 0x4a4a040\n",
    "    \n",
    "    Address of  1: 0x4a4aaf0\n",
    "    Address of  7: 0x4a4a9b0\n",
    "    Address of 18: 0x4a4a960\n",
    "    Address of 19: 0x4a4aa00\n",
    "    Address of 22: 0x4a4a910\n",
    "    Address of 31: 0x4a4aa50\n",
    "    Address of 47: 0x4a4aaa0"
   ]
  }
 ],
 "metadata": {
  "kernelspec": {
   "display_name": "Python 3 (ipykernel)",
   "language": "python",
   "name": "python3"
  },
  "language_info": {
   "codemirror_mode": {
    "name": "ipython",
    "version": 3
   },
   "file_extension": ".py",
   "mimetype": "text/x-python",
   "name": "python",
   "nbconvert_exporter": "python",
   "pygments_lexer": "ipython3",
   "version": "3.9.13"
  }
 },
 "nbformat": 4,
 "nbformat_minor": 5
}
