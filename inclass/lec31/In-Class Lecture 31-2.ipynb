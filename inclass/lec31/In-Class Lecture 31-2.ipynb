{
 "cells": [
  {
   "cell_type": "markdown",
   "id": "7eb02632",
   "metadata": {},
   "source": [
    "## In-Class Lecture 31-2 - C++ Class Aggregation - \"Line\""
   ]
  },
  {
   "cell_type": "markdown",
   "id": "127e983a",
   "metadata": {},
   "source": [
    "## Building a Line\n",
    "\n",
    "We will work together to build a class that represents a cartesian line on a plane consisting of two points\n",
    "\n",
    "We will modify the <code>line.cpp</code> and <code>line.h</code> files.\n",
    "\n",
    "In the .cpp file, you will create the method definitions\n",
    "\n",
    "The .h file contained the method declarations"
   ]
  },
  {
   "cell_type": "markdown",
   "id": "6ce16bc5",
   "metadata": {},
   "source": [
    "## Class Constructor - Aggregarion\n",
    "\n",
    "\n",
    "### In the Header File - Constructor Format\n",
    "\n",
    "\t\tline();\n",
    "\t\t\n",
    "\t\tline(point originIn, point destinIn);\n",
    "    \n",
    "    \n",
    "### Assignment Inputs\n",
    "\n",
    "PQC rules state that we must input them in the order the are declared in the class\n",
    "\n",
    "    line::line() : origin( point(0, 0) ), destin( point(0, 0) ) {}\n",
    "\n",
    "    line::line(point originIn, point destinIn) : origin(originIn), destin(destinIn) {}\n",
    "\n",
    "        \n",
    "        \n",
    "## We will build class method examples\n",
    "\n",
    "\n",
    "\t\tpoint getOrigin() const;\n",
    "\t\t\n",
    "\t\tpoint getDestin() const;\n",
    "\t\t\n",
    "\t\tSLOPE getSlope() const;\n",
    "\t\n",
    "\t\tvoid print() const;\t\n",
    "        \n",
    "## And here are the method examples in .cpp\n",
    "\n",
    "    point line::getOrigin() const{\n",
    "\n",
    "        return origin;\n",
    "    }\n",
    "\n",
    "    point line::getDestin() const{\n",
    "\n",
    "        return destin;\n",
    "    }\n",
    "\n",
    "\n",
    "    SLOPE line::getSlope() const{\n",
    "\n",
    "        return (destin.get_y() - origin.get_y()) / (destin.get_x() - origin.get_x());\n",
    "\n",
    "    }\n",
    "\n",
    "    void line::print() const{\n",
    "\n",
    "        COUT << \"{\";\n",
    "\n",
    "        this->origin.print();\n",
    "\n",
    "        COUT << \", \";\n",
    "\n",
    "        this->destin.print();\n",
    "\n",
    "        COUT << \"}\";\n",
    "\n",
    "    }"
   ]
  },
  {
   "cell_type": "code",
   "execution_count": null,
   "id": "381f8257",
   "metadata": {},
   "outputs": [],
   "source": []
  }
 ],
 "metadata": {
  "kernelspec": {
   "display_name": "Python 3 (ipykernel)",
   "language": "python",
   "name": "python3"
  },
  "language_info": {
   "codemirror_mode": {
    "name": "ipython",
    "version": 3
   },
   "file_extension": ".py",
   "mimetype": "text/x-python",
   "name": "python",
   "nbconvert_exporter": "python",
   "pygments_lexer": "ipython3",
   "version": "3.9.13"
  }
 },
 "nbformat": 4,
 "nbformat_minor": 5
}
